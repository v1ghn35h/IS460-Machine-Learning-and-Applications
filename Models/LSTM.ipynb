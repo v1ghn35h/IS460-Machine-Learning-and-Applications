{
 "cells": [
  {
   "cell_type": "markdown",
   "metadata": {
    "cell_id": "4058f99ebcd4405d9535febeb1683319",
    "deepnote_cell_type": "text-cell-h1",
    "formattedRanges": []
   },
   "source": [
    "# Long Short-Term Memory (LSTM)"
   ]
  },
  {
   "cell_type": "code",
   "execution_count": 1,
   "metadata": {
    "cell_id": "cc950ce61fbb4fe39ac3afb31fb51c89",
    "deepnote_cell_type": "code",
    "deepnote_to_be_reexecuted": false,
    "execution_millis": 12624,
    "execution_start": 1698761451723,
    "source_hash": null
   },
   "outputs": [
    {
     "name": "stdout",
     "output_type": "stream",
     "text": [
      "WARNING:tensorflow:From C:\\Users\\sylve\\AppData\\Local\\Packages\\PythonSoftwareFoundation.Python.3.10_qbz5n2kfra8p0\\LocalCache\\local-packages\\Python310\\site-packages\\keras\\src\\losses.py:2976: The name tf.losses.sparse_softmax_cross_entropy is deprecated. Please use tf.compat.v1.losses.sparse_softmax_cross_entropy instead.\n",
      "\n",
      "WARNING:tensorflow:From C:\\Users\\sylve\\AppData\\Local\\Packages\\PythonSoftwareFoundation.Python.3.10_qbz5n2kfra8p0\\LocalCache\\local-packages\\Python310\\site-packages\\tensorflow_estimator\\python\\estimator\\util.py:74: The name tf.train.SessionRunHook is deprecated. Please use tf.estimator.SessionRunHook instead.\n",
      "\n",
      "WARNING:tensorflow:From C:\\Users\\sylve\\AppData\\Local\\Packages\\PythonSoftwareFoundation.Python.3.10_qbz5n2kfra8p0\\LocalCache\\local-packages\\Python310\\site-packages\\tensorflow_hub\\native_module.py:92: The name tf.GraphKeys is deprecated. Please use tf.compat.v1.GraphKeys instead.\n",
      "\n",
      "WARNING:tensorflow:From C:\\Users\\sylve\\AppData\\Local\\Packages\\PythonSoftwareFoundation.Python.3.10_qbz5n2kfra8p0\\LocalCache\\local-packages\\Python310\\site-packages\\tensorflow_hub\\saved_model_module.py:40: The name tf.saved_model.constants.LEGACY_INIT_OP_KEY is deprecated. Please use tf.compat.v1.saved_model.constants.LEGACY_INIT_OP_KEY instead.\n",
      "\n"
     ]
    }
   ],
   "source": [
    "import pandas as pd\n",
    "import numpy as np\n",
    "\n",
    "# Visualisation\n",
    "import matplotlib.pyplot as plt\n",
    "import seaborn as sns\n",
    "import statistics\n",
    "import plotly.express as px\n",
    "\n",
    "# Train test split\n",
    "from sklearn.model_selection import train_test_split\n",
    "from sklearn.model_selection import StratifiedKFold\n",
    "\n",
    "from sklearn import metrics\n",
    "from sklearn.metrics import roc_auc_score, roc_curve\n",
    "from sklearn.pipeline import Pipeline\n",
    "\n",
    "from sklearn.feature_extraction.text import TfidfTransformer\n",
    "from sklearn.feature_extraction.text import CountVectorizer\n",
    "from sklearn.linear_model import LogisticRegression\n",
    "\n",
    "# Word2Vec Embedding\n",
    "import gensim\n",
    "from gensim.models import Word2Vec\n",
    "from sklearn.utils import resample\n",
    "\n",
    "\n",
    "from gensim.models import FastText\n",
    "from gensim.models import Doc2Vec\n",
    "from gensim.models.doc2vec import TaggedDocument\n",
    "from gensim.models import KeyedVectors\n",
    "\n",
    "from keras.utils import pad_sequences\n",
    "from tensorflow.keras.preprocessing.text import Tokenizer \n",
    "from tensorflow.keras.preprocessing.sequence import pad_sequences\n",
    "\n",
    "# ELMo Embedding\n",
    "import tensorflow as tf\n",
    "import tensorflow_hub as hub\n",
    "import h5py\n",
    "\n",
    "# Hyperparameter tuning\n",
    "from sklearn.model_selection import GridSearchCV\n",
    "from sklearn.model_selection import RandomizedSearchCV\n",
    "from sklearn.base import BaseEstimator\n",
    "from sklearn.metrics import make_scorer, accuracy_score, f1_score\n",
    "\n",
    "# LSTM\n",
    "from tensorflow.keras.models import Sequential\n",
    "from tensorflow.keras.layers import Embedding, LSTM, Dense\n",
    "import random\n",
    "from sklearn.metrics import confusion_matrix, accuracy_score, recall_score, precision_score, f1_score, roc_auc_score\n",
    "# below here might have same instance\n",
    "import numpy as np\n",
    "import statistics\n",
    "from sklearn.model_selection import StratifiedKFold\n",
    "from sklearn.metrics import confusion_matrix, accuracy_score, recall_score, precision_score, roc_auc_score, roc_curve\n",
    "import plotly.express as px\n",
    "from tensorflow.keras.models import Sequential\n",
    "from tensorflow.keras.layers import LSTM, Dense"
   ]
  },
  {
   "cell_type": "markdown",
   "metadata": {
    "cell_id": "ac7985fb4deb403b8332de857b8c6e06",
    "deepnote_cell_type": "text-cell-h2",
    "formattedRanges": []
   },
   "source": [
    "## Load Cleaned Dataset"
   ]
  },
  {
   "cell_type": "code",
   "execution_count": 2,
   "metadata": {
    "cell_id": "92d283f5865e42589c0d079c48d714b5",
    "deepnote_cell_type": "code",
    "deepnote_to_be_reexecuted": false,
    "execution_millis": 666,
    "execution_start": 1698761467061,
    "source_hash": null
   },
   "outputs": [
    {
     "data": {
      "text/html": [
       "<div>\n",
       "<style scoped>\n",
       "    .dataframe tbody tr th:only-of-type {\n",
       "        vertical-align: middle;\n",
       "    }\n",
       "\n",
       "    .dataframe tbody tr th {\n",
       "        vertical-align: top;\n",
       "    }\n",
       "\n",
       "    .dataframe thead th {\n",
       "        text-align: right;\n",
       "    }\n",
       "</style>\n",
       "<table border=\"1\" class=\"dataframe\">\n",
       "  <thead>\n",
       "    <tr style=\"text-align: right;\">\n",
       "      <th></th>\n",
       "      <th>Categorization</th>\n",
       "      <th>Body</th>\n",
       "      <th>Label</th>\n",
       "      <th>Cleaned Text</th>\n",
       "      <th>Cleaned Text with N lemmatization</th>\n",
       "      <th>Cleaned Text with V lemmatization</th>\n",
       "      <th>Cleaned Text with A lemmatization</th>\n",
       "    </tr>\n",
       "  </thead>\n",
       "  <tbody>\n",
       "    <tr>\n",
       "      <th>0</th>\n",
       "      <td>Envy to other is swallowing me</td>\n",
       "      <td>Im from developingcountry, Indonesia , and for...</td>\n",
       "      <td>1</td>\n",
       "      <td>im developingcountry indonesia temporary work ...</td>\n",
       "      <td>im developingcountry indonesia temporary work ...</td>\n",
       "      <td>im developingcountry indonesia temporary work ...</td>\n",
       "      <td>im developingcountry indonesia temporary work ...</td>\n",
       "    </tr>\n",
       "    <tr>\n",
       "      <th>1</th>\n",
       "      <td>Nothin outta the ordinary. Paradise. Job stres...</td>\n",
       "      <td>Um hello ....well many can relate im sure. Aft...</td>\n",
       "      <td>1</td>\n",
       "      <td>um hello well many relate im sure today im con...</td>\n",
       "      <td>um hello well many relate im sure today im con...</td>\n",
       "      <td>um hello well many relate im sure today im con...</td>\n",
       "      <td>um hello well many relate im sure today im con...</td>\n",
       "    </tr>\n",
       "    <tr>\n",
       "      <th>2</th>\n",
       "      <td>Almost 49 and the chasm of emptiness has never...</td>\n",
       "      <td>I’ve been diagnosed severe bi polar where you ...</td>\n",
       "      <td>1</td>\n",
       "      <td>ive diagnosed severe bi polar longer even get ...</td>\n",
       "      <td>ive diagnosed severe bi polar longer even get ...</td>\n",
       "      <td>ive diagnose severe bi polar longer even get g...</td>\n",
       "      <td>ive diagnosed severe bi polar long even get go...</td>\n",
       "    </tr>\n",
       "    <tr>\n",
       "      <th>3</th>\n",
       "      <td>I’m happy again</td>\n",
       "      <td>After my closest friend left me in April, I ha...</td>\n",
       "      <td>0</td>\n",
       "      <td>closest friend left april finally let go reali...</td>\n",
       "      <td>closest friend left april finally let go reali...</td>\n",
       "      <td>closest friend leave april finally let go real...</td>\n",
       "      <td>close friend left april finally let go realize...</td>\n",
       "    </tr>\n",
       "    <tr>\n",
       "      <th>4</th>\n",
       "      <td>Is it possible to recover from such a traumati...</td>\n",
       "      <td>I am only 15, and yet I feel my life is alread...</td>\n",
       "      <td>1</td>\n",
       "      <td>15 yet feel life already pit emptiness stomach...</td>\n",
       "      <td>15 yet feel life already pit emptiness stomach...</td>\n",
       "      <td>15 yet feel life already pit emptiness stomach...</td>\n",
       "      <td>15 yet feel life already pit emptiness stomach...</td>\n",
       "    </tr>\n",
       "  </tbody>\n",
       "</table>\n",
       "</div>"
      ],
      "text/plain": [
       "                                      Categorization  \\\n",
       "0                     Envy to other is swallowing me   \n",
       "1  Nothin outta the ordinary. Paradise. Job stres...   \n",
       "2  Almost 49 and the chasm of emptiness has never...   \n",
       "3                                    I’m happy again   \n",
       "4  Is it possible to recover from such a traumati...   \n",
       "\n",
       "                                                Body  Label  \\\n",
       "0  Im from developingcountry, Indonesia , and for...      1   \n",
       "1  Um hello ....well many can relate im sure. Aft...      1   \n",
       "2  I’ve been diagnosed severe bi polar where you ...      1   \n",
       "3  After my closest friend left me in April, I ha...      0   \n",
       "4  I am only 15, and yet I feel my life is alread...      1   \n",
       "\n",
       "                                        Cleaned Text  \\\n",
       "0  im developingcountry indonesia temporary work ...   \n",
       "1  um hello well many relate im sure today im con...   \n",
       "2  ive diagnosed severe bi polar longer even get ...   \n",
       "3  closest friend left april finally let go reali...   \n",
       "4  15 yet feel life already pit emptiness stomach...   \n",
       "\n",
       "                   Cleaned Text with N lemmatization  \\\n",
       "0  im developingcountry indonesia temporary work ...   \n",
       "1  um hello well many relate im sure today im con...   \n",
       "2  ive diagnosed severe bi polar longer even get ...   \n",
       "3  closest friend left april finally let go reali...   \n",
       "4  15 yet feel life already pit emptiness stomach...   \n",
       "\n",
       "                   Cleaned Text with V lemmatization  \\\n",
       "0  im developingcountry indonesia temporary work ...   \n",
       "1  um hello well many relate im sure today im con...   \n",
       "2  ive diagnose severe bi polar longer even get g...   \n",
       "3  closest friend leave april finally let go real...   \n",
       "4  15 yet feel life already pit emptiness stomach...   \n",
       "\n",
       "                   Cleaned Text with A lemmatization  \n",
       "0  im developingcountry indonesia temporary work ...  \n",
       "1  um hello well many relate im sure today im con...  \n",
       "2  ive diagnosed severe bi polar long even get go...  \n",
       "3  close friend left april finally let go realize...  \n",
       "4  15 yet feel life already pit emptiness stomach...  "
      ]
     },
     "execution_count": 2,
     "metadata": {},
     "output_type": "execute_result"
    }
   ],
   "source": [
    "# Read from CSV file\n",
    "df = pd.read_csv('cleaned_combined_data.csv')\n",
    "df.head()"
   ]
  },
  {
   "cell_type": "code",
   "execution_count": 3,
   "metadata": {
    "cell_id": "9d204339930343fcb58d2b24b639acc1",
    "deepnote_cell_type": "code",
    "deepnote_to_be_reexecuted": false,
    "execution_millis": 24,
    "execution_start": 1698761469187,
    "source_hash": null
   },
   "outputs": [
    {
     "name": "stdout",
     "output_type": "stream",
     "text": [
      "                               Categorization Body  Label Cleaned Text  \\\n",
      "796  I wish Somebody could understand my pain    (      1          NaN   \n",
      "\n",
      "    Cleaned Text with N lemmatization Cleaned Text with V lemmatization  \\\n",
      "796                               NaN                               NaN   \n",
      "\n",
      "    Cleaned Text with A lemmatization  \n",
      "796                               NaN  \n"
     ]
    }
   ],
   "source": [
    "rows_with_nan = df[df.isna().any(axis=1)]\n",
    "print(rows_with_nan)"
   ]
  },
  {
   "cell_type": "code",
   "execution_count": 4,
   "metadata": {
    "cell_id": "39f23832f5d54e14859e19a4fb3b1d93",
    "deepnote_cell_type": "code",
    "deepnote_to_be_reexecuted": false,
    "execution_millis": 16,
    "execution_start": 1698761471835,
    "source_hash": null
   },
   "outputs": [],
   "source": [
    "# Drop rows with NaN values in place\n",
    "df.dropna(inplace=True)"
   ]
  },
  {
   "cell_type": "markdown",
   "metadata": {
    "cell_id": "a988d8ca9c2b4689b9c42bd14f68f80b",
    "deepnote_cell_type": "text-cell-h2",
    "formattedRanges": []
   },
   "source": [
    "## Hypothesis 1: How does different text lemmatization affect the model results?"
   ]
  },
  {
   "cell_type": "markdown",
   "metadata": {
    "cell_id": "5e51c313cc2549a0bbd1389271fca546",
    "deepnote_cell_type": "text-cell-p",
    "formattedRanges": [
     {
      "fromCodePoint": 59,
      "marks": {
       "bold": true
      },
      "toCodePoint": 79,
      "type": "marks"
     },
     {
      "fromCodePoint": 139,
      "marks": {
       "bold": true
      },
      "toCodePoint": 160,
      "type": "marks"
     },
     {
      "fromCodePoint": 229,
      "marks": {
       "bold": true
      },
      "toCodePoint": 254,
      "type": "marks"
     }
    ]
   },
   "source": [
    "There are different parts of speech (pos) to lemmatize by\n",
    "1. Noun (pos = 'n'):\n",
    "- \"cats\" -> \"cat\"\n",
    "- \"dogs\" -> \"dog\"\n",
    "- \"books\" -> \"book\" \n",
    "2. Verb (pos = 'v')\n",
    "- \"running\" -> \"run\"\n",
    "- \"eating\" -> \"eat\"\n",
    "- \"swimming\" -> \"swim\"\n",
    "3. Adjectives (pos = \"a\")\n",
    "- better -> \"good\"\n",
    "- \"happier\" -> 'happy'\n",
    "- \"brighter\" -> \"bright\""
   ]
  },
  {
   "cell_type": "markdown",
   "metadata": {
    "cell_id": "9e6cbdb67c384485a7f4c096bad44a56",
    "deepnote_cell_type": "text-cell-p",
    "formattedRanges": []
   },
   "source": [
    "We have 4 sets of columns - \"Cleaned Text\", \"Cleaned Text with N lemmatization\", \"Cleaned Text with V lemmatization\", \"Cleaned Text with A lemmatization\""
   ]
  },
  {
   "cell_type": "markdown",
   "metadata": {
    "cell_id": "18b992e94a3e498b88931fa8f86bc972",
    "deepnote_cell_type": "text-cell-p",
    "formattedRanges": []
   },
   "source": [
    "We'll now how lemmatization affects model results"
   ]
  },
  {
   "cell_type": "markdown",
   "metadata": {
    "cell_id": "79da1890163046cd8cefad8c6c36d491",
    "deepnote_cell_type": "text-cell-h3",
    "formattedRanges": []
   },
   "source": [
    "### Model Function"
   ]
  },
  {
   "cell_type": "markdown",
   "metadata": {
    "cell_id": "b666f212ef8e4587a8c9fd115750e403",
    "deepnote_cell_type": "markdown"
   },
   "source": [
    "Use of function for ease of model reuse\n",
    " \n",
    "**Column used: Function input**\n",
    "\n",
    "<u>**Standardised variables**</u>\n",
    "- **Model: LSTM**\n",
    "- **Feature Extraction: CountVectorizer**\n",
    "- **Feature Transformation: TfidfTransformer** \n",
    "\n",
    "<u>**Steps**</u>\n",
    "1. Process data into numerical representation\n",
    "2. Fit Model\n",
    "3. Get results\n"
   ]
  },
  {
   "cell_type": "code",
   "execution_count": 6,
   "metadata": {
    "cell_id": "e4fcda9e464d4439895e48fed635fb2a",
    "deepnote_cell_type": "code",
    "deepnote_to_be_reexecuted": false,
    "execution_millis": 14,
    "execution_start": 1698761474487,
    "source_hash": null
   },
   "outputs": [],
   "source": [
    "def model_for_hypothesis_1(column_name, df):\n",
    "    np.random.seed(42)\n",
    "    random.seed(42)\n",
    "    tf.random.set_seed(42)\n",
    "\n",
    "    X = df[column_name]\n",
    "    y = df['Label']\n",
    "\n",
    "    count_vectorizer = CountVectorizer()\n",
    "    X_counts = count_vectorizer.fit_transform(X)\n",
    "\n",
    "    tfidf_transformer = TfidfTransformer()\n",
    "    X_tfidf = tfidf_transformer.fit_transform(X_counts)\n",
    "\n",
    "    X_train, X_test, y_train, y_test = train_test_split(X_tfidf, y, test_size=0.2, random_state=42)\n",
    "\n",
    "    X_train = X_train.toarray().reshape(X_train.shape[0], 1, X_train.shape[1])\n",
    "    X_test = X_test.toarray().reshape(X_test.shape[0], 1, X_test.shape[1])\n",
    "\n",
    "    model = Sequential()\n",
    "    model.add(LSTM(100, input_shape=(X_train.shape[1], X_train.shape[2])))\n",
    "    model.add(Dense(1, activation='sigmoid'))\n",
    "    model.compile(loss='binary_crossentropy', optimizer='adam', metrics=['accuracy'])\n",
    "\n",
    "    model.fit(X_train, y_train, epochs=5, batch_size=64, validation_data=(X_test, y_test))\n",
    "\n",
    "    y_pred = model.predict(X_test)\n",
    "    y_pred = [1 if val > 0.5 else 0 for val in y_pred]\n",
    "\n",
    "    confusion = confusion_matrix(y_test, y_pred)\n",
    "    TN = confusion[0, 0]\n",
    "    FP = confusion[0, 1]\n",
    "    FN = confusion[1, 0]\n",
    "    TP = confusion[1, 1]\n",
    "\n",
    "    accuracy = accuracy_score(y_test, y_pred)\n",
    "    classification_error = 1 - accuracy\n",
    "    sensitivity = recall_score(y_test, y_pred)\n",
    "    precision = precision_score(y_test, y_pred)\n",
    "    specificity = TN / (TN + FP)\n",
    "    f1 = f1_score(y_test, y_pred)\n",
    "    auc_roc_score = roc_auc_score(y_test, y_pred)\n",
    "\n",
    "    print('Accuracy: {:.2f}%'.format(accuracy * 100))\n",
    "    print('Classification Error: {:.2f}%'.format(classification_error * 100))\n",
    "    print('Sensitivity: {:.2f}%'.format(sensitivity * 100))\n",
    "    print('Precision: {:.2f}%'.format(precision * 100))\n",
    "    print('Specificity: {:.2f}%'.format(specificity * 100))\n",
    "    print('F1 Score: {:.2f}%'.format(f1 * 100))\n",
    "    print('AUC Score: {:.2f}%'.format(auc_roc_score * 100))"
   ]
  },
  {
   "cell_type": "markdown",
   "metadata": {
    "cell_id": "edf2743e293240529da35c946eb81851",
    "deepnote_cell_type": "text-cell-h3",
    "formattedRanges": [],
    "is_collapsed": false
   },
   "source": [
    "### Base model"
   ]
  },
  {
   "cell_type": "markdown",
   "metadata": {
    "cell_id": "061c5cd1ec80434fac07dea109cfdbd3",
    "deepnote_cell_type": "markdown"
   },
   "source": [
    "- **Column used: \"Cleaned Text\"**\n",
    "Description:\n",
    "\"Cleaned Text\" is preprocessed data without text lemmatization"
   ]
  },
  {
   "cell_type": "code",
   "execution_count": 7,
   "metadata": {
    "cell_id": "e2a9b4f8e8ea405fbf226406e482f015",
    "deepnote_cell_type": "code",
    "deepnote_to_be_reexecuted": false,
    "execution_millis": 22398,
    "execution_start": 1698577310295,
    "source_hash": null
   },
   "outputs": [
    {
     "name": "stdout",
     "output_type": "stream",
     "text": [
      "Epoch 1/5\n",
      "180/180 [==============================] - 25s 131ms/step - loss: 0.5860 - accuracy: 0.6812 - val_loss: 0.4969 - val_accuracy: 0.7724\n",
      "Epoch 2/5\n",
      "180/180 [==============================] - 23s 127ms/step - loss: 0.3574 - accuracy: 0.8680 - val_loss: 0.4137 - val_accuracy: 0.8093\n",
      "Epoch 3/5\n",
      "180/180 [==============================] - 23s 125ms/step - loss: 0.2093 - accuracy: 0.9314 - val_loss: 0.4288 - val_accuracy: 0.8026\n",
      "Epoch 4/5\n",
      "180/180 [==============================] - 23s 129ms/step - loss: 0.1227 - accuracy: 0.9635 - val_loss: 0.4686 - val_accuracy: 0.7964\n",
      "Epoch 5/5\n",
      "180/180 [==============================] - 22s 124ms/step - loss: 0.0712 - accuracy: 0.9822 - val_loss: 0.5144 - val_accuracy: 0.7967\n",
      "90/90 [==============================] - 1s 8ms/step\n",
      "Accuracy: 79.67%\n",
      "Classification Error: 20.33%\n",
      "Sensitivity: 83.97%\n",
      "Precision: 81.41%\n",
      "Specificity: 73.81%\n",
      "F1 Score: 82.67%\n",
      "AUC Score: 78.89%\n"
     ]
    }
   ],
   "source": [
    "model_for_hypothesis_1(\"Cleaned Text\", df)"
   ]
  },
  {
   "cell_type": "markdown",
   "metadata": {
    "cell_id": "2068aa0c618a4bc3adf1adca9a761b1a",
    "deepnote_cell_type": "text-cell-h3",
    "formattedRanges": []
   },
   "source": [
    "### Model 1"
   ]
  },
  {
   "cell_type": "markdown",
   "metadata": {
    "cell_id": "0aa6e401880347df95cd085e36efad43",
    "deepnote_cell_type": "markdown"
   },
   "source": [
    "- **Column used: \"Cleaned Text with N lemmatization\"**\n",
    "Description:\n",
    "\"Cleaned Text with N lemmatization\" is preprocessed data text lemmatization by Nouns"
   ]
  },
  {
   "cell_type": "code",
   "execution_count": 8,
   "metadata": {
    "cell_id": "d42abd8662b24e69a26ba72849f3390c",
    "deepnote_cell_type": "code",
    "deepnote_to_be_reexecuted": false,
    "execution_millis": 16675,
    "execution_start": 1698577332675,
    "source_hash": null
   },
   "outputs": [
    {
     "name": "stdout",
     "output_type": "stream",
     "text": [
      "Epoch 1/5\n",
      "180/180 [==============================] - 23s 121ms/step - loss: 0.5850 - accuracy: 0.6817 - val_loss: 0.4951 - val_accuracy: 0.7755\n",
      "Epoch 2/5\n",
      "180/180 [==============================] - 22s 120ms/step - loss: 0.3596 - accuracy: 0.8660 - val_loss: 0.4121 - val_accuracy: 0.8054\n",
      "Epoch 3/5\n",
      "180/180 [==============================] - 21s 116ms/step - loss: 0.2171 - accuracy: 0.9266 - val_loss: 0.4256 - val_accuracy: 0.8040\n",
      "Epoch 4/5\n",
      "180/180 [==============================] - 21s 117ms/step - loss: 0.1334 - accuracy: 0.9591 - val_loss: 0.4645 - val_accuracy: 0.8006\n",
      "Epoch 5/5\n",
      "180/180 [==============================] - 21s 118ms/step - loss: 0.0814 - accuracy: 0.9781 - val_loss: 0.5130 - val_accuracy: 0.7967\n",
      "90/90 [==============================] - 1s 7ms/step\n",
      "Accuracy: 79.67%\n",
      "Classification Error: 20.33%\n",
      "Sensitivity: 84.09%\n",
      "Precision: 81.34%\n",
      "Specificity: 73.64%\n",
      "F1 Score: 82.69%\n",
      "AUC Score: 78.86%\n"
     ]
    }
   ],
   "source": [
    "model_for_hypothesis_1(\"Cleaned Text with N lemmatization\", df)"
   ]
  },
  {
   "cell_type": "markdown",
   "metadata": {
    "cell_id": "dfdb57325b26422aa3a982682c206c6f",
    "deepnote_cell_type": "text-cell-h3",
    "formattedRanges": []
   },
   "source": [
    "### Model 2"
   ]
  },
  {
   "cell_type": "markdown",
   "metadata": {
    "cell_id": "344f3911b07647738778bf1b3f928bba",
    "deepnote_cell_type": "markdown"
   },
   "source": [
    "- **Column used: \"Cleaned Text with V lemmatization\"**\n",
    "Description:\n",
    "\"Cleaned Text with V lemmatization\" is preprocessed data with text lemmatization by verbs"
   ]
  },
  {
   "cell_type": "code",
   "execution_count": 9,
   "metadata": {
    "allow_embed": false,
    "cell_id": "5dfa0069e1024dcbb2ae2bd56527d707",
    "deepnote_cell_type": "code",
    "deepnote_to_be_reexecuted": false,
    "execution_millis": 13683,
    "execution_start": 1698577349337,
    "source_hash": null
   },
   "outputs": [
    {
     "name": "stdout",
     "output_type": "stream",
     "text": [
      "Epoch 1/5\n",
      "180/180 [==============================] - 23s 117ms/step - loss: 0.5839 - accuracy: 0.6837 - val_loss: 0.4946 - val_accuracy: 0.7741\n",
      "Epoch 2/5\n",
      "180/180 [==============================] - 20s 109ms/step - loss: 0.3616 - accuracy: 0.8655 - val_loss: 0.4152 - val_accuracy: 0.8075\n",
      "Epoch 3/5\n",
      "180/180 [==============================] - 20s 109ms/step - loss: 0.2256 - accuracy: 0.9233 - val_loss: 0.4314 - val_accuracy: 0.8044\n",
      "Epoch 4/5\n",
      "180/180 [==============================] - 20s 111ms/step - loss: 0.1458 - accuracy: 0.9533 - val_loss: 0.4694 - val_accuracy: 0.8026\n",
      "Epoch 5/5\n",
      "180/180 [==============================] - 20s 111ms/step - loss: 0.0946 - accuracy: 0.9722 - val_loss: 0.5195 - val_accuracy: 0.7974\n",
      "90/90 [==============================] - 1s 7ms/step\n",
      "Accuracy: 79.74%\n",
      "Classification Error: 20.26%\n",
      "Sensitivity: 84.27%\n",
      "Precision: 81.33%\n",
      "Specificity: 73.56%\n",
      "F1 Score: 82.77%\n",
      "AUC Score: 78.91%\n"
     ]
    }
   ],
   "source": [
    "model_for_hypothesis_1(\"Cleaned Text with V lemmatization\", df)"
   ]
  },
  {
   "cell_type": "markdown",
   "metadata": {
    "cell_id": "0f4e563c91ed4f1bbcbf6c55ed87fe5f",
    "deepnote_cell_type": "text-cell-h3",
    "formattedRanges": []
   },
   "source": [
    "### Model 3"
   ]
  },
  {
   "cell_type": "markdown",
   "metadata": {
    "cell_id": "2ed77d3259e841a8bf4f850c509bcbd2",
    "deepnote_cell_type": "markdown"
   },
   "source": [
    "- **Column used: \"Cleaned Text with A lemmatization\"**\n",
    "Description:\n",
    "\"Cleaned Text with A lemmatization\" is preprocessed data with text lemmatization by adjectives"
   ]
  },
  {
   "cell_type": "code",
   "execution_count": 10,
   "metadata": {
    "allow_embed": false,
    "cell_id": "0dfda7058a074f63b9da3e1f9f9694f1",
    "deepnote_cell_type": "code",
    "deepnote_to_be_reexecuted": false,
    "execution_millis": 20962,
    "execution_start": 1698577363032,
    "source_hash": null
   },
   "outputs": [
    {
     "name": "stdout",
     "output_type": "stream",
     "text": [
      "Epoch 1/5\n",
      "180/180 [==============================] - 26s 133ms/step - loss: 0.5858 - accuracy: 0.6823 - val_loss: 0.4969 - val_accuracy: 0.7717\n",
      "Epoch 2/5\n",
      "180/180 [==============================] - 23s 126ms/step - loss: 0.3576 - accuracy: 0.8682 - val_loss: 0.4140 - val_accuracy: 0.8065\n",
      "Epoch 3/5\n",
      "180/180 [==============================] - 23s 125ms/step - loss: 0.2104 - accuracy: 0.9301 - val_loss: 0.4289 - val_accuracy: 0.8047\n",
      "Epoch 4/5\n",
      "180/180 [==============================] - 22s 124ms/step - loss: 0.1241 - accuracy: 0.9637 - val_loss: 0.4676 - val_accuracy: 0.7988\n",
      "Epoch 5/5\n",
      "180/180 [==============================] - 23s 129ms/step - loss: 0.0725 - accuracy: 0.9821 - val_loss: 0.5144 - val_accuracy: 0.7967\n",
      "90/90 [==============================] - 1s 8ms/step\n",
      "Accuracy: 79.67%\n",
      "Classification Error: 20.33%\n",
      "Sensitivity: 84.15%\n",
      "Precision: 81.30%\n",
      "Specificity: 73.56%\n",
      "F1 Score: 82.70%\n",
      "AUC Score: 78.85%\n"
     ]
    }
   ],
   "source": [
    "model_for_hypothesis_1(\"Cleaned Text with A lemmatization\", df)"
   ]
  },
  {
   "cell_type": "markdown",
   "metadata": {
    "cell_id": "61dac5f1d61e4494b8e3add249ed2945",
    "deepnote_cell_type": "text-cell-p",
    "formattedRanges": []
   },
   "source": [
    "#### Conclusion\n",
    "Out of different lemmatization, we see that V Lemmantization has the best results in terms of sensitivity(recall), 84.27%, accuracy, 79.74%, and f1-score at 82.77% <br>\n",
    "Thus we will be using V Lemmantization for the rest of this notebook.\n"
   ]
  },
  {
   "cell_type": "markdown",
   "metadata": {
    "cell_id": "c0c47f8de45c492f978974246862383b",
    "deepnote_cell_type": "text-cell-h2",
    "formattedRanges": [],
    "is_collapsed": false
   },
   "source": [
    "## Hypothesis 2: How does different text extraction methods affect the results?"
   ]
  },
  {
   "cell_type": "markdown",
   "metadata": {
    "cell_id": "7a3b0f55b68840f88fd2c0df546d7aee",
    "deepnote_cell_type": "markdown"
   },
   "source": [
    "<u>**Different Text Extraction methods**</u>\n",
    "\n",
    "1. **Bag of Words (BoW) with TF-IDF transformation**: It creates a vector of word counts for each document.TF-IDF is used to assign weights to words based on their frequency within a document and their importance in the entire corpus. This step converts the BoW features into TF-IDF features.\n",
    "\n",
    "2. **Word Embeddings**: Represent words as dense vectors in a continuous vector space. Word embeddings can be averaged or combined to represent documents.\n",
    "\n",
    "    - Examples of Word embedding models: Word2Vec, GloVe, and FastText \n",
    "    \n",
    "3. **Doc2Vec**: An extension of Word2Vec that learns document-level embeddings, allowing you to represent entire documents as vectors.\n"
   ]
  },
  {
   "cell_type": "markdown",
   "metadata": {
    "cell_id": "f6c1e51649524afe82afd515c35af9cd",
    "deepnote_cell_type": "text-cell-h3",
    "formattedRanges": []
   },
   "source": [
    "### Model Function"
   ]
  },
  {
   "cell_type": "markdown",
   "metadata": {
    "cell_id": "cae6f6e681b348ada2c6da5dde65ed89",
    "deepnote_cell_type": "markdown"
   },
   "source": [
    "Use of function for ease of model reuse\n",
    " \n",
    "\n",
    "<u>**Steps**</u>\n",
    "1. Use of Stratified K-fold to split data\n",
    "2. Fit Model\n",
    "3. Get results\n"
   ]
  },
  {
   "cell_type": "code",
   "execution_count": 5,
   "metadata": {},
   "outputs": [],
   "source": [
    "def perform_kfold_cross_validation_with_lstm(word_embeddings, labels):\n",
    "    np.random.seed(42)\n",
    "    random.seed(42)\n",
    "    tf.random.set_seed(42)\n",
    "\n",
    "    num_of_folds = 10\n",
    "    skf = StratifiedKFold(n_splits=num_of_folds, shuffle=True, random_state=460)\n",
    "\n",
    "    # List of metrics for each fold\n",
    "    k_fold_accuracy = []\n",
    "    k_fold_classification_error = []\n",
    "    k_fold_sensitivity = []\n",
    "    k_fold_precision = []\n",
    "    k_fold_specificity = []\n",
    "    k_fold_f1_score = []\n",
    "    auc_roc_scores = []\n",
    "    fpr_values = []\n",
    "    tpr_values = []\n",
    "\n",
    "    for train_index, test_index in skf.split(word_embeddings, labels):\n",
    "        X_train, X_test = word_embeddings[train_index], word_embeddings[test_index]\n",
    "        y_train, y_test = labels.iloc[train_index], labels.iloc[test_index]\n",
    "\n",
    "        vectorized_train = X_train.reshape(X_train.shape[0], 1, X_train.shape[1])\n",
    "        vectorized_test = X_test.reshape(X_test.shape[0], 1, X_test.shape[1])\n",
    "\n",
    "        model = Sequential()\n",
    "        model.add(LSTM(100, input_shape=(vectorized_train.shape[1], vectorized_train.shape[2])))\n",
    "        model.add(Dense(1, activation='sigmoid'))\n",
    "        model.compile(loss='binary_crossentropy', optimizer='adam', metrics=['accuracy'])\n",
    "\n",
    "        model.fit(vectorized_train, y_train, epochs=5, batch_size=64, verbose=1)\n",
    "        y_pred = (model.predict(vectorized_test) > 0.5).astype(\"int32\")\n",
    "\n",
    "        # Calculating metrics for evaluation\n",
    "        confusion = confusion_matrix(y_test, y_pred)\n",
    "        TN, FP, FN, TP = confusion[0, 0], confusion[0, 1], confusion[1, 0], confusion[1, 1]\n",
    "        accuracy = accuracy_score(y_test, y_pred)\n",
    "        classification_error = 1 - accuracy\n",
    "        sensitivity = recall_score(y_test, y_pred)\n",
    "        precision = precision_score(y_test, y_pred)\n",
    "        specificity = TN / (TN + FP)\n",
    "        f1_score = (2 * sensitivity * precision) / (sensitivity + precision)\n",
    "        y_pred_proba = model.predict(vectorized_test)\n",
    "        auc_roc_score = roc_auc_score(y_test, y_pred_proba)\n",
    "\n",
    "        # Appending metrics to lists\n",
    "        k_fold_accuracy.append(round(accuracy, 4))\n",
    "        k_fold_classification_error.append(round(classification_error, 4))\n",
    "        k_fold_sensitivity.append(round(sensitivity, 4))\n",
    "        k_fold_precision.append(round(precision, 4))\n",
    "        k_fold_specificity.append(round(specificity, 4))\n",
    "        k_fold_f1_score.append(round(f1_score, 4))\n",
    "        auc_roc_scores.append(auc_roc_score)\n",
    "\n",
    "        fpr, tpr, _ = roc_curve(y_test, y_pred_proba)\n",
    "        fpr_values.append(fpr)\n",
    "        tpr_values.append(tpr)\n",
    "\n",
    "    print('The average accuracy is: {:.2f}%'.format(statistics.mean(k_fold_accuracy) * 100))\n",
    "    print('The average classification error is: {:.2f}%'.format(statistics.mean(k_fold_classification_error) * 100))\n",
    "    print('The average sensitivity is: {:.2f}%'.format(statistics.mean(k_fold_sensitivity) * 100))\n",
    "    print('The average precision is: {:.2f}%'.format(statistics.mean(k_fold_precision) * 100))\n",
    "    print('The average specificity is: {:.2f}%'.format(statistics.mean(k_fold_specificity) * 100))\n",
    "    print('The average f1 score is: {:.2f}%'.format(statistics.mean(k_fold_f1_score) * 100))\n",
    "\n",
    "    weights = [len(test_index) / len(labels) for _, test_index in skf.split(word_embeddings, labels)]\n",
    "    avg_auc_roc = np.average(auc_roc_scores, weights=weights, axis=0)\n",
    "    print('The average AUC Score is: {:.2f}%'.format(avg_auc_roc * 100))\n",
    "\n",
    "    max_length_fpr = max(len(a) for a in fpr_values)\n",
    "    max_length_tpr = max(len(a) for a in tpr_values)\n",
    "    padded_fpr = np.array([np.pad(a, (0, max_length_fpr - len(a)), mode='constant') for a in fpr_values])\n",
    "    padded_tpr = np.array([np.pad(a, (0, max_length_tpr - len(a)), mode='constant') for a in tpr_values])\n",
    "\n",
    "    avg_fpr_value = np.average(padded_fpr, weights=weights, axis=0)\n",
    "    avg_tpr_value = np.average(padded_tpr, weights=weights, axis=0)\n",
    "\n",
    "    fig = px.area(\n",
    "        x=avg_fpr_value, y=avg_tpr_value,\n",
    "        title=f'ROC Curve (AUC={avg_auc_roc:.4f})',\n",
    "        labels=dict(x='Average False Positive Rate', y='Average True Positive Rate'),\n",
    "        width=700, height=700\n",
    "    )\n",
    "\n",
    "    fig.add_shape(type='line', line=dict(dash='dash'), x0=0, x1=1, y0=0, y1=1)\n",
    "    fig.update_yaxes(scaleanchor=\"x\", scaleratio=1)\n",
    "    fig.update_xaxes(constrain='domain')\n",
    "    fig.show()\n",
    "\n",
    "    x_axis = [i for i in range(1, num_of_folds + 1)]\n",
    "    fig = px.scatter(x=x_axis, y=auc_roc_scores,\n",
    "                     labels={\"x\": \"K-Fold\", \"y\": \"AUC Score\"},\n",
    "                     trendline='ols',\n",
    "                     title='AUC Values for the each K-Fold'\n",
    "                     )\n",
    "    fig.show()"
   ]
  },
  {
   "cell_type": "markdown",
   "metadata": {
    "cell_id": "1a7c32f4b7ef4821a25728993a541dc5",
    "deepnote_cell_type": "text-cell-h3",
    "formattedRanges": []
   },
   "source": [
    "### Base Model"
   ]
  },
  {
   "cell_type": "markdown",
   "metadata": {
    "cell_id": "cf6f67b575d9495b9458e9326269881a",
    "deepnote_cell_type": "markdown"
   },
   "source": [
    "- **Column used: \"Cleaned Text with V lemmatization\"**\n",
    "- **Model: LSTM**\n",
    "- **Feature Extraction: Bag of Words (BoW) with TF-IDF transformation**\n",
    "Explanation:\n",
    "CountVectorizer is a feature extraction step. It converts text data into a matrix of word counts, where each row represents a document, and each column represents a unique word or token in the corpus. This step extracts features from the text.\n",
    "- **Feature Transformation: TfidfTransformer** \n",
    "Explanation:\n",
    "TfidfTransformer is a feature transformation step. It takes the count matrix produced by CountVectorizer and applies the TF-IDF (Term Frequency-Inverse Document Frequency) transformation to it. This transformation adjusts the word counts to emphasize the importance of words in the text data. It doesn't extract new features but transforms the existing features.\n",
    "\n",
    "\n"
   ]
  },
  {
   "cell_type": "code",
   "execution_count": 14,
   "metadata": {
    "cell_id": "e581d009c84b414c9419be422544b264",
    "deepnote_cell_type": "code",
    "deepnote_to_be_reexecuted": false,
    "execution_millis": 23945,
    "execution_start": 1698666272990,
    "source_hash": null
   },
   "outputs": [
    {
     "name": "stdout",
     "output_type": "stream",
     "text": [
      "Epoch 1/5\n",
      "202/202 [==============================] - 24s 110ms/step - loss: 0.5727 - accuracy: 0.6947\n",
      "Epoch 2/5\n",
      "202/202 [==============================] - 22s 107ms/step - loss: 0.3451 - accuracy: 0.8668\n",
      "Epoch 3/5\n",
      "202/202 [==============================] - 22s 107ms/step - loss: 0.2183 - accuracy: 0.9240\n",
      "Epoch 4/5\n",
      "202/202 [==============================] - 22s 108ms/step - loss: 0.1412 - accuracy: 0.9540\n",
      "Epoch 5/5\n",
      "202/202 [==============================] - 22s 107ms/step - loss: 0.0926 - accuracy: 0.9713\n",
      "45/45 [==============================] - 1s 7ms/step\n",
      "45/45 [==============================] - 0s 7ms/step\n",
      "Epoch 1/5\n",
      "202/202 [==============================] - 23s 109ms/step - loss: 0.5753 - accuracy: 0.6958\n",
      "Epoch 2/5\n",
      "202/202 [==============================] - 22s 107ms/step - loss: 0.3473 - accuracy: 0.8687\n",
      "Epoch 3/5\n",
      "202/202 [==============================] - 22s 108ms/step - loss: 0.2191 - accuracy: 0.9223\n",
      "Epoch 4/5\n",
      "202/202 [==============================] - 22s 108ms/step - loss: 0.1418 - accuracy: 0.9526\n",
      "Epoch 5/5\n",
      "202/202 [==============================] - 22s 108ms/step - loss: 0.0936 - accuracy: 0.9719\n",
      "45/45 [==============================] - 1s 7ms/step\n",
      "45/45 [==============================] - 0s 7ms/step\n",
      "Epoch 1/5\n",
      "202/202 [==============================] - 23s 108ms/step - loss: 0.5741 - accuracy: 0.6959\n",
      "Epoch 2/5\n",
      "202/202 [==============================] - 22s 108ms/step - loss: 0.3465 - accuracy: 0.8689\n",
      "Epoch 3/5\n",
      "202/202 [==============================] - 22s 108ms/step - loss: 0.2193 - accuracy: 0.9236\n",
      "Epoch 4/5\n",
      "202/202 [==============================] - 22s 107ms/step - loss: 0.1415 - accuracy: 0.9523\n",
      "Epoch 5/5\n",
      "202/202 [==============================] - 22s 107ms/step - loss: 0.0931 - accuracy: 0.9718\n",
      "45/45 [==============================] - 1s 7ms/step\n",
      "45/45 [==============================] - 0s 6ms/step\n",
      "Epoch 1/5\n",
      "202/202 [==============================] - 24s 109ms/step - loss: 0.5742 - accuracy: 0.6940\n",
      "Epoch 2/5\n",
      "202/202 [==============================] - 22s 109ms/step - loss: 0.3468 - accuracy: 0.8670\n",
      "Epoch 3/5\n",
      "202/202 [==============================] - 22s 109ms/step - loss: 0.2202 - accuracy: 0.9219\n",
      "Epoch 4/5\n",
      "202/202 [==============================] - 22s 108ms/step - loss: 0.1425 - accuracy: 0.9532\n",
      "Epoch 5/5\n",
      "202/202 [==============================] - 22s 109ms/step - loss: 0.0944 - accuracy: 0.9702\n",
      "45/45 [==============================] - 1s 6ms/step\n",
      "45/45 [==============================] - 0s 7ms/step\n",
      "Epoch 1/5\n",
      "202/202 [==============================] - 23s 109ms/step - loss: 0.5709 - accuracy: 0.6972\n",
      "Epoch 2/5\n",
      "202/202 [==============================] - 22s 109ms/step - loss: 0.3450 - accuracy: 0.8677\n",
      "Epoch 3/5\n",
      "202/202 [==============================] - 22s 108ms/step - loss: 0.2172 - accuracy: 0.9252\n",
      "Epoch 4/5\n",
      "202/202 [==============================] - 22s 109ms/step - loss: 0.1395 - accuracy: 0.9539\n",
      "Epoch 5/5\n",
      "202/202 [==============================] - 22s 108ms/step - loss: 0.0911 - accuracy: 0.9718\n",
      "45/45 [==============================] - 1s 7ms/step\n",
      "45/45 [==============================] - 0s 7ms/step\n",
      "Epoch 1/5\n",
      "202/202 [==============================] - 23s 109ms/step - loss: 0.5740 - accuracy: 0.6921\n",
      "Epoch 2/5\n",
      "202/202 [==============================] - 22s 108ms/step - loss: 0.3488 - accuracy: 0.8674\n",
      "Epoch 3/5\n",
      "202/202 [==============================] - 22s 109ms/step - loss: 0.2191 - accuracy: 0.9223\n",
      "Epoch 4/5\n",
      "202/202 [==============================] - 22s 108ms/step - loss: 0.1423 - accuracy: 0.9524\n",
      "Epoch 5/5\n",
      "202/202 [==============================] - 22s 108ms/step - loss: 0.0926 - accuracy: 0.9719\n",
      "45/45 [==============================] - 1s 6ms/step\n",
      "45/45 [==============================] - 0s 7ms/step\n",
      "Epoch 1/5\n",
      "202/202 [==============================] - 23s 109ms/step - loss: 0.5734 - accuracy: 0.6968\n",
      "Epoch 2/5\n",
      "202/202 [==============================] - 22s 107ms/step - loss: 0.3481 - accuracy: 0.8656\n",
      "Epoch 3/5\n",
      "202/202 [==============================] - 22s 109ms/step - loss: 0.2216 - accuracy: 0.9209\n",
      "Epoch 4/5\n",
      "202/202 [==============================] - 22s 107ms/step - loss: 0.1438 - accuracy: 0.9525\n",
      "Epoch 5/5\n",
      "202/202 [==============================] - 22s 108ms/step - loss: 0.0946 - accuracy: 0.9711\n",
      "45/45 [==============================] - 1s 7ms/step\n",
      "45/45 [==============================] - 0s 7ms/step\n",
      "Epoch 1/5\n",
      "202/202 [==============================] - 23s 108ms/step - loss: 0.5763 - accuracy: 0.6959\n",
      "Epoch 2/5\n",
      "202/202 [==============================] - 22s 108ms/step - loss: 0.3482 - accuracy: 0.8663\n",
      "Epoch 3/5\n",
      "202/202 [==============================] - 22s 109ms/step - loss: 0.2192 - accuracy: 0.9223\n",
      "Epoch 4/5\n",
      "202/202 [==============================] - 22s 108ms/step - loss: 0.1425 - accuracy: 0.9515\n",
      "Epoch 5/5\n",
      "202/202 [==============================] - 22s 109ms/step - loss: 0.0937 - accuracy: 0.9708\n",
      "45/45 [==============================] - 1s 7ms/step\n",
      "45/45 [==============================] - 0s 6ms/step\n",
      "Epoch 1/5\n",
      "202/202 [==============================] - 23s 108ms/step - loss: 0.5748 - accuracy: 0.6918\n",
      "Epoch 2/5\n",
      "202/202 [==============================] - 22s 109ms/step - loss: 0.3495 - accuracy: 0.8674\n",
      "Epoch 3/5\n",
      "202/202 [==============================] - 22s 108ms/step - loss: 0.2225 - accuracy: 0.9214\n",
      "Epoch 4/5\n",
      "202/202 [==============================] - 22s 108ms/step - loss: 0.1445 - accuracy: 0.9530\n",
      "Epoch 5/5\n",
      "202/202 [==============================] - 22s 109ms/step - loss: 0.0951 - accuracy: 0.9711\n",
      "45/45 [==============================] - 1s 7ms/step\n",
      "45/45 [==============================] - 0s 7ms/step\n",
      "Epoch 1/5\n",
      "202/202 [==============================] - 26s 109ms/step - loss: 0.5732 - accuracy: 0.6947\n",
      "Epoch 2/5\n",
      "202/202 [==============================] - 22s 108ms/step - loss: 0.3461 - accuracy: 0.8673\n",
      "Epoch 3/5\n",
      "202/202 [==============================] - 22s 108ms/step - loss: 0.2185 - accuracy: 0.9239\n",
      "Epoch 4/5\n",
      "202/202 [==============================] - 22s 108ms/step - loss: 0.1412 - accuracy: 0.9544\n",
      "Epoch 5/5\n",
      "202/202 [==============================] - 22s 108ms/step - loss: 0.0928 - accuracy: 0.9711\n",
      "45/45 [==============================] - 1s 7ms/step\n",
      "45/45 [==============================] - 0s 7ms/step\n",
      "The average accuracy is: 81.00%\n",
      "The average classification error is: 19.00%\n",
      "The average sensitivity is: 85.08%\n",
      "The average precision is: 83.28%\n",
      "The average specificity is: 75.05%\n",
      "The average f1 score is: 84.16%\n",
      "The average AUC Score is: 88.46%\n"
     ]
    },
    {
     "data": {
      "application/vnd.plotly.v1+json": {
       "config": {
        "plotlyServerURL": "https://plot.ly"
       },
       "data": [
        {
         "fillpattern": {
          "shape": ""
         },
         "hovertemplate": "Average False Positive Rate=%{x}<br>Average True Positive Rate=%{y}<extra></extra>",
         "legendgroup": "",
         "line": {
          "color": "#636efa"
         },
         "marker": {
          "symbol": "circle"
         },
         "mode": "lines",
         "name": "",
         "orientation": "v",
         "showlegend": false,
         "stackgroup": "1",
         "type": "scatter",
         "x": [
          0,
          0,
          0,
          0,
          0,
          0,
          0,
          0.0001711851928146088,
          0.0001711851928146088,
          0.0005135555784438264,
          0.0006848599810027351,
          0.0010275239947499881,
          0.0011988283973088968,
          0.0020553416176180114,
          0.002397950422735829,
          0.002911799629297691,
          0.0035968980297890257,
          0.004281932429165496,
          0.0046245412342833135,
          0.005480880036218693,
          0.006508468032083545,
          0.007193502431460015,
          0.00804978602476596,
          0.00873482042414243,
          0.009591104017448374,
          0.010447736447501788,
          0.011304020040807732,
          0.012160358842743111,
          0.013016642436049055,
          0.013701676835425525,
          0.014729145621546078,
          0.015585484423481457,
          0.0164417680167874,
          0.017298106818722778,
          0.018325575604843332,
          0.019181914406778713,
          0.020038198000084655,
          0.020894536802020035,
          0.021750820395325977,
          0.022778344390075967,
          0.02363462798338191,
          0.02449096678531729,
          0.025518554781182142,
          0.026374893583117523,
          0.027231177176423465,
          0.02843000557373236,
          0.029286289167038307,
          0.030484998354602902,
          0.03134128194790885,
          0.03236892515240313,
          0.03322520874570908,
          0.03425273274045906,
          0.035280320736323915,
          0.0363078447310739,
          0.03750661791975336,
          0.03836295672168875,
          0.03956161070062391,
          0.04041794950255929,
          0.04161684190098305,
          0.04281567029829194,
          0.043671953891597885,
          0.04469947788634787,
          0.04555576147965382,
          0.046754764295336454,
          0.047782352291201306,
          0.04880987628595129,
          0.04983734507207185,
          0.05086516269493987,
          0.05189263148106042,
          0.05309157908811362,
          0.05411916708397847,
          0.05514669107872846,
          0.05617427907459331,
          0.05720209669746133,
          0.05805838029076728,
          0.05908602349526157,
          0.06045610108649994,
          0.061997474287811785,
          0.06302506228367663,
          0.06388140108561202,
          0.06473768467891797,
          0.06576520867366795,
          0.0667927966695328,
          0.06833387624272662,
          0.06970407304370929,
          0.07107396742408849,
          0.07210143621020904,
          0.07295777501214443,
          0.07381405860545037,
          0.07484158260020035,
          0.07672557339911544,
          0.07792440179642435,
          0.0791231749851038,
          0.0801506989798538,
          0.08100698257315975,
          0.08220569176072434,
          0.0832331605468449,
          0.08426097816971291,
          0.08545963214864807,
          0.08665834133621267,
          0.08802841892745106,
          0.08922742174313367,
          0.09008370533643961,
          0.090940044138375,
          0.09179632773168094,
          0.09299503691924553,
          0.0943648760909953,
          0.0952212148929307,
          0.09659141169391336,
          0.09779053371934028,
          0.09881812171520514,
          0.09967446051714052,
          0.10070192930326108,
          0.10207182368364026,
          0.10309929246976082,
          0.10412681646451082,
          0.10515440446037568,
          0.10652429884075487,
          0.10823698523711106,
          0.10943569442467566,
          0.11063458682309943,
          0.11166240444596745,
          0.11268987323208801,
          0.11388899525751493,
          0.1149164640436355,
          0.11611517323120009,
          0.11714264201732062,
          0.11851283002581788,
          0.11988302682680055,
          0.12091067003129483,
          0.12176695362460077,
          0.12279447761935075,
          0.12467846841826585,
          0.12553480722020124,
          0.12690488481143963,
          0.12827519202968113,
          0.12964526962091952,
          0.13101545762941677,
          0.13204292641553733,
          0.13341294000566084,
          0.1347831368066435,
          0.136495988828888,
          0.13752345761500853,
          0.13889335199538774,
          0.14009212518406722,
          0.1414624324023087,
          0.1424900203981736,
          0.14351754439292358,
          0.14591556760925972,
          0.14711427679682432,
          0.14831304998550376,
          0.14951175917306836,
          0.1505392279591889,
          0.15156704558205694,
          0.15242332917536286,
          0.15396452795830098,
          0.15482081155160696,
          0.1558483355463569,
          0.15670461913966288,
          0.15841765437276653,
          0.1594452423686314,
          0.16030158117056675,
          0.16201414835717864,
          0.16321285754474324,
          0.1644116307334227,
          0.16561057834047588,
          0.16646686193378182,
          0.16749438592853186,
          0.1685219739243967,
          0.16989222593400877,
          0.17091981392987365,
          0.17211893595530056,
          0.17331770914398,
          0.17485920155503615,
          0.17640058354883348,
          0.17759929273639807,
          0.17931197913275426,
          0.18119554830132156,
          0.18188064670181292,
          0.18342172627500672,
          0.184278129078057,
          0.18616216629311608,
          0.187018449886422,
          0.188045973881172,
          0.18924498548934005,
          0.19061487986971926,
          0.19198483825121337,
          0.19335473263159253,
          0.19421113543464277,
          0.19643695577909503,
          0.19763584817751878,
          0.199006036186016,
          0.20054741817981328,
          0.20243116176675438,
          0.20345886897236354,
          0.20517154657623432,
          0.20619925378184348,
          0.20791193138571423,
          0.21031007381179462,
          0.2123652410110389,
          0.21339270979715946,
          0.21459141898472406,
          0.21613292018826563,
          0.21750281456864481,
          0.218530521774254,
          0.22058615701999001,
          0.22161386422559917,
          0.2228125734131638,
          0.2240115850213319,
          0.2253817730298291,
          0.22623817583287936,
          0.22812203862956473,
          0.23052018105564512,
          0.2318903690641424,
          0.23326056586512506,
          0.23531590748274306,
          0.23685752789602893,
          0.23857015029127024,
          0.24045402188044104,
          0.24268113594710977,
          0.24405145195783673,
          0.24559282515914854,
          0.24696302196013123,
          0.24901824436800493,
          0.2500459515736141,
          0.2512446607611787,
          0.2522723679667878,
          0.2532998919615378,
          0.254327599167147,
          0.25569778717564423,
          0.2567253751715091,
          0.25929409794919717,
          0.26186294872911503,
          0.2642602478944999,
          0.2659731727103447,
          0.2687138423554572,
          0.2712831699743522,
          0.2738515991239223,
          0.2753931003274639,
          0.27830407428103693,
          0.27950308588920497,
          0.28104416546239874,
          0.28190056826544896,
          0.2841268014477636,
          0.28566818344156086,
          0.28840767857420124,
          0.2892640813772515,
          0.29080516095044534,
          0.2920041725586134,
          0.2944024718180967,
          0.29611515821445283,
          0.29971075372954004,
          0.3009096461279638,
          0.3029654557920736,
          0.30382185859512384,
          0.3067347687357788,
          0.30793366113420256,
          0.3115302567433881,
          0.31307187715667395,
          0.31444177153705316,
          0.3156407831452212,
          0.3185522251452861,
          0.3206076395565044,
          0.32197753393688355,
          0.3231765455450516,
          0.3247179187463634,
          0.32574538753248394,
          0.3278006739414726,
          0.33088319950957856,
          0.33208190869714316,
          0.3332809203053112,
          0.33670515620921,
          0.33807535301019265,
          0.33995921580687805,
          0.34475550065903887,
          0.34732545315782853,
          0.3490383779736733,
          0.35246366918030003,
          0.35383398519102693,
          0.357088091204839,
          0.3586295924083806,
          0.36102701078350974,
          0.36308254440447235,
          0.3654804308260934,
          0.36650801882195827,
          0.3685627731833402,
          0.3704467639822553,
          0.3723303331508226,
          0.37352898712975774,
          0.37558362228139547,
          0.3771252426946813,
          0.3798664443874004,
          0.38209328241092194,
          0.38705878109887365,
          0.3894566851054655,
          0.3920263439761372,
          0.39322535558430527,
          0.3957941975717376,
          0.3978497311927003,
          0.4026439806867225,
          0.40418560110000845,
          0.40846629501558696,
          0.4098366110263139,
          0.4153196480841323,
          0.417888856493283,
          0.42216931198937296,
          0.42542349958927067,
          0.431073968675484,
          0.4329578402646549,
          0.4353556162690169,
          0.4374110306802353,
          0.44169224785093497,
          0.44426133705034143,
          0.45025393810269543,
          0.45213804811135483,
          0.4576188089378292,
          0.46018789813723565,
          0.46327199347070513,
          0.46549859307473807,
          0.4678967179158476,
          0.470122721471159,
          0.47508897304123526,
          0.47663047424477695,
          0.4833079352781336,
          0.485192045286793,
          0.49015741597251505,
          0.49187010236887124,
          0.4952965128793407,
          0.4966668288900676,
          0.5019767621529603,
          0.5035177865175247,
          0.5074568717220836,
          0.511053191288122,
          0.5143072973019341,
          0.5191016747981863,
          0.5271494982584138,
          0.5304036858583117,
          0.5345138458384264,
          0.5358839234296648,
          0.5413637945792997,
          0.5453034382089218,
          0.5519825129700692,
          0.5564361890171122,
          0.5608895362660955,
          0.5644868095100883,
          0.5701424999013115,
          0.5742530903042594,
          0.5829935824949326,
          0.5877899865568377,
          0.590700786092037,
          0.5924135916981376,
          0.6014921138537841,
          0.6136478122702973,
          0.6225519105313455,
          0.6240934117348871,
          0.6271762221386257,
          0.6311151505097818,
          0.6393355256786408,
          0.6458443777174137,
          0.6562889682954198,
          0.6636525542008225,
          0.6739306576359024,
          0.6758144100153289,
          0.6807801935389134,
          0.6830065547234577,
          0.7021937656825633,
          0.7057908005070674,
          0.7200150538065102,
          0.6277511224789523,
          0.63477078827205,
          0.6452198799891662,
          0.6548063699965285,
          0.6589175564481982,
          0.6690179596632371,
          0.5750407458906016,
          0.578123033039219,
          0.5866833655676481,
          0.592504496591555,
          0.6048354333321889,
          0.6151090483056957,
          0.6183625206471277,
          0.6236696192536135,
          0.6300075245190602,
          0.6395944913653997,
          0.5516128124725816,
          0.5552085359898986,
          0.5598319667128246,
          0.565481554914684,
          0.5711340041504064,
          0.5778107035091533,
          0.5848335879653471,
          0.5906544805697654,
          0.5995618326638513,
          0.5085931152081116,
          0.4188975578214944,
          0.3229651850325967,
          0.3291297593298314,
          0.23069886951015284,
          0.23309713114597755,
          0.2418299601744086,
          0.243029090992321,
          0.24388513616613833,
          0.24439904937381504,
          0.24970650560953372,
          0.2512482452325639,
          0.2546733796057877,
          0.2570716412416124,
          0.26169554880351564,
          0.26272337521886907,
          0.26580566236748643,
          0.26854653280842894,
          0.2724846267113751,
          0.27282723551649285,
          0.2827568111679503,
          0.2873820300370408,
          0.2000139236981342,
          0.10004177109440267
         ],
         "xaxis": "x",
         "y": [
          0,
          0.0032843601321373194,
          0.008798197547929232,
          0.01478015703813923,
          0.01782967752361375,
          0.02158305482450182,
          0.03261226120233892,
          0.045161477232358326,
          0.06404964825252703,
          0.06768557086125482,
          0.08422719691129185,
          0.09665990009070477,
          0.11601159049987889,
          0.12961711631814765,
          0.1371223202149733,
          0.15002571886501076,
          0.15835499465450123,
          0.16140472511929696,
          0.16785747089235611,
          0.1949554919630882,
          0.20867912655143928,
          0.22674507066148245,
          0.23437012370444307,
          0.24516428773660112,
          0.2565422283841497,
          0.26498834157257706,
          0.2697958974482392,
          0.285162447413457,
          0.2921992613972779,
          0.3051027719341069,
          0.3162427163480438,
          0.3209349019977998,
          0.3333692367318653,
          0.3429891795402727,
          0.348738166590448,
          0.3546034545960388,
          0.3612889444374622,
          0.36926508941941033,
          0.38029232590000245,
          0.38451555032440354,
          0.38979366219537465,
          0.3960107410492264,
          0.4019940221063685,
          0.40950081425919116,
          0.41771006387618465,
          0.42240236141273224,
          0.42603906722900103,
          0.4320213018381027,
          0.4363620066273183,
          0.4416399882191485,
          0.44656699244100034,
          0.4520801539379555,
          0.4561856880182207,
          0.4619335818731344,
          0.46732846063903677,
          0.4701440181798318,
          0.4748346182558084,
          0.4804650620166491,
          0.4838666181985347,
          0.48949767733672905,
          0.4937189081071007,
          0.49571326602711346,
          0.5049821847183215,
          0.5094405331044516,
          0.5122559017404924,
          0.5151880702244236,
          0.518121082457379,
          0.5239869298969277,
          0.528561588434648,
          0.5326674187083719,
          0.5364216048894553,
          0.5400586417680115,
          0.5448683985948066,
          0.5473317736835702,
          0.5523761253088783,
          0.5556609797354031,
          0.5581248326420745,
          0.561644083766183,
          0.5642249438178485,
          0.566219133907674,
          0.5684479187960122,
          0.5716157147322346,
          0.5757206077624919,
          0.5792400267167879,
          0.5826425293383144,
          0.585809765840579,
          0.5916737012421482,
          0.593198594446244,
          0.5966006284460376,
          0.5982428598574145,
          0.6002370545453273,
          0.6056329897217926,
          0.6092698330975074,
          0.6124369017695844,
          0.6165420580403412,
          0.6204129321825234,
          0.62287595973252,
          0.6260431402913886,
          0.6300320285596891,
          0.6324951798748694,
          0.6340199703883483,
          0.6346064935945678,
          0.6369528147911162,
          0.6385949343157017,
          0.6398850484146178,
          0.643755642839821,
          0.6468050257658498,
          0.6484471452904352,
          0.6503241952739083,
          0.6534913198893813,
          0.656892997154233,
          0.6600604014866848,
          0.6617028869423867,
          0.663579906655118,
          0.6659263397384583,
          0.6674513448293456,
          0.6707361479105619,
          0.6721438707375637,
          0.6762496285914121,
          0.6771879985892884,
          0.678126454801302,
          0.6790649926293656,
          0.6818796477955231,
          0.6839910082624425,
          0.6852808729151212,
          0.6869231602698941,
          0.6884476453937398,
          0.6900898768051169,
          0.6929055205600494,
          0.6961896477224288,
          0.698653032007367,
          0.7009994045492239,
          0.7036965023326042,
          0.7051041692162102,
          0.706511565579012,
          0.7080366266132951,
          0.7092092649454839,
          0.7110861168280279,
          0.7131973397355016,
          0.7155432647301923,
          0.7177723852789052,
          0.7195320108409594,
          0.7210570764733301,
          0.7231683250534578,
          0.7255141519556187,
          0.7266871424246619,
          0.7278603309946341,
          0.7290334892938648,
          0.729854525682547,
          0.7332561029389995,
          0.7344292355655757,
          0.7361890849012132,
          0.7380662467714778,
          0.7402948335588871,
          0.7425235973726584,
          0.7442831669913169,
          0.7473332074438332,
          0.7486236480069492,
          0.7507349919973892,
          0.7521426029375994,
          0.7536667056538491,
          0.7555437813099763,
          0.7570687350555552,
          0.759063092975568,
          0.760001493244186,
          0.7615263864482817,
          0.7628163629877518,
          0.7641067476074721,
          0.7663352619750061,
          0.7680947756502687,
          0.7696193726609061,
          0.7713788863361688,
          0.7729033971326684,
          0.774662966751327,
          0.7768920056839899,
          0.7779476579457518,
          0.7804108487278485,
          0.7811145982545578,
          0.7824049874723653,
          0.7833433574702418,
          0.7856886598072736,
          0.787800076217589,
          0.7890903232778634,
          0.7900286932757397,
          0.79167106684465,
          0.7928440573136932,
          0.7965957976954934,
          0.7978860144850264,
          0.7991764037028342,
          0.7997628709656578,
          0.8022259544590502,
          0.8037506798329586,
          0.8053932212320563,
          0.8060970267021613,
          0.8070355388575707,
          0.8079738529120513,
          0.8098507956068199,
          0.8113756328675199,
          0.8129002858215529,
          0.8136040353482623,
          0.8148945621255158,
          0.8154810853317354,
          0.8180618032258675,
          0.8187656086959726,
          0.8202904248821057,
          0.8220498826139726,
          0.8228710006187048,
          0.8245132320300819,
          0.8269765906423658,
          0.8277977343197525,
          0.8292052682419999,
          0.8309646140870752,
          0.8323723112414226,
          0.8343666132180396,
          0.8372994878915494,
          0.8385898725112698,
          0.8398800682262357,
          0.840818438224112,
          0.8429295070956604,
          0.8438678770935366,
          0.84515840387079,
          0.8458621533974994,
          0.8470352300806799,
          0.8482082205497231,
          0.8499681001561021,
          0.8510238083612597,
          0.852782725051518,
          0.8533691923143417,
          0.8543075925829596,
          0.8548940598457834,
          0.856184530679641,
          0.8571229566209131,
          0.8584134833981665,
          0.8599383206588663,
          0.8615805869390725,
          0.8621671101452919,
          0.8634573315329123,
          0.8640438547391318,
          0.8658035665153234,
          0.8662727515142616,
          0.8674457465813923,
          0.8680322697876117,
          0.8703784534247145,
          0.8713168793659865,
          0.87260740614324,
          0.8736630584050017,
          0.8747189087676924,
          0.8753053760305162,
          0.8763612263932068,
          0.8769476936560305,
          0.8777688116607629,
          0.8788245758093163,
          0.8809360270884604,
          0.8814052120873985,
          0.8844552617360895,
          0.8850417289989132,
          0.8858628470036454,
          0.8868012729449175,
          0.8882090819860565,
          0.8892647342478183,
          0.8905549859061802,
          0.8912587354328895,
          0.8936047558378922,
          0.8945431258357684,
          0.8955987826956175,
          0.8966543790139837,
          0.8974754970187158,
          0.8981793024888209,
          0.8988831382296676,
          0.8999388464348252,
          0.9016987260412043,
          0.9025198137751947,
          0.9035756641378856,
          0.9045140900791577,
          0.9058046168564112,
          0.906391084119235,
          0.9074469344819256,
          0.9086199249509689,
          0.909793113520941,
          0.9103795807837647,
          0.9114353752030597,
          0.9123738011443318,
          0.9135468778275124,
          0.9142506273542217,
          0.9150718013023497,
          0.9156583245085692,
          0.9165968366639785,
          0.9176525448691362,
          0.9187082576723811,
          0.9194120071990906,
          0.9204678575617812,
          0.9214061716162616,
          0.9222273455643896,
          0.9229310950910988,
          0.9239869454537897,
          0.9253944445072083,
          0.926450294869899,
          0.927154100340004,
          0.9282098388159034,
          0.9286790238148415,
          0.9299694130326491,
          0.9310250093510152,
          0.9320808597137059,
          0.9326673829199253,
          0.933605839131939,
          0.9346617151672841,
          0.9356002273226934,
          0.9364212591132883,
          0.9374770535325834,
          0.9379462385315215,
          0.9388847506869309,
          0.9394712179497545,
          0.9402923918978825,
          0.940878915104102,
          0.941934709523397,
          0.9425212327296164,
          0.9433422691182987,
          0.9438114541172369,
          0.9445152898580834,
          0.945101813064303,
          0.9461575515402022,
          0.9466267365391404,
          0.9477998691657168,
          0.9487381832201971,
          0.9495592196088793,
          0.9502629691355886,
          0.9510841430837166,
          0.9515533280826547,
          0.9524918402380642,
          0.9535475484432218,
          0.9546033988059125,
          0.9553071483326218,
          0.9560109840734685,
          0.9565974513362923,
          0.9573012870771388,
          0.9578878102833583,
          0.9594130134751746,
          0.9598821984741127,
          0.9607033164788448,
          0.9614071219489498,
          0.962462697192749,
          0.9630492203989687,
          0.9638703943470965,
          0.9643395793460349,
          0.9650434150868815,
          0.9657472205569866,
          0.9664510562978332,
          0.967272088088428,
          0.9679759238292747,
          0.968679673355984,
          0.9699701441898416,
          0.9704393291887796,
          0.9714950419920249,
          0.971964226990963,
          0.9729026272595807,
          0.9734890945224044,
          0.9746622271489809,
          0.9754832589395757,
          0.9765390533588706,
          0.9770082383578088,
          0.9781810142494435,
          0.978767537455663,
          0.9794713731965096,
          0.9799405581954476,
          0.9806443939362944,
          0.9811135789352324,
          0.9819346153239147,
          0.9825211385301341,
          0.8831356210194138,
          0.8837220882822375,
          0.8843087233752485,
          0.8847779083741866,
          0.8854818816744792,
          0.8860684048806986,
          0.7865655491626968,
          0.7871520723689164,
          0.7877387074619273,
          0.7884424569886366,
          0.7890290920816477,
          0.7894982770805858,
          0.7899675739663157,
          0.7905540412291392,
          0.7916098613210885,
          0.7920790463200267,
          0.6924588523947435,
          0.6929280373936815,
          0.6932799960721299,
          0.693749181071068,
          0.6941011397495164,
          0.6945703247484545,
          0.6948049452196214,
          0.6952741302185595,
          0.6956260888970078,
          0.5959362205376577,
          0.4961986884050931,
          0.39639153778185743,
          0.3966261582530244,
          0.2967712879131784,
          0.2970059083843454,
          0.29712319064823095,
          0.2973578111193979,
          0.2974750933832835,
          0.2977097138544505,
          0.2978269961183361,
          0.29806161658950303,
          0.29817889885338855,
          0.2984135193245555,
          0.29853080158844114,
          0.2987654220596081,
          0.2988827043234937,
          0.2992346070585462,
          0.2993518893224318,
          0.29958650979359874,
          0.2997037920574843,
          0.2999384125286513,
          0.19989664143424862,
          0.10004177109440267
         ],
         "yaxis": "y"
        }
       ],
       "layout": {
        "height": 700,
        "legend": {
         "tracegroupgap": 0
        },
        "shapes": [
         {
          "line": {
           "dash": "dash"
          },
          "type": "line",
          "x0": 0,
          "x1": 1,
          "y0": 0,
          "y1": 1
         }
        ],
        "template": {
         "data": {
          "bar": [
           {
            "error_x": {
             "color": "#2a3f5f"
            },
            "error_y": {
             "color": "#2a3f5f"
            },
            "marker": {
             "line": {
              "color": "#E5ECF6",
              "width": 0.5
             },
             "pattern": {
              "fillmode": "overlay",
              "size": 10,
              "solidity": 0.2
             }
            },
            "type": "bar"
           }
          ],
          "barpolar": [
           {
            "marker": {
             "line": {
              "color": "#E5ECF6",
              "width": 0.5
             },
             "pattern": {
              "fillmode": "overlay",
              "size": 10,
              "solidity": 0.2
             }
            },
            "type": "barpolar"
           }
          ],
          "carpet": [
           {
            "aaxis": {
             "endlinecolor": "#2a3f5f",
             "gridcolor": "white",
             "linecolor": "white",
             "minorgridcolor": "white",
             "startlinecolor": "#2a3f5f"
            },
            "baxis": {
             "endlinecolor": "#2a3f5f",
             "gridcolor": "white",
             "linecolor": "white",
             "minorgridcolor": "white",
             "startlinecolor": "#2a3f5f"
            },
            "type": "carpet"
           }
          ],
          "choropleth": [
           {
            "colorbar": {
             "outlinewidth": 0,
             "ticks": ""
            },
            "type": "choropleth"
           }
          ],
          "contour": [
           {
            "colorbar": {
             "outlinewidth": 0,
             "ticks": ""
            },
            "colorscale": [
             [
              0,
              "#0d0887"
             ],
             [
              0.1111111111111111,
              "#46039f"
             ],
             [
              0.2222222222222222,
              "#7201a8"
             ],
             [
              0.3333333333333333,
              "#9c179e"
             ],
             [
              0.4444444444444444,
              "#bd3786"
             ],
             [
              0.5555555555555556,
              "#d8576b"
             ],
             [
              0.6666666666666666,
              "#ed7953"
             ],
             [
              0.7777777777777778,
              "#fb9f3a"
             ],
             [
              0.8888888888888888,
              "#fdca26"
             ],
             [
              1,
              "#f0f921"
             ]
            ],
            "type": "contour"
           }
          ],
          "contourcarpet": [
           {
            "colorbar": {
             "outlinewidth": 0,
             "ticks": ""
            },
            "type": "contourcarpet"
           }
          ],
          "heatmap": [
           {
            "colorbar": {
             "outlinewidth": 0,
             "ticks": ""
            },
            "colorscale": [
             [
              0,
              "#0d0887"
             ],
             [
              0.1111111111111111,
              "#46039f"
             ],
             [
              0.2222222222222222,
              "#7201a8"
             ],
             [
              0.3333333333333333,
              "#9c179e"
             ],
             [
              0.4444444444444444,
              "#bd3786"
             ],
             [
              0.5555555555555556,
              "#d8576b"
             ],
             [
              0.6666666666666666,
              "#ed7953"
             ],
             [
              0.7777777777777778,
              "#fb9f3a"
             ],
             [
              0.8888888888888888,
              "#fdca26"
             ],
             [
              1,
              "#f0f921"
             ]
            ],
            "type": "heatmap"
           }
          ],
          "heatmapgl": [
           {
            "colorbar": {
             "outlinewidth": 0,
             "ticks": ""
            },
            "colorscale": [
             [
              0,
              "#0d0887"
             ],
             [
              0.1111111111111111,
              "#46039f"
             ],
             [
              0.2222222222222222,
              "#7201a8"
             ],
             [
              0.3333333333333333,
              "#9c179e"
             ],
             [
              0.4444444444444444,
              "#bd3786"
             ],
             [
              0.5555555555555556,
              "#d8576b"
             ],
             [
              0.6666666666666666,
              "#ed7953"
             ],
             [
              0.7777777777777778,
              "#fb9f3a"
             ],
             [
              0.8888888888888888,
              "#fdca26"
             ],
             [
              1,
              "#f0f921"
             ]
            ],
            "type": "heatmapgl"
           }
          ],
          "histogram": [
           {
            "marker": {
             "pattern": {
              "fillmode": "overlay",
              "size": 10,
              "solidity": 0.2
             }
            },
            "type": "histogram"
           }
          ],
          "histogram2d": [
           {
            "colorbar": {
             "outlinewidth": 0,
             "ticks": ""
            },
            "colorscale": [
             [
              0,
              "#0d0887"
             ],
             [
              0.1111111111111111,
              "#46039f"
             ],
             [
              0.2222222222222222,
              "#7201a8"
             ],
             [
              0.3333333333333333,
              "#9c179e"
             ],
             [
              0.4444444444444444,
              "#bd3786"
             ],
             [
              0.5555555555555556,
              "#d8576b"
             ],
             [
              0.6666666666666666,
              "#ed7953"
             ],
             [
              0.7777777777777778,
              "#fb9f3a"
             ],
             [
              0.8888888888888888,
              "#fdca26"
             ],
             [
              1,
              "#f0f921"
             ]
            ],
            "type": "histogram2d"
           }
          ],
          "histogram2dcontour": [
           {
            "colorbar": {
             "outlinewidth": 0,
             "ticks": ""
            },
            "colorscale": [
             [
              0,
              "#0d0887"
             ],
             [
              0.1111111111111111,
              "#46039f"
             ],
             [
              0.2222222222222222,
              "#7201a8"
             ],
             [
              0.3333333333333333,
              "#9c179e"
             ],
             [
              0.4444444444444444,
              "#bd3786"
             ],
             [
              0.5555555555555556,
              "#d8576b"
             ],
             [
              0.6666666666666666,
              "#ed7953"
             ],
             [
              0.7777777777777778,
              "#fb9f3a"
             ],
             [
              0.8888888888888888,
              "#fdca26"
             ],
             [
              1,
              "#f0f921"
             ]
            ],
            "type": "histogram2dcontour"
           }
          ],
          "mesh3d": [
           {
            "colorbar": {
             "outlinewidth": 0,
             "ticks": ""
            },
            "type": "mesh3d"
           }
          ],
          "parcoords": [
           {
            "line": {
             "colorbar": {
              "outlinewidth": 0,
              "ticks": ""
             }
            },
            "type": "parcoords"
           }
          ],
          "pie": [
           {
            "automargin": true,
            "type": "pie"
           }
          ],
          "scatter": [
           {
            "fillpattern": {
             "fillmode": "overlay",
             "size": 10,
             "solidity": 0.2
            },
            "type": "scatter"
           }
          ],
          "scatter3d": [
           {
            "line": {
             "colorbar": {
              "outlinewidth": 0,
              "ticks": ""
             }
            },
            "marker": {
             "colorbar": {
              "outlinewidth": 0,
              "ticks": ""
             }
            },
            "type": "scatter3d"
           }
          ],
          "scattercarpet": [
           {
            "marker": {
             "colorbar": {
              "outlinewidth": 0,
              "ticks": ""
             }
            },
            "type": "scattercarpet"
           }
          ],
          "scattergeo": [
           {
            "marker": {
             "colorbar": {
              "outlinewidth": 0,
              "ticks": ""
             }
            },
            "type": "scattergeo"
           }
          ],
          "scattergl": [
           {
            "marker": {
             "colorbar": {
              "outlinewidth": 0,
              "ticks": ""
             }
            },
            "type": "scattergl"
           }
          ],
          "scattermapbox": [
           {
            "marker": {
             "colorbar": {
              "outlinewidth": 0,
              "ticks": ""
             }
            },
            "type": "scattermapbox"
           }
          ],
          "scatterpolar": [
           {
            "marker": {
             "colorbar": {
              "outlinewidth": 0,
              "ticks": ""
             }
            },
            "type": "scatterpolar"
           }
          ],
          "scatterpolargl": [
           {
            "marker": {
             "colorbar": {
              "outlinewidth": 0,
              "ticks": ""
             }
            },
            "type": "scatterpolargl"
           }
          ],
          "scatterternary": [
           {
            "marker": {
             "colorbar": {
              "outlinewidth": 0,
              "ticks": ""
             }
            },
            "type": "scatterternary"
           }
          ],
          "surface": [
           {
            "colorbar": {
             "outlinewidth": 0,
             "ticks": ""
            },
            "colorscale": [
             [
              0,
              "#0d0887"
             ],
             [
              0.1111111111111111,
              "#46039f"
             ],
             [
              0.2222222222222222,
              "#7201a8"
             ],
             [
              0.3333333333333333,
              "#9c179e"
             ],
             [
              0.4444444444444444,
              "#bd3786"
             ],
             [
              0.5555555555555556,
              "#d8576b"
             ],
             [
              0.6666666666666666,
              "#ed7953"
             ],
             [
              0.7777777777777778,
              "#fb9f3a"
             ],
             [
              0.8888888888888888,
              "#fdca26"
             ],
             [
              1,
              "#f0f921"
             ]
            ],
            "type": "surface"
           }
          ],
          "table": [
           {
            "cells": {
             "fill": {
              "color": "#EBF0F8"
             },
             "line": {
              "color": "white"
             }
            },
            "header": {
             "fill": {
              "color": "#C8D4E3"
             },
             "line": {
              "color": "white"
             }
            },
            "type": "table"
           }
          ]
         },
         "layout": {
          "annotationdefaults": {
           "arrowcolor": "#2a3f5f",
           "arrowhead": 0,
           "arrowwidth": 1
          },
          "autotypenumbers": "strict",
          "coloraxis": {
           "colorbar": {
            "outlinewidth": 0,
            "ticks": ""
           }
          },
          "colorscale": {
           "diverging": [
            [
             0,
             "#8e0152"
            ],
            [
             0.1,
             "#c51b7d"
            ],
            [
             0.2,
             "#de77ae"
            ],
            [
             0.3,
             "#f1b6da"
            ],
            [
             0.4,
             "#fde0ef"
            ],
            [
             0.5,
             "#f7f7f7"
            ],
            [
             0.6,
             "#e6f5d0"
            ],
            [
             0.7,
             "#b8e186"
            ],
            [
             0.8,
             "#7fbc41"
            ],
            [
             0.9,
             "#4d9221"
            ],
            [
             1,
             "#276419"
            ]
           ],
           "sequential": [
            [
             0,
             "#0d0887"
            ],
            [
             0.1111111111111111,
             "#46039f"
            ],
            [
             0.2222222222222222,
             "#7201a8"
            ],
            [
             0.3333333333333333,
             "#9c179e"
            ],
            [
             0.4444444444444444,
             "#bd3786"
            ],
            [
             0.5555555555555556,
             "#d8576b"
            ],
            [
             0.6666666666666666,
             "#ed7953"
            ],
            [
             0.7777777777777778,
             "#fb9f3a"
            ],
            [
             0.8888888888888888,
             "#fdca26"
            ],
            [
             1,
             "#f0f921"
            ]
           ],
           "sequentialminus": [
            [
             0,
             "#0d0887"
            ],
            [
             0.1111111111111111,
             "#46039f"
            ],
            [
             0.2222222222222222,
             "#7201a8"
            ],
            [
             0.3333333333333333,
             "#9c179e"
            ],
            [
             0.4444444444444444,
             "#bd3786"
            ],
            [
             0.5555555555555556,
             "#d8576b"
            ],
            [
             0.6666666666666666,
             "#ed7953"
            ],
            [
             0.7777777777777778,
             "#fb9f3a"
            ],
            [
             0.8888888888888888,
             "#fdca26"
            ],
            [
             1,
             "#f0f921"
            ]
           ]
          },
          "colorway": [
           "#636efa",
           "#EF553B",
           "#00cc96",
           "#ab63fa",
           "#FFA15A",
           "#19d3f3",
           "#FF6692",
           "#B6E880",
           "#FF97FF",
           "#FECB52"
          ],
          "font": {
           "color": "#2a3f5f"
          },
          "geo": {
           "bgcolor": "white",
           "lakecolor": "white",
           "landcolor": "#E5ECF6",
           "showlakes": true,
           "showland": true,
           "subunitcolor": "white"
          },
          "hoverlabel": {
           "align": "left"
          },
          "hovermode": "closest",
          "mapbox": {
           "style": "light"
          },
          "paper_bgcolor": "white",
          "plot_bgcolor": "#E5ECF6",
          "polar": {
           "angularaxis": {
            "gridcolor": "white",
            "linecolor": "white",
            "ticks": ""
           },
           "bgcolor": "#E5ECF6",
           "radialaxis": {
            "gridcolor": "white",
            "linecolor": "white",
            "ticks": ""
           }
          },
          "scene": {
           "xaxis": {
            "backgroundcolor": "#E5ECF6",
            "gridcolor": "white",
            "gridwidth": 2,
            "linecolor": "white",
            "showbackground": true,
            "ticks": "",
            "zerolinecolor": "white"
           },
           "yaxis": {
            "backgroundcolor": "#E5ECF6",
            "gridcolor": "white",
            "gridwidth": 2,
            "linecolor": "white",
            "showbackground": true,
            "ticks": "",
            "zerolinecolor": "white"
           },
           "zaxis": {
            "backgroundcolor": "#E5ECF6",
            "gridcolor": "white",
            "gridwidth": 2,
            "linecolor": "white",
            "showbackground": true,
            "ticks": "",
            "zerolinecolor": "white"
           }
          },
          "shapedefaults": {
           "line": {
            "color": "#2a3f5f"
           }
          },
          "ternary": {
           "aaxis": {
            "gridcolor": "white",
            "linecolor": "white",
            "ticks": ""
           },
           "baxis": {
            "gridcolor": "white",
            "linecolor": "white",
            "ticks": ""
           },
           "bgcolor": "#E5ECF6",
           "caxis": {
            "gridcolor": "white",
            "linecolor": "white",
            "ticks": ""
           }
          },
          "title": {
           "x": 0.05
          },
          "xaxis": {
           "automargin": true,
           "gridcolor": "white",
           "linecolor": "white",
           "ticks": "",
           "title": {
            "standoff": 15
           },
           "zerolinecolor": "white",
           "zerolinewidth": 2
          },
          "yaxis": {
           "automargin": true,
           "gridcolor": "white",
           "linecolor": "white",
           "ticks": "",
           "title": {
            "standoff": 15
           },
           "zerolinecolor": "white",
           "zerolinewidth": 2
          }
         }
        },
        "title": {
         "text": "ROC Curve (AUC=0.8846)"
        },
        "width": 700,
        "xaxis": {
         "anchor": "y",
         "constrain": "domain",
         "domain": [
          0,
          1
         ],
         "title": {
          "text": "Average False Positive Rate"
         }
        },
        "yaxis": {
         "anchor": "x",
         "domain": [
          0,
          1
         ],
         "scaleanchor": "x",
         "scaleratio": 1,
         "title": {
          "text": "Average True Positive Rate"
         }
        }
       }
      }
     },
     "metadata": {},
     "output_type": "display_data"
    },
    {
     "data": {
      "application/vnd.plotly.v1+json": {
       "config": {
        "plotlyServerURL": "https://plot.ly"
       },
       "data": [
        {
         "hovertemplate": "K-Fold=%{x}<br>AUC Score=%{y}<extra></extra>",
         "legendgroup": "",
         "marker": {
          "color": "#636efa",
          "symbol": "circle"
         },
         "mode": "markers",
         "name": "",
         "orientation": "v",
         "showlegend": false,
         "type": "scatter",
         "x": [
          1,
          2,
          3,
          4,
          5,
          6,
          7,
          8,
          9,
          10
         ],
         "xaxis": "x",
         "y": [
          0.8757507748638969,
          0.8816325137708972,
          0.8841076619184505,
          0.8926612760763784,
          0.8850450131610962,
          0.8805932053508263,
          0.8897437134220851,
          0.880350022509486,
          0.888199200913242,
          0.8878987394687762
         ],
         "yaxis": "y"
        },
        {
         "hovertemplate": "<b>OLS trendline</b><br>y = 0.000747308 * x + 0.880488<br>R<sup>2</sup>=0.194445<br><br>K-Fold=%{x}<br>AUC Score=%{y} <b>(trend)</b><extra></extra>",
         "legendgroup": "",
         "marker": {
          "color": "#636efa",
          "symbol": "circle"
         },
         "mode": "lines",
         "name": "",
         "showlegend": false,
         "type": "scatter",
         "x": [
          1,
          2,
          3,
          4,
          5,
          6,
          7,
          8,
          9,
          10
         ],
         "xaxis": "x",
         "y": [
          0.8812353267285398,
          0.8819826345989783,
          0.8827299424694169,
          0.8834772503398555,
          0.884224558210294,
          0.8849718660807326,
          0.8857191739511712,
          0.8864664818216097,
          0.8872137896920482,
          0.8879610975624868
         ],
         "yaxis": "y"
        }
       ],
       "layout": {
        "legend": {
         "tracegroupgap": 0
        },
        "template": {
         "data": {
          "bar": [
           {
            "error_x": {
             "color": "#2a3f5f"
            },
            "error_y": {
             "color": "#2a3f5f"
            },
            "marker": {
             "line": {
              "color": "#E5ECF6",
              "width": 0.5
             },
             "pattern": {
              "fillmode": "overlay",
              "size": 10,
              "solidity": 0.2
             }
            },
            "type": "bar"
           }
          ],
          "barpolar": [
           {
            "marker": {
             "line": {
              "color": "#E5ECF6",
              "width": 0.5
             },
             "pattern": {
              "fillmode": "overlay",
              "size": 10,
              "solidity": 0.2
             }
            },
            "type": "barpolar"
           }
          ],
          "carpet": [
           {
            "aaxis": {
             "endlinecolor": "#2a3f5f",
             "gridcolor": "white",
             "linecolor": "white",
             "minorgridcolor": "white",
             "startlinecolor": "#2a3f5f"
            },
            "baxis": {
             "endlinecolor": "#2a3f5f",
             "gridcolor": "white",
             "linecolor": "white",
             "minorgridcolor": "white",
             "startlinecolor": "#2a3f5f"
            },
            "type": "carpet"
           }
          ],
          "choropleth": [
           {
            "colorbar": {
             "outlinewidth": 0,
             "ticks": ""
            },
            "type": "choropleth"
           }
          ],
          "contour": [
           {
            "colorbar": {
             "outlinewidth": 0,
             "ticks": ""
            },
            "colorscale": [
             [
              0,
              "#0d0887"
             ],
             [
              0.1111111111111111,
              "#46039f"
             ],
             [
              0.2222222222222222,
              "#7201a8"
             ],
             [
              0.3333333333333333,
              "#9c179e"
             ],
             [
              0.4444444444444444,
              "#bd3786"
             ],
             [
              0.5555555555555556,
              "#d8576b"
             ],
             [
              0.6666666666666666,
              "#ed7953"
             ],
             [
              0.7777777777777778,
              "#fb9f3a"
             ],
             [
              0.8888888888888888,
              "#fdca26"
             ],
             [
              1,
              "#f0f921"
             ]
            ],
            "type": "contour"
           }
          ],
          "contourcarpet": [
           {
            "colorbar": {
             "outlinewidth": 0,
             "ticks": ""
            },
            "type": "contourcarpet"
           }
          ],
          "heatmap": [
           {
            "colorbar": {
             "outlinewidth": 0,
             "ticks": ""
            },
            "colorscale": [
             [
              0,
              "#0d0887"
             ],
             [
              0.1111111111111111,
              "#46039f"
             ],
             [
              0.2222222222222222,
              "#7201a8"
             ],
             [
              0.3333333333333333,
              "#9c179e"
             ],
             [
              0.4444444444444444,
              "#bd3786"
             ],
             [
              0.5555555555555556,
              "#d8576b"
             ],
             [
              0.6666666666666666,
              "#ed7953"
             ],
             [
              0.7777777777777778,
              "#fb9f3a"
             ],
             [
              0.8888888888888888,
              "#fdca26"
             ],
             [
              1,
              "#f0f921"
             ]
            ],
            "type": "heatmap"
           }
          ],
          "heatmapgl": [
           {
            "colorbar": {
             "outlinewidth": 0,
             "ticks": ""
            },
            "colorscale": [
             [
              0,
              "#0d0887"
             ],
             [
              0.1111111111111111,
              "#46039f"
             ],
             [
              0.2222222222222222,
              "#7201a8"
             ],
             [
              0.3333333333333333,
              "#9c179e"
             ],
             [
              0.4444444444444444,
              "#bd3786"
             ],
             [
              0.5555555555555556,
              "#d8576b"
             ],
             [
              0.6666666666666666,
              "#ed7953"
             ],
             [
              0.7777777777777778,
              "#fb9f3a"
             ],
             [
              0.8888888888888888,
              "#fdca26"
             ],
             [
              1,
              "#f0f921"
             ]
            ],
            "type": "heatmapgl"
           }
          ],
          "histogram": [
           {
            "marker": {
             "pattern": {
              "fillmode": "overlay",
              "size": 10,
              "solidity": 0.2
             }
            },
            "type": "histogram"
           }
          ],
          "histogram2d": [
           {
            "colorbar": {
             "outlinewidth": 0,
             "ticks": ""
            },
            "colorscale": [
             [
              0,
              "#0d0887"
             ],
             [
              0.1111111111111111,
              "#46039f"
             ],
             [
              0.2222222222222222,
              "#7201a8"
             ],
             [
              0.3333333333333333,
              "#9c179e"
             ],
             [
              0.4444444444444444,
              "#bd3786"
             ],
             [
              0.5555555555555556,
              "#d8576b"
             ],
             [
              0.6666666666666666,
              "#ed7953"
             ],
             [
              0.7777777777777778,
              "#fb9f3a"
             ],
             [
              0.8888888888888888,
              "#fdca26"
             ],
             [
              1,
              "#f0f921"
             ]
            ],
            "type": "histogram2d"
           }
          ],
          "histogram2dcontour": [
           {
            "colorbar": {
             "outlinewidth": 0,
             "ticks": ""
            },
            "colorscale": [
             [
              0,
              "#0d0887"
             ],
             [
              0.1111111111111111,
              "#46039f"
             ],
             [
              0.2222222222222222,
              "#7201a8"
             ],
             [
              0.3333333333333333,
              "#9c179e"
             ],
             [
              0.4444444444444444,
              "#bd3786"
             ],
             [
              0.5555555555555556,
              "#d8576b"
             ],
             [
              0.6666666666666666,
              "#ed7953"
             ],
             [
              0.7777777777777778,
              "#fb9f3a"
             ],
             [
              0.8888888888888888,
              "#fdca26"
             ],
             [
              1,
              "#f0f921"
             ]
            ],
            "type": "histogram2dcontour"
           }
          ],
          "mesh3d": [
           {
            "colorbar": {
             "outlinewidth": 0,
             "ticks": ""
            },
            "type": "mesh3d"
           }
          ],
          "parcoords": [
           {
            "line": {
             "colorbar": {
              "outlinewidth": 0,
              "ticks": ""
             }
            },
            "type": "parcoords"
           }
          ],
          "pie": [
           {
            "automargin": true,
            "type": "pie"
           }
          ],
          "scatter": [
           {
            "fillpattern": {
             "fillmode": "overlay",
             "size": 10,
             "solidity": 0.2
            },
            "type": "scatter"
           }
          ],
          "scatter3d": [
           {
            "line": {
             "colorbar": {
              "outlinewidth": 0,
              "ticks": ""
             }
            },
            "marker": {
             "colorbar": {
              "outlinewidth": 0,
              "ticks": ""
             }
            },
            "type": "scatter3d"
           }
          ],
          "scattercarpet": [
           {
            "marker": {
             "colorbar": {
              "outlinewidth": 0,
              "ticks": ""
             }
            },
            "type": "scattercarpet"
           }
          ],
          "scattergeo": [
           {
            "marker": {
             "colorbar": {
              "outlinewidth": 0,
              "ticks": ""
             }
            },
            "type": "scattergeo"
           }
          ],
          "scattergl": [
           {
            "marker": {
             "colorbar": {
              "outlinewidth": 0,
              "ticks": ""
             }
            },
            "type": "scattergl"
           }
          ],
          "scattermapbox": [
           {
            "marker": {
             "colorbar": {
              "outlinewidth": 0,
              "ticks": ""
             }
            },
            "type": "scattermapbox"
           }
          ],
          "scatterpolar": [
           {
            "marker": {
             "colorbar": {
              "outlinewidth": 0,
              "ticks": ""
             }
            },
            "type": "scatterpolar"
           }
          ],
          "scatterpolargl": [
           {
            "marker": {
             "colorbar": {
              "outlinewidth": 0,
              "ticks": ""
             }
            },
            "type": "scatterpolargl"
           }
          ],
          "scatterternary": [
           {
            "marker": {
             "colorbar": {
              "outlinewidth": 0,
              "ticks": ""
             }
            },
            "type": "scatterternary"
           }
          ],
          "surface": [
           {
            "colorbar": {
             "outlinewidth": 0,
             "ticks": ""
            },
            "colorscale": [
             [
              0,
              "#0d0887"
             ],
             [
              0.1111111111111111,
              "#46039f"
             ],
             [
              0.2222222222222222,
              "#7201a8"
             ],
             [
              0.3333333333333333,
              "#9c179e"
             ],
             [
              0.4444444444444444,
              "#bd3786"
             ],
             [
              0.5555555555555556,
              "#d8576b"
             ],
             [
              0.6666666666666666,
              "#ed7953"
             ],
             [
              0.7777777777777778,
              "#fb9f3a"
             ],
             [
              0.8888888888888888,
              "#fdca26"
             ],
             [
              1,
              "#f0f921"
             ]
            ],
            "type": "surface"
           }
          ],
          "table": [
           {
            "cells": {
             "fill": {
              "color": "#EBF0F8"
             },
             "line": {
              "color": "white"
             }
            },
            "header": {
             "fill": {
              "color": "#C8D4E3"
             },
             "line": {
              "color": "white"
             }
            },
            "type": "table"
           }
          ]
         },
         "layout": {
          "annotationdefaults": {
           "arrowcolor": "#2a3f5f",
           "arrowhead": 0,
           "arrowwidth": 1
          },
          "autotypenumbers": "strict",
          "coloraxis": {
           "colorbar": {
            "outlinewidth": 0,
            "ticks": ""
           }
          },
          "colorscale": {
           "diverging": [
            [
             0,
             "#8e0152"
            ],
            [
             0.1,
             "#c51b7d"
            ],
            [
             0.2,
             "#de77ae"
            ],
            [
             0.3,
             "#f1b6da"
            ],
            [
             0.4,
             "#fde0ef"
            ],
            [
             0.5,
             "#f7f7f7"
            ],
            [
             0.6,
             "#e6f5d0"
            ],
            [
             0.7,
             "#b8e186"
            ],
            [
             0.8,
             "#7fbc41"
            ],
            [
             0.9,
             "#4d9221"
            ],
            [
             1,
             "#276419"
            ]
           ],
           "sequential": [
            [
             0,
             "#0d0887"
            ],
            [
             0.1111111111111111,
             "#46039f"
            ],
            [
             0.2222222222222222,
             "#7201a8"
            ],
            [
             0.3333333333333333,
             "#9c179e"
            ],
            [
             0.4444444444444444,
             "#bd3786"
            ],
            [
             0.5555555555555556,
             "#d8576b"
            ],
            [
             0.6666666666666666,
             "#ed7953"
            ],
            [
             0.7777777777777778,
             "#fb9f3a"
            ],
            [
             0.8888888888888888,
             "#fdca26"
            ],
            [
             1,
             "#f0f921"
            ]
           ],
           "sequentialminus": [
            [
             0,
             "#0d0887"
            ],
            [
             0.1111111111111111,
             "#46039f"
            ],
            [
             0.2222222222222222,
             "#7201a8"
            ],
            [
             0.3333333333333333,
             "#9c179e"
            ],
            [
             0.4444444444444444,
             "#bd3786"
            ],
            [
             0.5555555555555556,
             "#d8576b"
            ],
            [
             0.6666666666666666,
             "#ed7953"
            ],
            [
             0.7777777777777778,
             "#fb9f3a"
            ],
            [
             0.8888888888888888,
             "#fdca26"
            ],
            [
             1,
             "#f0f921"
            ]
           ]
          },
          "colorway": [
           "#636efa",
           "#EF553B",
           "#00cc96",
           "#ab63fa",
           "#FFA15A",
           "#19d3f3",
           "#FF6692",
           "#B6E880",
           "#FF97FF",
           "#FECB52"
          ],
          "font": {
           "color": "#2a3f5f"
          },
          "geo": {
           "bgcolor": "white",
           "lakecolor": "white",
           "landcolor": "#E5ECF6",
           "showlakes": true,
           "showland": true,
           "subunitcolor": "white"
          },
          "hoverlabel": {
           "align": "left"
          },
          "hovermode": "closest",
          "mapbox": {
           "style": "light"
          },
          "paper_bgcolor": "white",
          "plot_bgcolor": "#E5ECF6",
          "polar": {
           "angularaxis": {
            "gridcolor": "white",
            "linecolor": "white",
            "ticks": ""
           },
           "bgcolor": "#E5ECF6",
           "radialaxis": {
            "gridcolor": "white",
            "linecolor": "white",
            "ticks": ""
           }
          },
          "scene": {
           "xaxis": {
            "backgroundcolor": "#E5ECF6",
            "gridcolor": "white",
            "gridwidth": 2,
            "linecolor": "white",
            "showbackground": true,
            "ticks": "",
            "zerolinecolor": "white"
           },
           "yaxis": {
            "backgroundcolor": "#E5ECF6",
            "gridcolor": "white",
            "gridwidth": 2,
            "linecolor": "white",
            "showbackground": true,
            "ticks": "",
            "zerolinecolor": "white"
           },
           "zaxis": {
            "backgroundcolor": "#E5ECF6",
            "gridcolor": "white",
            "gridwidth": 2,
            "linecolor": "white",
            "showbackground": true,
            "ticks": "",
            "zerolinecolor": "white"
           }
          },
          "shapedefaults": {
           "line": {
            "color": "#2a3f5f"
           }
          },
          "ternary": {
           "aaxis": {
            "gridcolor": "white",
            "linecolor": "white",
            "ticks": ""
           },
           "baxis": {
            "gridcolor": "white",
            "linecolor": "white",
            "ticks": ""
           },
           "bgcolor": "#E5ECF6",
           "caxis": {
            "gridcolor": "white",
            "linecolor": "white",
            "ticks": ""
           }
          },
          "title": {
           "x": 0.05
          },
          "xaxis": {
           "automargin": true,
           "gridcolor": "white",
           "linecolor": "white",
           "ticks": "",
           "title": {
            "standoff": 15
           },
           "zerolinecolor": "white",
           "zerolinewidth": 2
          },
          "yaxis": {
           "automargin": true,
           "gridcolor": "white",
           "linecolor": "white",
           "ticks": "",
           "title": {
            "standoff": 15
           },
           "zerolinecolor": "white",
           "zerolinewidth": 2
          }
         }
        },
        "title": {
         "text": "AUC Values for the each K-Fold"
        },
        "xaxis": {
         "anchor": "y",
         "domain": [
          0,
          1
         ],
         "title": {
          "text": "K-Fold"
         }
        },
        "yaxis": {
         "anchor": "x",
         "domain": [
          0,
          1
         ],
         "title": {
          "text": "AUC Score"
         }
        }
       }
      }
     },
     "metadata": {},
     "output_type": "display_data"
    }
   ],
   "source": [
    "X1 = df['Cleaned Text with V lemmatization'] # features\n",
    "y = df['Label']\n",
    "\n",
    "vectorizer = CountVectorizer()\n",
    "X1_counts = vectorizer.fit_transform(X1)\n",
    "\n",
    "# Creating a TfidfTransformer instance\n",
    "transformer = TfidfTransformer()\n",
    "X1_tfidf = transformer.fit_transform(X1_counts)\n",
    "\n",
    "# Convert the result to a DataFrame\n",
    "feature_names = vectorizer.get_feature_names_out()\n",
    "X1_tfidf_df = pd.DataFrame(X1_tfidf.toarray(), columns=feature_names)\n",
    "\n",
    "perform_kfold_cross_validation_with_lstm(X1_tfidf_df.to_numpy(), y)"
   ]
  },
  {
   "cell_type": "markdown",
   "metadata": {
    "cell_id": "f81e5a2122f24f28a053964dfd2dfeba",
    "deepnote_cell_type": "text-cell-h3",
    "formattedRanges": []
   },
   "source": [
    "### Model 1: Use GloVe Embedding (Version 1)"
   ]
  },
  {
   "cell_type": "markdown",
   "metadata": {
    "cell_id": "5068ed8411be4090973522186b9b5a03",
    "deepnote_cell_type": "markdown"
   },
   "source": [
    "- **Column used: \"Cleaned Text with V lemmatization\"**\n",
    "- **Model: LSTM**\n",
    "- **Feature Extraction: GloVe Embedding**\n",
    "Description:\n",
    "\n",
    "GloVe is designed to capture the semantic relationships and meaning of words based on their co-occurrence statistics in large text corpora. Its key advantage is its ability to capture word semantics and relationships through the distributional information in large text corpora. The resulting word vectors can be used as features in NLP \n",
    "\n",
    "**Approach: Average Word Embeddings with GloVe**\n",
    "\n",
    "Explanation:\n",
    "The approach calculates the average word embeddings for each text sequence. Each document is represented as an average of word vectors.\n",
    "\n",
    "Pros:\n",
    "Dimensionality reduction: The feature matrix has a lower dimensionality compared to direct document vectors.\n",
    "Simplicity: Averages can capture the overall meaning of the text while reducing the feature space.\n",
    "\n",
    "Cons:\n",
    "Loss of word order: Averaging word embeddings doesn't capture word order information, which might be important in some cases.\n",
    "May not capture all nuances: Averaging can simplify the representation and might not capture nuanced differences in text.\n",
    "\n",
    "\n",
    "\n",
    "**Feature Transformation: nil** \n",
    "\n",
    "Explanation:\n",
    "There isn't a for need additional feature transformation steps like TF-IDF, PCA, or LDA because the word embeddings themselves already capture a dense, distributed representation of words. GloVe word embeddings inherently contain semantic and contextual information.\n",
    "\n",
    "In the case of GloVe embeddings, each word is represented as a high-dimensional vector, and these vectors capture relationships between words based on their co-occurrence statistics in the training corpus. This means that words with similar meanings or contexts will have similar vector representations.\n",
    "\n",
    "Therefore, we can directly use GloVe word embeddings as features for your text classification model without the need for feature transformation steps\n",
    "\n",
    "**Pre-Trained GloVe Embedding Model**\n",
    "\n",
    "The pre-trained GLoVe embedding we used was trained on twitter datasets. We decided that this would be most appropriate as our project is involving social media posts and comments.\n",
    "\n",
    "Link to GloVe Embeddings: https://nlp.stanford.edu/projects/glove/\n"
   ]
  },
  {
   "cell_type": "markdown",
   "metadata": {},
   "source": [
    "#### Version 1\n",
    "In this version, we experimented calculating the average word embeddings for each text sequence. Each document is represented as an average of word vectors. We decided to explore how well the individual words can help us to predict whether a post will be classified as stressed.\n"
   ]
  },
  {
   "cell_type": "code",
   "execution_count": 16,
   "metadata": {
    "cell_id": "9987cf07b3ee4c7aaa9ceda1b9abd3c5",
    "deepnote_cell_type": "code",
    "deepnote_to_be_reexecuted": false,
    "execution_millis": 30156,
    "execution_start": 1698731724253,
    "source_hash": null
   },
   "outputs": [],
   "source": [
    "# Tokenize the text and pad sequences\n",
    "texts = df['Cleaned Text with V lemmatization']\n",
    "tokenizer = Tokenizer()\n",
    "tokenizer.fit_on_texts(texts)\n",
    "sequences = tokenizer.texts_to_sequences(texts)\n",
    "maxLen = 150\n",
    "sequences = pad_sequences(sequences, maxlen=maxLen)\n",
    "\n",
    "# Create an embedding matrix\n",
    "vocab_len = len(tokenizer.word_index) + 1\n",
    "embed_vector_len = 100\n",
    "embedding_matrix = np.zeros((vocab_len, embed_vector_len))\n",
    "\n",
    "# Load GloVe embeddings\n",
    "glove_path = 'glove.twitter.27B.100d.txt' \n",
    "glove_index = {}\n",
    "with open(glove_path, encoding=\"utf-8\") as f:\n",
    "    for line in f:\n",
    "        values = line.split()\n",
    "        word = values[0]\n",
    "        vector = np.asarray(values[1:], dtype='float32')\n",
    "        glove_index[word] = vector\n",
    "\n",
    "# Create a feature matrix with average word embeddings using GloVe\n",
    "feature_matrix = np.array([\n",
    "    np.mean([glove_index.get(word, np.zeros(embed_vector_len)) for word in tokenizer.sequences_to_texts([seq])[0].split()], axis=0)\n",
    "    for seq in sequences\n",
    "])"
   ]
  },
  {
   "cell_type": "code",
   "execution_count": 17,
   "metadata": {
    "cell_id": "97ccbdb9a8e849d1a52061c7ea340280",
    "deepnote_cell_type": "code",
    "deepnote_to_be_reexecuted": false,
    "execution_millis": 8270,
    "execution_start": 1698577549228,
    "source_hash": null
   },
   "outputs": [
    {
     "name": "stdout",
     "output_type": "stream",
     "text": [
      "Epoch 1/5\n",
      "202/202 [==============================] - 2s 2ms/step - loss: 0.5235 - accuracy: 0.7354\n",
      "Epoch 2/5\n",
      "202/202 [==============================] - 0s 2ms/step - loss: 0.4514 - accuracy: 0.7909\n",
      "Epoch 3/5\n",
      "202/202 [==============================] - 0s 2ms/step - loss: 0.4394 - accuracy: 0.7982\n",
      "Epoch 4/5\n",
      "202/202 [==============================] - 0s 2ms/step - loss: 0.4331 - accuracy: 0.8010\n",
      "Epoch 5/5\n",
      "202/202 [==============================] - 0s 2ms/step - loss: 0.4282 - accuracy: 0.8037\n",
      "45/45 [==============================] - 0s 795us/step\n",
      "45/45 [==============================] - 0s 824us/step\n",
      "Epoch 1/5\n",
      "202/202 [==============================] - 2s 2ms/step - loss: 0.5291 - accuracy: 0.7313\n",
      "Epoch 2/5\n",
      "202/202 [==============================] - 0s 2ms/step - loss: 0.4545 - accuracy: 0.7902\n",
      "Epoch 3/5\n",
      "202/202 [==============================] - 0s 2ms/step - loss: 0.4418 - accuracy: 0.7965\n",
      "Epoch 4/5\n",
      "202/202 [==============================] - 0s 2ms/step - loss: 0.4369 - accuracy: 0.8006\n",
      "Epoch 5/5\n",
      "202/202 [==============================] - 0s 2ms/step - loss: 0.4299 - accuracy: 0.8028\n",
      "45/45 [==============================] - 0s 780us/step\n",
      "45/45 [==============================] - 0s 809us/step\n",
      "Epoch 1/5\n",
      "202/202 [==============================] - 2s 2ms/step - loss: 0.5241 - accuracy: 0.7364\n",
      "Epoch 2/5\n",
      "202/202 [==============================] - 0s 2ms/step - loss: 0.4522 - accuracy: 0.7901\n",
      "Epoch 3/5\n",
      "202/202 [==============================] - 0s 2ms/step - loss: 0.4422 - accuracy: 0.7991\n",
      "Epoch 4/5\n",
      "202/202 [==============================] - 0s 2ms/step - loss: 0.4347 - accuracy: 0.8008\n",
      "Epoch 5/5\n",
      "202/202 [==============================] - 0s 2ms/step - loss: 0.4311 - accuracy: 0.8030\n",
      "45/45 [==============================] - 0s 784us/step\n",
      "45/45 [==============================] - 0s 776us/step\n",
      "Epoch 1/5\n",
      "202/202 [==============================] - 2s 2ms/step - loss: 0.5263 - accuracy: 0.7348\n",
      "Epoch 2/5\n",
      "202/202 [==============================] - 0s 2ms/step - loss: 0.4534 - accuracy: 0.7898\n",
      "Epoch 3/5\n",
      "202/202 [==============================] - 0s 2ms/step - loss: 0.4424 - accuracy: 0.7990\n",
      "Epoch 4/5\n",
      "202/202 [==============================] - 0s 2ms/step - loss: 0.4346 - accuracy: 0.8003\n",
      "Epoch 5/5\n",
      "202/202 [==============================] - 0s 2ms/step - loss: 0.4305 - accuracy: 0.8044\n",
      "45/45 [==============================] - 0s 794us/step\n",
      "45/45 [==============================] - 0s 771us/step\n",
      "Epoch 1/5\n",
      "202/202 [==============================] - 2s 2ms/step - loss: 0.5269 - accuracy: 0.7375\n",
      "Epoch 2/5\n",
      "202/202 [==============================] - 0s 2ms/step - loss: 0.4504 - accuracy: 0.7908\n",
      "Epoch 3/5\n",
      "202/202 [==============================] - 0s 2ms/step - loss: 0.4384 - accuracy: 0.7970\n",
      "Epoch 4/5\n",
      "202/202 [==============================] - 0s 1ms/step - loss: 0.4333 - accuracy: 0.8018\n",
      "Epoch 5/5\n",
      "202/202 [==============================] - 0s 1ms/step - loss: 0.4272 - accuracy: 0.8048\n",
      "45/45 [==============================] - 0s 789us/step\n",
      "45/45 [==============================] - 0s 799us/step\n",
      "Epoch 1/5\n",
      "202/202 [==============================] - 1s 2ms/step - loss: 0.5268 - accuracy: 0.7337\n",
      "Epoch 2/5\n",
      "202/202 [==============================] - 0s 2ms/step - loss: 0.4533 - accuracy: 0.7888\n",
      "Epoch 3/5\n",
      "202/202 [==============================] - 0s 2ms/step - loss: 0.4408 - accuracy: 0.7994\n",
      "Epoch 4/5\n",
      "202/202 [==============================] - 0s 2ms/step - loss: 0.4345 - accuracy: 0.8016\n",
      "Epoch 5/5\n",
      "202/202 [==============================] - 0s 2ms/step - loss: 0.4285 - accuracy: 0.8023\n",
      "45/45 [==============================] - 0s 815us/step\n",
      "45/45 [==============================] - 0s 802us/step\n",
      "Epoch 1/5\n",
      "202/202 [==============================] - 1s 2ms/step - loss: 0.5251 - accuracy: 0.7342\n",
      "Epoch 2/5\n",
      "202/202 [==============================] - 0s 2ms/step - loss: 0.4546 - accuracy: 0.7888\n",
      "Epoch 3/5\n",
      "202/202 [==============================] - 0s 2ms/step - loss: 0.4438 - accuracy: 0.7970\n",
      "Epoch 4/5\n",
      "202/202 [==============================] - 0s 2ms/step - loss: 0.4367 - accuracy: 0.8007\n",
      "Epoch 5/5\n",
      "202/202 [==============================] - 0s 2ms/step - loss: 0.4323 - accuracy: 0.8028\n",
      "45/45 [==============================] - 0s 820us/step\n",
      "45/45 [==============================] - 0s 793us/step\n",
      "Epoch 1/5\n",
      "202/202 [==============================] - 1s 2ms/step - loss: 0.5314 - accuracy: 0.7329\n",
      "Epoch 2/5\n",
      "202/202 [==============================] - 0s 2ms/step - loss: 0.4534 - accuracy: 0.7888\n",
      "Epoch 3/5\n",
      "202/202 [==============================] - 0s 2ms/step - loss: 0.4414 - accuracy: 0.7952\n",
      "Epoch 4/5\n",
      "202/202 [==============================] - 0s 2ms/step - loss: 0.4360 - accuracy: 0.7980\n",
      "Epoch 5/5\n",
      "202/202 [==============================] - 0s 1ms/step - loss: 0.4304 - accuracy: 0.8027\n",
      "45/45 [==============================] - 0s 819us/step\n",
      "45/45 [==============================] - 0s 825us/step\n",
      "Epoch 1/5\n",
      "202/202 [==============================] - 1s 2ms/step - loss: 0.5357 - accuracy: 0.7263\n",
      "Epoch 2/5\n",
      "202/202 [==============================] - 0s 1ms/step - loss: 0.4551 - accuracy: 0.7882\n",
      "Epoch 3/5\n",
      "202/202 [==============================] - 0s 2ms/step - loss: 0.4428 - accuracy: 0.7966\n",
      "Epoch 4/5\n",
      "202/202 [==============================] - 0s 1ms/step - loss: 0.4357 - accuracy: 0.8011\n",
      "Epoch 5/5\n",
      "202/202 [==============================] - 0s 1ms/step - loss: 0.4310 - accuracy: 0.8013\n",
      "45/45 [==============================] - 0s 831us/step\n",
      "45/45 [==============================] - 0s 842us/step\n",
      "Epoch 1/5\n",
      "202/202 [==============================] - 1s 2ms/step - loss: 0.5230 - accuracy: 0.7369\n",
      "Epoch 2/5\n",
      "202/202 [==============================] - 0s 1ms/step - loss: 0.4528 - accuracy: 0.7881\n",
      "Epoch 3/5\n",
      "202/202 [==============================] - 0s 2ms/step - loss: 0.4410 - accuracy: 0.7961\n",
      "Epoch 4/5\n",
      "202/202 [==============================] - 0s 2ms/step - loss: 0.4349 - accuracy: 0.7997\n",
      "Epoch 5/5\n",
      "202/202 [==============================] - 0s 2ms/step - loss: 0.4295 - accuracy: 0.8043\n",
      "45/45 [==============================] - 0s 803us/step\n",
      "45/45 [==============================] - 0s 784us/step\n",
      "The average accuracy is: 80.26%\n",
      "The average classification error is: 19.74%\n",
      "The average sensitivity is: 86.69%\n",
      "The average precision is: 81.31%\n",
      "The average specificity is: 70.88%\n",
      "The average f1 score is: 83.91%\n",
      "The average AUC Score is: 87.55%\n"
     ]
    },
    {
     "data": {
      "application/vnd.plotly.v1+json": {
       "config": {
        "plotlyServerURL": "https://plot.ly"
       },
       "data": [
        {
         "fillpattern": {
          "shape": ""
         },
         "hovertemplate": "Average False Positive Rate=%{x}<br>Average True Positive Rate=%{y}<extra></extra>",
         "legendgroup": "",
         "line": {
          "color": "#636efa"
         },
         "marker": {
          "symbol": "circle"
         },
         "mode": "lines",
         "name": "",
         "orientation": "v",
         "showlegend": false,
         "stackgroup": "1",
         "type": "scatter",
         "x": [
          0,
          0,
          0,
          0.001712622395241323,
          0.001712622395241323,
          0.003254059597668037,
          0.003254059597668037,
          0.0049666819929093595,
          0.0049666819929093595,
          0.006850783209083327,
          0.006850783209083327,
          0.008734884425257293,
          0.008734884425257293,
          0.010447506820498617,
          0.010447506820498617,
          0.012502618811113458,
          0.012502618811113458,
          0.014557611591983998,
          0.014557611591983998,
          0.01627023398722532,
          0.01627023398722532,
          0.017811671189652035,
          0.017982856382466644,
          0.019695597987452268,
          0.019866783180266877,
          0.021750709978067106,
          0.021921895170881715,
          0.02346333237330843,
          0.02346333237330843,
          0.025347552799226698,
          0.025518737992041306,
          0.02723147959702693,
          0.02740266478984154,
          0.029115287185082862,
          0.02928647237789747,
          0.030827909580324185,
          0.030827909580324185,
          0.032711836378124415,
          0.032883021570939024,
          0.034766829158994955,
          0.034938014351809564,
          0.036650755956795185,
          0.036821941149609794,
          0.03904811912329495,
          0.03939048950892417,
          0.04110340553228352,
          0.041445775917912736,
          0.04298721312033946,
          0.04315839831315406,
          0.04469983551558077,
          0.04504220590121,
          0.04658376231338101,
          0.04692613269901023,
          0.04846768911118124,
          0.04881005949681046,
          0.05018031150642256,
          0.05052268189205178,
          0.05206423830422279,
          0.05257779388266662,
          0.05429082911577028,
          0.05480438469421411,
          0.05634594110638512,
          0.056859496684828946,
          0.058572357499558865,
          0.058743542692373474,
          0.06062758869991801,
          0.060969959085547226,
          0.06251139628797395,
          0.06285376667360315,
          0.06405253986228263,
          0.06473786788977712,
          0.06610794548101549,
          0.06662179468757735,
          0.06816317668137464,
          0.06919058146638032,
          0.07056053984787439,
          0.07124557424725086,
          0.07295802222411846,
          0.07347187143068032,
          0.07467064461935978,
          0.07518449382592164,
          0.0767258758197189,
          0.07792534668189333,
          0.07929542427313169,
          0.07998045867250816,
          0.08117923186118761,
          0.08169308106774947,
          0.08306315865898785,
          0.08357700786554971,
          0.08494708545678809,
          0.08563211985616453,
          0.08820073221659377,
          0.08871458142315564,
          0.09008465901439403,
          0.09059850822095589,
          0.09179728140963535,
          0.09248231580901181,
          0.09385227419050587,
          0.0945376022180004,
          0.09590767980923876,
          0.09659271420861523,
          0.09796279179985361,
          0.09864782619923007,
          0.10001790379046843,
          0.1008741233826595,
          0.10275799497183033,
          0.10327184417839218,
          0.10447061736707164,
          0.10515565176644809,
          0.10652561014794218,
          0.10755301493294786,
          0.10892309252418625,
          0.1096081269235627,
          0.11114927049787138,
          0.11166311970443324,
          0.11337568689104513,
          0.11457457049698347,
          0.11645832287640998,
          0.11765808736670241,
          0.11919935015075536,
          0.11971319935731725,
          0.12091197254599671,
          0.12159700694537318,
          0.12296708453661157,
          0.1234809337431734,
          0.12485101133441177,
          0.1258787097475355,
          0.1275913961438917,
          0.12844761573608277,
          0.1296463889247622,
          0.1301602381313241,
          0.13170150091537708,
          0.1322153501219389,
          0.133585308503433,
          0.13409915770999487,
          0.13564042049404784,
          0.13666782527905352,
          0.13820908806310653,
          0.13889412246248295,
          0.1414629732424008,
          0.1421483012698953,
          0.14420347726162502,
          0.14471732646818686,
          0.14608740405942527,
          0.14677243845880172,
          0.1483135820331104,
          0.14882743123967226,
          0.15053987921653983,
          0.1515678712577816,
          0.1536231664592556,
          0.15482175643707588,
          0.1567056280262467,
          0.15807569682499964,
          0.1594456552064937,
          0.16013068960587018,
          0.16201456119504098,
          0.16304196598004667,
          0.16475429474716993,
          0.1657816995321756,
          0.168863986680793,
          0.16972079352922015,
          0.1714332415060877,
          0.17211856953358223,
          0.17348864712482062,
          0.17400249633138248,
          0.1758864871302976,
          0.17708507710811788,
          0.17862622068242653,
          0.1794824402746176,
          0.18136619265404413,
          0.1822229995024713,
          0.1849632738946923,
          0.1854771231012542,
          0.1880454970421948,
          0.18873053144157126,
          0.19078570743330098,
          0.19147074183267745,
          0.19335449421210393,
          0.19421071380429503,
          0.19592328099090692,
          0.19677979421121602,
          0.19832093778552468,
          0.19951952776334503,
          0.20174588894788933,
          0.2022597381544512,
          0.20448621854873983,
          0.20568539578279615,
          0.20756938658171123,
          0.20808323578827312,
          0.21030971618256175,
          0.21150830616038205,
          0.21356324373262314,
          0.2145915294019829,
          0.21630421579833908,
          0.21767428459709204,
          0.22007206939393958,
          0.22092887624236676,
          0.222470258236164,
          0.22503862338461922,
          0.2264085817661133,
          0.22726568224265847,
          0.2305195122133233,
          0.2308621762270706,
          0.23360256982903596,
          0.23428760422841238,
          0.23719882539395942,
          0.2375414894077067,
          0.24010998255839164,
          0.24079531058588616,
          0.24370629333194457,
          0.24439162135943912,
          0.24713201496140444,
          0.24764586416796633,
          0.24952961654739275,
          0.2509002726023818,
          0.2524414161766905,
          0.25278408019043774,
          0.25518150735805234,
          0.2555241713717996,
          0.2572365001389229,
          0.2579218281664174,
          0.26031937454377635,
          0.26083322375033813,
          0.26408764976972454,
          0.26477268416910105,
          0.2678553289469513,
          0.2683691781535132,
          0.27042435414524285,
          0.2712808673655519,
          0.27350746696958483,
          0.2747060569474052,
          0.27710324569553124,
          0.27830242292958757,
          0.2806996116777135,
          0.28138464607709,
          0.2839533776472636,
          0.2848098908675727,
          0.28652245805418464,
          0.28789282048105563,
          0.290803803227114,
          0.29148883762649047,
          0.2942293504382001,
          0.2949143848375766,
          0.2979964335667053,
          0.2985102827732672,
          0.30090794836037044,
          0.30193564677349416,
          0.3046755635364823,
          0.30655948154179713,
          0.30929987514376245,
          0.31066965031439736,
          0.31323873951380377,
          0.31426643792692754,
          0.31666410351403074,
          0.3182059447618344,
          0.3219735687304317,
          0.3228297883226227,
          0.3248849643143524,
          0.32659799075497065,
          0.32933802672770307,
          0.3310501722839672,
          0.33413305548130606,
          0.335502830651941,
          0.3373864638216232,
          0.33841386860662886,
          0.3413255666111531,
          0.3435518550020971,
          0.3461209442015036,
          0.3473195341793239,
          0.3498882657494974,
          0.35125833454825034,
          0.352628531349233,
          0.3543406769054971,
          0.3572523749100213,
          0.35930894624874093,
          0.36170673104558854,
          0.3629053210234088,
          0.3659884426402362,
          0.3677005881965003,
          0.3711254841502355,
          0.37318000009212887,
          0.3757492085012796,
          0.37694779847909987,
          0.38071494560871993,
          0.3844854242724119,
          0.387054394262074,
          0.3897936509752258,
          0.39236285938437654,
          0.3937326345550115,
          0.3952741357585531,
          0.39630183417167675,
          0.4000692197207854,
          0.4026375848692406,
          0.4040077816702232,
          0.405035480083347,
          0.4070902984458438,
          0.4086324333217655,
          0.41103009890886877,
          0.4134269852363913,
          0.4185658788936699,
          0.4204509714114568,
          0.42387598657493647,
          0.42747205013651535,
          0.4310689657512751,
          0.43380910334878103,
          0.43654902011176916,
          0.4406583456236739,
          0.44305624963026574,
          0.44476868881464793,
          0.44750896320686895,
          0.4504223413940157,
          0.454533051006708,
          0.45795969114418056,
          0.4618988579348253,
          0.4632689267335783,
          0.46652311433347604,
          0.46755081274659976,
          0.4690923139501414,
          0.47286044358888896,
          0.47525846680522504,
          0.4764576440392814,
          0.47954088486585317,
          0.4821092500143084,
          0.4877620568792638,
          0.48981716007739323,
          0.49701087209716865,
          0.498209462074989,
          0.500093452873904,
          0.501463228044539,
          0.5060872548161865,
          0.5077999876286866,
          0.5119093859341917,
          0.5143074467741864,
          0.517904243179202,
          0.5194454971707695,
          0.5238972658619038,
          0.525609705046286,
          0.5338313626911592,
          0.5369129897899401,
          0.5410235801928881,
          0.5451331993329108,
          0.5478733545153875,
          0.5511270476913372,
          0.55472348646712,
          0.5584898543371595,
          0.5617436843078244,
          0.5658530098197291,
          0.5709915458477748,
          0.5740734665746737,
          0.5795519887934628,
          0.5829780416746994,
          0.5860611632915268,
          0.5872597532693471,
          0.5927403020537891,
          0.5947951116238005,
          0.6001050712641495,
          0.6025022512197901,
          0.6076401911991144,
          0.6127769214960248,
          0.620142295547592,
          0.6220256262966707,
          0.628706021157491,
          0.63178794188439,
          0.6389799849677453,
          0.6418910141299478,
          0.6478858337512994,
          0.6494270877428668,
          0.6538790948534897,
          0.6574751584150687,
          0.6648394595789372,
          0.6679216739339544,
          0.6732317527840477,
          0.6790538111084525,
          0.6874451042194645,
          0.692067691681695,
          0.7013163412737116,
          0.7055965583503128,
          0.718442004347345,
          0.7234078430795589,
          0.7326568503008083,
          0.7386492129336737,
          0.7545782573865106,
          0.7670771254869213,
          0.7785533283609252,
          0.7854086640326965,
          0.8056172190961541,
          0.8100697958780422,
          0.8167493562706523,
          0.730062030403986,
          0.7550578103790379,
          0.6636463855566268,
          0.6761512493141943,
          0.5821050707619555,
          0.4845305837453271,
          0.502521178537353,
          0.5080018465315393,
          0.5114261376440676,
          0.5218720106980876,
          0.5314633731737124,
          0.4460506642705565,
          0.44776457159552885,
          0.4513617256297773,
          0.3602230527023245,
          0.3626213143381492,
          0.36947283284438603,
          0.2732693770969505,
          0.28817394036842486,
          0.18871570097237003,
          0.19076992328614534,
          0.09072815219174267,
          0.09997215260373155
         ],
         "xaxis": "x",
         "y": [
          0,
          0.0011730207397847676,
          0.046452235063499936,
          0.046452235063499936,
          0.10604128263345532,
          0.10627595904801806,
          0.14333960789862443,
          0.14333960789862443,
          0.1574150360174541,
          0.1574150360174541,
          0.18697556926922837,
          0.18697556926922837,
          0.20457267783497016,
          0.20457267783497016,
          0.22826765256034934,
          0.22826765256034934,
          0.24996965683856615,
          0.24996965683856615,
          0.26627440628925525,
          0.26627440628925525,
          0.2788270348664179,
          0.2790617112809807,
          0.2913784024181317,
          0.29231710807638267,
          0.3090934553723339,
          0.31108820489611727,
          0.32058942930469786,
          0.320941443926542,
          0.33301924565161833,
          0.3351313333826831,
          0.34416341494145924,
          0.3452194588069916,
          0.3515540015491784,
          0.3519060161710225,
          0.3587087296507181,
          0.3619941994545966,
          0.36809397496999585,
          0.37079275373746756,
          0.37970790708508223,
          0.38017725991420775,
          0.3906170267489392,
          0.3924944380654412,
          0.4009397048226268,
          0.4012917194444709,
          0.4106754305352777,
          0.4117314744008101,
          0.4229921657374323,
          0.4238135331884019,
          0.43202500942918265,
          0.43272903867287094,
          0.44223037496824313,
          0.44340375704105683,
          0.45161427764602186,
          0.45924126111931124,
          0.46569360609242527,
          0.4683923848598968,
          0.475079716235294,
          0.4771918039663588,
          0.4803589588525733,
          0.48094564988898014,
          0.4864581281867935,
          0.486927481015919,
          0.49161952910622925,
          0.49349694042273123,
          0.503701758406226,
          0.5058138461372907,
          0.5120307196099086,
          0.5127347488535969,
          0.5200067967700687,
          0.5215319183458349,
          0.5284529145565833,
          0.533379606108497,
          0.540652505054298,
          0.5428815183143066,
          0.5461665965144147,
          0.5494500029266058,
          0.5526172953722662,
          0.5551973603379983,
          0.5609462611740361,
          0.5644631059657779,
          0.5693900239734924,
          0.5732586082681864,
          0.5766605771284095,
          0.5777162083156044,
          0.5800623011404824,
          0.5829953436441794,
          0.5869839475974135,
          0.5879223781367728,
          0.5941399045377909,
          0.5961345165021283,
          0.5985980034776835,
          0.5998878984011038,
          0.6024684998103572,
          0.6061026828093803,
          0.60844888752105,
          0.6095045187082448,
          0.6138447456795525,
          0.6178339696082276,
          0.6205318532813665,
          0.6236984717240596,
          0.6272178906783556,
          0.6282736594249964,
          0.6339052220537529,
          0.6349609908003936,
          0.6378934390013036,
          0.6384799924782647,
          0.6400049975691521,
          0.6410602160780097,
          0.6471599007811842,
          0.6476291160508639,
          0.6507960728361494,
          0.6523207817335781,
          0.6547841568223418,
          0.6565439548126708,
          0.6594765149003725,
          0.6608831977932907,
          0.6636985875038985,
          0.6645195422765308,
          0.66815574000415,
          0.6688596316883925,
          0.6747246399770043,
          0.6755457323090823,
          0.6783610101328985,
          0.6791822400244224,
          0.6830531141666045,
          0.6839912695870722,
          0.6866894889205859,
          0.6882141978180146,
          0.6919679575264986,
          0.6926717116512953,
          0.6971292208864885,
          0.6985363164577443,
          0.701821450601248,
          0.7025253422854906,
          0.7067486785966831,
          0.707569908488207,
          0.7101507336710435,
          0.7115582419206367,
          0.7141390111600775,
          0.7149602410516012,
          0.7178930249128861,
          0.7184794408304014,
          0.7214122806350821,
          0.722819238646892,
          0.7253997841127496,
          0.7259863375897107,
          0.7288015035267351,
          0.7295052576515318,
          0.7318515183065972,
          0.7327899488459566,
          0.7357229005374288,
          0.7370134832580783,
          0.7381865856139128,
          0.7388904772981553,
          0.740884611444585,
          0.7418226293056069,
          0.7442862281679538,
          0.7453419969145944,
          0.7486267953977234,
          0.7501509540573691,
          0.7530834022582791,
          0.7534352793206774,
          0.7556640898816698,
          0.7561331675919036,
          0.7582447518324065,
          0.7594175836674368,
          0.7609425887583242,
          0.7618808817382378,
          0.7642267507895325,
          0.7648133042664936,
          0.7668074384129233,
          0.7679801326885078,
          0.7717342840007625,
          0.7723206999182777,
          0.7749012453841353,
          0.7757222001567674,
          0.7774818257188219,
          0.7779510409885014,
          0.7799452870217227,
          0.7807663793538007,
          0.7831124162352827,
          0.7844028613964864,
          0.7862796013922391,
          0.7869833555170356,
          0.7888602633429753,
          0.7897982812039972,
          0.792144206198688,
          0.7929651609713202,
          0.7951939715323125,
          0.7957803874498277,
          0.7976572952757676,
          0.798243711193283,
          0.799651322133493,
          0.8009409419380216,
          0.8018793678792937,
          0.8025831220040903,
          0.8050464411494581,
          0.8055156564191378,
          0.8076269609426614,
          0.8097373979603764,
          0.8123185028601919,
          0.81278744301098,
          0.8141952777247733,
          0.8152509089119682,
          0.817010646360814,
          0.8177139878072732,
          0.8206469394987456,
          0.8209988165611438,
          0.8226412158027084,
          0.8231102935129423,
          0.8254566101114034,
          0.8259255502621914,
          0.8285064873318196,
          0.8290929032493347,
          0.8305006820197322,
          0.8314388374402,
          0.834254171207412,
          0.8346059107103645,
          0.8373042419306699,
          0.8378905202887392,
          0.8404712335847841,
          0.8419953922444297,
          0.8431684946002644,
          0.844106787580178,
          0.8455145104071797,
          0.8462184020914222,
          0.8475086748243509,
          0.8483294920375374,
          0.8503238499575503,
          0.8510277416417926,
          0.8524354644687944,
          0.8537254969516603,
          0.8554851784571104,
          0.8563064083486343,
          0.8585352748530226,
          0.8595904933618801,
          0.8607636516611106,
          0.8617020822004701,
          0.8635790459698056,
          0.8642829376540481,
          0.8666291983091134,
          0.8680366203445693,
          0.869913528170509,
          0.8706174198547516,
          0.8721423130588473,
          0.8729631302720338,
          0.874605585456994,
          0.8750746631672279,
          0.8768342327858865,
          0.8774207862628474,
          0.8791802999381101,
          0.8797665782961795,
          0.8822301212151306,
          0.8826993364848104,
          0.8838723828972492,
          0.8845762745814916,
          0.8853974182588781,
          0.8862183730315103,
          0.8882124512345442,
          0.8887988671520592,
          0.8899718016777066,
          0.8906756933619493,
          0.891731401567107,
          0.892552493899185,
          0.8939601048393949,
          0.8946638589641916,
          0.8963060903755689,
          0.8967753056452485,
          0.8980656343215732,
          0.8992383285971577,
          0.9002940368023153,
          0.9009979284865578,
          0.9019362984844339,
          0.9024055137541136,
          0.9040475773353033,
          0.9047514690195458,
          0.9056898949608179,
          0.906276448437779,
          0.9079186798491562,
          0.90873990974068,
          0.9095609974746707,
          0.91049942801403,
          0.9117898126337504,
          0.9129629195876724,
          0.9141358541133199,
          0.9150744222121251,
          0.9161301304172828,
          0.9168338845420793,
          0.91765497227607,
          0.9183585888414207,
          0.9196488056309537,
          0.9208220501443218,
          0.9216431378783123,
          0.9222296913552734,
          0.9232853436170353,
          0.9243408372447843,
          0.9258656745054843,
          0.9266867668375623,
          0.927507854571553,
          0.9282114711369038,
          0.9291498970781759,
          0.9304404797988253,
          0.9313788497967015,
          0.9320827414809438,
          0.9331383937427058,
          0.933724809660221,
          0.9352496469209209,
          0.9359535386051635,
          0.9374783758658632,
          0.9379475911355428,
          0.9390032993407006,
          0.9394725146103803,
          0.9405282228155379,
          0.9411146387330532,
          0.9418184442031582,
          0.9425223358874006,
          0.9434607058852769,
          0.944047259362238,
          0.94498568530351,
          0.9456895769877525,
          0.9463933824578576,
          0.9469797983753727,
          0.9483875212023745,
          0.9492087510938985,
          0.950264459299056,
          0.9507336745687356,
          0.9514374800388408,
          0.9519066953085205,
          0.952727783042511,
          0.9534316747267534,
          0.9541354801968587,
          0.9546046954665384,
          0.9555430654644145,
          0.9560122807340942,
          0.9567160862041993,
          0.9574199778884417,
          0.9584757420369951,
          0.9590622955139563,
          0.9600006655118324,
          0.9605872189887935,
          0.9612910244588987,
          0.9619946410242495,
          0.9628157287582401,
          0.9634022822352011,
          0.9644579904403587,
          0.9649272057100384,
          0.9657482934440291,
          0.9663348469209901,
          0.9670386523910952,
          0.9677425440753378,
          0.968446293602047,
          0.9689155088717266,
          0.9697365966057172,
          0.970205811875397,
          0.9709095614021063,
          0.97173079129363,
          0.9724345967637351,
          0.9730211502406962,
          0.9738422379746869,
          0.9743114532443666,
          0.9750152587144717,
          0.9756018121914326,
          0.9763056176615377,
          0.9767748329312176,
          0.9774786384013227,
          0.9780651918782838,
          0.9787689973483887,
          0.9793555508253499,
          0.9801766945027363,
          0.980645909772416,
          0.9815843357136881,
          0.9824052904863203,
          0.9832264341637067,
          0.9838129876406677,
          0.9846340753746583,
          0.9853378294994548,
          0.9859242967622786,
          0.9863935120319584,
          0.9873319379732304,
          0.9879183538907456,
          0.9886221593608507,
          0.9892087128378118,
          0.9900298005718025,
          0.9906163540487635,
          0.9914374417827542,
          0.991906657052434,
          0.9926104625225389,
          0.9931968784400542,
          0.8936243482879853,
          0.8940935635576651,
          0.7945905959528717,
          0.7950598112225513,
          0.6953699428632012,
          0.5958668679697037,
          0.5962187707047562,
          0.5965706477671544,
          0.5970398327660925,
          0.5973917098284909,
          0.5977436125635434,
          0.4980059988149288,
          0.49835790154998133,
          0.49870977861237964,
          0.39878528978186256,
          0.39913716684426087,
          0.39925444910814645,
          0.29951683535953183,
          0.2996341176234174,
          0.19977930322696724,
          0.19989658549085285,
          0.09997215260373155,
          0.09997215260373155
         ],
         "yaxis": "y"
        }
       ],
       "layout": {
        "height": 700,
        "legend": {
         "tracegroupgap": 0
        },
        "shapes": [
         {
          "line": {
           "dash": "dash"
          },
          "type": "line",
          "x0": 0,
          "x1": 1,
          "y0": 0,
          "y1": 1
         }
        ],
        "template": {
         "data": {
          "bar": [
           {
            "error_x": {
             "color": "#2a3f5f"
            },
            "error_y": {
             "color": "#2a3f5f"
            },
            "marker": {
             "line": {
              "color": "#E5ECF6",
              "width": 0.5
             },
             "pattern": {
              "fillmode": "overlay",
              "size": 10,
              "solidity": 0.2
             }
            },
            "type": "bar"
           }
          ],
          "barpolar": [
           {
            "marker": {
             "line": {
              "color": "#E5ECF6",
              "width": 0.5
             },
             "pattern": {
              "fillmode": "overlay",
              "size": 10,
              "solidity": 0.2
             }
            },
            "type": "barpolar"
           }
          ],
          "carpet": [
           {
            "aaxis": {
             "endlinecolor": "#2a3f5f",
             "gridcolor": "white",
             "linecolor": "white",
             "minorgridcolor": "white",
             "startlinecolor": "#2a3f5f"
            },
            "baxis": {
             "endlinecolor": "#2a3f5f",
             "gridcolor": "white",
             "linecolor": "white",
             "minorgridcolor": "white",
             "startlinecolor": "#2a3f5f"
            },
            "type": "carpet"
           }
          ],
          "choropleth": [
           {
            "colorbar": {
             "outlinewidth": 0,
             "ticks": ""
            },
            "type": "choropleth"
           }
          ],
          "contour": [
           {
            "colorbar": {
             "outlinewidth": 0,
             "ticks": ""
            },
            "colorscale": [
             [
              0,
              "#0d0887"
             ],
             [
              0.1111111111111111,
              "#46039f"
             ],
             [
              0.2222222222222222,
              "#7201a8"
             ],
             [
              0.3333333333333333,
              "#9c179e"
             ],
             [
              0.4444444444444444,
              "#bd3786"
             ],
             [
              0.5555555555555556,
              "#d8576b"
             ],
             [
              0.6666666666666666,
              "#ed7953"
             ],
             [
              0.7777777777777778,
              "#fb9f3a"
             ],
             [
              0.8888888888888888,
              "#fdca26"
             ],
             [
              1,
              "#f0f921"
             ]
            ],
            "type": "contour"
           }
          ],
          "contourcarpet": [
           {
            "colorbar": {
             "outlinewidth": 0,
             "ticks": ""
            },
            "type": "contourcarpet"
           }
          ],
          "heatmap": [
           {
            "colorbar": {
             "outlinewidth": 0,
             "ticks": ""
            },
            "colorscale": [
             [
              0,
              "#0d0887"
             ],
             [
              0.1111111111111111,
              "#46039f"
             ],
             [
              0.2222222222222222,
              "#7201a8"
             ],
             [
              0.3333333333333333,
              "#9c179e"
             ],
             [
              0.4444444444444444,
              "#bd3786"
             ],
             [
              0.5555555555555556,
              "#d8576b"
             ],
             [
              0.6666666666666666,
              "#ed7953"
             ],
             [
              0.7777777777777778,
              "#fb9f3a"
             ],
             [
              0.8888888888888888,
              "#fdca26"
             ],
             [
              1,
              "#f0f921"
             ]
            ],
            "type": "heatmap"
           }
          ],
          "heatmapgl": [
           {
            "colorbar": {
             "outlinewidth": 0,
             "ticks": ""
            },
            "colorscale": [
             [
              0,
              "#0d0887"
             ],
             [
              0.1111111111111111,
              "#46039f"
             ],
             [
              0.2222222222222222,
              "#7201a8"
             ],
             [
              0.3333333333333333,
              "#9c179e"
             ],
             [
              0.4444444444444444,
              "#bd3786"
             ],
             [
              0.5555555555555556,
              "#d8576b"
             ],
             [
              0.6666666666666666,
              "#ed7953"
             ],
             [
              0.7777777777777778,
              "#fb9f3a"
             ],
             [
              0.8888888888888888,
              "#fdca26"
             ],
             [
              1,
              "#f0f921"
             ]
            ],
            "type": "heatmapgl"
           }
          ],
          "histogram": [
           {
            "marker": {
             "pattern": {
              "fillmode": "overlay",
              "size": 10,
              "solidity": 0.2
             }
            },
            "type": "histogram"
           }
          ],
          "histogram2d": [
           {
            "colorbar": {
             "outlinewidth": 0,
             "ticks": ""
            },
            "colorscale": [
             [
              0,
              "#0d0887"
             ],
             [
              0.1111111111111111,
              "#46039f"
             ],
             [
              0.2222222222222222,
              "#7201a8"
             ],
             [
              0.3333333333333333,
              "#9c179e"
             ],
             [
              0.4444444444444444,
              "#bd3786"
             ],
             [
              0.5555555555555556,
              "#d8576b"
             ],
             [
              0.6666666666666666,
              "#ed7953"
             ],
             [
              0.7777777777777778,
              "#fb9f3a"
             ],
             [
              0.8888888888888888,
              "#fdca26"
             ],
             [
              1,
              "#f0f921"
             ]
            ],
            "type": "histogram2d"
           }
          ],
          "histogram2dcontour": [
           {
            "colorbar": {
             "outlinewidth": 0,
             "ticks": ""
            },
            "colorscale": [
             [
              0,
              "#0d0887"
             ],
             [
              0.1111111111111111,
              "#46039f"
             ],
             [
              0.2222222222222222,
              "#7201a8"
             ],
             [
              0.3333333333333333,
              "#9c179e"
             ],
             [
              0.4444444444444444,
              "#bd3786"
             ],
             [
              0.5555555555555556,
              "#d8576b"
             ],
             [
              0.6666666666666666,
              "#ed7953"
             ],
             [
              0.7777777777777778,
              "#fb9f3a"
             ],
             [
              0.8888888888888888,
              "#fdca26"
             ],
             [
              1,
              "#f0f921"
             ]
            ],
            "type": "histogram2dcontour"
           }
          ],
          "mesh3d": [
           {
            "colorbar": {
             "outlinewidth": 0,
             "ticks": ""
            },
            "type": "mesh3d"
           }
          ],
          "parcoords": [
           {
            "line": {
             "colorbar": {
              "outlinewidth": 0,
              "ticks": ""
             }
            },
            "type": "parcoords"
           }
          ],
          "pie": [
           {
            "automargin": true,
            "type": "pie"
           }
          ],
          "scatter": [
           {
            "fillpattern": {
             "fillmode": "overlay",
             "size": 10,
             "solidity": 0.2
            },
            "type": "scatter"
           }
          ],
          "scatter3d": [
           {
            "line": {
             "colorbar": {
              "outlinewidth": 0,
              "ticks": ""
             }
            },
            "marker": {
             "colorbar": {
              "outlinewidth": 0,
              "ticks": ""
             }
            },
            "type": "scatter3d"
           }
          ],
          "scattercarpet": [
           {
            "marker": {
             "colorbar": {
              "outlinewidth": 0,
              "ticks": ""
             }
            },
            "type": "scattercarpet"
           }
          ],
          "scattergeo": [
           {
            "marker": {
             "colorbar": {
              "outlinewidth": 0,
              "ticks": ""
             }
            },
            "type": "scattergeo"
           }
          ],
          "scattergl": [
           {
            "marker": {
             "colorbar": {
              "outlinewidth": 0,
              "ticks": ""
             }
            },
            "type": "scattergl"
           }
          ],
          "scattermapbox": [
           {
            "marker": {
             "colorbar": {
              "outlinewidth": 0,
              "ticks": ""
             }
            },
            "type": "scattermapbox"
           }
          ],
          "scatterpolar": [
           {
            "marker": {
             "colorbar": {
              "outlinewidth": 0,
              "ticks": ""
             }
            },
            "type": "scatterpolar"
           }
          ],
          "scatterpolargl": [
           {
            "marker": {
             "colorbar": {
              "outlinewidth": 0,
              "ticks": ""
             }
            },
            "type": "scatterpolargl"
           }
          ],
          "scatterternary": [
           {
            "marker": {
             "colorbar": {
              "outlinewidth": 0,
              "ticks": ""
             }
            },
            "type": "scatterternary"
           }
          ],
          "surface": [
           {
            "colorbar": {
             "outlinewidth": 0,
             "ticks": ""
            },
            "colorscale": [
             [
              0,
              "#0d0887"
             ],
             [
              0.1111111111111111,
              "#46039f"
             ],
             [
              0.2222222222222222,
              "#7201a8"
             ],
             [
              0.3333333333333333,
              "#9c179e"
             ],
             [
              0.4444444444444444,
              "#bd3786"
             ],
             [
              0.5555555555555556,
              "#d8576b"
             ],
             [
              0.6666666666666666,
              "#ed7953"
             ],
             [
              0.7777777777777778,
              "#fb9f3a"
             ],
             [
              0.8888888888888888,
              "#fdca26"
             ],
             [
              1,
              "#f0f921"
             ]
            ],
            "type": "surface"
           }
          ],
          "table": [
           {
            "cells": {
             "fill": {
              "color": "#EBF0F8"
             },
             "line": {
              "color": "white"
             }
            },
            "header": {
             "fill": {
              "color": "#C8D4E3"
             },
             "line": {
              "color": "white"
             }
            },
            "type": "table"
           }
          ]
         },
         "layout": {
          "annotationdefaults": {
           "arrowcolor": "#2a3f5f",
           "arrowhead": 0,
           "arrowwidth": 1
          },
          "autotypenumbers": "strict",
          "coloraxis": {
           "colorbar": {
            "outlinewidth": 0,
            "ticks": ""
           }
          },
          "colorscale": {
           "diverging": [
            [
             0,
             "#8e0152"
            ],
            [
             0.1,
             "#c51b7d"
            ],
            [
             0.2,
             "#de77ae"
            ],
            [
             0.3,
             "#f1b6da"
            ],
            [
             0.4,
             "#fde0ef"
            ],
            [
             0.5,
             "#f7f7f7"
            ],
            [
             0.6,
             "#e6f5d0"
            ],
            [
             0.7,
             "#b8e186"
            ],
            [
             0.8,
             "#7fbc41"
            ],
            [
             0.9,
             "#4d9221"
            ],
            [
             1,
             "#276419"
            ]
           ],
           "sequential": [
            [
             0,
             "#0d0887"
            ],
            [
             0.1111111111111111,
             "#46039f"
            ],
            [
             0.2222222222222222,
             "#7201a8"
            ],
            [
             0.3333333333333333,
             "#9c179e"
            ],
            [
             0.4444444444444444,
             "#bd3786"
            ],
            [
             0.5555555555555556,
             "#d8576b"
            ],
            [
             0.6666666666666666,
             "#ed7953"
            ],
            [
             0.7777777777777778,
             "#fb9f3a"
            ],
            [
             0.8888888888888888,
             "#fdca26"
            ],
            [
             1,
             "#f0f921"
            ]
           ],
           "sequentialminus": [
            [
             0,
             "#0d0887"
            ],
            [
             0.1111111111111111,
             "#46039f"
            ],
            [
             0.2222222222222222,
             "#7201a8"
            ],
            [
             0.3333333333333333,
             "#9c179e"
            ],
            [
             0.4444444444444444,
             "#bd3786"
            ],
            [
             0.5555555555555556,
             "#d8576b"
            ],
            [
             0.6666666666666666,
             "#ed7953"
            ],
            [
             0.7777777777777778,
             "#fb9f3a"
            ],
            [
             0.8888888888888888,
             "#fdca26"
            ],
            [
             1,
             "#f0f921"
            ]
           ]
          },
          "colorway": [
           "#636efa",
           "#EF553B",
           "#00cc96",
           "#ab63fa",
           "#FFA15A",
           "#19d3f3",
           "#FF6692",
           "#B6E880",
           "#FF97FF",
           "#FECB52"
          ],
          "font": {
           "color": "#2a3f5f"
          },
          "geo": {
           "bgcolor": "white",
           "lakecolor": "white",
           "landcolor": "#E5ECF6",
           "showlakes": true,
           "showland": true,
           "subunitcolor": "white"
          },
          "hoverlabel": {
           "align": "left"
          },
          "hovermode": "closest",
          "mapbox": {
           "style": "light"
          },
          "paper_bgcolor": "white",
          "plot_bgcolor": "#E5ECF6",
          "polar": {
           "angularaxis": {
            "gridcolor": "white",
            "linecolor": "white",
            "ticks": ""
           },
           "bgcolor": "#E5ECF6",
           "radialaxis": {
            "gridcolor": "white",
            "linecolor": "white",
            "ticks": ""
           }
          },
          "scene": {
           "xaxis": {
            "backgroundcolor": "#E5ECF6",
            "gridcolor": "white",
            "gridwidth": 2,
            "linecolor": "white",
            "showbackground": true,
            "ticks": "",
            "zerolinecolor": "white"
           },
           "yaxis": {
            "backgroundcolor": "#E5ECF6",
            "gridcolor": "white",
            "gridwidth": 2,
            "linecolor": "white",
            "showbackground": true,
            "ticks": "",
            "zerolinecolor": "white"
           },
           "zaxis": {
            "backgroundcolor": "#E5ECF6",
            "gridcolor": "white",
            "gridwidth": 2,
            "linecolor": "white",
            "showbackground": true,
            "ticks": "",
            "zerolinecolor": "white"
           }
          },
          "shapedefaults": {
           "line": {
            "color": "#2a3f5f"
           }
          },
          "ternary": {
           "aaxis": {
            "gridcolor": "white",
            "linecolor": "white",
            "ticks": ""
           },
           "baxis": {
            "gridcolor": "white",
            "linecolor": "white",
            "ticks": ""
           },
           "bgcolor": "#E5ECF6",
           "caxis": {
            "gridcolor": "white",
            "linecolor": "white",
            "ticks": ""
           }
          },
          "title": {
           "x": 0.05
          },
          "xaxis": {
           "automargin": true,
           "gridcolor": "white",
           "linecolor": "white",
           "ticks": "",
           "title": {
            "standoff": 15
           },
           "zerolinecolor": "white",
           "zerolinewidth": 2
          },
          "yaxis": {
           "automargin": true,
           "gridcolor": "white",
           "linecolor": "white",
           "ticks": "",
           "title": {
            "standoff": 15
           },
           "zerolinecolor": "white",
           "zerolinewidth": 2
          }
         }
        },
        "title": {
         "text": "ROC Curve (AUC=0.8755)"
        },
        "width": 700,
        "xaxis": {
         "anchor": "y",
         "constrain": "domain",
         "domain": [
          0,
          1
         ],
         "title": {
          "text": "Average False Positive Rate"
         }
        },
        "yaxis": {
         "anchor": "x",
         "domain": [
          0,
          1
         ],
         "scaleanchor": "x",
         "scaleratio": 1,
         "title": {
          "text": "Average True Positive Rate"
         }
        }
       }
      }
     },
     "metadata": {},
     "output_type": "display_data"
    },
    {
     "data": {
      "application/vnd.plotly.v1+json": {
       "config": {
        "plotlyServerURL": "https://plot.ly"
       },
       "data": [
        {
         "hovertemplate": "K-Fold=%{x}<br>AUC Score=%{y}<extra></extra>",
         "legendgroup": "",
         "marker": {
          "color": "#636efa",
          "symbol": "circle"
         },
         "mode": "markers",
         "name": "",
         "orientation": "v",
         "showlegend": false,
         "type": "scatter",
         "x": [
          1,
          2,
          3,
          4,
          5,
          6,
          7,
          8,
          9,
          10
         ],
         "xaxis": "x",
         "y": [
          0.8674039249064542,
          0.8800807785575486,
          0.8771559684594261,
          0.8807151230949589,
          0.8599233056973772,
          0.8698479403820182,
          0.8860638143932086,
          0.876266158595408,
          0.8810031995626729,
          0.8766781625828028
         ],
         "yaxis": "y"
        },
        {
         "hovertemplate": "<b>OLS trendline</b><br>y = 0.000675435 * x + 0.871799<br>R<sup>2</sup>=0.070363<br><br>K-Fold=%{x}<br>AUC Score=%{y} <b>(trend)</b><extra></extra>",
         "legendgroup": "",
         "marker": {
          "color": "#636efa",
          "symbol": "circle"
         },
         "mode": "lines",
         "name": "",
         "showlegend": false,
         "type": "scatter",
         "x": [
          1,
          2,
          3,
          4,
          5,
          6,
          7,
          8,
          9,
          10
         ],
         "xaxis": "x",
         "y": [
          0.8724743809309424,
          0.8731498157514412,
          0.8738252505719402,
          0.8745006853924391,
          0.8751761202129379,
          0.8758515550334368,
          0.8765269898539356,
          0.8772024246744345,
          0.8778778594949335,
          0.8785532943154323
         ],
         "yaxis": "y"
        }
       ],
       "layout": {
        "legend": {
         "tracegroupgap": 0
        },
        "template": {
         "data": {
          "bar": [
           {
            "error_x": {
             "color": "#2a3f5f"
            },
            "error_y": {
             "color": "#2a3f5f"
            },
            "marker": {
             "line": {
              "color": "#E5ECF6",
              "width": 0.5
             },
             "pattern": {
              "fillmode": "overlay",
              "size": 10,
              "solidity": 0.2
             }
            },
            "type": "bar"
           }
          ],
          "barpolar": [
           {
            "marker": {
             "line": {
              "color": "#E5ECF6",
              "width": 0.5
             },
             "pattern": {
              "fillmode": "overlay",
              "size": 10,
              "solidity": 0.2
             }
            },
            "type": "barpolar"
           }
          ],
          "carpet": [
           {
            "aaxis": {
             "endlinecolor": "#2a3f5f",
             "gridcolor": "white",
             "linecolor": "white",
             "minorgridcolor": "white",
             "startlinecolor": "#2a3f5f"
            },
            "baxis": {
             "endlinecolor": "#2a3f5f",
             "gridcolor": "white",
             "linecolor": "white",
             "minorgridcolor": "white",
             "startlinecolor": "#2a3f5f"
            },
            "type": "carpet"
           }
          ],
          "choropleth": [
           {
            "colorbar": {
             "outlinewidth": 0,
             "ticks": ""
            },
            "type": "choropleth"
           }
          ],
          "contour": [
           {
            "colorbar": {
             "outlinewidth": 0,
             "ticks": ""
            },
            "colorscale": [
             [
              0,
              "#0d0887"
             ],
             [
              0.1111111111111111,
              "#46039f"
             ],
             [
              0.2222222222222222,
              "#7201a8"
             ],
             [
              0.3333333333333333,
              "#9c179e"
             ],
             [
              0.4444444444444444,
              "#bd3786"
             ],
             [
              0.5555555555555556,
              "#d8576b"
             ],
             [
              0.6666666666666666,
              "#ed7953"
             ],
             [
              0.7777777777777778,
              "#fb9f3a"
             ],
             [
              0.8888888888888888,
              "#fdca26"
             ],
             [
              1,
              "#f0f921"
             ]
            ],
            "type": "contour"
           }
          ],
          "contourcarpet": [
           {
            "colorbar": {
             "outlinewidth": 0,
             "ticks": ""
            },
            "type": "contourcarpet"
           }
          ],
          "heatmap": [
           {
            "colorbar": {
             "outlinewidth": 0,
             "ticks": ""
            },
            "colorscale": [
             [
              0,
              "#0d0887"
             ],
             [
              0.1111111111111111,
              "#46039f"
             ],
             [
              0.2222222222222222,
              "#7201a8"
             ],
             [
              0.3333333333333333,
              "#9c179e"
             ],
             [
              0.4444444444444444,
              "#bd3786"
             ],
             [
              0.5555555555555556,
              "#d8576b"
             ],
             [
              0.6666666666666666,
              "#ed7953"
             ],
             [
              0.7777777777777778,
              "#fb9f3a"
             ],
             [
              0.8888888888888888,
              "#fdca26"
             ],
             [
              1,
              "#f0f921"
             ]
            ],
            "type": "heatmap"
           }
          ],
          "heatmapgl": [
           {
            "colorbar": {
             "outlinewidth": 0,
             "ticks": ""
            },
            "colorscale": [
             [
              0,
              "#0d0887"
             ],
             [
              0.1111111111111111,
              "#46039f"
             ],
             [
              0.2222222222222222,
              "#7201a8"
             ],
             [
              0.3333333333333333,
              "#9c179e"
             ],
             [
              0.4444444444444444,
              "#bd3786"
             ],
             [
              0.5555555555555556,
              "#d8576b"
             ],
             [
              0.6666666666666666,
              "#ed7953"
             ],
             [
              0.7777777777777778,
              "#fb9f3a"
             ],
             [
              0.8888888888888888,
              "#fdca26"
             ],
             [
              1,
              "#f0f921"
             ]
            ],
            "type": "heatmapgl"
           }
          ],
          "histogram": [
           {
            "marker": {
             "pattern": {
              "fillmode": "overlay",
              "size": 10,
              "solidity": 0.2
             }
            },
            "type": "histogram"
           }
          ],
          "histogram2d": [
           {
            "colorbar": {
             "outlinewidth": 0,
             "ticks": ""
            },
            "colorscale": [
             [
              0,
              "#0d0887"
             ],
             [
              0.1111111111111111,
              "#46039f"
             ],
             [
              0.2222222222222222,
              "#7201a8"
             ],
             [
              0.3333333333333333,
              "#9c179e"
             ],
             [
              0.4444444444444444,
              "#bd3786"
             ],
             [
              0.5555555555555556,
              "#d8576b"
             ],
             [
              0.6666666666666666,
              "#ed7953"
             ],
             [
              0.7777777777777778,
              "#fb9f3a"
             ],
             [
              0.8888888888888888,
              "#fdca26"
             ],
             [
              1,
              "#f0f921"
             ]
            ],
            "type": "histogram2d"
           }
          ],
          "histogram2dcontour": [
           {
            "colorbar": {
             "outlinewidth": 0,
             "ticks": ""
            },
            "colorscale": [
             [
              0,
              "#0d0887"
             ],
             [
              0.1111111111111111,
              "#46039f"
             ],
             [
              0.2222222222222222,
              "#7201a8"
             ],
             [
              0.3333333333333333,
              "#9c179e"
             ],
             [
              0.4444444444444444,
              "#bd3786"
             ],
             [
              0.5555555555555556,
              "#d8576b"
             ],
             [
              0.6666666666666666,
              "#ed7953"
             ],
             [
              0.7777777777777778,
              "#fb9f3a"
             ],
             [
              0.8888888888888888,
              "#fdca26"
             ],
             [
              1,
              "#f0f921"
             ]
            ],
            "type": "histogram2dcontour"
           }
          ],
          "mesh3d": [
           {
            "colorbar": {
             "outlinewidth": 0,
             "ticks": ""
            },
            "type": "mesh3d"
           }
          ],
          "parcoords": [
           {
            "line": {
             "colorbar": {
              "outlinewidth": 0,
              "ticks": ""
             }
            },
            "type": "parcoords"
           }
          ],
          "pie": [
           {
            "automargin": true,
            "type": "pie"
           }
          ],
          "scatter": [
           {
            "fillpattern": {
             "fillmode": "overlay",
             "size": 10,
             "solidity": 0.2
            },
            "type": "scatter"
           }
          ],
          "scatter3d": [
           {
            "line": {
             "colorbar": {
              "outlinewidth": 0,
              "ticks": ""
             }
            },
            "marker": {
             "colorbar": {
              "outlinewidth": 0,
              "ticks": ""
             }
            },
            "type": "scatter3d"
           }
          ],
          "scattercarpet": [
           {
            "marker": {
             "colorbar": {
              "outlinewidth": 0,
              "ticks": ""
             }
            },
            "type": "scattercarpet"
           }
          ],
          "scattergeo": [
           {
            "marker": {
             "colorbar": {
              "outlinewidth": 0,
              "ticks": ""
             }
            },
            "type": "scattergeo"
           }
          ],
          "scattergl": [
           {
            "marker": {
             "colorbar": {
              "outlinewidth": 0,
              "ticks": ""
             }
            },
            "type": "scattergl"
           }
          ],
          "scattermapbox": [
           {
            "marker": {
             "colorbar": {
              "outlinewidth": 0,
              "ticks": ""
             }
            },
            "type": "scattermapbox"
           }
          ],
          "scatterpolar": [
           {
            "marker": {
             "colorbar": {
              "outlinewidth": 0,
              "ticks": ""
             }
            },
            "type": "scatterpolar"
           }
          ],
          "scatterpolargl": [
           {
            "marker": {
             "colorbar": {
              "outlinewidth": 0,
              "ticks": ""
             }
            },
            "type": "scatterpolargl"
           }
          ],
          "scatterternary": [
           {
            "marker": {
             "colorbar": {
              "outlinewidth": 0,
              "ticks": ""
             }
            },
            "type": "scatterternary"
           }
          ],
          "surface": [
           {
            "colorbar": {
             "outlinewidth": 0,
             "ticks": ""
            },
            "colorscale": [
             [
              0,
              "#0d0887"
             ],
             [
              0.1111111111111111,
              "#46039f"
             ],
             [
              0.2222222222222222,
              "#7201a8"
             ],
             [
              0.3333333333333333,
              "#9c179e"
             ],
             [
              0.4444444444444444,
              "#bd3786"
             ],
             [
              0.5555555555555556,
              "#d8576b"
             ],
             [
              0.6666666666666666,
              "#ed7953"
             ],
             [
              0.7777777777777778,
              "#fb9f3a"
             ],
             [
              0.8888888888888888,
              "#fdca26"
             ],
             [
              1,
              "#f0f921"
             ]
            ],
            "type": "surface"
           }
          ],
          "table": [
           {
            "cells": {
             "fill": {
              "color": "#EBF0F8"
             },
             "line": {
              "color": "white"
             }
            },
            "header": {
             "fill": {
              "color": "#C8D4E3"
             },
             "line": {
              "color": "white"
             }
            },
            "type": "table"
           }
          ]
         },
         "layout": {
          "annotationdefaults": {
           "arrowcolor": "#2a3f5f",
           "arrowhead": 0,
           "arrowwidth": 1
          },
          "autotypenumbers": "strict",
          "coloraxis": {
           "colorbar": {
            "outlinewidth": 0,
            "ticks": ""
           }
          },
          "colorscale": {
           "diverging": [
            [
             0,
             "#8e0152"
            ],
            [
             0.1,
             "#c51b7d"
            ],
            [
             0.2,
             "#de77ae"
            ],
            [
             0.3,
             "#f1b6da"
            ],
            [
             0.4,
             "#fde0ef"
            ],
            [
             0.5,
             "#f7f7f7"
            ],
            [
             0.6,
             "#e6f5d0"
            ],
            [
             0.7,
             "#b8e186"
            ],
            [
             0.8,
             "#7fbc41"
            ],
            [
             0.9,
             "#4d9221"
            ],
            [
             1,
             "#276419"
            ]
           ],
           "sequential": [
            [
             0,
             "#0d0887"
            ],
            [
             0.1111111111111111,
             "#46039f"
            ],
            [
             0.2222222222222222,
             "#7201a8"
            ],
            [
             0.3333333333333333,
             "#9c179e"
            ],
            [
             0.4444444444444444,
             "#bd3786"
            ],
            [
             0.5555555555555556,
             "#d8576b"
            ],
            [
             0.6666666666666666,
             "#ed7953"
            ],
            [
             0.7777777777777778,
             "#fb9f3a"
            ],
            [
             0.8888888888888888,
             "#fdca26"
            ],
            [
             1,
             "#f0f921"
            ]
           ],
           "sequentialminus": [
            [
             0,
             "#0d0887"
            ],
            [
             0.1111111111111111,
             "#46039f"
            ],
            [
             0.2222222222222222,
             "#7201a8"
            ],
            [
             0.3333333333333333,
             "#9c179e"
            ],
            [
             0.4444444444444444,
             "#bd3786"
            ],
            [
             0.5555555555555556,
             "#d8576b"
            ],
            [
             0.6666666666666666,
             "#ed7953"
            ],
            [
             0.7777777777777778,
             "#fb9f3a"
            ],
            [
             0.8888888888888888,
             "#fdca26"
            ],
            [
             1,
             "#f0f921"
            ]
           ]
          },
          "colorway": [
           "#636efa",
           "#EF553B",
           "#00cc96",
           "#ab63fa",
           "#FFA15A",
           "#19d3f3",
           "#FF6692",
           "#B6E880",
           "#FF97FF",
           "#FECB52"
          ],
          "font": {
           "color": "#2a3f5f"
          },
          "geo": {
           "bgcolor": "white",
           "lakecolor": "white",
           "landcolor": "#E5ECF6",
           "showlakes": true,
           "showland": true,
           "subunitcolor": "white"
          },
          "hoverlabel": {
           "align": "left"
          },
          "hovermode": "closest",
          "mapbox": {
           "style": "light"
          },
          "paper_bgcolor": "white",
          "plot_bgcolor": "#E5ECF6",
          "polar": {
           "angularaxis": {
            "gridcolor": "white",
            "linecolor": "white",
            "ticks": ""
           },
           "bgcolor": "#E5ECF6",
           "radialaxis": {
            "gridcolor": "white",
            "linecolor": "white",
            "ticks": ""
           }
          },
          "scene": {
           "xaxis": {
            "backgroundcolor": "#E5ECF6",
            "gridcolor": "white",
            "gridwidth": 2,
            "linecolor": "white",
            "showbackground": true,
            "ticks": "",
            "zerolinecolor": "white"
           },
           "yaxis": {
            "backgroundcolor": "#E5ECF6",
            "gridcolor": "white",
            "gridwidth": 2,
            "linecolor": "white",
            "showbackground": true,
            "ticks": "",
            "zerolinecolor": "white"
           },
           "zaxis": {
            "backgroundcolor": "#E5ECF6",
            "gridcolor": "white",
            "gridwidth": 2,
            "linecolor": "white",
            "showbackground": true,
            "ticks": "",
            "zerolinecolor": "white"
           }
          },
          "shapedefaults": {
           "line": {
            "color": "#2a3f5f"
           }
          },
          "ternary": {
           "aaxis": {
            "gridcolor": "white",
            "linecolor": "white",
            "ticks": ""
           },
           "baxis": {
            "gridcolor": "white",
            "linecolor": "white",
            "ticks": ""
           },
           "bgcolor": "#E5ECF6",
           "caxis": {
            "gridcolor": "white",
            "linecolor": "white",
            "ticks": ""
           }
          },
          "title": {
           "x": 0.05
          },
          "xaxis": {
           "automargin": true,
           "gridcolor": "white",
           "linecolor": "white",
           "ticks": "",
           "title": {
            "standoff": 15
           },
           "zerolinecolor": "white",
           "zerolinewidth": 2
          },
          "yaxis": {
           "automargin": true,
           "gridcolor": "white",
           "linecolor": "white",
           "ticks": "",
           "title": {
            "standoff": 15
           },
           "zerolinecolor": "white",
           "zerolinewidth": 2
          }
         }
        },
        "title": {
         "text": "AUC Values for the each K-Fold"
        },
        "xaxis": {
         "anchor": "y",
         "domain": [
          0,
          1
         ],
         "title": {
          "text": "K-Fold"
         }
        },
        "yaxis": {
         "anchor": "x",
         "domain": [
          0,
          1
         ],
         "title": {
          "text": "AUC Score"
         }
        }
       }
      }
     },
     "metadata": {},
     "output_type": "display_data"
    }
   ],
   "source": [
    "y = df['Label']\n",
    "perform_kfold_cross_validation_with_lstm(feature_matrix, y)"
   ]
  },
  {
   "cell_type": "markdown",
   "metadata": {
    "cell_id": "5ded94008994447383aac14f4bde4a01",
    "deepnote_cell_type": "markdown"
   },
   "source": [
    "#### Experimenting with different vector sizes\n",
    "Since GloVe embeddings are pretrained with specific parameters (window,min_count,vector_size) that can't be changed, we ran our model with different vector sizes of 50, 100 and 200 to compare which vector size would be most appropriate."
   ]
  },
  {
   "cell_type": "markdown",
   "metadata": {
    "cell_id": "6b6b3435c35c4054bd57db28ba5e7382",
    "deepnote_cell_type": "markdown"
   },
   "source": [
    "##### Vector Size of 50"
   ]
  },
  {
   "cell_type": "code",
   "execution_count": 19,
   "metadata": {
    "cell_id": "1036466e7fda44189eaf372502ff71a0",
    "deepnote_cell_type": "code",
    "deepnote_to_be_reexecuted": false,
    "execution_millis": 58164,
    "execution_start": 1698736046815,
    "source_hash": null
   },
   "outputs": [
    {
     "name": "stdout",
     "output_type": "stream",
     "text": [
      "Epoch 1/5\n",
      "202/202 [==============================] - 2s 2ms/step - loss: 0.5393 - accuracy: 0.7221\n",
      "Epoch 2/5\n",
      "202/202 [==============================] - 0s 2ms/step - loss: 0.4733 - accuracy: 0.7784\n",
      "Epoch 3/5\n",
      "202/202 [==============================] - 0s 2ms/step - loss: 0.4648 - accuracy: 0.7849\n",
      "Epoch 4/5\n",
      "202/202 [==============================] - 0s 2ms/step - loss: 0.4601 - accuracy: 0.7882\n",
      "Epoch 5/5\n",
      "202/202 [==============================] - 0s 2ms/step - loss: 0.4558 - accuracy: 0.7902\n",
      "45/45 [==============================] - 0s 775us/step\n",
      "45/45 [==============================] - 0s 754us/step\n",
      "Epoch 1/5\n",
      "202/202 [==============================] - 2s 2ms/step - loss: 0.5443 - accuracy: 0.7221\n",
      "Epoch 2/5\n",
      "202/202 [==============================] - 0s 2ms/step - loss: 0.4772 - accuracy: 0.7784\n",
      "Epoch 3/5\n",
      "202/202 [==============================] - 0s 2ms/step - loss: 0.4676 - accuracy: 0.7815\n",
      "Epoch 4/5\n",
      "202/202 [==============================] - 0s 2ms/step - loss: 0.4636 - accuracy: 0.7869\n",
      "Epoch 5/5\n",
      "202/202 [==============================] - 0s 2ms/step - loss: 0.4577 - accuracy: 0.7884\n",
      "45/45 [==============================] - 0s 797us/step\n",
      "45/45 [==============================] - 0s 818us/step\n",
      "Epoch 1/5\n",
      "202/202 [==============================] - 2s 2ms/step - loss: 0.5403 - accuracy: 0.7243\n",
      "Epoch 2/5\n",
      "202/202 [==============================] - 0s 2ms/step - loss: 0.4745 - accuracy: 0.7800\n",
      "Epoch 3/5\n",
      "202/202 [==============================] - 0s 2ms/step - loss: 0.4664 - accuracy: 0.7846\n",
      "Epoch 4/5\n",
      "202/202 [==============================] - 0s 2ms/step - loss: 0.4606 - accuracy: 0.7863\n",
      "Epoch 5/5\n",
      "202/202 [==============================] - 0s 2ms/step - loss: 0.4573 - accuracy: 0.7890\n",
      "45/45 [==============================] - 0s 783us/step\n",
      "45/45 [==============================] - 0s 777us/step\n",
      "Epoch 1/5\n",
      "202/202 [==============================] - 2s 2ms/step - loss: 0.5456 - accuracy: 0.7169\n",
      "Epoch 2/5\n",
      "202/202 [==============================] - 0s 2ms/step - loss: 0.4760 - accuracy: 0.7786\n",
      "Epoch 3/5\n",
      "202/202 [==============================] - 0s 2ms/step - loss: 0.4670 - accuracy: 0.7829\n",
      "Epoch 4/5\n",
      "202/202 [==============================] - 0s 2ms/step - loss: 0.4606 - accuracy: 0.7872\n",
      "Epoch 5/5\n",
      "202/202 [==============================] - 0s 2ms/step - loss: 0.4568 - accuracy: 0.7914\n",
      "45/45 [==============================] - 0s 840us/step\n",
      "45/45 [==============================] - 0s 838us/step\n",
      "Epoch 1/5\n",
      "202/202 [==============================] - 1s 2ms/step - loss: 0.5455 - accuracy: 0.7188\n",
      "Epoch 2/5\n",
      "202/202 [==============================] - 0s 2ms/step - loss: 0.4723 - accuracy: 0.7795\n",
      "Epoch 3/5\n",
      "202/202 [==============================] - 0s 2ms/step - loss: 0.4626 - accuracy: 0.7839\n",
      "Epoch 4/5\n",
      "202/202 [==============================] - 0s 2ms/step - loss: 0.4581 - accuracy: 0.7894\n",
      "Epoch 5/5\n",
      "202/202 [==============================] - 0s 2ms/step - loss: 0.4522 - accuracy: 0.7905\n",
      "45/45 [==============================] - 0s 808us/step\n",
      "45/45 [==============================] - 0s 968us/step\n",
      "Epoch 1/5\n",
      "202/202 [==============================] - 1s 2ms/step - loss: 0.5449 - accuracy: 0.7175\n",
      "Epoch 2/5\n",
      "202/202 [==============================] - 0s 1ms/step - loss: 0.4763 - accuracy: 0.7793\n",
      "Epoch 3/5\n",
      "202/202 [==============================] - 0s 1ms/step - loss: 0.4665 - accuracy: 0.7855\n",
      "Epoch 4/5\n",
      "202/202 [==============================] - 0s 2ms/step - loss: 0.4612 - accuracy: 0.7877\n",
      "Epoch 5/5\n",
      "202/202 [==============================] - 0s 2ms/step - loss: 0.4561 - accuracy: 0.7886\n",
      "45/45 [==============================] - 0s 785us/step\n",
      "45/45 [==============================] - 0s 788us/step\n",
      "Epoch 1/5\n",
      "202/202 [==============================] - 1s 2ms/step - loss: 0.5414 - accuracy: 0.7235\n",
      "Epoch 2/5\n",
      "202/202 [==============================] - 0s 2ms/step - loss: 0.4769 - accuracy: 0.7761\n",
      "Epoch 3/5\n",
      "202/202 [==============================] - 0s 2ms/step - loss: 0.4686 - accuracy: 0.7822\n",
      "Epoch 4/5\n",
      "202/202 [==============================] - 0s 2ms/step - loss: 0.4631 - accuracy: 0.7847\n",
      "Epoch 5/5\n",
      "202/202 [==============================] - 0s 2ms/step - loss: 0.4588 - accuracy: 0.7894\n",
      "45/45 [==============================] - 0s 821us/step\n",
      "45/45 [==============================] - 0s 791us/step\n",
      "Epoch 1/5\n",
      "202/202 [==============================] - 1s 2ms/step - loss: 0.5505 - accuracy: 0.7174\n",
      "Epoch 2/5\n",
      "202/202 [==============================] - 0s 2ms/step - loss: 0.4762 - accuracy: 0.7758\n",
      "Epoch 3/5\n",
      "202/202 [==============================] - 0s 2ms/step - loss: 0.4665 - accuracy: 0.7836\n",
      "Epoch 4/5\n",
      "202/202 [==============================] - 0s 2ms/step - loss: 0.4624 - accuracy: 0.7843\n",
      "Epoch 5/5\n",
      "202/202 [==============================] - 0s 2ms/step - loss: 0.4574 - accuracy: 0.7879\n",
      "45/45 [==============================] - 0s 807us/step\n",
      "45/45 [==============================] - 0s 770us/step\n",
      "Epoch 1/5\n",
      "202/202 [==============================] - 1s 2ms/step - loss: 0.5523 - accuracy: 0.7119\n",
      "Epoch 2/5\n",
      "202/202 [==============================] - 0s 1ms/step - loss: 0.4769 - accuracy: 0.7795\n",
      "Epoch 3/5\n",
      "202/202 [==============================] - 0s 1ms/step - loss: 0.4678 - accuracy: 0.7840\n",
      "Epoch 4/5\n",
      "202/202 [==============================] - 0s 1ms/step - loss: 0.4619 - accuracy: 0.7879\n",
      "Epoch 5/5\n",
      "202/202 [==============================] - 0s 1ms/step - loss: 0.4573 - accuracy: 0.7895\n",
      "45/45 [==============================] - 0s 945us/step\n",
      "45/45 [==============================] - 0s 791us/step\n",
      "Epoch 1/5\n",
      "202/202 [==============================] - 1s 1ms/step - loss: 0.5403 - accuracy: 0.7231\n",
      "Epoch 2/5\n",
      "202/202 [==============================] - 0s 1ms/step - loss: 0.4739 - accuracy: 0.7807\n",
      "Epoch 3/5\n",
      "202/202 [==============================] - 0s 1ms/step - loss: 0.4653 - accuracy: 0.7823\n",
      "Epoch 4/5\n",
      "202/202 [==============================] - 0s 1ms/step - loss: 0.4610 - accuracy: 0.7864\n",
      "Epoch 5/5\n",
      "202/202 [==============================] - 0s 2ms/step - loss: 0.4565 - accuracy: 0.7889\n",
      "45/45 [==============================] - 1s 825us/step\n",
      "45/45 [==============================] - 0s 791us/step\n",
      "The average accuracy is: 79.06%\n",
      "The average classification error is: 20.94%\n",
      "The average sensitivity is: 86.10%\n",
      "The average precision is: 80.14%\n",
      "The average specificity is: 68.78%\n",
      "The average f1 score is: 82.99%\n",
      "The average AUC Score is: 85.97%\n"
     ]
    },
    {
     "data": {
      "application/vnd.plotly.v1+json": {
       "config": {
        "plotlyServerURL": "https://plot.ly"
       },
       "data": [
        {
         "fillpattern": {
          "shape": ""
         },
         "hovertemplate": "Average False Positive Rate=%{x}<br>Average True Positive Rate=%{y}<extra></extra>",
         "legendgroup": "",
         "line": {
          "color": "#636efa"
         },
         "marker": {
          "symbol": "circle"
         },
         "mode": "lines",
         "name": "",
         "orientation": "v",
         "showlegend": false,
         "stackgroup": "1",
         "type": "scatter",
         "x": [
          0,
          0,
          0,
          0.001712622395241323,
          0.001712622395241323,
          0.003254059597668037,
          0.003254059597668037,
          0.0049666819929093595,
          0.0049666819929093595,
          0.007021793983524201,
          0.007021793983524201,
          0.008905720781324431,
          0.008905720781324431,
          0.010618343176565754,
          0.010618343176565754,
          0.012502150764621685,
          0.012502150764621685,
          0.014386077562421919,
          0.014386077562421919,
          0.016612842792343138,
          0.016612842792343138,
          0.01883937839526119,
          0.01883937839526119,
          0.02072318598331712,
          0.02072318598331712,
          0.02277829797393196,
          0.02277829797393196,
          0.024319735176358673,
          0.024319735176358673,
          0.026032357571599996,
          0.026032357571599996,
          0.02774497996684132,
          0.02774497996684132,
          0.02962890676464155,
          0.02962890676464155,
          0.031170343967068265,
          0.031170343967068265,
          0.032882966362309585,
          0.032882966362309585,
          0.03493819756266873,
          0.03493819756266873,
          0.03665081995791005,
          0.03665081995791005,
          0.03836356156289567,
          0.03853474675571028,
          0.03990470513720435,
          0.040075890330018966,
          0.041788751144748885,
          0.04195993633756349,
          0.04418611431124864,
          0.044528484696877854,
          0.046069921899304575,
          0.0465834774777484,
          0.04829621908273402,
          0.04846740427554863,
          0.050008841477975345,
          0.050180026670789954,
          0.05189276827577558,
          0.05206395346859019,
          0.053776575863831506,
          0.053947761056646115,
          0.05566050266163174,
          0.05583168785444635,
          0.057373125056873066,
          0.057544310249687675,
          0.05908574745211439,
          0.059256932644929,
          0.06165489186015025,
          0.06182607705296486,
          0.06371000385076508,
          0.0638811890435797,
          0.06559393064856532,
          0.06576511584137992,
          0.06730655304380664,
          0.06747773823662126,
          0.06901917543904798,
          0.06919036063186258,
          0.07141718986289866,
          0.07193074544134251,
          0.07381484665751646,
          0.07398603185033106,
          0.07587013306650503,
          0.07604131825931965,
          0.07792512584737557,
          0.07809631104019017,
          0.07963774824261691,
          0.07980893343543152,
          0.08169297944297603,
          0.08186416463579065,
          0.08340560183821735,
          0.08374797222384656,
          0.08528940942627329,
          0.0854605946190879,
          0.08734440220714383,
          0.08751558739995845,
          0.08922820979519974,
          0.08939939498801436,
          0.09128361541393264,
          0.09145480060674725,
          0.09333884661429179,
          0.0935100318071064,
          0.09573644820028016,
          0.09590763339309477,
          0.09830535418882741,
          0.09847653938164203,
          0.10104591341668107,
          0.10121709860949568,
          0.10310114461704017,
          0.10327232980985479,
          0.10567005060558747,
          0.10584123579840207,
          0.10755415182176142,
          0.10772533701457604,
          0.10978056821493516,
          0.10995175340774978,
          0.11200710381785323,
          0.11217828901066784,
          0.11406221580846805,
          0.11423340100128267,
          0.11594614260626829,
          0.1161173277990829,
          0.11783024382244225,
          0.11800142901525687,
          0.11971405141049819,
          0.11988523660331281,
          0.12194052301230138,
          0.12211170820511597,
          0.12382462422847534,
          0.12433817980691916,
          0.12673566218316323,
          0.12724921776160708,
          0.12998972178083126,
          0.13016090697364588,
          0.13290170462098813,
          0.13307288981380275,
          0.13461432701622944,
          0.13478551220904406,
          0.13769714621245344,
          0.13786833140526805,
          0.13975225820306827,
          0.1399234433958829,
          0.14146488059830964,
          0.14163606579112423,
          0.14403396100523064,
          0.14420514619804525,
          0.1460893666239635,
          0.1462605518167781,
          0.14814447861457833,
          0.14831566380739294,
          0.14985710100981967,
          0.15002828620263428,
          0.15276861580348472,
          0.15293980099629934,
          0.15516621738947312,
          0.15533740258228773,
          0.15739275299239114,
          0.15756393818520575,
          0.16081841062073612,
          0.16116078100636533,
          0.16321618662509824,
          0.16338737181791285,
          0.1657850926136455,
          0.16612746299927467,
          0.16886731576114794,
          0.1693808713395918,
          0.17126467892764774,
          0.17143586412046236,
          0.17314848651570364,
          0.17331967170851825,
          0.17554608810169203,
          0.17571727329450665,
          0.17794386410605412,
          0.17845741968449794,
          0.180683955287416,
          0.1808551404802306,
          0.18325286127596324,
          0.18342404646877786,
          0.18650638882602463,
          0.18667757401883925,
          0.18993280812897945,
          0.19010399332179403,
          0.19198803932933856,
          0.1923304097149678,
          0.1952425669734984,
          0.195413752166313,
          0.1972975597543689,
          0.19746874494718353,
          0.19918136734242486,
          0.19935255253523948,
          0.20192187136164905,
          0.20209305655446366,
          0.20414816854507856,
          0.20431935373789317,
          0.2068883789361847,
          0.20740193451462852,
          0.20945716571498768,
          0.2103130916790607,
          0.21219689926711666,
          0.21236808445993122,
          0.21442378370678217,
          0.2147661540924114,
          0.21682126608302618,
          0.2169924512758408,
          0.2193900528618292,
          0.21956123805464378,
          0.22178753523807324,
          0.22212990562370247,
          0.22384264722868807,
          0.2240138324215027,
          0.2276105648254034,
          0.22778175001821802,
          0.23000840483088036,
          0.23017959002369498,
          0.23326263884692214,
          0.23377619442536596,
          0.23651652402621642,
          0.23668770921903104,
          0.24028419441095772,
          0.24079774998940157,
          0.24302446001069333,
          0.24336683039632256,
          0.24576443198231093,
          0.24610680236794014,
          0.24850440395392853,
          0.24867558914674315,
          0.25073070113735796,
          0.2509018863301726,
          0.25432748874988814,
          0.2544986739427027,
          0.25741018873636784,
          0.25792374431481163,
          0.26015062875447714,
          0.26032181394729176,
          0.26271941553328015,
          0.2628906007260947,
          0.26563115995394837,
          0.265802345146763,
          0.26974102630594515,
          0.27059695227001823,
          0.27265230268012164,
          0.27299467306575087,
          0.276248375034186,
          0.2765907454198152,
          0.2810446975100054,
          0.28121588270282,
          0.2834425375154824,
          0.2842984634795554,
          0.28755252307722345,
          0.2878948934628527,
          0.29063522306370315,
          0.2909775934493324,
          0.2935468570671125,
          0.29423159783837094,
          0.29902603054325244,
          0.2993684009288817,
          0.3029647757035495,
          0.30330714608917875,
          0.30587581365823735,
          0.30656055442949576,
          0.3111849852465203,
          0.3113561704393349,
          0.31426815327949176,
          0.3144393384723063,
          0.31769462779107593,
          0.3182081833695197,
          0.32334676581370947,
          0.3235179510065241,
          0.3266007062016333,
          0.3267718913944479,
          0.329683406188113,
          0.3298545913809276,
          0.33464984976153367,
          0.33516340533997746,
          0.3385885949218307,
          0.3387597801146453,
          0.3426991213236639,
          0.34355504728773695,
          0.34629549609833166,
          0.3464666812911463,
          0.35228964687736164,
          0.35314557284143466,
          0.35725567761292,
          0.35742686280573466,
          0.36033896485563577,
          0.3608525204340796,
          0.36273656644162416,
          0.3629077516344388,
          0.3668476160985785,
          0.36701880129139314,
          0.3713010449336475,
          0.3714722301264621,
          0.3755823901065769,
          0.3757535752993915,
          0.3807207429237635,
          0.3808919281165781,
          0.38311846371949615,
          0.38363201929794005,
          0.3880842008269366,
          0.38842657121256574,
          0.39150903277955695,
          0.39202258835800075,
          0.3961338212258142,
          0.3966473768042581,
          0.400072089547134,
          0.4002432747399487,
          0.4043535627222933,
          0.4045247479151079,
          0.4088067531378736,
          0.40914912352350286,
          0.4130886391508951,
          0.41343100953652434,
          0.41736939706758847,
          0.4175405822604031,
          0.42028103107099785,
          0.42045221626381246,
          0.4255908627091171,
          0.42576204790193173,
          0.42935883551446186,
          0.4305571318641641,
          0.4358676611757783,
          0.436894772332666,
          0.44151979040592654,
          0.4430604571412579,
          0.44785601794246754,
          0.44836957352091145,
          0.4519663611334416,
          0.45299347229032927,
          0.4589886231634575,
          0.4596733639347159,
          0.4637838903365491,
          0.465153371879066,
          0.46943590035695304,
          0.47029182632102606,
          0.4742325164608904,
          0.47491725723214884,
          0.4810844277663019,
          0.48211153892318953,
          0.48742136176882334,
          0.48930439888978405,
          0.4949572810020566,
          0.49564202177331507,
          0.5021503329719957,
          0.5030062589360688,
          0.5078016453189047,
          0.508999941668607,
          0.516878312873555,
          0.5179054240304426,
          0.5225302676853294,
          0.5228726380709587,
          0.5257842632818827,
          0.5271537448243996,
          0.5343484017296439,
          0.5365738092362339,
          0.5418835856657237,
          0.5432530672082405,
          0.5499326828094802,
          0.5540411274370308,
          0.5581517730486081,
          0.5593500693983104,
          0.5615767794196022,
          0.5651727413564076,
          0.5684265073259577,
          0.5704809680592215,
          0.5735640256749343,
          0.5757899100205014,
          0.5795587725026856,
          0.5809283732549468,
          0.5840117244987775,
          0.5862380856833218,
          0.5891500685234785,
          0.5908622780808575,
          0.5972001745538189,
          0.6006245936685769,
          0.6098746561925542,
          0.6127859965678456,
          0.6155266837979289,
          0.6172387741455636,
          0.6230628766205925,
          0.6276852344558198,
          0.6302541404443671,
          0.6324796671607011,
          0.6400169968721784,
          0.6427561983767008,
          0.6504655213717464,
          0.6533767425372934,
          0.6573164413755448,
          0.6603978940559521,
          0.6737605935872182,
          0.6768420462676255,
          0.6828356009979337,
          0.5846774630732133,
          0.5928977454097843,
          0.6033407574299414,
          0.6084797615044789,
          0.6132733045325208,
          0.6201255270510212,
          0.6245764612739454,
          0.6315993369376536,
          0.635023875262156,
          0.6387938394632121,
          0.6415333985969673,
          0.6497549018621546,
          0.6550629541465948,
          0.6619126732604648,
          0.6667074083859497,
          0.6793795786233993,
          0.5824193794191482,
          0.586702358358556,
          0.5913250738230162,
          0.5949223206895529,
          0.6017704436606028,
          0.6046824177082745,
          0.6253977333947508,
          0.5350181065329138,
          0.5392984516117448,
          0.5470057568336227,
          0.5517998959103861,
          0.5579636821555547,
          0.5605316984672625,
          0.5637860429005631,
          0.5716609193992681,
          0.579199057201499,
          0.5817680271911612,
          0.588278597036215,
          0.5923873992929984,
          0.5004632533603538,
          0.5023468865300359,
          0.41326537219753884,
          0.3163751491131917,
          0.31963089768596764,
          0.3264805703836937,
          0.33127845383239135,
          0.3415496846110121,
          0.3471999704863664,
          0.3528519428831117,
          0.35696596644490497,
          0.36090513323554974,
          0.3641579455271453,
          0.3653565995060805,
          0.3759709623449404,
          0.2801080888369696,
          0.28936794516733233,
          0.1935043564008957,
          0.09353220379716413,
          0.09404611700484086,
          0.09404611700484086,
          0.09524524782275323,
          0.09524524782275323,
          0.10004177109440267
         ],
         "xaxis": "x",
         "y": [
          0,
          0.0011730207397847676,
          0.0443426042437627,
          0.0443426042437627,
          0.08210991180885369,
          0.08234458822341643,
          0.11237052991173899,
          0.11237052991173899,
          0.13759184317332987,
          0.13759184317332987,
          0.15589116512144033,
          0.15589116512144033,
          0.17079024785651004,
          0.17079024785651004,
          0.18627501004877497,
          0.18627501004877497,
          0.20293145225519546,
          0.20293145225519546,
          0.2177126373490258,
          0.2177126373490258,
          0.23378442623807238,
          0.23378442623807238,
          0.25067608590066426,
          0.25067608590066426,
          0.2666286199463627,
          0.2666286199463627,
          0.27800740702515303,
          0.2782420834397158,
          0.2892684294240626,
          0.2892684294240626,
          0.3004098099739408,
          0.3004098099739408,
          0.30498463634184847,
          0.30521931275641123,
          0.32082241553899454,
          0.3210570919535573,
          0.3290346657911417,
          0.3290346657911417,
          0.33783124098059303,
          0.33783124098059303,
          0.3528478508276984,
          0.3528478508276984,
          0.3598845015794192,
          0.36011917799398196,
          0.3678602917422954,
          0.36879872228165483,
          0.37689215872366316,
          0.3781828790037583,
          0.3839305023378676,
          0.38439985516699304,
          0.3928459729535077,
          0.39319798757535185,
          0.4036381019488504,
          0.40422479298525726,
          0.4110277677895826,
          0.41325719372792874,
          0.42616031917494424,
          0.42627765738222556,
          0.4329631004764279,
          0.4335497915128348,
          0.4437563226670321,
          0.44387366087431346,
          0.45407751594168755,
          0.45736298574556605,
          0.46170363459138586,
          0.46358104590788785,
          0.4671001897432921,
          0.46768688077969894,
          0.4727314469824154,
          0.4744915200916361,
          0.48129318903916096,
          0.48164520366100505,
          0.4870419266430987,
          0.4871592648503801,
          0.4933760475107734,
          0.4941974149617431,
          0.5007664919609593,
          0.5027612414847427,
          0.5126125941498422,
          0.5129646087716863,
          0.5166011164870262,
          0.5169531311088703,
          0.5221146439150975,
          0.522231982122379,
          0.5284491096393216,
          0.5288011242611658,
          0.5364258581202312,
          0.5366605345347939,
          0.5414695943681854,
          0.541938947197311,
          0.548389928454359,
          0.548741943076203,
          0.5567170059749339,
          0.5568343441822153,
          0.561995560794984,
          0.5629342664532351,
          0.5669222898979442,
          0.5672743045197883,
          0.5744302403855991,
          0.5752516078365687,
          0.579122624136284,
          0.5797093151726909,
          0.5829930691236491,
          0.5834624219527746,
          0.5865124624052908,
          0.5866298006125722,
          0.5924948951153214,
          0.5927295715298841,
          0.5967173757990976,
          0.596834714006379,
          0.6011748639597239,
          0.6022309078252562,
          0.608916961698725,
          0.6096209909424133,
          0.6139607887589038,
          0.6140781269661851,
          0.6171278877017226,
          0.6172452259090039,
          0.6218192012475825,
          0.6226405686985521,
          0.6263941908475902,
          0.626980881883997,
          0.6315552699009133,
          0.6320246227300387,
          0.6364825841104855,
          0.6374212897687366,
          0.6419965590857233,
          0.642231235500286,
          0.6478620543884176,
          0.6482140690102618,
          0.6514976899998616,
          0.6517323664144243,
          0.6545474810061404,
          0.6547821574207031,
          0.657479633013592,
          0.6579489858427175,
          0.6614685469545465,
          0.6621725761982349,
          0.667451238306989,
          0.6685072821725215,
          0.671908838354407,
          0.6721435147689698,
          0.676484249828927,
          0.6767189262434897,
          0.6810578730306512,
          0.6811752112379327,
          0.6837554045669357,
          0.6841074191887798,
          0.6868053120580935,
          0.6871573266799378,
          0.6914981736266863,
          0.6933755849431883,
          0.6974807787649917,
          0.6978327933868358,
          0.7001787229796138,
          0.7002960611868952,
          0.7033459081365697,
          0.703463246343851,
          0.7073338545633163,
          0.7080378838070046,
          0.71003199228078,
          0.7106186833171869,
          0.7130819813879878,
          0.7135513342171131,
          0.7161317210489581,
          0.7163663974635208,
          0.720002161438236,
          0.7210582053037684,
          0.7257498499119157,
          0.7266885555701668,
          0.7300897293444564,
          0.7302070675517378,
          0.7334913974131335,
          0.733960750242259,
          0.7368931214252065,
          0.7370104596324878,
          0.7388872042263277,
          0.7394738952627347,
          0.7417027360944686,
          0.7418200743017499,
          0.7460423266138555,
          0.746511679442981,
          0.749912659714429,
          0.7502646743362731,
          0.7519068800749961,
          0.7521415564895588,
          0.7542532269441988,
          0.7553092708097311,
          0.7583585721197099,
          0.759649292399805,
          0.7622300359665916,
          0.7624647123811543,
          0.7659838259458172,
          0.7665705169822239,
          0.7683298417527324,
          0.7685645181672953,
          0.7713796070863568,
          0.7714969452936382,
          0.7745463538923213,
          0.7750157067214467,
          0.7777132685284729,
          0.7786519741867239,
          0.7811154098169707,
          0.7813500862315335,
          0.7835785400575843,
          0.7839305546794284,
          0.7855727604181513,
          0.7860421132472768,
          0.7888573653984385,
          0.7890920418130014,
          0.7916721278533004,
          0.7920241424751445,
          0.7947224480227955,
          0.7948397862300769,
          0.7969512888545294,
          0.7973033034763736,
          0.8001179283717896,
          0.8004699429936337,
          0.8041062828787862,
          0.804340959293349,
          0.8064526856913847,
          0.8068047003132288,
          0.8089162029376814,
          0.8093855557668069,
          0.8110276496187383,
          0.8111449878260197,
          0.8140774149523629,
          0.8141947531596443,
          0.8167751097207475,
          0.8171271243425916,
          0.8195907534756801,
          0.8205294591339312,
          0.8227581624062191,
          0.8231101770280632,
          0.8251043717159761,
          0.8252217099232575,
          0.8280362486045361,
          0.8283882632263802,
          0.8320243023199868,
          0.8321416405272681,
          0.8349569532199133,
          0.8350742914271947,
          0.8377718486361334,
          0.8378891868434147,
          0.8396482364950316,
          0.8397655747023131,
          0.8417596575034343,
          0.8418769957107156,
          0.844457494429352,
          0.8446921708439147,
          0.8470381820527427,
          0.8472728584673055,
          0.8497362381541563,
          0.8498535763614377,
          0.8519649670990989,
          0.8521996435136615,
          0.8545455474337853,
          0.8546628856410667,
          0.8559531327013412,
          0.8563051473231853,
          0.8588860027767633,
          0.8593553556058888,
          0.8612319369676287,
          0.8613492751749101,
          0.862522239971299,
          0.8626395781785804,
          0.8639298252388551,
          0.8641645016534178,
          0.8658068192789323,
          0.8660414956934951,
          0.8686220457574398,
          0.8687393839647212,
          0.8709673178237304,
          0.8710846560310117,
          0.8729615941276931,
          0.8730789323349744,
          0.8744865176025304,
          0.8747211940170931,
          0.8764806563470473,
          0.8765979945543287,
          0.8788267794426671,
          0.8789441176499484,
          0.8808208879164424,
          0.8810555643310052,
          0.8826978260131237,
          0.8829325024276866,
          0.8850441169389307,
          0.8856308079753376,
          0.8877421987129988,
          0.8879768751275615,
          0.8891498399239504,
          0.8892671781312318,
          0.89149596301957,
          0.8916133012268513,
          0.8934899082612452,
          0.8936072464685266,
          0.8953666528550853,
          0.895601329269648,
          0.8970089704805996,
          0.8975956615170065,
          0.8999415351663888,
          0.9000588733736701,
          0.9015836592890616,
          0.9021703503254684,
          0.9035779355930244,
          0.9036952738003058,
          0.9048682945400905,
          0.904985632747372,
          0.9067451207499804,
          0.9068624589572618,
          0.9085045574072804,
          0.9086218956145616,
          0.9102640756806304,
          0.9103814138879117,
          0.912493028399156,
          0.9126103666064374,
          0.9148391258221213,
          0.9151911404439657,
          0.9173023376787849,
          0.9175370140933475,
          0.9187100348331323,
          0.9190620494549764,
          0.9203524084020426,
          0.9205870848166053,
          0.9219945581973698,
          0.922346572819214,
          0.9237539645839283,
          0.923988640998491,
          0.9255133150270909,
          0.9261000060634976,
          0.9276249295383351,
          0.9278596059528977,
          0.9293843615975477,
          0.9299710526339546,
          0.9310266792230621,
          0.9312613556376249,
          0.9325515467545037,
          0.9329035613763479,
          0.9346632172091438,
          0.9351325700382692,
          0.9370093962481589,
          0.9372440726627217,
          0.938768914521509,
          0.9390035909360717,
          0.9401766116758564,
          0.9404112880904193,
          0.9420534938291423,
          0.9422881702437049,
          0.9432265145689269,
          0.9434611909834898,
          0.9449860328422771,
          0.9452207092568398,
          0.9467454649014896,
          0.9469801413160525,
          0.9480357679051601,
          0.9483877825270042,
          0.9500295499147353,
          0.9502642263292982,
          0.9523756473377007,
          0.952727606016149,
          0.9541351353403091,
          0.9548391086406017,
          0.9555428324946568,
          0.956129411644272,
          0.9570677000260982,
          0.9575369969118279,
          0.958475259621,
          0.9590618947140112,
          0.9597656185680662,
          0.9602349154537957,
          0.961173122219572,
          0.9619942658969585,
          0.9630497549266203,
          0.963753616340121,
          0.9648091613131787,
          0.9656303609339609,
          0.9664514229952974,
          0.9669207198810271,
          0.9677417259989677,
          0.9683283610919787,
          0.969501106712872,
          0.9699704035986018,
          0.9709088038672196,
          0.9714953830168346,
          0.972316445078171,
          0.9727857419639009,
          0.9736068040252375,
          0.9743107773255297,
          0.9752491216507518,
          0.9757184185364814,
          0.8763802896800839,
          0.8767322483585323,
          0.8773186899487018,
          0.878022663248994,
          0.878726443046445,
          0.8791957399321747,
          0.8800166644340653,
          0.880485961319795,
          0.8811897411172458,
          0.8816590380029756,
          0.8822455355365408,
          0.882832170629552,
          0.8836532326908884,
          0.8843572059911807,
          0.8849436475813502,
          0.8856476208816428,
          0.7860750091135239,
          0.7866615882631393,
          0.7872480298533087,
          0.7877173267390385,
          0.7883038242726037,
          0.7888904593656149,
          0.7894768193397342,
          0.6897392872071696,
          0.690325784740735,
          0.6909124198337461,
          0.6914989173673113,
          0.6919682142530409,
          0.6925547117866063,
          0.6930240086723359,
          0.6936105062059013,
          0.6939624648843495,
          0.6944316242106335,
          0.6947835828890819,
          0.6952527422153657,
          0.5955152100828012,
          0.595984369409085,
          0.4962945569931307,
          0.39655694324451607,
          0.396791563715683,
          0.39702610257079995,
          0.3972607230419669,
          0.39761246254491933,
          0.3978470830160864,
          0.39808162187120333,
          0.39831624234237023,
          0.39855078119748716,
          0.3987854016686541,
          0.39901994052377104,
          0.39925456099493806,
          0.29939960903904206,
          0.299634229510209,
          0.19966207690647747,
          0.0998072065666315,
          0.0998072065666315,
          0.09992448883051708,
          0.09992448883051708,
          0.10004177109440267,
          0.10004177109440267
         ],
         "yaxis": "y"
        }
       ],
       "layout": {
        "height": 700,
        "legend": {
         "tracegroupgap": 0
        },
        "shapes": [
         {
          "line": {
           "dash": "dash"
          },
          "type": "line",
          "x0": 0,
          "x1": 1,
          "y0": 0,
          "y1": 1
         }
        ],
        "template": {
         "data": {
          "bar": [
           {
            "error_x": {
             "color": "#2a3f5f"
            },
            "error_y": {
             "color": "#2a3f5f"
            },
            "marker": {
             "line": {
              "color": "#E5ECF6",
              "width": 0.5
             },
             "pattern": {
              "fillmode": "overlay",
              "size": 10,
              "solidity": 0.2
             }
            },
            "type": "bar"
           }
          ],
          "barpolar": [
           {
            "marker": {
             "line": {
              "color": "#E5ECF6",
              "width": 0.5
             },
             "pattern": {
              "fillmode": "overlay",
              "size": 10,
              "solidity": 0.2
             }
            },
            "type": "barpolar"
           }
          ],
          "carpet": [
           {
            "aaxis": {
             "endlinecolor": "#2a3f5f",
             "gridcolor": "white",
             "linecolor": "white",
             "minorgridcolor": "white",
             "startlinecolor": "#2a3f5f"
            },
            "baxis": {
             "endlinecolor": "#2a3f5f",
             "gridcolor": "white",
             "linecolor": "white",
             "minorgridcolor": "white",
             "startlinecolor": "#2a3f5f"
            },
            "type": "carpet"
           }
          ],
          "choropleth": [
           {
            "colorbar": {
             "outlinewidth": 0,
             "ticks": ""
            },
            "type": "choropleth"
           }
          ],
          "contour": [
           {
            "colorbar": {
             "outlinewidth": 0,
             "ticks": ""
            },
            "colorscale": [
             [
              0,
              "#0d0887"
             ],
             [
              0.1111111111111111,
              "#46039f"
             ],
             [
              0.2222222222222222,
              "#7201a8"
             ],
             [
              0.3333333333333333,
              "#9c179e"
             ],
             [
              0.4444444444444444,
              "#bd3786"
             ],
             [
              0.5555555555555556,
              "#d8576b"
             ],
             [
              0.6666666666666666,
              "#ed7953"
             ],
             [
              0.7777777777777778,
              "#fb9f3a"
             ],
             [
              0.8888888888888888,
              "#fdca26"
             ],
             [
              1,
              "#f0f921"
             ]
            ],
            "type": "contour"
           }
          ],
          "contourcarpet": [
           {
            "colorbar": {
             "outlinewidth": 0,
             "ticks": ""
            },
            "type": "contourcarpet"
           }
          ],
          "heatmap": [
           {
            "colorbar": {
             "outlinewidth": 0,
             "ticks": ""
            },
            "colorscale": [
             [
              0,
              "#0d0887"
             ],
             [
              0.1111111111111111,
              "#46039f"
             ],
             [
              0.2222222222222222,
              "#7201a8"
             ],
             [
              0.3333333333333333,
              "#9c179e"
             ],
             [
              0.4444444444444444,
              "#bd3786"
             ],
             [
              0.5555555555555556,
              "#d8576b"
             ],
             [
              0.6666666666666666,
              "#ed7953"
             ],
             [
              0.7777777777777778,
              "#fb9f3a"
             ],
             [
              0.8888888888888888,
              "#fdca26"
             ],
             [
              1,
              "#f0f921"
             ]
            ],
            "type": "heatmap"
           }
          ],
          "heatmapgl": [
           {
            "colorbar": {
             "outlinewidth": 0,
             "ticks": ""
            },
            "colorscale": [
             [
              0,
              "#0d0887"
             ],
             [
              0.1111111111111111,
              "#46039f"
             ],
             [
              0.2222222222222222,
              "#7201a8"
             ],
             [
              0.3333333333333333,
              "#9c179e"
             ],
             [
              0.4444444444444444,
              "#bd3786"
             ],
             [
              0.5555555555555556,
              "#d8576b"
             ],
             [
              0.6666666666666666,
              "#ed7953"
             ],
             [
              0.7777777777777778,
              "#fb9f3a"
             ],
             [
              0.8888888888888888,
              "#fdca26"
             ],
             [
              1,
              "#f0f921"
             ]
            ],
            "type": "heatmapgl"
           }
          ],
          "histogram": [
           {
            "marker": {
             "pattern": {
              "fillmode": "overlay",
              "size": 10,
              "solidity": 0.2
             }
            },
            "type": "histogram"
           }
          ],
          "histogram2d": [
           {
            "colorbar": {
             "outlinewidth": 0,
             "ticks": ""
            },
            "colorscale": [
             [
              0,
              "#0d0887"
             ],
             [
              0.1111111111111111,
              "#46039f"
             ],
             [
              0.2222222222222222,
              "#7201a8"
             ],
             [
              0.3333333333333333,
              "#9c179e"
             ],
             [
              0.4444444444444444,
              "#bd3786"
             ],
             [
              0.5555555555555556,
              "#d8576b"
             ],
             [
              0.6666666666666666,
              "#ed7953"
             ],
             [
              0.7777777777777778,
              "#fb9f3a"
             ],
             [
              0.8888888888888888,
              "#fdca26"
             ],
             [
              1,
              "#f0f921"
             ]
            ],
            "type": "histogram2d"
           }
          ],
          "histogram2dcontour": [
           {
            "colorbar": {
             "outlinewidth": 0,
             "ticks": ""
            },
            "colorscale": [
             [
              0,
              "#0d0887"
             ],
             [
              0.1111111111111111,
              "#46039f"
             ],
             [
              0.2222222222222222,
              "#7201a8"
             ],
             [
              0.3333333333333333,
              "#9c179e"
             ],
             [
              0.4444444444444444,
              "#bd3786"
             ],
             [
              0.5555555555555556,
              "#d8576b"
             ],
             [
              0.6666666666666666,
              "#ed7953"
             ],
             [
              0.7777777777777778,
              "#fb9f3a"
             ],
             [
              0.8888888888888888,
              "#fdca26"
             ],
             [
              1,
              "#f0f921"
             ]
            ],
            "type": "histogram2dcontour"
           }
          ],
          "mesh3d": [
           {
            "colorbar": {
             "outlinewidth": 0,
             "ticks": ""
            },
            "type": "mesh3d"
           }
          ],
          "parcoords": [
           {
            "line": {
             "colorbar": {
              "outlinewidth": 0,
              "ticks": ""
             }
            },
            "type": "parcoords"
           }
          ],
          "pie": [
           {
            "automargin": true,
            "type": "pie"
           }
          ],
          "scatter": [
           {
            "fillpattern": {
             "fillmode": "overlay",
             "size": 10,
             "solidity": 0.2
            },
            "type": "scatter"
           }
          ],
          "scatter3d": [
           {
            "line": {
             "colorbar": {
              "outlinewidth": 0,
              "ticks": ""
             }
            },
            "marker": {
             "colorbar": {
              "outlinewidth": 0,
              "ticks": ""
             }
            },
            "type": "scatter3d"
           }
          ],
          "scattercarpet": [
           {
            "marker": {
             "colorbar": {
              "outlinewidth": 0,
              "ticks": ""
             }
            },
            "type": "scattercarpet"
           }
          ],
          "scattergeo": [
           {
            "marker": {
             "colorbar": {
              "outlinewidth": 0,
              "ticks": ""
             }
            },
            "type": "scattergeo"
           }
          ],
          "scattergl": [
           {
            "marker": {
             "colorbar": {
              "outlinewidth": 0,
              "ticks": ""
             }
            },
            "type": "scattergl"
           }
          ],
          "scattermapbox": [
           {
            "marker": {
             "colorbar": {
              "outlinewidth": 0,
              "ticks": ""
             }
            },
            "type": "scattermapbox"
           }
          ],
          "scatterpolar": [
           {
            "marker": {
             "colorbar": {
              "outlinewidth": 0,
              "ticks": ""
             }
            },
            "type": "scatterpolar"
           }
          ],
          "scatterpolargl": [
           {
            "marker": {
             "colorbar": {
              "outlinewidth": 0,
              "ticks": ""
             }
            },
            "type": "scatterpolargl"
           }
          ],
          "scatterternary": [
           {
            "marker": {
             "colorbar": {
              "outlinewidth": 0,
              "ticks": ""
             }
            },
            "type": "scatterternary"
           }
          ],
          "surface": [
           {
            "colorbar": {
             "outlinewidth": 0,
             "ticks": ""
            },
            "colorscale": [
             [
              0,
              "#0d0887"
             ],
             [
              0.1111111111111111,
              "#46039f"
             ],
             [
              0.2222222222222222,
              "#7201a8"
             ],
             [
              0.3333333333333333,
              "#9c179e"
             ],
             [
              0.4444444444444444,
              "#bd3786"
             ],
             [
              0.5555555555555556,
              "#d8576b"
             ],
             [
              0.6666666666666666,
              "#ed7953"
             ],
             [
              0.7777777777777778,
              "#fb9f3a"
             ],
             [
              0.8888888888888888,
              "#fdca26"
             ],
             [
              1,
              "#f0f921"
             ]
            ],
            "type": "surface"
           }
          ],
          "table": [
           {
            "cells": {
             "fill": {
              "color": "#EBF0F8"
             },
             "line": {
              "color": "white"
             }
            },
            "header": {
             "fill": {
              "color": "#C8D4E3"
             },
             "line": {
              "color": "white"
             }
            },
            "type": "table"
           }
          ]
         },
         "layout": {
          "annotationdefaults": {
           "arrowcolor": "#2a3f5f",
           "arrowhead": 0,
           "arrowwidth": 1
          },
          "autotypenumbers": "strict",
          "coloraxis": {
           "colorbar": {
            "outlinewidth": 0,
            "ticks": ""
           }
          },
          "colorscale": {
           "diverging": [
            [
             0,
             "#8e0152"
            ],
            [
             0.1,
             "#c51b7d"
            ],
            [
             0.2,
             "#de77ae"
            ],
            [
             0.3,
             "#f1b6da"
            ],
            [
             0.4,
             "#fde0ef"
            ],
            [
             0.5,
             "#f7f7f7"
            ],
            [
             0.6,
             "#e6f5d0"
            ],
            [
             0.7,
             "#b8e186"
            ],
            [
             0.8,
             "#7fbc41"
            ],
            [
             0.9,
             "#4d9221"
            ],
            [
             1,
             "#276419"
            ]
           ],
           "sequential": [
            [
             0,
             "#0d0887"
            ],
            [
             0.1111111111111111,
             "#46039f"
            ],
            [
             0.2222222222222222,
             "#7201a8"
            ],
            [
             0.3333333333333333,
             "#9c179e"
            ],
            [
             0.4444444444444444,
             "#bd3786"
            ],
            [
             0.5555555555555556,
             "#d8576b"
            ],
            [
             0.6666666666666666,
             "#ed7953"
            ],
            [
             0.7777777777777778,
             "#fb9f3a"
            ],
            [
             0.8888888888888888,
             "#fdca26"
            ],
            [
             1,
             "#f0f921"
            ]
           ],
           "sequentialminus": [
            [
             0,
             "#0d0887"
            ],
            [
             0.1111111111111111,
             "#46039f"
            ],
            [
             0.2222222222222222,
             "#7201a8"
            ],
            [
             0.3333333333333333,
             "#9c179e"
            ],
            [
             0.4444444444444444,
             "#bd3786"
            ],
            [
             0.5555555555555556,
             "#d8576b"
            ],
            [
             0.6666666666666666,
             "#ed7953"
            ],
            [
             0.7777777777777778,
             "#fb9f3a"
            ],
            [
             0.8888888888888888,
             "#fdca26"
            ],
            [
             1,
             "#f0f921"
            ]
           ]
          },
          "colorway": [
           "#636efa",
           "#EF553B",
           "#00cc96",
           "#ab63fa",
           "#FFA15A",
           "#19d3f3",
           "#FF6692",
           "#B6E880",
           "#FF97FF",
           "#FECB52"
          ],
          "font": {
           "color": "#2a3f5f"
          },
          "geo": {
           "bgcolor": "white",
           "lakecolor": "white",
           "landcolor": "#E5ECF6",
           "showlakes": true,
           "showland": true,
           "subunitcolor": "white"
          },
          "hoverlabel": {
           "align": "left"
          },
          "hovermode": "closest",
          "mapbox": {
           "style": "light"
          },
          "paper_bgcolor": "white",
          "plot_bgcolor": "#E5ECF6",
          "polar": {
           "angularaxis": {
            "gridcolor": "white",
            "linecolor": "white",
            "ticks": ""
           },
           "bgcolor": "#E5ECF6",
           "radialaxis": {
            "gridcolor": "white",
            "linecolor": "white",
            "ticks": ""
           }
          },
          "scene": {
           "xaxis": {
            "backgroundcolor": "#E5ECF6",
            "gridcolor": "white",
            "gridwidth": 2,
            "linecolor": "white",
            "showbackground": true,
            "ticks": "",
            "zerolinecolor": "white"
           },
           "yaxis": {
            "backgroundcolor": "#E5ECF6",
            "gridcolor": "white",
            "gridwidth": 2,
            "linecolor": "white",
            "showbackground": true,
            "ticks": "",
            "zerolinecolor": "white"
           },
           "zaxis": {
            "backgroundcolor": "#E5ECF6",
            "gridcolor": "white",
            "gridwidth": 2,
            "linecolor": "white",
            "showbackground": true,
            "ticks": "",
            "zerolinecolor": "white"
           }
          },
          "shapedefaults": {
           "line": {
            "color": "#2a3f5f"
           }
          },
          "ternary": {
           "aaxis": {
            "gridcolor": "white",
            "linecolor": "white",
            "ticks": ""
           },
           "baxis": {
            "gridcolor": "white",
            "linecolor": "white",
            "ticks": ""
           },
           "bgcolor": "#E5ECF6",
           "caxis": {
            "gridcolor": "white",
            "linecolor": "white",
            "ticks": ""
           }
          },
          "title": {
           "x": 0.05
          },
          "xaxis": {
           "automargin": true,
           "gridcolor": "white",
           "linecolor": "white",
           "ticks": "",
           "title": {
            "standoff": 15
           },
           "zerolinecolor": "white",
           "zerolinewidth": 2
          },
          "yaxis": {
           "automargin": true,
           "gridcolor": "white",
           "linecolor": "white",
           "ticks": "",
           "title": {
            "standoff": 15
           },
           "zerolinecolor": "white",
           "zerolinewidth": 2
          }
         }
        },
        "title": {
         "text": "ROC Curve (AUC=0.8597)"
        },
        "width": 700,
        "xaxis": {
         "anchor": "y",
         "constrain": "domain",
         "domain": [
          0,
          1
         ],
         "title": {
          "text": "Average False Positive Rate"
         }
        },
        "yaxis": {
         "anchor": "x",
         "domain": [
          0,
          1
         ],
         "scaleanchor": "x",
         "scaleratio": 1,
         "title": {
          "text": "Average True Positive Rate"
         }
        }
       }
      }
     },
     "metadata": {},
     "output_type": "display_data"
    },
    {
     "data": {
      "application/vnd.plotly.v1+json": {
       "config": {
        "plotlyServerURL": "https://plot.ly"
       },
       "data": [
        {
         "hovertemplate": "K-Fold=%{x}<br>AUC Score=%{y}<extra></extra>",
         "legendgroup": "",
         "marker": {
          "color": "#636efa",
          "symbol": "circle"
         },
         "mode": "markers",
         "name": "",
         "orientation": "v",
         "showlegend": false,
         "type": "scatter",
         "x": [
          1,
          2,
          3,
          4,
          5,
          6,
          7,
          8,
          9,
          10
         ],
         "xaxis": "x",
         "y": [
          0.8537454431579117,
          0.8684317236506127,
          0.8580935136263631,
          0.8657718929162181,
          0.8422518444637933,
          0.8566959691941604,
          0.8718225448581903,
          0.8604502299183227,
          0.8626358608270629,
          0.8569301080455334
         ],
         "yaxis": "y"
        },
        {
         "hovertemplate": "<b>OLS trendline</b><br>y = 0.000196792 * x + 0.858601<br>R<sup>2</sup>=0.005084<br><br>K-Fold=%{x}<br>AUC Score=%{y} <b>(trend)</b><extra></extra>",
         "legendgroup": "",
         "marker": {
          "color": "#636efa",
          "symbol": "circle"
         },
         "mode": "lines",
         "name": "",
         "showlegend": false,
         "type": "scatter",
         "x": [
          1,
          2,
          3,
          4,
          5,
          6,
          7,
          8,
          9,
          10
         ],
         "xaxis": "x",
         "y": [
          0.8587973510774575,
          0.8589941426304262,
          0.8591909341833949,
          0.8593877257363636,
          0.8595845172893324,
          0.8597813088423011,
          0.8599781003952698,
          0.8601748919482385,
          0.8603716835012072,
          0.8605684750541759
         ],
         "yaxis": "y"
        }
       ],
       "layout": {
        "legend": {
         "tracegroupgap": 0
        },
        "template": {
         "data": {
          "bar": [
           {
            "error_x": {
             "color": "#2a3f5f"
            },
            "error_y": {
             "color": "#2a3f5f"
            },
            "marker": {
             "line": {
              "color": "#E5ECF6",
              "width": 0.5
             },
             "pattern": {
              "fillmode": "overlay",
              "size": 10,
              "solidity": 0.2
             }
            },
            "type": "bar"
           }
          ],
          "barpolar": [
           {
            "marker": {
             "line": {
              "color": "#E5ECF6",
              "width": 0.5
             },
             "pattern": {
              "fillmode": "overlay",
              "size": 10,
              "solidity": 0.2
             }
            },
            "type": "barpolar"
           }
          ],
          "carpet": [
           {
            "aaxis": {
             "endlinecolor": "#2a3f5f",
             "gridcolor": "white",
             "linecolor": "white",
             "minorgridcolor": "white",
             "startlinecolor": "#2a3f5f"
            },
            "baxis": {
             "endlinecolor": "#2a3f5f",
             "gridcolor": "white",
             "linecolor": "white",
             "minorgridcolor": "white",
             "startlinecolor": "#2a3f5f"
            },
            "type": "carpet"
           }
          ],
          "choropleth": [
           {
            "colorbar": {
             "outlinewidth": 0,
             "ticks": ""
            },
            "type": "choropleth"
           }
          ],
          "contour": [
           {
            "colorbar": {
             "outlinewidth": 0,
             "ticks": ""
            },
            "colorscale": [
             [
              0,
              "#0d0887"
             ],
             [
              0.1111111111111111,
              "#46039f"
             ],
             [
              0.2222222222222222,
              "#7201a8"
             ],
             [
              0.3333333333333333,
              "#9c179e"
             ],
             [
              0.4444444444444444,
              "#bd3786"
             ],
             [
              0.5555555555555556,
              "#d8576b"
             ],
             [
              0.6666666666666666,
              "#ed7953"
             ],
             [
              0.7777777777777778,
              "#fb9f3a"
             ],
             [
              0.8888888888888888,
              "#fdca26"
             ],
             [
              1,
              "#f0f921"
             ]
            ],
            "type": "contour"
           }
          ],
          "contourcarpet": [
           {
            "colorbar": {
             "outlinewidth": 0,
             "ticks": ""
            },
            "type": "contourcarpet"
           }
          ],
          "heatmap": [
           {
            "colorbar": {
             "outlinewidth": 0,
             "ticks": ""
            },
            "colorscale": [
             [
              0,
              "#0d0887"
             ],
             [
              0.1111111111111111,
              "#46039f"
             ],
             [
              0.2222222222222222,
              "#7201a8"
             ],
             [
              0.3333333333333333,
              "#9c179e"
             ],
             [
              0.4444444444444444,
              "#bd3786"
             ],
             [
              0.5555555555555556,
              "#d8576b"
             ],
             [
              0.6666666666666666,
              "#ed7953"
             ],
             [
              0.7777777777777778,
              "#fb9f3a"
             ],
             [
              0.8888888888888888,
              "#fdca26"
             ],
             [
              1,
              "#f0f921"
             ]
            ],
            "type": "heatmap"
           }
          ],
          "heatmapgl": [
           {
            "colorbar": {
             "outlinewidth": 0,
             "ticks": ""
            },
            "colorscale": [
             [
              0,
              "#0d0887"
             ],
             [
              0.1111111111111111,
              "#46039f"
             ],
             [
              0.2222222222222222,
              "#7201a8"
             ],
             [
              0.3333333333333333,
              "#9c179e"
             ],
             [
              0.4444444444444444,
              "#bd3786"
             ],
             [
              0.5555555555555556,
              "#d8576b"
             ],
             [
              0.6666666666666666,
              "#ed7953"
             ],
             [
              0.7777777777777778,
              "#fb9f3a"
             ],
             [
              0.8888888888888888,
              "#fdca26"
             ],
             [
              1,
              "#f0f921"
             ]
            ],
            "type": "heatmapgl"
           }
          ],
          "histogram": [
           {
            "marker": {
             "pattern": {
              "fillmode": "overlay",
              "size": 10,
              "solidity": 0.2
             }
            },
            "type": "histogram"
           }
          ],
          "histogram2d": [
           {
            "colorbar": {
             "outlinewidth": 0,
             "ticks": ""
            },
            "colorscale": [
             [
              0,
              "#0d0887"
             ],
             [
              0.1111111111111111,
              "#46039f"
             ],
             [
              0.2222222222222222,
              "#7201a8"
             ],
             [
              0.3333333333333333,
              "#9c179e"
             ],
             [
              0.4444444444444444,
              "#bd3786"
             ],
             [
              0.5555555555555556,
              "#d8576b"
             ],
             [
              0.6666666666666666,
              "#ed7953"
             ],
             [
              0.7777777777777778,
              "#fb9f3a"
             ],
             [
              0.8888888888888888,
              "#fdca26"
             ],
             [
              1,
              "#f0f921"
             ]
            ],
            "type": "histogram2d"
           }
          ],
          "histogram2dcontour": [
           {
            "colorbar": {
             "outlinewidth": 0,
             "ticks": ""
            },
            "colorscale": [
             [
              0,
              "#0d0887"
             ],
             [
              0.1111111111111111,
              "#46039f"
             ],
             [
              0.2222222222222222,
              "#7201a8"
             ],
             [
              0.3333333333333333,
              "#9c179e"
             ],
             [
              0.4444444444444444,
              "#bd3786"
             ],
             [
              0.5555555555555556,
              "#d8576b"
             ],
             [
              0.6666666666666666,
              "#ed7953"
             ],
             [
              0.7777777777777778,
              "#fb9f3a"
             ],
             [
              0.8888888888888888,
              "#fdca26"
             ],
             [
              1,
              "#f0f921"
             ]
            ],
            "type": "histogram2dcontour"
           }
          ],
          "mesh3d": [
           {
            "colorbar": {
             "outlinewidth": 0,
             "ticks": ""
            },
            "type": "mesh3d"
           }
          ],
          "parcoords": [
           {
            "line": {
             "colorbar": {
              "outlinewidth": 0,
              "ticks": ""
             }
            },
            "type": "parcoords"
           }
          ],
          "pie": [
           {
            "automargin": true,
            "type": "pie"
           }
          ],
          "scatter": [
           {
            "fillpattern": {
             "fillmode": "overlay",
             "size": 10,
             "solidity": 0.2
            },
            "type": "scatter"
           }
          ],
          "scatter3d": [
           {
            "line": {
             "colorbar": {
              "outlinewidth": 0,
              "ticks": ""
             }
            },
            "marker": {
             "colorbar": {
              "outlinewidth": 0,
              "ticks": ""
             }
            },
            "type": "scatter3d"
           }
          ],
          "scattercarpet": [
           {
            "marker": {
             "colorbar": {
              "outlinewidth": 0,
              "ticks": ""
             }
            },
            "type": "scattercarpet"
           }
          ],
          "scattergeo": [
           {
            "marker": {
             "colorbar": {
              "outlinewidth": 0,
              "ticks": ""
             }
            },
            "type": "scattergeo"
           }
          ],
          "scattergl": [
           {
            "marker": {
             "colorbar": {
              "outlinewidth": 0,
              "ticks": ""
             }
            },
            "type": "scattergl"
           }
          ],
          "scattermapbox": [
           {
            "marker": {
             "colorbar": {
              "outlinewidth": 0,
              "ticks": ""
             }
            },
            "type": "scattermapbox"
           }
          ],
          "scatterpolar": [
           {
            "marker": {
             "colorbar": {
              "outlinewidth": 0,
              "ticks": ""
             }
            },
            "type": "scatterpolar"
           }
          ],
          "scatterpolargl": [
           {
            "marker": {
             "colorbar": {
              "outlinewidth": 0,
              "ticks": ""
             }
            },
            "type": "scatterpolargl"
           }
          ],
          "scatterternary": [
           {
            "marker": {
             "colorbar": {
              "outlinewidth": 0,
              "ticks": ""
             }
            },
            "type": "scatterternary"
           }
          ],
          "surface": [
           {
            "colorbar": {
             "outlinewidth": 0,
             "ticks": ""
            },
            "colorscale": [
             [
              0,
              "#0d0887"
             ],
             [
              0.1111111111111111,
              "#46039f"
             ],
             [
              0.2222222222222222,
              "#7201a8"
             ],
             [
              0.3333333333333333,
              "#9c179e"
             ],
             [
              0.4444444444444444,
              "#bd3786"
             ],
             [
              0.5555555555555556,
              "#d8576b"
             ],
             [
              0.6666666666666666,
              "#ed7953"
             ],
             [
              0.7777777777777778,
              "#fb9f3a"
             ],
             [
              0.8888888888888888,
              "#fdca26"
             ],
             [
              1,
              "#f0f921"
             ]
            ],
            "type": "surface"
           }
          ],
          "table": [
           {
            "cells": {
             "fill": {
              "color": "#EBF0F8"
             },
             "line": {
              "color": "white"
             }
            },
            "header": {
             "fill": {
              "color": "#C8D4E3"
             },
             "line": {
              "color": "white"
             }
            },
            "type": "table"
           }
          ]
         },
         "layout": {
          "annotationdefaults": {
           "arrowcolor": "#2a3f5f",
           "arrowhead": 0,
           "arrowwidth": 1
          },
          "autotypenumbers": "strict",
          "coloraxis": {
           "colorbar": {
            "outlinewidth": 0,
            "ticks": ""
           }
          },
          "colorscale": {
           "diverging": [
            [
             0,
             "#8e0152"
            ],
            [
             0.1,
             "#c51b7d"
            ],
            [
             0.2,
             "#de77ae"
            ],
            [
             0.3,
             "#f1b6da"
            ],
            [
             0.4,
             "#fde0ef"
            ],
            [
             0.5,
             "#f7f7f7"
            ],
            [
             0.6,
             "#e6f5d0"
            ],
            [
             0.7,
             "#b8e186"
            ],
            [
             0.8,
             "#7fbc41"
            ],
            [
             0.9,
             "#4d9221"
            ],
            [
             1,
             "#276419"
            ]
           ],
           "sequential": [
            [
             0,
             "#0d0887"
            ],
            [
             0.1111111111111111,
             "#46039f"
            ],
            [
             0.2222222222222222,
             "#7201a8"
            ],
            [
             0.3333333333333333,
             "#9c179e"
            ],
            [
             0.4444444444444444,
             "#bd3786"
            ],
            [
             0.5555555555555556,
             "#d8576b"
            ],
            [
             0.6666666666666666,
             "#ed7953"
            ],
            [
             0.7777777777777778,
             "#fb9f3a"
            ],
            [
             0.8888888888888888,
             "#fdca26"
            ],
            [
             1,
             "#f0f921"
            ]
           ],
           "sequentialminus": [
            [
             0,
             "#0d0887"
            ],
            [
             0.1111111111111111,
             "#46039f"
            ],
            [
             0.2222222222222222,
             "#7201a8"
            ],
            [
             0.3333333333333333,
             "#9c179e"
            ],
            [
             0.4444444444444444,
             "#bd3786"
            ],
            [
             0.5555555555555556,
             "#d8576b"
            ],
            [
             0.6666666666666666,
             "#ed7953"
            ],
            [
             0.7777777777777778,
             "#fb9f3a"
            ],
            [
             0.8888888888888888,
             "#fdca26"
            ],
            [
             1,
             "#f0f921"
            ]
           ]
          },
          "colorway": [
           "#636efa",
           "#EF553B",
           "#00cc96",
           "#ab63fa",
           "#FFA15A",
           "#19d3f3",
           "#FF6692",
           "#B6E880",
           "#FF97FF",
           "#FECB52"
          ],
          "font": {
           "color": "#2a3f5f"
          },
          "geo": {
           "bgcolor": "white",
           "lakecolor": "white",
           "landcolor": "#E5ECF6",
           "showlakes": true,
           "showland": true,
           "subunitcolor": "white"
          },
          "hoverlabel": {
           "align": "left"
          },
          "hovermode": "closest",
          "mapbox": {
           "style": "light"
          },
          "paper_bgcolor": "white",
          "plot_bgcolor": "#E5ECF6",
          "polar": {
           "angularaxis": {
            "gridcolor": "white",
            "linecolor": "white",
            "ticks": ""
           },
           "bgcolor": "#E5ECF6",
           "radialaxis": {
            "gridcolor": "white",
            "linecolor": "white",
            "ticks": ""
           }
          },
          "scene": {
           "xaxis": {
            "backgroundcolor": "#E5ECF6",
            "gridcolor": "white",
            "gridwidth": 2,
            "linecolor": "white",
            "showbackground": true,
            "ticks": "",
            "zerolinecolor": "white"
           },
           "yaxis": {
            "backgroundcolor": "#E5ECF6",
            "gridcolor": "white",
            "gridwidth": 2,
            "linecolor": "white",
            "showbackground": true,
            "ticks": "",
            "zerolinecolor": "white"
           },
           "zaxis": {
            "backgroundcolor": "#E5ECF6",
            "gridcolor": "white",
            "gridwidth": 2,
            "linecolor": "white",
            "showbackground": true,
            "ticks": "",
            "zerolinecolor": "white"
           }
          },
          "shapedefaults": {
           "line": {
            "color": "#2a3f5f"
           }
          },
          "ternary": {
           "aaxis": {
            "gridcolor": "white",
            "linecolor": "white",
            "ticks": ""
           },
           "baxis": {
            "gridcolor": "white",
            "linecolor": "white",
            "ticks": ""
           },
           "bgcolor": "#E5ECF6",
           "caxis": {
            "gridcolor": "white",
            "linecolor": "white",
            "ticks": ""
           }
          },
          "title": {
           "x": 0.05
          },
          "xaxis": {
           "automargin": true,
           "gridcolor": "white",
           "linecolor": "white",
           "ticks": "",
           "title": {
            "standoff": 15
           },
           "zerolinecolor": "white",
           "zerolinewidth": 2
          },
          "yaxis": {
           "automargin": true,
           "gridcolor": "white",
           "linecolor": "white",
           "ticks": "",
           "title": {
            "standoff": 15
           },
           "zerolinecolor": "white",
           "zerolinewidth": 2
          }
         }
        },
        "title": {
         "text": "AUC Values for the each K-Fold"
        },
        "xaxis": {
         "anchor": "y",
         "domain": [
          0,
          1
         ],
         "title": {
          "text": "K-Fold"
         }
        },
        "yaxis": {
         "anchor": "x",
         "domain": [
          0,
          1
         ],
         "title": {
          "text": "AUC Score"
         }
        }
       }
      }
     },
     "metadata": {},
     "output_type": "display_data"
    }
   ],
   "source": [
    "# Tokenize the text and pad sequences\n",
    "texts = df['Cleaned Text with V lemmatization']\n",
    "tokenizer = Tokenizer()\n",
    "tokenizer.fit_on_texts(texts)\n",
    "sequences = tokenizer.texts_to_sequences(texts)\n",
    "maxLen = 150\n",
    "sequences = pad_sequences(sequences, maxlen=maxLen)\n",
    "\n",
    "# Create an embedding matrix\n",
    "vocab_len = len(tokenizer.word_index) + 1\n",
    "embed_vector_len = 50\n",
    "embedding_matrix = np.zeros((vocab_len, embed_vector_len))\n",
    "\n",
    "# Load GloVe embeddings\n",
    "glove_path = 'glove.twitter.27B.50d.txt' \n",
    "glove_index = {}\n",
    "with open(glove_path, encoding=\"utf-8\") as f:\n",
    "    for line in f:\n",
    "        values = line.split()\n",
    "        word = values[0]\n",
    "        vector = np.asarray(values[1:], dtype='float32')\n",
    "        glove_index[word] = vector\n",
    "\n",
    "# Create a feature matrix with average word embeddings using GloVe\n",
    "feature_matrix = np.array([\n",
    "    np.mean([glove_index.get(word, np.zeros(embed_vector_len)) for word in tokenizer.sequences_to_texts([seq])[0].split()], axis=0)\n",
    "    for seq in sequences\n",
    "])\n",
    "\n",
    "y = df['Label']\n",
    "perform_kfold_cross_validation_with_lstm(feature_matrix, y)"
   ]
  },
  {
   "cell_type": "markdown",
   "metadata": {
    "cell_id": "28eff3d9e6eb4d829c1cd1628cd4df24",
    "deepnote_cell_type": "markdown"
   },
   "source": [
    "##### Vector Size of 200"
   ]
  },
  {
   "cell_type": "code",
   "execution_count": 22,
   "metadata": {
    "cell_id": "83d1ea87d4594557b0fb46ff92fa0656",
    "deepnote_cell_type": "code",
    "deepnote_to_be_reexecuted": false,
    "execution_millis": 143314,
    "execution_start": 1698741121574,
    "source_hash": null
   },
   "outputs": [
    {
     "name": "stdout",
     "output_type": "stream",
     "text": [
      "Epoch 1/5\n",
      "202/202 [==============================] - 2s 2ms/step - loss: 0.5027 - accuracy: 0.7517\n",
      "Epoch 2/5\n",
      "202/202 [==============================] - 0s 2ms/step - loss: 0.4337 - accuracy: 0.8024\n",
      "Epoch 3/5\n",
      "202/202 [==============================] - 0s 2ms/step - loss: 0.4208 - accuracy: 0.8111\n",
      "Epoch 4/5\n",
      "202/202 [==============================] - 0s 2ms/step - loss: 0.4133 - accuracy: 0.8152\n",
      "Epoch 5/5\n",
      "202/202 [==============================] - 0s 2ms/step - loss: 0.4074 - accuracy: 0.8167\n",
      "45/45 [==============================] - 0s 865us/step\n",
      "45/45 [==============================] - 0s 876us/step\n",
      "Epoch 1/5\n",
      "202/202 [==============================] - 2s 2ms/step - loss: 0.5076 - accuracy: 0.7491\n",
      "Epoch 2/5\n",
      "202/202 [==============================] - 0s 2ms/step - loss: 0.4360 - accuracy: 0.8008\n",
      "Epoch 3/5\n",
      "202/202 [==============================] - 0s 2ms/step - loss: 0.4223 - accuracy: 0.8102\n",
      "Epoch 4/5\n",
      "202/202 [==============================] - 0s 2ms/step - loss: 0.4168 - accuracy: 0.8152\n",
      "Epoch 5/5\n",
      "202/202 [==============================] - 0s 2ms/step - loss: 0.4091 - accuracy: 0.8171\n",
      "45/45 [==============================] - 0s 941us/step\n",
      "45/45 [==============================] - 0s 912us/step\n",
      "Epoch 1/5\n",
      "202/202 [==============================] - 2s 2ms/step - loss: 0.5052 - accuracy: 0.7502\n",
      "Epoch 2/5\n",
      "202/202 [==============================] - 0s 2ms/step - loss: 0.4351 - accuracy: 0.8021\n",
      "Epoch 3/5\n",
      "202/202 [==============================] - 0s 2ms/step - loss: 0.4241 - accuracy: 0.8111\n",
      "Epoch 4/5\n",
      "202/202 [==============================] - 0s 2ms/step - loss: 0.4148 - accuracy: 0.8149\n",
      "Epoch 5/5\n",
      "202/202 [==============================] - 0s 2ms/step - loss: 0.4102 - accuracy: 0.8151\n",
      "45/45 [==============================] - 0s 962us/step\n",
      "45/45 [==============================] - 0s 987us/step\n",
      "Epoch 1/5\n",
      "202/202 [==============================] - 2s 2ms/step - loss: 0.5012 - accuracy: 0.7531\n",
      "Epoch 2/5\n",
      "202/202 [==============================] - 0s 2ms/step - loss: 0.4359 - accuracy: 0.8023\n",
      "Epoch 3/5\n",
      "202/202 [==============================] - 0s 2ms/step - loss: 0.4234 - accuracy: 0.8112\n",
      "Epoch 4/5\n",
      "202/202 [==============================] - 0s 2ms/step - loss: 0.4145 - accuracy: 0.8136\n",
      "Epoch 5/5\n",
      "202/202 [==============================] - 0s 2ms/step - loss: 0.4093 - accuracy: 0.8161\n",
      "45/45 [==============================] - 0s 947us/step\n",
      "45/45 [==============================] - 0s 911us/step\n",
      "Epoch 1/5\n",
      "202/202 [==============================] - 1s 2ms/step - loss: 0.5070 - accuracy: 0.7478\n",
      "Epoch 2/5\n",
      "202/202 [==============================] - 0s 2ms/step - loss: 0.4322 - accuracy: 0.8041\n",
      "Epoch 3/5\n",
      "202/202 [==============================] - 0s 2ms/step - loss: 0.4192 - accuracy: 0.8103\n",
      "Epoch 4/5\n",
      "202/202 [==============================] - 0s 2ms/step - loss: 0.4131 - accuracy: 0.8155\n",
      "Epoch 5/5\n",
      "202/202 [==============================] - 0s 2ms/step - loss: 0.4056 - accuracy: 0.8173\n",
      "45/45 [==============================] - 0s 932us/step\n",
      "45/45 [==============================] - 0s 923us/step\n",
      "Epoch 1/5\n",
      "202/202 [==============================] - 1s 2ms/step - loss: 0.5064 - accuracy: 0.7486\n",
      "Epoch 2/5\n",
      "202/202 [==============================] - 0s 2ms/step - loss: 0.4339 - accuracy: 0.8036\n",
      "Epoch 3/5\n",
      "202/202 [==============================] - 0s 2ms/step - loss: 0.4208 - accuracy: 0.8107\n",
      "Epoch 4/5\n",
      "202/202 [==============================] - 0s 2ms/step - loss: 0.4143 - accuracy: 0.8135\n",
      "Epoch 5/5\n",
      "202/202 [==============================] - 0s 2ms/step - loss: 0.4068 - accuracy: 0.8155\n",
      "45/45 [==============================] - 0s 855us/step\n",
      "45/45 [==============================] - 0s 858us/step\n",
      "Epoch 1/5\n",
      "202/202 [==============================] - 1s 2ms/step - loss: 0.5041 - accuracy: 0.7477\n",
      "Epoch 2/5\n",
      "202/202 [==============================] - 0s 2ms/step - loss: 0.4364 - accuracy: 0.8023\n",
      "Epoch 3/5\n",
      "202/202 [==============================] - 0s 2ms/step - loss: 0.4257 - accuracy: 0.8090\n",
      "Epoch 4/5\n",
      "202/202 [==============================] - 0s 2ms/step - loss: 0.4164 - accuracy: 0.8136\n",
      "Epoch 5/5\n",
      "202/202 [==============================] - 0s 2ms/step - loss: 0.4114 - accuracy: 0.8136\n",
      "45/45 [==============================] - 0s 905us/step\n",
      "45/45 [==============================] - 0s 893us/step\n",
      "Epoch 1/5\n",
      "202/202 [==============================] - 1s 2ms/step - loss: 0.5080 - accuracy: 0.7481\n",
      "Epoch 2/5\n",
      "202/202 [==============================] - 0s 2ms/step - loss: 0.4351 - accuracy: 0.8002\n",
      "Epoch 3/5\n",
      "202/202 [==============================] - 0s 2ms/step - loss: 0.4220 - accuracy: 0.8088\n",
      "Epoch 4/5\n",
      "202/202 [==============================] - 0s 2ms/step - loss: 0.4155 - accuracy: 0.8143\n",
      "Epoch 5/5\n",
      "202/202 [==============================] - 0s 2ms/step - loss: 0.4084 - accuracy: 0.8150\n",
      "45/45 [==============================] - 0s 901us/step\n",
      "45/45 [==============================] - 0s 909us/step\n",
      "Epoch 1/5\n",
      "202/202 [==============================] - 2s 2ms/step - loss: 0.5115 - accuracy: 0.7433\n",
      "Epoch 2/5\n",
      "202/202 [==============================] - 0s 2ms/step - loss: 0.4364 - accuracy: 0.8001\n",
      "Epoch 3/5\n",
      "202/202 [==============================] - 0s 2ms/step - loss: 0.4240 - accuracy: 0.8094\n",
      "Epoch 4/5\n",
      "202/202 [==============================] - 0s 2ms/step - loss: 0.4159 - accuracy: 0.8141\n",
      "Epoch 5/5\n",
      "202/202 [==============================] - 0s 2ms/step - loss: 0.4097 - accuracy: 0.8149\n",
      "45/45 [==============================] - 0s 934us/step\n",
      "45/45 [==============================] - 0s 908us/step\n",
      "Epoch 1/5\n",
      "202/202 [==============================] - 2s 2ms/step - loss: 0.5021 - accuracy: 0.7515\n",
      "Epoch 2/5\n",
      "202/202 [==============================] - 0s 2ms/step - loss: 0.4334 - accuracy: 0.8036\n",
      "Epoch 3/5\n",
      "202/202 [==============================] - 0s 2ms/step - loss: 0.4208 - accuracy: 0.8099\n",
      "Epoch 4/5\n",
      "202/202 [==============================] - 0s 2ms/step - loss: 0.4139 - accuracy: 0.8144\n",
      "Epoch 5/5\n",
      "202/202 [==============================] - 0s 2ms/step - loss: 0.4075 - accuracy: 0.8173\n",
      "45/45 [==============================] - 0s 1ms/step\n",
      "45/45 [==============================] - 0s 913us/step\n",
      "The average accuracy is: 81.23%\n",
      "The average classification error is: 18.77%\n",
      "The average sensitivity is: 87.23%\n",
      "The average precision is: 82.25%\n",
      "The average specificity is: 72.48%\n",
      "The average f1 score is: 84.65%\n",
      "The average AUC Score is: 88.61%\n"
     ]
    },
    {
     "data": {
      "application/vnd.plotly.v1+json": {
       "config": {
        "plotlyServerURL": "https://plot.ly"
       },
       "data": [
        {
         "fillpattern": {
          "shape": ""
         },
         "hovertemplate": "Average False Positive Rate=%{x}<br>Average True Positive Rate=%{y}<extra></extra>",
         "legendgroup": "",
         "line": {
          "color": "#636efa"
         },
         "marker": {
          "symbol": "circle"
         },
         "mode": "lines",
         "name": "",
         "orientation": "v",
         "showlegend": false,
         "stackgroup": "1",
         "type": "scatter",
         "x": [
          0,
          0,
          0,
          0.002226471601803185,
          0.002226471601803185,
          0.003939093997044507,
          0.003939093997044507,
          0.005480531199471222,
          0.005480531199471222,
          0.007193153594712545,
          0.007193153594712545,
          0.009077080392512777,
          0.009077080392512777,
          0.0107897027877541,
          0.0107897027877541,
          0.012502325182995423,
          0.012502325182995423,
          0.014386132771051354,
          0.014386132771051354,
          0.016098755166292677,
          0.016098755166292677,
          0.017811377561534,
          0.017811377561534,
          0.019523999956775322,
          0.019523999956775322,
          0.021236622352016645,
          0.021236622352016645,
          0.02277805955444336,
          0.02277805955444336,
          0.024490681949684682,
          0.024490681949684682,
          0.026203304344926005,
          0.026203304344926005,
          0.028429482318611157,
          0.028429482318611157,
          0.030655779502040605,
          0.030655779502040605,
          0.032539587090096536,
          0.032539587090096536,
          0.03425220948533786,
          0.03425220948533786,
          0.03596483188057918,
          0.03596483188057918,
          0.0376775734855648,
          0.0376775734855648,
          0.03973280468592394,
          0.03973280468592394,
          0.04161661227397988,
          0.04161661227397988,
          0.0433292346692212,
          0.0433292346692212,
          0.045384640287954074,
          0.045384640287954074,
          0.04726874150412804,
          0.04726874150412804,
          0.048810178706554755,
          0.048810178706554755,
          0.05069410550435499,
          0.05069410550435499,
          0.053262892283157955,
          0.053262892283157955,
          0.05583155985221662,
          0.05583155985221662,
          0.057715486650016856,
          0.057715486650016856,
          0.05959929423807279,
          0.05959929423807279,
          0.061312210261432146,
          0.061312210261432146,
          0.06388099704023512,
          0.06388099704023512,
          0.06593628344922368,
          0.06593628344922368,
          0.06833412345470063,
          0.06833412345470063,
          0.07038935465505977,
          0.07038935465505977,
          0.07261559662985981,
          0.07261559662985981,
          0.0751846770367808,
          0.0751846770367808,
          0.07792464900839836,
          0.07792464900839836,
          0.08015123981994586,
          0.08015123981994586,
          0.08289156942079634,
          0.08289156942079634,
          0.08494668141141118,
          0.08494668141141118,
          0.08717315301321435,
          0.08717315301321435,
          0.08957104822732073,
          0.08957104822732073,
          0.0919686498133091,
          0.0919686498133091,
          0.09402364259417967,
          0.09402364259417967,
          0.0962499397776091,
          0.0962499397776091,
          0.09830505176822393,
          0.09830505176822393,
          0.10036016375883877,
          0.10036016375883877,
          0.10309989731096776,
          0.10309989731096776,
          0.105668803299515,
          0.105668803299515,
          0.10789521969268877,
          0.10789521969268877,
          0.1097790272807447,
          0.1097790272807447,
          0.11303272924917984,
          0.11303272924917984,
          0.1149165368372358,
          0.1149165368372358,
          0.11731472567946022,
          0.11748591087227483,
          0.11971220805570426,
          0.11988339324851888,
          0.12262448452397914,
          0.12313804010242296,
          0.12485078170740861,
          0.1250219669002232,
          0.12707784056544788,
          0.1272490257582625,
          0.12947573577955426,
          0.12981810616518347,
          0.13170220738135743,
          0.13238694815261587,
          0.1351272689609809,
          0.13546963934661013,
          0.13752487054696927,
          0.1378672409325985,
          0.14009353811602793,
          0.14026472330884254,
          0.14266268252406383,
          0.14283386771687842,
          0.14454649011211973,
          0.14488886049774896,
          0.1466017765211083,
          0.14677296171392293,
          0.1491706825096556,
          0.1495130528952848,
          0.15173958849820285,
          0.15191077369101746,
          0.1539658856816323,
          0.15447967967956472,
          0.15619218286506176,
          0.15687728126555306,
          0.15927476364179713,
          0.15961725323717066,
          0.16098738603703847,
          0.16150106082522658,
          0.16321380243021216,
          0.1635562920255857,
          0.16544033803313024,
          0.16595401282131836,
          0.16835149519756243,
          0.1692077787908684,
          0.17109199921678667,
          0.17177709761727797,
          0.17366090520533392,
          0.17468825478171016,
          0.17708579236658367,
          0.17759958636451612,
          0.18016849235306337,
          0.18051098194843687,
          0.18290911558203188,
          0.1835940947727789,
          0.18530671716802022,
          0.1861627623418376,
          0.189245343118573,
          0.1899304415190643,
          0.19181424910712025,
          0.19215673870249372,
          0.19404101433704146,
          0.19575370073339765,
          0.197466323128639,
          0.1978088127240125,
          0.200206643937004,
          0.20054913353237752,
          0.20294697353785446,
          0.203289463133228,
          0.20602960952321925,
          0.20705719751908414,
          0.20962650755300832,
          0.20996899714838185,
          0.21202387071950812,
          0.21270884991025513,
          0.21544846425263983,
          0.21596225825057222,
          0.2183597406268163,
          0.21870223022218982,
          0.22007236302205763,
          0.22075746142254898,
          0.22401204427533822,
          0.2243545338707117,
          0.2274371698560765,
          0.22812226825656787,
          0.2301773802471827,
          0.23086247864767406,
          0.23257498183317107,
          0.2330887758311035,
          0.23548637741709189,
          0.23617147581758324,
          0.23908345865774003,
          0.23959725265567244,
          0.241652245436543,
          0.2428506609959896,
          0.2473027233152419,
          0.24935813772646015,
          0.2520986969543138,
          0.2524411865496873,
          0.25637933566126286,
          0.25757810884994226,
          0.25980440603337174,
          0.2603180808215599,
          0.26288674839061854,
          0.26322923798599207,
          0.26562683957198047,
          0.26631181876272747,
          0.2683670499630866,
          0.2692234527661368,
          0.2714498691593106,
          0.27282006596029323,
          0.275389320785588,
          0.27693034515015236,
          0.27932770831665216,
          0.2800125682976549,
          0.2815538862903373,
          0.2824102890933875,
          0.28497931429167905,
          0.28669128542956945,
          0.29097245618412515,
          0.2918285013579425,
          0.2961094336930096,
          0.296623227690942,
          0.2991921336794893,
          0.2997059276774217,
          0.3017614525058989,
          0.3031314108873929,
          0.3058722637433647,
          0.30707079851255553,
          0.30878354011754117,
          0.30929733411547355,
          0.3123797316813498,
          0.3135785048700293,
          0.3156333784411555,
          0.31648966203446144,
          0.3197434832126409,
          0.32025727721057334,
          0.3233395003580758,
          0.3236819899534493,
          0.32710634506709246,
          0.32830487983628326,
          0.330702600632016,
          0.3310450902273895,
          0.3368686518623263,
          0.3372111414576998,
          0.3408084523253511,
          0.3416646167089128,
          0.3462882218502126,
          0.3485147022445012,
          0.3517697531437822,
          0.35262603673708814,
          0.35588167489260514,
          0.35673807769565546,
          0.3606769420656968,
          0.36187535762514333,
          0.3658138643659518,
          0.3661563539613253,
          0.36889738123567073,
          0.36975342640948805,
          0.37232297486290084,
          0.3735213904223474,
          0.3783186401986649,
          0.3791749237919708,
          0.38311396258038594,
          0.3844836825423914,
          0.38979208366357904,
          0.39116168441584026,
          0.39646919586018836,
          0.39715405584119107,
          0.4009229007384045,
          0.40160799913889583,
          0.4045190370935837,
          0.4048615266889572,
          0.4079446395132993,
          0.40862949949430205,
          0.4139386158739555,
          0.4146235950647025,
          0.4183917974970504,
          0.41941950470265954,
          0.4231871198787714,
          0.42438601227719525,
          0.427640539921355,
          0.4295240538812929,
          0.4368883750838492,
          0.4372308646792227,
          0.44305428951944437,
          0.44459507546452015,
          0.4488757141714692,
          0.45024591097245187,
          0.45264351255844026,
          0.4538425241666083,
          0.4579523353099757,
          0.45829482490534923,
          0.46308924881774516,
          0.4639456516207954,
          0.4689111503087472,
          0.4699386190948678,
          0.47319337636603076,
          0.47593269708029745,
          0.4819266646484682,
          0.4838102978181504,
          0.49237493314357667,
          0.49460129432812094,
          0.49956855478478085,
          0.5012808835519041,
          0.5079605831929463,
          0.5091595948011145,
          0.5153244627264671,
          0.5172082151058937,
          0.5250873479854516,
          0.5271428816064142,
          0.5339923535083103,
          0.5389572009389111,
          0.5459806286889138,
          0.5512884425538654,
          0.5569393972715414,
          0.558480898475083,
          0.5636180504023411,
          0.5687553943329439,
          0.5769747229915606,
          0.5780023109874254,
          0.5874194591567672,
          0.5879333723644439,
          0.5942685910144012,
          0.5980372878706972,
          0.6026602969632754,
          0.6035168189760699,
          0.6096826694105502,
          0.6120806926268864,
          0.6189303013234977,
          0.6197868233362922,
          0.6334846654212123,
          0.6360542314595959,
          0.6406771765510594,
          0.641362394161295,
          0.6475271892930475,
          0.6490689289160777,
          0.6615696867874263,
          0.6644818616309278,
          0.6750977741964634,
          0.6785238622476417,
          0.691540237433029,
          0.6920541506407057,
          0.7060964185080814,
          0.7110640077628011,
          0.7239063367215106,
          0.726989815967571,
          0.7489047681421102,
          0.6597247928995899,
          0.674115248506326,
          0.6823378598291536,
          0.7037518536031513,
          0.7064924856246052,
          0.7248121359121753,
          0.627923462554504,
          0.6414505962855869,
          0.6441914667265295,
          0.6635420805064635,
          0.5680238423692635,
          0.5868633951828983,
          0.4906599394354628,
          0.4993977225182419,
          0.4075785627466668,
          0.31301708443224674,
          0.3137023020424824,
          0.3286036241584561,
          0.330659276989163,
          0.3447089231831481,
          0.2526167730971264,
          0.25826767260617295,
          0.25843897700873186,
          0.26357536726138026,
          0.2666588465074406,
          0.268884850062752,
          0.2719683293088124,
          0.27590749609945714,
          0.2764214093071339,
          0.2904670590097771,
          0.29098097221745384,
          0.19744435765975057,
          0.09747220505601903,
          0.10004177109440267
         ],
         "xaxis": "x",
         "y": [
          0,
          0.0011730207397847676,
          0.05290594835076716,
          0.05290594835076716,
          0.1195324022914605,
          0.1195324022914605,
          0.1417009101173568,
          0.14193558653191957,
          0.16973623749509725,
          0.16973623749509725,
          0.21102331615133854,
          0.21102331615133854,
          0.2430421118019446,
          0.2430421118019446,
          0.26392370618087724,
          0.26392370618087724,
          0.2778836238321373,
          0.2778836238321373,
          0.3020499588349335,
          0.3020499588349335,
          0.3171818572918949,
          0.3171818572918949,
          0.33336839911362426,
          0.33336839911362426,
          0.3509657222567745,
          0.3509657222567745,
          0.36574611686275893,
          0.3659807932773217,
          0.37911724981518324,
          0.37911724981518324,
          0.38943823770860486,
          0.38943823770860486,
          0.4010522679162208,
          0.4010522679162208,
          0.4103200585433383,
          0.4103200585433383,
          0.423575954231215,
          0.423575954231215,
          0.4336638880685518,
          0.43389856448311453,
          0.44422139199464017,
          0.44422139199464017,
          0.4516109459485807,
          0.45184562236314346,
          0.46134870938026473,
          0.4617007240021089,
          0.4715554340373037,
          0.4715554340373037,
          0.4769515673146979,
          0.4769515673146979,
          0.4865702674900057,
          0.4865702674900057,
          0.49454649140578627,
          0.49454649140578627,
          0.5062770206697467,
          0.5065116970843093,
          0.5164822394531866,
          0.5164822394531866,
          0.5251629566363013,
          0.5251629566363013,
          0.534664486434515,
          0.534664486434515,
          0.5400607361967883,
          0.5400607361967883,
          0.548035936654965,
          0.548035936654965,
          0.5520244333194949,
          0.5522591097340576,
          0.5577728049923163,
          0.5577728049923163,
          0.5655147908445257,
          0.5655147908445257,
          0.5704411283437155,
          0.5704411283437155,
          0.5778309876872892,
          0.5778309876872892,
          0.5832280160590161,
          0.5834624173546873,
          0.586864360542256,
          0.586864360542256,
          0.5935499595882534,
          0.5935499595882534,
          0.5978908881510522,
          0.5978908881510522,
          0.6031691935248649,
          0.6031691935248649,
          0.6082130976030065,
          0.6082130976030065,
          0.6154860965572067,
          0.6154860965572067,
          0.6204125762139296,
          0.6204125762139296,
          0.6272162782824002,
          0.6272162782824002,
          0.6331990512508929,
          0.6331990512508929,
          0.6383609556608907,
          0.6383609556608907,
          0.6434053540334197,
          0.6434053540334197,
          0.6492711198569183,
          0.6492711198569183,
          0.6547849013293144,
          0.6547849013293144,
          0.6611180684770429,
          0.6611180684770429,
          0.6661610307136309,
          0.6661610307136309,
          0.6692111271095428,
          0.6692111271095428,
          0.6748423843486661,
          0.6748423843486661,
          0.6797691134516265,
          0.6801211280734706,
          0.6857511124087526,
          0.6861031270305967,
          0.6897384572524075,
          0.6899731336669701,
          0.6940787704378525,
          0.6944307850596966,
          0.70029680492752,
          0.7004141431348014,
          0.7055758586400449,
          0.7060452114691704,
          0.7121429933305403,
          0.7124950079523845,
          0.7154272672485401,
          0.7155446054558214,
          0.7191809545371487,
          0.7201196601953997,
          0.7241074433900464,
          0.7245767962191718,
          0.7285653744997517,
          0.728682712707033,
          0.7316149417324473,
          0.7317322799397287,
          0.7350162741407498,
          0.7359547560254175,
          0.7399432270172931,
          0.7400605652245745,
          0.7447526830525425,
          0.7452220358816679,
          0.7481545748948026,
          0.7482719131020841,
          0.7510872211966417,
          0.7517910266667469,
          0.7574216474539496,
          0.7581253969806588,
          0.7609403786110165,
          0.7615268458738402,
          0.7635211781211988,
          0.7642250395346997,
          0.7666882816621048,
          0.7676265957165852,
          0.7705585844919367,
          0.7713797841127189,
          0.7743122974531995,
          0.7747814824521377,
          0.776658394876165,
          0.7768930153473319,
          0.7790038045019011,
          0.7792384249730681,
          0.7814672401321479,
          0.7818191428672004,
          0.7836957242289402,
          0.7840476269639928,
          0.7866280651411461,
          0.7868626856123131,
          0.7887395420929443,
          0.7890914448279969,
          0.7930801955368515,
          0.7936667746864668,
          0.7961302662601093,
          0.797185974465267,
          0.8005882533132105,
          0.8011748324628256,
          0.8044591925949629,
          0.8051631099518595,
          0.808330798599378,
          0.8089173218055974,
          0.8107941782862289,
          0.8111460810212814,
          0.8136091855892404,
          0.8143131588895329,
          0.8171285275255739,
          0.8174804862040221,
          0.8201782369158026,
          0.8206474219147407,
          0.8227584302448058,
          0.8232276711871397,
          0.8255740180563425,
          0.8259259767347908,
          0.8276852198892493,
          0.8285063076232398,
          0.8309693003044076,
          0.831321258982856,
          0.8334321554261296,
          0.8336667758972964,
          0.8363647457845728,
          0.8365993662557397,
          0.8385932858247608,
          0.8390625267670947,
          0.8410569149578492,
          0.8412915354290161,
          0.8435205440909375,
          0.8443418555985113,
          0.8471568629015231,
          0.8473914833726901,
          0.8506760067369276,
          0.85102790947198,
          0.8525526394439755,
          0.8530218803863094,
          0.8563069329137633,
          0.8568935680067743,
          0.8599430325488531,
          0.8602949352839055,
          0.8620542903251556,
          0.862406249003604,
          0.8639311724784413,
          0.8646351457787339,
          0.8659255606691958,
          0.8665120838754151,
          0.8682717956516068,
          0.8686236983866593,
          0.8710872459036978,
          0.8713218663748648,
          0.8728468457930977,
          0.8730814662642646,
          0.8749582365307588,
          0.8757794361515411,
          0.8777734373366122,
          0.8785946929007902,
          0.8810578836828868,
          0.881644518775898,
          0.8827002572517972,
          0.8831694422507352,
          0.8850463546747626,
          0.8857501601448676,
          0.887509566531426,
          0.8879788074737598,
          0.8900900909227166,
          0.8903247113938837,
          0.8922014257169818,
          0.8924360461881488,
          0.8940784757004548,
          0.8943130961716219,
          0.8957208492693652,
          0.8959554697405321,
          0.8977149320704864,
          0.8979495525416533,
          0.8998262971354931,
          0.9004128762851085,
          0.9017031536161246,
          0.9020551122945729,
          0.9039318568884127,
          0.9048702828296846,
          0.9060432219534196,
          0.906395180631868,
          0.9081546686344762,
          0.9083892891056434,
          0.9100315507877621,
          0.9103835094662103,
          0.9117910947337662,
          0.9121430534122146,
          0.9134333564158849,
          0.9137852591509376,
          0.9153099075068831,
          0.9158963747697069,
          0.9174211350124442,
          0.9176557554836111,
          0.9191804038395568,
          0.9194150243107237,
          0.9209396469940152,
          0.9215262820870264,
          0.9230510120590218,
          0.9232856325301888,
          0.9246932177977448,
          0.9253969673244542,
          0.926569988064239,
          0.9271565112704585,
          0.9285640965380143,
          0.9287987170091812,
          0.9302062206606873,
          0.9304408411318542,
          0.9317312560223161,
          0.9320832147007644,
          0.9334905551201702,
          0.9337251755913373,
          0.935132816802289,
          0.9357193959519042,
          0.9372443496974832,
          0.9374789701686502,
          0.9386519909084348,
          0.9388866113796016,
          0.9399422122960552,
          0.9402941150311078,
          0.9414671357708926,
          0.9417017562420594,
          0.94287483292524,
          0.9431094533964068,
          0.9442825300795874,
          0.9445171505507545,
          0.9458075094978207,
          0.9460421299689875,
          0.9472152066521681,
          0.9475671093872206,
          0.9486228478631199,
          0.9489747505981724,
          0.9506170682236869,
          0.9508516886948538,
          0.9523765002828997,
          0.9527284030179521,
          0.9541358809968037,
          0.9543705014679708,
          0.9555435781511514,
          0.9557781986223184,
          0.9565993166270506,
          0.9570685016259887,
          0.9582415223657734,
          0.9585934251008259,
          0.9602357170536862,
          0.9605876197887386,
          0.9621127110937635,
          0.9624646138288161,
          0.9635204082481109,
          0.9638723109831634,
          0.9649281054024583,
          0.965514628608678,
          0.9664530288772958,
          0.966922213876234,
          0.9682126287666957,
          0.9685645315017483,
          0.9699719278645501,
          0.9704411128634881,
          0.971613832811727,
          0.9718483973394982,
          0.9730215299660745,
          0.9732560944938458,
          0.9741945507058593,
          0.974546397497516,
          0.9754848537095295,
          0.9759539827650718,
          0.9768923014176398,
          0.9773614304731821,
          0.9784172248924771,
          0.9786517894202482,
          0.9795902456322618,
          0.9798248101600331,
          0.980880604579328,
          0.9811151691070992,
          0.9821709075829984,
          0.9825227543746552,
          0.9834612105866687,
          0.98369577511444,
          0.9852207545326729,
          0.9854553190604441,
          0.9863937752724579,
          0.9867456220641146,
          0.9878013605400137,
          0.9881532073316704,
          0.9892090017509654,
          0.9894435662787366,
          0.8904098698870186,
          0.8906444344147897,
          0.8914655524195221,
          0.8917001169472931,
          0.892403896744744,
          0.8926384612725152,
          0.7933700884662346,
          0.7936046529940057,
          0.7944257150553422,
          0.7946602795831132,
          0.6953919067768326,
          0.6956264713046036,
          0.5961234220837602,
          0.5963579866115315,
          0.496902713050694,
          0.396978224220177,
          0.39733004533917954,
          0.3974473276030651,
          0.3977991487220676,
          0.3979164309859532,
          0.29817889885338855,
          0.2982961811172742,
          0.29853080158844114,
          0.2986480838523267,
          0.2988827043234937,
          0.29899998658737925,
          0.2992346070585462,
          0.2993518893224318,
          0.29958650979359874,
          0.2997037920574843,
          0.2999384125286513,
          0.19989664143424862,
          0.10004177109440267,
          0.10004177109440267
         ],
         "yaxis": "y"
        }
       ],
       "layout": {
        "height": 700,
        "legend": {
         "tracegroupgap": 0
        },
        "shapes": [
         {
          "line": {
           "dash": "dash"
          },
          "type": "line",
          "x0": 0,
          "x1": 1,
          "y0": 0,
          "y1": 1
         }
        ],
        "template": {
         "data": {
          "bar": [
           {
            "error_x": {
             "color": "#2a3f5f"
            },
            "error_y": {
             "color": "#2a3f5f"
            },
            "marker": {
             "line": {
              "color": "#E5ECF6",
              "width": 0.5
             },
             "pattern": {
              "fillmode": "overlay",
              "size": 10,
              "solidity": 0.2
             }
            },
            "type": "bar"
           }
          ],
          "barpolar": [
           {
            "marker": {
             "line": {
              "color": "#E5ECF6",
              "width": 0.5
             },
             "pattern": {
              "fillmode": "overlay",
              "size": 10,
              "solidity": 0.2
             }
            },
            "type": "barpolar"
           }
          ],
          "carpet": [
           {
            "aaxis": {
             "endlinecolor": "#2a3f5f",
             "gridcolor": "white",
             "linecolor": "white",
             "minorgridcolor": "white",
             "startlinecolor": "#2a3f5f"
            },
            "baxis": {
             "endlinecolor": "#2a3f5f",
             "gridcolor": "white",
             "linecolor": "white",
             "minorgridcolor": "white",
             "startlinecolor": "#2a3f5f"
            },
            "type": "carpet"
           }
          ],
          "choropleth": [
           {
            "colorbar": {
             "outlinewidth": 0,
             "ticks": ""
            },
            "type": "choropleth"
           }
          ],
          "contour": [
           {
            "colorbar": {
             "outlinewidth": 0,
             "ticks": ""
            },
            "colorscale": [
             [
              0,
              "#0d0887"
             ],
             [
              0.1111111111111111,
              "#46039f"
             ],
             [
              0.2222222222222222,
              "#7201a8"
             ],
             [
              0.3333333333333333,
              "#9c179e"
             ],
             [
              0.4444444444444444,
              "#bd3786"
             ],
             [
              0.5555555555555556,
              "#d8576b"
             ],
             [
              0.6666666666666666,
              "#ed7953"
             ],
             [
              0.7777777777777778,
              "#fb9f3a"
             ],
             [
              0.8888888888888888,
              "#fdca26"
             ],
             [
              1,
              "#f0f921"
             ]
            ],
            "type": "contour"
           }
          ],
          "contourcarpet": [
           {
            "colorbar": {
             "outlinewidth": 0,
             "ticks": ""
            },
            "type": "contourcarpet"
           }
          ],
          "heatmap": [
           {
            "colorbar": {
             "outlinewidth": 0,
             "ticks": ""
            },
            "colorscale": [
             [
              0,
              "#0d0887"
             ],
             [
              0.1111111111111111,
              "#46039f"
             ],
             [
              0.2222222222222222,
              "#7201a8"
             ],
             [
              0.3333333333333333,
              "#9c179e"
             ],
             [
              0.4444444444444444,
              "#bd3786"
             ],
             [
              0.5555555555555556,
              "#d8576b"
             ],
             [
              0.6666666666666666,
              "#ed7953"
             ],
             [
              0.7777777777777778,
              "#fb9f3a"
             ],
             [
              0.8888888888888888,
              "#fdca26"
             ],
             [
              1,
              "#f0f921"
             ]
            ],
            "type": "heatmap"
           }
          ],
          "heatmapgl": [
           {
            "colorbar": {
             "outlinewidth": 0,
             "ticks": ""
            },
            "colorscale": [
             [
              0,
              "#0d0887"
             ],
             [
              0.1111111111111111,
              "#46039f"
             ],
             [
              0.2222222222222222,
              "#7201a8"
             ],
             [
              0.3333333333333333,
              "#9c179e"
             ],
             [
              0.4444444444444444,
              "#bd3786"
             ],
             [
              0.5555555555555556,
              "#d8576b"
             ],
             [
              0.6666666666666666,
              "#ed7953"
             ],
             [
              0.7777777777777778,
              "#fb9f3a"
             ],
             [
              0.8888888888888888,
              "#fdca26"
             ],
             [
              1,
              "#f0f921"
             ]
            ],
            "type": "heatmapgl"
           }
          ],
          "histogram": [
           {
            "marker": {
             "pattern": {
              "fillmode": "overlay",
              "size": 10,
              "solidity": 0.2
             }
            },
            "type": "histogram"
           }
          ],
          "histogram2d": [
           {
            "colorbar": {
             "outlinewidth": 0,
             "ticks": ""
            },
            "colorscale": [
             [
              0,
              "#0d0887"
             ],
             [
              0.1111111111111111,
              "#46039f"
             ],
             [
              0.2222222222222222,
              "#7201a8"
             ],
             [
              0.3333333333333333,
              "#9c179e"
             ],
             [
              0.4444444444444444,
              "#bd3786"
             ],
             [
              0.5555555555555556,
              "#d8576b"
             ],
             [
              0.6666666666666666,
              "#ed7953"
             ],
             [
              0.7777777777777778,
              "#fb9f3a"
             ],
             [
              0.8888888888888888,
              "#fdca26"
             ],
             [
              1,
              "#f0f921"
             ]
            ],
            "type": "histogram2d"
           }
          ],
          "histogram2dcontour": [
           {
            "colorbar": {
             "outlinewidth": 0,
             "ticks": ""
            },
            "colorscale": [
             [
              0,
              "#0d0887"
             ],
             [
              0.1111111111111111,
              "#46039f"
             ],
             [
              0.2222222222222222,
              "#7201a8"
             ],
             [
              0.3333333333333333,
              "#9c179e"
             ],
             [
              0.4444444444444444,
              "#bd3786"
             ],
             [
              0.5555555555555556,
              "#d8576b"
             ],
             [
              0.6666666666666666,
              "#ed7953"
             ],
             [
              0.7777777777777778,
              "#fb9f3a"
             ],
             [
              0.8888888888888888,
              "#fdca26"
             ],
             [
              1,
              "#f0f921"
             ]
            ],
            "type": "histogram2dcontour"
           }
          ],
          "mesh3d": [
           {
            "colorbar": {
             "outlinewidth": 0,
             "ticks": ""
            },
            "type": "mesh3d"
           }
          ],
          "parcoords": [
           {
            "line": {
             "colorbar": {
              "outlinewidth": 0,
              "ticks": ""
             }
            },
            "type": "parcoords"
           }
          ],
          "pie": [
           {
            "automargin": true,
            "type": "pie"
           }
          ],
          "scatter": [
           {
            "fillpattern": {
             "fillmode": "overlay",
             "size": 10,
             "solidity": 0.2
            },
            "type": "scatter"
           }
          ],
          "scatter3d": [
           {
            "line": {
             "colorbar": {
              "outlinewidth": 0,
              "ticks": ""
             }
            },
            "marker": {
             "colorbar": {
              "outlinewidth": 0,
              "ticks": ""
             }
            },
            "type": "scatter3d"
           }
          ],
          "scattercarpet": [
           {
            "marker": {
             "colorbar": {
              "outlinewidth": 0,
              "ticks": ""
             }
            },
            "type": "scattercarpet"
           }
          ],
          "scattergeo": [
           {
            "marker": {
             "colorbar": {
              "outlinewidth": 0,
              "ticks": ""
             }
            },
            "type": "scattergeo"
           }
          ],
          "scattergl": [
           {
            "marker": {
             "colorbar": {
              "outlinewidth": 0,
              "ticks": ""
             }
            },
            "type": "scattergl"
           }
          ],
          "scattermapbox": [
           {
            "marker": {
             "colorbar": {
              "outlinewidth": 0,
              "ticks": ""
             }
            },
            "type": "scattermapbox"
           }
          ],
          "scatterpolar": [
           {
            "marker": {
             "colorbar": {
              "outlinewidth": 0,
              "ticks": ""
             }
            },
            "type": "scatterpolar"
           }
          ],
          "scatterpolargl": [
           {
            "marker": {
             "colorbar": {
              "outlinewidth": 0,
              "ticks": ""
             }
            },
            "type": "scatterpolargl"
           }
          ],
          "scatterternary": [
           {
            "marker": {
             "colorbar": {
              "outlinewidth": 0,
              "ticks": ""
             }
            },
            "type": "scatterternary"
           }
          ],
          "surface": [
           {
            "colorbar": {
             "outlinewidth": 0,
             "ticks": ""
            },
            "colorscale": [
             [
              0,
              "#0d0887"
             ],
             [
              0.1111111111111111,
              "#46039f"
             ],
             [
              0.2222222222222222,
              "#7201a8"
             ],
             [
              0.3333333333333333,
              "#9c179e"
             ],
             [
              0.4444444444444444,
              "#bd3786"
             ],
             [
              0.5555555555555556,
              "#d8576b"
             ],
             [
              0.6666666666666666,
              "#ed7953"
             ],
             [
              0.7777777777777778,
              "#fb9f3a"
             ],
             [
              0.8888888888888888,
              "#fdca26"
             ],
             [
              1,
              "#f0f921"
             ]
            ],
            "type": "surface"
           }
          ],
          "table": [
           {
            "cells": {
             "fill": {
              "color": "#EBF0F8"
             },
             "line": {
              "color": "white"
             }
            },
            "header": {
             "fill": {
              "color": "#C8D4E3"
             },
             "line": {
              "color": "white"
             }
            },
            "type": "table"
           }
          ]
         },
         "layout": {
          "annotationdefaults": {
           "arrowcolor": "#2a3f5f",
           "arrowhead": 0,
           "arrowwidth": 1
          },
          "autotypenumbers": "strict",
          "coloraxis": {
           "colorbar": {
            "outlinewidth": 0,
            "ticks": ""
           }
          },
          "colorscale": {
           "diverging": [
            [
             0,
             "#8e0152"
            ],
            [
             0.1,
             "#c51b7d"
            ],
            [
             0.2,
             "#de77ae"
            ],
            [
             0.3,
             "#f1b6da"
            ],
            [
             0.4,
             "#fde0ef"
            ],
            [
             0.5,
             "#f7f7f7"
            ],
            [
             0.6,
             "#e6f5d0"
            ],
            [
             0.7,
             "#b8e186"
            ],
            [
             0.8,
             "#7fbc41"
            ],
            [
             0.9,
             "#4d9221"
            ],
            [
             1,
             "#276419"
            ]
           ],
           "sequential": [
            [
             0,
             "#0d0887"
            ],
            [
             0.1111111111111111,
             "#46039f"
            ],
            [
             0.2222222222222222,
             "#7201a8"
            ],
            [
             0.3333333333333333,
             "#9c179e"
            ],
            [
             0.4444444444444444,
             "#bd3786"
            ],
            [
             0.5555555555555556,
             "#d8576b"
            ],
            [
             0.6666666666666666,
             "#ed7953"
            ],
            [
             0.7777777777777778,
             "#fb9f3a"
            ],
            [
             0.8888888888888888,
             "#fdca26"
            ],
            [
             1,
             "#f0f921"
            ]
           ],
           "sequentialminus": [
            [
             0,
             "#0d0887"
            ],
            [
             0.1111111111111111,
             "#46039f"
            ],
            [
             0.2222222222222222,
             "#7201a8"
            ],
            [
             0.3333333333333333,
             "#9c179e"
            ],
            [
             0.4444444444444444,
             "#bd3786"
            ],
            [
             0.5555555555555556,
             "#d8576b"
            ],
            [
             0.6666666666666666,
             "#ed7953"
            ],
            [
             0.7777777777777778,
             "#fb9f3a"
            ],
            [
             0.8888888888888888,
             "#fdca26"
            ],
            [
             1,
             "#f0f921"
            ]
           ]
          },
          "colorway": [
           "#636efa",
           "#EF553B",
           "#00cc96",
           "#ab63fa",
           "#FFA15A",
           "#19d3f3",
           "#FF6692",
           "#B6E880",
           "#FF97FF",
           "#FECB52"
          ],
          "font": {
           "color": "#2a3f5f"
          },
          "geo": {
           "bgcolor": "white",
           "lakecolor": "white",
           "landcolor": "#E5ECF6",
           "showlakes": true,
           "showland": true,
           "subunitcolor": "white"
          },
          "hoverlabel": {
           "align": "left"
          },
          "hovermode": "closest",
          "mapbox": {
           "style": "light"
          },
          "paper_bgcolor": "white",
          "plot_bgcolor": "#E5ECF6",
          "polar": {
           "angularaxis": {
            "gridcolor": "white",
            "linecolor": "white",
            "ticks": ""
           },
           "bgcolor": "#E5ECF6",
           "radialaxis": {
            "gridcolor": "white",
            "linecolor": "white",
            "ticks": ""
           }
          },
          "scene": {
           "xaxis": {
            "backgroundcolor": "#E5ECF6",
            "gridcolor": "white",
            "gridwidth": 2,
            "linecolor": "white",
            "showbackground": true,
            "ticks": "",
            "zerolinecolor": "white"
           },
           "yaxis": {
            "backgroundcolor": "#E5ECF6",
            "gridcolor": "white",
            "gridwidth": 2,
            "linecolor": "white",
            "showbackground": true,
            "ticks": "",
            "zerolinecolor": "white"
           },
           "zaxis": {
            "backgroundcolor": "#E5ECF6",
            "gridcolor": "white",
            "gridwidth": 2,
            "linecolor": "white",
            "showbackground": true,
            "ticks": "",
            "zerolinecolor": "white"
           }
          },
          "shapedefaults": {
           "line": {
            "color": "#2a3f5f"
           }
          },
          "ternary": {
           "aaxis": {
            "gridcolor": "white",
            "linecolor": "white",
            "ticks": ""
           },
           "baxis": {
            "gridcolor": "white",
            "linecolor": "white",
            "ticks": ""
           },
           "bgcolor": "#E5ECF6",
           "caxis": {
            "gridcolor": "white",
            "linecolor": "white",
            "ticks": ""
           }
          },
          "title": {
           "x": 0.05
          },
          "xaxis": {
           "automargin": true,
           "gridcolor": "white",
           "linecolor": "white",
           "ticks": "",
           "title": {
            "standoff": 15
           },
           "zerolinecolor": "white",
           "zerolinewidth": 2
          },
          "yaxis": {
           "automargin": true,
           "gridcolor": "white",
           "linecolor": "white",
           "ticks": "",
           "title": {
            "standoff": 15
           },
           "zerolinecolor": "white",
           "zerolinewidth": 2
          }
         }
        },
        "title": {
         "text": "ROC Curve (AUC=0.8861)"
        },
        "width": 700,
        "xaxis": {
         "anchor": "y",
         "constrain": "domain",
         "domain": [
          0,
          1
         ],
         "title": {
          "text": "Average False Positive Rate"
         }
        },
        "yaxis": {
         "anchor": "x",
         "domain": [
          0,
          1
         ],
         "scaleanchor": "x",
         "scaleratio": 1,
         "title": {
          "text": "Average True Positive Rate"
         }
        }
       }
      }
     },
     "metadata": {},
     "output_type": "display_data"
    },
    {
     "data": {
      "application/vnd.plotly.v1+json": {
       "config": {
        "plotlyServerURL": "https://plot.ly"
       },
       "data": [
        {
         "hovertemplate": "K-Fold=%{x}<br>AUC Score=%{y}<extra></extra>",
         "legendgroup": "",
         "marker": {
          "color": "#636efa",
          "symbol": "circle"
         },
         "mode": "markers",
         "name": "",
         "orientation": "v",
         "showlegend": false,
         "type": "scatter",
         "x": [
          1,
          2,
          3,
          4,
          5,
          6,
          7,
          8,
          9,
          10
         ],
         "xaxis": "x",
         "y": [
          0.880931924392555,
          0.8894293308066613,
          0.8917679744335063,
          0.8900917792159824,
          0.8744739080512931,
          0.877342393401505,
          0.8983415332175702,
          0.8862587626213904,
          0.8923343141038009,
          0.8804042864492893
         ],
         "yaxis": "y"
        },
        {
         "hovertemplate": "<b>OLS trendline</b><br>y = 9.48959e-05 * x + 0.885616<br>R<sup>2</sup>=0.001432<br><br>K-Fold=%{x}<br>AUC Score=%{y} <b>(trend)</b><extra></extra>",
         "legendgroup": "",
         "marker": {
          "color": "#636efa",
          "symbol": "circle"
         },
         "mode": "lines",
         "name": "",
         "showlegend": false,
         "type": "scatter",
         "x": [
          1,
          2,
          3,
          4,
          5,
          6,
          7,
          8,
          9,
          10
         ],
         "xaxis": "x",
         "y": [
          0.8857105889452193,
          0.8858054848839162,
          0.8859003808226131,
          0.88599527676131,
          0.8860901727000069,
          0.8861850686387038,
          0.8862799645774008,
          0.8863748605160977,
          0.8864697564547946,
          0.8865646523934916
         ],
         "yaxis": "y"
        }
       ],
       "layout": {
        "legend": {
         "tracegroupgap": 0
        },
        "template": {
         "data": {
          "bar": [
           {
            "error_x": {
             "color": "#2a3f5f"
            },
            "error_y": {
             "color": "#2a3f5f"
            },
            "marker": {
             "line": {
              "color": "#E5ECF6",
              "width": 0.5
             },
             "pattern": {
              "fillmode": "overlay",
              "size": 10,
              "solidity": 0.2
             }
            },
            "type": "bar"
           }
          ],
          "barpolar": [
           {
            "marker": {
             "line": {
              "color": "#E5ECF6",
              "width": 0.5
             },
             "pattern": {
              "fillmode": "overlay",
              "size": 10,
              "solidity": 0.2
             }
            },
            "type": "barpolar"
           }
          ],
          "carpet": [
           {
            "aaxis": {
             "endlinecolor": "#2a3f5f",
             "gridcolor": "white",
             "linecolor": "white",
             "minorgridcolor": "white",
             "startlinecolor": "#2a3f5f"
            },
            "baxis": {
             "endlinecolor": "#2a3f5f",
             "gridcolor": "white",
             "linecolor": "white",
             "minorgridcolor": "white",
             "startlinecolor": "#2a3f5f"
            },
            "type": "carpet"
           }
          ],
          "choropleth": [
           {
            "colorbar": {
             "outlinewidth": 0,
             "ticks": ""
            },
            "type": "choropleth"
           }
          ],
          "contour": [
           {
            "colorbar": {
             "outlinewidth": 0,
             "ticks": ""
            },
            "colorscale": [
             [
              0,
              "#0d0887"
             ],
             [
              0.1111111111111111,
              "#46039f"
             ],
             [
              0.2222222222222222,
              "#7201a8"
             ],
             [
              0.3333333333333333,
              "#9c179e"
             ],
             [
              0.4444444444444444,
              "#bd3786"
             ],
             [
              0.5555555555555556,
              "#d8576b"
             ],
             [
              0.6666666666666666,
              "#ed7953"
             ],
             [
              0.7777777777777778,
              "#fb9f3a"
             ],
             [
              0.8888888888888888,
              "#fdca26"
             ],
             [
              1,
              "#f0f921"
             ]
            ],
            "type": "contour"
           }
          ],
          "contourcarpet": [
           {
            "colorbar": {
             "outlinewidth": 0,
             "ticks": ""
            },
            "type": "contourcarpet"
           }
          ],
          "heatmap": [
           {
            "colorbar": {
             "outlinewidth": 0,
             "ticks": ""
            },
            "colorscale": [
             [
              0,
              "#0d0887"
             ],
             [
              0.1111111111111111,
              "#46039f"
             ],
             [
              0.2222222222222222,
              "#7201a8"
             ],
             [
              0.3333333333333333,
              "#9c179e"
             ],
             [
              0.4444444444444444,
              "#bd3786"
             ],
             [
              0.5555555555555556,
              "#d8576b"
             ],
             [
              0.6666666666666666,
              "#ed7953"
             ],
             [
              0.7777777777777778,
              "#fb9f3a"
             ],
             [
              0.8888888888888888,
              "#fdca26"
             ],
             [
              1,
              "#f0f921"
             ]
            ],
            "type": "heatmap"
           }
          ],
          "heatmapgl": [
           {
            "colorbar": {
             "outlinewidth": 0,
             "ticks": ""
            },
            "colorscale": [
             [
              0,
              "#0d0887"
             ],
             [
              0.1111111111111111,
              "#46039f"
             ],
             [
              0.2222222222222222,
              "#7201a8"
             ],
             [
              0.3333333333333333,
              "#9c179e"
             ],
             [
              0.4444444444444444,
              "#bd3786"
             ],
             [
              0.5555555555555556,
              "#d8576b"
             ],
             [
              0.6666666666666666,
              "#ed7953"
             ],
             [
              0.7777777777777778,
              "#fb9f3a"
             ],
             [
              0.8888888888888888,
              "#fdca26"
             ],
             [
              1,
              "#f0f921"
             ]
            ],
            "type": "heatmapgl"
           }
          ],
          "histogram": [
           {
            "marker": {
             "pattern": {
              "fillmode": "overlay",
              "size": 10,
              "solidity": 0.2
             }
            },
            "type": "histogram"
           }
          ],
          "histogram2d": [
           {
            "colorbar": {
             "outlinewidth": 0,
             "ticks": ""
            },
            "colorscale": [
             [
              0,
              "#0d0887"
             ],
             [
              0.1111111111111111,
              "#46039f"
             ],
             [
              0.2222222222222222,
              "#7201a8"
             ],
             [
              0.3333333333333333,
              "#9c179e"
             ],
             [
              0.4444444444444444,
              "#bd3786"
             ],
             [
              0.5555555555555556,
              "#d8576b"
             ],
             [
              0.6666666666666666,
              "#ed7953"
             ],
             [
              0.7777777777777778,
              "#fb9f3a"
             ],
             [
              0.8888888888888888,
              "#fdca26"
             ],
             [
              1,
              "#f0f921"
             ]
            ],
            "type": "histogram2d"
           }
          ],
          "histogram2dcontour": [
           {
            "colorbar": {
             "outlinewidth": 0,
             "ticks": ""
            },
            "colorscale": [
             [
              0,
              "#0d0887"
             ],
             [
              0.1111111111111111,
              "#46039f"
             ],
             [
              0.2222222222222222,
              "#7201a8"
             ],
             [
              0.3333333333333333,
              "#9c179e"
             ],
             [
              0.4444444444444444,
              "#bd3786"
             ],
             [
              0.5555555555555556,
              "#d8576b"
             ],
             [
              0.6666666666666666,
              "#ed7953"
             ],
             [
              0.7777777777777778,
              "#fb9f3a"
             ],
             [
              0.8888888888888888,
              "#fdca26"
             ],
             [
              1,
              "#f0f921"
             ]
            ],
            "type": "histogram2dcontour"
           }
          ],
          "mesh3d": [
           {
            "colorbar": {
             "outlinewidth": 0,
             "ticks": ""
            },
            "type": "mesh3d"
           }
          ],
          "parcoords": [
           {
            "line": {
             "colorbar": {
              "outlinewidth": 0,
              "ticks": ""
             }
            },
            "type": "parcoords"
           }
          ],
          "pie": [
           {
            "automargin": true,
            "type": "pie"
           }
          ],
          "scatter": [
           {
            "fillpattern": {
             "fillmode": "overlay",
             "size": 10,
             "solidity": 0.2
            },
            "type": "scatter"
           }
          ],
          "scatter3d": [
           {
            "line": {
             "colorbar": {
              "outlinewidth": 0,
              "ticks": ""
             }
            },
            "marker": {
             "colorbar": {
              "outlinewidth": 0,
              "ticks": ""
             }
            },
            "type": "scatter3d"
           }
          ],
          "scattercarpet": [
           {
            "marker": {
             "colorbar": {
              "outlinewidth": 0,
              "ticks": ""
             }
            },
            "type": "scattercarpet"
           }
          ],
          "scattergeo": [
           {
            "marker": {
             "colorbar": {
              "outlinewidth": 0,
              "ticks": ""
             }
            },
            "type": "scattergeo"
           }
          ],
          "scattergl": [
           {
            "marker": {
             "colorbar": {
              "outlinewidth": 0,
              "ticks": ""
             }
            },
            "type": "scattergl"
           }
          ],
          "scattermapbox": [
           {
            "marker": {
             "colorbar": {
              "outlinewidth": 0,
              "ticks": ""
             }
            },
            "type": "scattermapbox"
           }
          ],
          "scatterpolar": [
           {
            "marker": {
             "colorbar": {
              "outlinewidth": 0,
              "ticks": ""
             }
            },
            "type": "scatterpolar"
           }
          ],
          "scatterpolargl": [
           {
            "marker": {
             "colorbar": {
              "outlinewidth": 0,
              "ticks": ""
             }
            },
            "type": "scatterpolargl"
           }
          ],
          "scatterternary": [
           {
            "marker": {
             "colorbar": {
              "outlinewidth": 0,
              "ticks": ""
             }
            },
            "type": "scatterternary"
           }
          ],
          "surface": [
           {
            "colorbar": {
             "outlinewidth": 0,
             "ticks": ""
            },
            "colorscale": [
             [
              0,
              "#0d0887"
             ],
             [
              0.1111111111111111,
              "#46039f"
             ],
             [
              0.2222222222222222,
              "#7201a8"
             ],
             [
              0.3333333333333333,
              "#9c179e"
             ],
             [
              0.4444444444444444,
              "#bd3786"
             ],
             [
              0.5555555555555556,
              "#d8576b"
             ],
             [
              0.6666666666666666,
              "#ed7953"
             ],
             [
              0.7777777777777778,
              "#fb9f3a"
             ],
             [
              0.8888888888888888,
              "#fdca26"
             ],
             [
              1,
              "#f0f921"
             ]
            ],
            "type": "surface"
           }
          ],
          "table": [
           {
            "cells": {
             "fill": {
              "color": "#EBF0F8"
             },
             "line": {
              "color": "white"
             }
            },
            "header": {
             "fill": {
              "color": "#C8D4E3"
             },
             "line": {
              "color": "white"
             }
            },
            "type": "table"
           }
          ]
         },
         "layout": {
          "annotationdefaults": {
           "arrowcolor": "#2a3f5f",
           "arrowhead": 0,
           "arrowwidth": 1
          },
          "autotypenumbers": "strict",
          "coloraxis": {
           "colorbar": {
            "outlinewidth": 0,
            "ticks": ""
           }
          },
          "colorscale": {
           "diverging": [
            [
             0,
             "#8e0152"
            ],
            [
             0.1,
             "#c51b7d"
            ],
            [
             0.2,
             "#de77ae"
            ],
            [
             0.3,
             "#f1b6da"
            ],
            [
             0.4,
             "#fde0ef"
            ],
            [
             0.5,
             "#f7f7f7"
            ],
            [
             0.6,
             "#e6f5d0"
            ],
            [
             0.7,
             "#b8e186"
            ],
            [
             0.8,
             "#7fbc41"
            ],
            [
             0.9,
             "#4d9221"
            ],
            [
             1,
             "#276419"
            ]
           ],
           "sequential": [
            [
             0,
             "#0d0887"
            ],
            [
             0.1111111111111111,
             "#46039f"
            ],
            [
             0.2222222222222222,
             "#7201a8"
            ],
            [
             0.3333333333333333,
             "#9c179e"
            ],
            [
             0.4444444444444444,
             "#bd3786"
            ],
            [
             0.5555555555555556,
             "#d8576b"
            ],
            [
             0.6666666666666666,
             "#ed7953"
            ],
            [
             0.7777777777777778,
             "#fb9f3a"
            ],
            [
             0.8888888888888888,
             "#fdca26"
            ],
            [
             1,
             "#f0f921"
            ]
           ],
           "sequentialminus": [
            [
             0,
             "#0d0887"
            ],
            [
             0.1111111111111111,
             "#46039f"
            ],
            [
             0.2222222222222222,
             "#7201a8"
            ],
            [
             0.3333333333333333,
             "#9c179e"
            ],
            [
             0.4444444444444444,
             "#bd3786"
            ],
            [
             0.5555555555555556,
             "#d8576b"
            ],
            [
             0.6666666666666666,
             "#ed7953"
            ],
            [
             0.7777777777777778,
             "#fb9f3a"
            ],
            [
             0.8888888888888888,
             "#fdca26"
            ],
            [
             1,
             "#f0f921"
            ]
           ]
          },
          "colorway": [
           "#636efa",
           "#EF553B",
           "#00cc96",
           "#ab63fa",
           "#FFA15A",
           "#19d3f3",
           "#FF6692",
           "#B6E880",
           "#FF97FF",
           "#FECB52"
          ],
          "font": {
           "color": "#2a3f5f"
          },
          "geo": {
           "bgcolor": "white",
           "lakecolor": "white",
           "landcolor": "#E5ECF6",
           "showlakes": true,
           "showland": true,
           "subunitcolor": "white"
          },
          "hoverlabel": {
           "align": "left"
          },
          "hovermode": "closest",
          "mapbox": {
           "style": "light"
          },
          "paper_bgcolor": "white",
          "plot_bgcolor": "#E5ECF6",
          "polar": {
           "angularaxis": {
            "gridcolor": "white",
            "linecolor": "white",
            "ticks": ""
           },
           "bgcolor": "#E5ECF6",
           "radialaxis": {
            "gridcolor": "white",
            "linecolor": "white",
            "ticks": ""
           }
          },
          "scene": {
           "xaxis": {
            "backgroundcolor": "#E5ECF6",
            "gridcolor": "white",
            "gridwidth": 2,
            "linecolor": "white",
            "showbackground": true,
            "ticks": "",
            "zerolinecolor": "white"
           },
           "yaxis": {
            "backgroundcolor": "#E5ECF6",
            "gridcolor": "white",
            "gridwidth": 2,
            "linecolor": "white",
            "showbackground": true,
            "ticks": "",
            "zerolinecolor": "white"
           },
           "zaxis": {
            "backgroundcolor": "#E5ECF6",
            "gridcolor": "white",
            "gridwidth": 2,
            "linecolor": "white",
            "showbackground": true,
            "ticks": "",
            "zerolinecolor": "white"
           }
          },
          "shapedefaults": {
           "line": {
            "color": "#2a3f5f"
           }
          },
          "ternary": {
           "aaxis": {
            "gridcolor": "white",
            "linecolor": "white",
            "ticks": ""
           },
           "baxis": {
            "gridcolor": "white",
            "linecolor": "white",
            "ticks": ""
           },
           "bgcolor": "#E5ECF6",
           "caxis": {
            "gridcolor": "white",
            "linecolor": "white",
            "ticks": ""
           }
          },
          "title": {
           "x": 0.05
          },
          "xaxis": {
           "automargin": true,
           "gridcolor": "white",
           "linecolor": "white",
           "ticks": "",
           "title": {
            "standoff": 15
           },
           "zerolinecolor": "white",
           "zerolinewidth": 2
          },
          "yaxis": {
           "automargin": true,
           "gridcolor": "white",
           "linecolor": "white",
           "ticks": "",
           "title": {
            "standoff": 15
           },
           "zerolinecolor": "white",
           "zerolinewidth": 2
          }
         }
        },
        "title": {
         "text": "AUC Values for the each K-Fold"
        },
        "xaxis": {
         "anchor": "y",
         "domain": [
          0,
          1
         ],
         "title": {
          "text": "K-Fold"
         }
        },
        "yaxis": {
         "anchor": "x",
         "domain": [
          0,
          1
         ],
         "title": {
          "text": "AUC Score"
         }
        }
       }
      }
     },
     "metadata": {},
     "output_type": "display_data"
    }
   ],
   "source": [
    "# Tokenize the text and pad sequences\n",
    "texts = df['Cleaned Text with V lemmatization']\n",
    "tokenizer = Tokenizer()\n",
    "tokenizer.fit_on_texts(texts)\n",
    "sequences = tokenizer.texts_to_sequences(texts)\n",
    "maxLen = 150\n",
    "sequences = pad_sequences(sequences, maxlen=maxLen)\n",
    "\n",
    "# Create an embedding matrix\n",
    "vocab_len = len(tokenizer.word_index) + 1\n",
    "embed_vector_len = 200\n",
    "embedding_matrix = np.zeros((vocab_len, embed_vector_len))\n",
    "\n",
    "# Load GloVe embeddings\n",
    "glove_path = 'glove.twitter.27B.200d.txt' \n",
    "glove_index = {}\n",
    "with open(glove_path, encoding=\"utf-8\") as f:\n",
    "    for line in f:\n",
    "        values = line.split()\n",
    "        word = values[0]\n",
    "        vector = np.asarray(values[1:], dtype='float32')\n",
    "        glove_index[word] = vector\n",
    "\n",
    "# Create a feature matrix with average word embeddings using GloVe\n",
    "feature_matrix = np.array([\n",
    "    np.mean([glove_index.get(word, np.zeros(embed_vector_len)) for word in tokenizer.sequences_to_texts([seq])[0].split()], axis=0)\n",
    "    for seq in sequences\n",
    "])\n",
    "\n",
    "y = df['Label']\n",
    "perform_kfold_cross_validation_with_lstm(feature_matrix, y)"
   ]
  },
  {
   "cell_type": "markdown",
   "metadata": {
    "cell_id": "0e1f468bf1b34d54ad30c854824b922a",
    "deepnote_cell_type": "markdown"
   },
   "source": [
    "##### Conclusion\n",
    "As expected, we achieved better results in both accuracy and F1-score, when using the largest vector size of 200(glove.twitter.27B.200d.txt). However, we have decided to stick with the glove embedding file with **100 dimensions(glove.twitter.27B.100d.txt)**, and vector size of 100 for all models, although it has a lower accuracy(80.26%), sensitivity(86.69%), and F1-score(83.91%) than the vector size of 200(accuracy score:81.23%, sensitivity: 87.23%  F1-score:84.65%).\n",
    "\n",
    "This is because our team agreed that we have started to observe diminishing returns with the increase in vector size, and the mere increase is not worth at the cost of using the larger file which is more computationally intensive, and will increase the complexity of model training."
   ]
  },
  {
   "cell_type": "markdown",
   "metadata": {
    "cell_id": "beabeb99104e45028a15f87f2e285c2b",
    "deepnote_cell_type": "text-cell-h3",
    "formattedRanges": []
   },
   "source": [
    "### Model 2: Use GloVe Embedding (Version 2)"
   ]
  },
  {
   "cell_type": "markdown",
   "metadata": {
    "cell_id": "b7ca1ddfb84f4cc6a909c78016927a24",
    "deepnote_cell_type": "markdown"
   },
   "source": [
    "- **Column used: \"Cleaned Text with V lemmatization\"**\n",
    "- **Model: LSTM**\n",
    "- **Feature Extraction: GloVe Embedding**\n",
    "Description:\n",
    "\n",
    "GloVe is designed to capture the semantic relationships and meaning of words based on their co-occurrence statistics in large text corpora. Its key advantage is its ability to capture word semantics and relationships through the distributional information in large text corpora. The resulting word vectors can be used as features in NLP \n",
    "- **Approach: Direct GloVe Document Vectors**\n",
    "Explanation:\n",
    "The approach directly used GloVe embeddings for feature extraction. Each document or text sequence was represented as a single vector.\n",
    "\n",
    "Pros:\n",
    "Preserves semantic information: Using the entire vector representation of a document captures semantic relationships between words.\n",
    "May capture nuances in the text that average word embeddings might miss.\n",
    "\n",
    "Cons:\n",
    "Larger feature space: Each document is represented as a high-dimensional vector, which can lead to a higher dimensionality.\n",
    "\n",
    "\n",
    "\n",
    "- **Feature Transformation: nil** \n",
    "Explanation:\n",
    "There isn't a for need additional feature transformation steps like TF-IDF, PCA, or LDA because the word embeddings themselves already capture a dense, distributed representation of words. GloVe word embeddings inherently contain semantic and contextual information.\n",
    "\n",
    "In the case of GloVe embeddings, each word is represented as a high-dimensional vector, and these vectors capture relationships between words based on their co-occurrence statistics in the training corpus. This means that words with similar meanings or contexts will have similar vector representations.\n",
    "\n",
    "Therefore, we can directly use GloVe word embeddings as features for your text classification model without the need for feature transformation steps\n",
    "\n",
    "\n",
    "\n"
   ]
  },
  {
   "cell_type": "markdown",
   "metadata": {},
   "source": [
    "#### Version 2\n",
    "In this version, we experimented with representing each document as a single vector by directly using the pre-trained Glove Embeddings. Our thought process is that this version should perform better because it retains the semantic information of the entire document.\n"
   ]
  },
  {
   "cell_type": "code",
   "execution_count": 23,
   "metadata": {
    "allow_embed": false,
    "cell_id": "2efc8a3db5304bae9fd5bc94b97d7447",
    "deepnote_cell_type": "code",
    "deepnote_to_be_reexecuted": false,
    "execution_millis": 23866,
    "execution_start": 1698577557381,
    "source_hash": null
   },
   "outputs": [],
   "source": [
    "# Tokenize the text and pad sequences\n",
    "texts = df['Cleaned Text with V lemmatization']\n",
    "tokenizer = Tokenizer()\n",
    "tokenizer.fit_on_texts(texts)\n",
    "sequences = tokenizer.texts_to_sequences(texts)\n",
    "maxLen = 150\n",
    "sequences = pad_sequences(sequences, maxlen=maxLen)\n",
    "\n",
    "# Create an embedding matrix\n",
    "vocab_len = len(tokenizer.word_index) + 1\n",
    "embed_vector_len = 100\n",
    "embedding_matrix = np.zeros((vocab_len, embed_vector_len))\n",
    "\n",
    "# Load GloVe embeddings\n",
    "glove_path = 'glove.twitter.27B.100d.txt'  # Replace with your GloVe file path\n",
    "glove_index = {}\n",
    "with open(glove_path, encoding=\"utf-8\") as f:\n",
    "    for line in f:\n",
    "        values = line.split()\n",
    "        word = values[0]\n",
    "        vector = np.asarray(values[1:], dtype='float32')\n",
    "        glove_index[word] = vector\n",
    "\n",
    "# Create document vectors using GloVe embeddings\n",
    "document_vectors = []\n",
    "for text in df['Cleaned Text with V lemmatization']:\n",
    "    words = text.split()\n",
    "    vectors = [glove_index.get(word, np.zeros(embed_vector_len)) for word in words]\n",
    "    doc_vector = np.mean(vectors, axis=0)\n",
    "    document_vectors.append(doc_vector)\n",
    "\n",
    "# Convert the list of document vectors to a NumPy array\n",
    "feature_matrix = np.array(document_vectors)\n"
   ]
  },
  {
   "cell_type": "code",
   "execution_count": 24,
   "metadata": {
    "cell_id": "d9989d08014e4a78b3281863ebe917be",
    "deepnote_cell_type": "code",
    "deepnote_to_be_reexecuted": false,
    "execution_millis": 7944,
    "execution_start": 1698577588777,
    "source_hash": null
   },
   "outputs": [
    {
     "name": "stdout",
     "output_type": "stream",
     "text": [
      "Epoch 1/5\n",
      "202/202 [==============================] - 2s 2ms/step - loss: 0.5236 - accuracy: 0.7347\n",
      "Epoch 2/5\n",
      "202/202 [==============================] - 0s 2ms/step - loss: 0.4514 - accuracy: 0.7918\n",
      "Epoch 3/5\n",
      "202/202 [==============================] - 0s 2ms/step - loss: 0.4395 - accuracy: 0.7982\n",
      "Epoch 4/5\n",
      "202/202 [==============================] - 0s 2ms/step - loss: 0.4331 - accuracy: 0.8015\n",
      "Epoch 5/5\n",
      "202/202 [==============================] - 0s 2ms/step - loss: 0.4284 - accuracy: 0.8042\n",
      "45/45 [==============================] - 0s 796us/step\n",
      "45/45 [==============================] - 0s 773us/step\n",
      "Epoch 1/5\n",
      "202/202 [==============================] - 2s 2ms/step - loss: 0.5292 - accuracy: 0.7314\n",
      "Epoch 2/5\n",
      "202/202 [==============================] - 0s 2ms/step - loss: 0.4546 - accuracy: 0.7906\n",
      "Epoch 3/5\n",
      "202/202 [==============================] - 0s 2ms/step - loss: 0.4418 - accuracy: 0.7974\n",
      "Epoch 4/5\n",
      "202/202 [==============================] - 0s 2ms/step - loss: 0.4370 - accuracy: 0.8015\n",
      "Epoch 5/5\n",
      "202/202 [==============================] - 0s 2ms/step - loss: 0.4301 - accuracy: 0.8034\n",
      "45/45 [==============================] - 0s 782us/step\n",
      "45/45 [==============================] - 0s 830us/step\n",
      "Epoch 1/5\n",
      "202/202 [==============================] - 2s 2ms/step - loss: 0.5243 - accuracy: 0.7365\n",
      "Epoch 2/5\n",
      "202/202 [==============================] - 0s 2ms/step - loss: 0.4523 - accuracy: 0.7906\n",
      "Epoch 3/5\n",
      "202/202 [==============================] - 0s 2ms/step - loss: 0.4423 - accuracy: 0.7989\n",
      "Epoch 4/5\n",
      "202/202 [==============================] - 0s 2ms/step - loss: 0.4349 - accuracy: 0.8010\n",
      "Epoch 5/5\n",
      "202/202 [==============================] - 0s 2ms/step - loss: 0.4312 - accuracy: 0.8037\n",
      "45/45 [==============================] - 0s 773us/step\n",
      "45/45 [==============================] - 0s 796us/step\n",
      "Epoch 1/5\n",
      "202/202 [==============================] - 2s 2ms/step - loss: 0.5264 - accuracy: 0.7349\n",
      "Epoch 2/5\n",
      "202/202 [==============================] - 0s 2ms/step - loss: 0.4535 - accuracy: 0.7905\n",
      "Epoch 3/5\n",
      "202/202 [==============================] - 0s 2ms/step - loss: 0.4426 - accuracy: 0.7988\n",
      "Epoch 4/5\n",
      "202/202 [==============================] - 0s 2ms/step - loss: 0.4348 - accuracy: 0.8010\n",
      "Epoch 5/5\n",
      "202/202 [==============================] - 0s 2ms/step - loss: 0.4306 - accuracy: 0.8048\n",
      "45/45 [==============================] - 0s 796us/step\n",
      "45/45 [==============================] - 0s 796us/step\n",
      "Epoch 1/5\n",
      "202/202 [==============================] - 1s 2ms/step - loss: 0.5270 - accuracy: 0.7377\n",
      "Epoch 2/5\n",
      "202/202 [==============================] - 0s 2ms/step - loss: 0.4506 - accuracy: 0.7910\n",
      "Epoch 3/5\n",
      "202/202 [==============================] - 0s 2ms/step - loss: 0.4386 - accuracy: 0.7977\n",
      "Epoch 4/5\n",
      "202/202 [==============================] - 0s 2ms/step - loss: 0.4334 - accuracy: 0.8022\n",
      "Epoch 5/5\n",
      "202/202 [==============================] - 0s 2ms/step - loss: 0.4274 - accuracy: 0.8045\n",
      "45/45 [==============================] - 0s 751us/step\n",
      "45/45 [==============================] - 0s 773us/step\n",
      "Epoch 1/5\n",
      "202/202 [==============================] - 1s 2ms/step - loss: 0.5270 - accuracy: 0.7338\n",
      "Epoch 2/5\n",
      "202/202 [==============================] - 0s 2ms/step - loss: 0.4533 - accuracy: 0.7895\n",
      "Epoch 3/5\n",
      "202/202 [==============================] - 0s 2ms/step - loss: 0.4409 - accuracy: 0.7997\n",
      "Epoch 4/5\n",
      "202/202 [==============================] - 0s 2ms/step - loss: 0.4345 - accuracy: 0.8021\n",
      "Epoch 5/5\n",
      "202/202 [==============================] - 0s 2ms/step - loss: 0.4286 - accuracy: 0.8026\n",
      "45/45 [==============================] - 0s 867us/step\n",
      "45/45 [==============================] - 0s 875us/step\n",
      "Epoch 1/5\n",
      "202/202 [==============================] - 1s 2ms/step - loss: 0.5252 - accuracy: 0.7339\n",
      "Epoch 2/5\n",
      "202/202 [==============================] - 0s 1ms/step - loss: 0.4547 - accuracy: 0.7893\n",
      "Epoch 3/5\n",
      "202/202 [==============================] - 0s 1ms/step - loss: 0.4439 - accuracy: 0.7969\n",
      "Epoch 4/5\n",
      "202/202 [==============================] - 0s 2ms/step - loss: 0.4369 - accuracy: 0.8014\n",
      "Epoch 5/5\n",
      "202/202 [==============================] - 0s 1ms/step - loss: 0.4324 - accuracy: 0.8035\n",
      "45/45 [==============================] - 0s 773us/step\n",
      "45/45 [==============================] - 0s 750us/step\n",
      "Epoch 1/5\n",
      "202/202 [==============================] - 1s 2ms/step - loss: 0.5316 - accuracy: 0.7322\n",
      "Epoch 2/5\n",
      "202/202 [==============================] - 0s 1ms/step - loss: 0.4534 - accuracy: 0.7897\n",
      "Epoch 3/5\n",
      "202/202 [==============================] - 0s 1ms/step - loss: 0.4415 - accuracy: 0.7955\n",
      "Epoch 4/5\n",
      "202/202 [==============================] - 0s 2ms/step - loss: 0.4361 - accuracy: 0.7988\n",
      "Epoch 5/5\n",
      "202/202 [==============================] - 0s 1ms/step - loss: 0.4305 - accuracy: 0.8024\n",
      "45/45 [==============================] - 0s 796us/step\n",
      "45/45 [==============================] - 0s 773us/step\n",
      "Epoch 1/5\n",
      "202/202 [==============================] - 1s 2ms/step - loss: 0.5358 - accuracy: 0.7264\n",
      "Epoch 2/5\n",
      "202/202 [==============================] - 0s 1ms/step - loss: 0.4553 - accuracy: 0.7886\n",
      "Epoch 3/5\n",
      "202/202 [==============================] - 0s 1ms/step - loss: 0.4429 - accuracy: 0.7973\n",
      "Epoch 4/5\n",
      "202/202 [==============================] - 0s 1ms/step - loss: 0.4359 - accuracy: 0.8014\n",
      "Epoch 5/5\n",
      "202/202 [==============================] - 0s 1ms/step - loss: 0.4311 - accuracy: 0.8018\n",
      "45/45 [==============================] - 0s 773us/step\n",
      "45/45 [==============================] - 0s 750us/step\n",
      "Epoch 1/5\n",
      "202/202 [==============================] - 1s 1ms/step - loss: 0.5231 - accuracy: 0.7366\n",
      "Epoch 2/5\n",
      "202/202 [==============================] - 0s 2ms/step - loss: 0.4530 - accuracy: 0.7882\n",
      "Epoch 3/5\n",
      "202/202 [==============================] - 0s 1ms/step - loss: 0.4411 - accuracy: 0.7960\n",
      "Epoch 4/5\n",
      "202/202 [==============================] - 0s 1ms/step - loss: 0.4349 - accuracy: 0.8001\n",
      "Epoch 5/5\n",
      "202/202 [==============================] - 0s 1ms/step - loss: 0.4296 - accuracy: 0.8045\n",
      "45/45 [==============================] - 0s 796us/step\n",
      "45/45 [==============================] - 0s 773us/step\n",
      "The average accuracy is: 80.23%\n",
      "The average classification error is: 19.77%\n",
      "The average sensitivity is: 86.74%\n",
      "The average precision is: 81.23%\n",
      "The average specificity is: 70.71%\n",
      "The average f1 score is: 83.89%\n",
      "The average AUC Score is: 87.54%\n"
     ]
    },
    {
     "data": {
      "application/vnd.plotly.v1+json": {
       "config": {
        "plotlyServerURL": "https://plot.ly"
       },
       "data": [
        {
         "fillpattern": {
          "shape": ""
         },
         "hovertemplate": "Average False Positive Rate=%{x}<br>Average True Positive Rate=%{y}<extra></extra>",
         "legendgroup": "",
         "line": {
          "color": "#636efa"
         },
         "marker": {
          "symbol": "circle"
         },
         "mode": "lines",
         "name": "",
         "orientation": "v",
         "showlegend": false,
         "stackgroup": "1",
         "type": "scatter",
         "x": [
          0,
          0,
          0,
          0.001712622395241323,
          0.001712622395241323,
          0.003254059597668037,
          0.003254059597668037,
          0.0049666819929093595,
          0.0049666819929093595,
          0.006679304388150683,
          0.006679304388150683,
          0.008563231185950915,
          0.008563231185950915,
          0.010275853581192238,
          0.010275853581192238,
          0.011988475976433561,
          0.011988475976433561,
          0.013701098371674884,
          0.013701098371674884,
          0.015927395555104334,
          0.015927395555104334,
          0.01815381194827808,
          0.01815381194827808,
          0.019866553553263704,
          0.019866553553263704,
          0.021750480351063937,
          0.021750480351063937,
          0.02346310274630526,
          0.02346310274630526,
          0.025175725141546583,
          0.025175725141546583,
          0.026888347536787906,
          0.026888347536787906,
          0.028772155124843837,
          0.028772155124843837,
          0.03048477752008516,
          0.03048477752008516,
          0.03236858510814109,
          0.03236858510814109,
          0.03425263111568562,
          0.034423816308500235,
          0.03596525351092694,
          0.03613643870374156,
          0.037849061098982874,
          0.03802024629179749,
          0.0395616834942242,
          0.039732868687038805,
          0.04178798067765365,
          0.04195916587046826,
          0.04367178826570958,
          0.04384297345852419,
          0.045384410660950905,
          0.045384410660950905,
          0.04692584786337761,
          0.04709703305619222,
          0.04863847025861894,
          0.04880965545143355,
          0.05052239705641917,
          0.05069358224923378,
          0.05257774746652261,
          0.05274893265933722,
          0.05446167426432284,
          0.05463285945713745,
          0.05703069946261441,
          0.05703069946261441,
          0.05857213666504112,
          0.05874332185785573,
          0.060627423074029706,
          0.06096979345965892,
          0.06251123066208564,
          0.06268241585490024,
          0.06456622344295618,
          0.06473740863577078,
          0.0664500310310121,
          0.06679240141664132,
          0.06867644742418585,
          0.06884763261700047,
          0.07073185304291874,
          0.07090303823573335,
          0.07227299661722741,
          0.07244418181004202,
          0.07432810860784225,
          0.07449929380065687,
          0.07638310138871278,
          0.0765542865815274,
          0.07878082218444543,
          0.07912319257007466,
          0.08152067494631873,
          0.08169186013913333,
          0.08374721054923676,
          0.08391839574205137,
          0.08545983294447808,
          0.0856310181372927,
          0.0880286749319105,
          0.08819986012472511,
          0.09059758092045776,
          0.09076876611327236,
          0.09265269291107261,
          0.09282387810388723,
          0.09453679412724655,
          0.09470797932006117,
          0.0965919061178614,
          0.09676309131067602,
          0.09847583291566164,
          0.09864701810847626,
          0.10053082569653218,
          0.1007020108893468,
          0.1022434480917735,
          0.10241463328458812,
          0.10412725567982944,
          0.10429844087264406,
          0.10601106326788537,
          0.10652461884632919,
          0.10875091602975867,
          0.10926447160820249,
          0.11183313917726115,
          0.11200432437007574,
          0.11440251321230017,
          0.11474488359792939,
          0.11679987637879993,
          0.11697106157161455,
          0.11851249877404126,
          0.11868368396685586,
          0.12056761076465611,
          0.1207387959574707,
          0.12296521235064448,
          0.12313639754345908,
          0.12484913914844467,
          0.12536269472688852,
          0.12810396042072253,
          0.12827514561353714,
          0.13015907241133737,
          0.13033025760415198,
          0.13221418440195223,
          0.13238536959476682,
          0.13392680679719354,
          0.13426917718282275,
          0.13683820238111433,
          0.13718057276674356,
          0.13940722757940588,
          0.1395784127722205,
          0.14180494837513857,
          0.1419761335679532,
          0.14368887517293877,
          0.144031245558568,
          0.14677145594967417,
          0.14694264114248878,
          0.14899804676122166,
          0.14916923195403628,
          0.15139594197532807,
          0.15173831236095725,
          0.1543079248154849,
          0.15482148039392873,
          0.15687659238454357,
          0.1572189627701728,
          0.15978751112948716,
          0.15995869632230178,
          0.16218540634359355,
          0.16235659153640816,
          0.16509680192751433,
          0.16526798712032895,
          0.16732351194880613,
          0.16835062310569376,
          0.17126189947987025,
          0.17160426986549948,
          0.1733170114704851,
          0.1734881966632997,
          0.1774278779165803,
          0.1777702483022095,
          0.1798253602928243,
          0.18016773067845354,
          0.1823942022802567,
          0.18256538747307133,
          0.18513405504212999,
          0.18598998100620304,
          0.18821627818963252,
          0.18890101896089095,
          0.19112755456380898,
          0.1912987397566236,
          0.19318284097279756,
          0.19335402616561218,
          0.19575192137971856,
          0.196436662150977,
          0.19849189335133613,
          0.19883426373696533,
          0.2008893757275802,
          0.20123174611320943,
          0.20397201171294504,
          0.20414319690575966,
          0.20619854731586307,
          0.2065409177014923,
          0.2103088352982076,
          0.2104800204910222,
          0.21287815412461725,
          0.21304933931743184,
          0.21561830051460854,
          0.21596067090023777,
          0.21818684887392287,
          0.21835803406673748,
          0.22058433125016697,
          0.22144025721424,
          0.22366667360741374,
          0.22400904399304294,
          0.2267494928036377,
          0.22692067799645232,
          0.22966088838755855,
          0.22983207358037316,
          0.23137351078279988,
          0.2322294367468729,
          0.23496999597472654,
          0.23514118116754115,
          0.23822400036376515,
          0.23839518555657976,
          0.24301902911736817,
          0.24319021431018278,
          0.2473008599217602,
          0.24815678588583323,
          0.2505548003096839,
          0.25106835588812776,
          0.2538086854889782,
          0.2543222410674221,
          0.2572344071184381,
          0.25843270346814035,
          0.2604879346684995,
          0.26065911986131407,
          0.26237174225655535,
          0.2627141126421846,
          0.2661392934315524,
          0.2664816638171816,
          0.2690506250143583,
          0.26922181020717295,
          0.2717909546152088,
          0.2719621398080234,
          0.2748737738114328,
          0.275216144197062,
          0.2777850501856093,
          0.27829860576405313,
          0.2808676309623447,
          0.28103881615515924,
          0.2839503309488243,
          0.28412151614163894,
          0.28737540132093325,
          0.2880601420921917,
          0.2918281788986513,
          0.29268410486272434,
          0.29525347889776343,
          0.29542466409057805,
          0.299364060508226,
          0.2997064308938552,
          0.303473752441849,
          0.30415849321310745,
          0.3077548679877753,
          0.3086107939518483,
          0.3111793423111627,
          0.3113505275039773,
          0.3147760107139485,
          0.3149471959067631,
          0.3176874615064988,
          0.3178586466993134,
          0.32025654191341985,
          0.3205989122990491,
          0.3250518642951408,
          0.32539423468077,
          0.32950433945225543,
          0.33036026541632846,
          0.33292905219513136,
          0.33344260777357526,
          0.33549813260205236,
          0.335669317794867,
          0.34114884890023983,
          0.34149121928586906,
          0.3447447468359304,
          0.34491593202874504,
          0.34748471880754805,
          0.34902538554287954,
          0.353991416278438,
          0.35416260147125256,
          0.3570741714735471,
          0.3577589122448055,
          0.36255517071951,
          0.36323991149076845,
          0.36957572618944723,
          0.36991809657507646,
          0.37368506049383743,
          0.37385624568665204,
          0.3771105437038086,
          0.37728172889662326,
          0.3813927785535776,
          0.38156396374639223,
          0.3860170989533432,
          0.3861882841461578,
          0.390299150592253,
          0.39047033578506757,
          0.3950951882324397,
          0.39543755861806895,
          0.39954890190314135,
          0.39972008709595597,
          0.4040009642223936,
          0.4046857049936521,
          0.4098242874378418,
          0.4105090282091003,
          0.41650605126819573,
          0.4166772364610103,
          0.4211298948289841,
          0.42130108002179867,
          0.4255824891958429,
          0.4266096003527306,
          0.43037745394833105,
          0.4305486391411457,
          0.43637065984189205,
          0.4370554006131505,
          0.44013851343749244,
          0.4403096986303071,
          0.4457905410428672,
          0.44596172623568175,
          0.45229836661008527,
          0.4526407369957145,
          0.4577788513934124,
          0.4591483329359293,
          0.4637732230069601,
          0.4642867785854039,
          0.4690823305941281,
          0.46942470097975736,
          0.4743907957164306,
          0.4750755364876891,
          0.4807273256735752,
          0.48141206644483364,
          0.4863780419717626,
          0.4865492271645772,
          0.49031825527264983,
          0.4908318108510936,
          0.49871110935653995,
          0.49888229454935457,
          0.506248578316449,
          0.5064197635092637,
          0.5101874426864904,
          0.5105298130721196,
          0.5146401010544642,
          0.5156672122113519,
          0.522006256819329,
          0.5235469235546605,
          0.531596607954653,
          0.5345067562325013,
          0.5449538037989936,
          0.5452961741846228,
          0.5524894645740506,
          0.5536877609237528,
          0.559509781624499,
          0.5601945223957575,
          0.5668737075741639,
          0.567729633538237,
          0.5735527271266821,
          0.5744086530907552,
          0.5804026294514112,
          0.581772110993928,
          0.5935890705257705,
          0.5937602557185852,
          0.5983839160685143,
          0.6023211755032503,
          0.6100280126786365,
          0.6107127534498948,
          0.620131148925309,
          0.6208158896965674,
          0.6252689609024036,
          0.6257825164808474,
          0.6316053716498038,
          0.6331460383851353,
          0.6483903332742281,
          0.6507869259736326,
          0.6576358746204076,
          0.6584918005844808,
          0.6701379061752849,
          0.6727056840675041,
          0.6869208236490854,
          0.6886326755772315,
          0.704560995979117,
          0.6048615952703436,
          0.6154802408675129,
          0.6158226112531421,
          0.6257533150009277,
          0.6274651669290737,
          0.6440733405027014,
          0.6466411183949204,
          0.6582835460686224,
          0.6596530276111393,
          0.6707845775294013,
          0.6730099850359913,
          0.7017720048788527,
          0.702114375264482,
          0.7146136913726968,
          0.7190645063858767,
          0.7389275276092385,
          0.6396401157767654,
          0.6514568657202924,
          0.660358495746652,
          0.5787068454836714,
          0.5787068454836714,
          0.593435302224208,
          0.49346314962047644,
          0.5087048218951947,
          0.4121563731477554,
          0.41729567964289643,
          0.42003488114741877,
          0.32434655953627606,
          0.32434655953627606,
          0.3414818835066315,
          0.24144011241222885,
          0.24315385411131285,
          0.24315385411131285,
          0.2474366385936593,
          0.2474366385936593,
          0.25617420963440607,
          0.25617420963440607,
          0.2659392582537588,
          0.2659392582537588,
          0.27159457097706136,
          0.17155279988265865,
          0.17566445438081996,
          0.17566445438081996,
          0.1856097027397921,
          0.1856097027397921,
          0.08608236810818737,
          0.08608236810818737,
          0.08865455042217703,
          0.08865455042217703,
          0.08968342334777289,
          0.08968342334777289,
          0.0908837750943014,
          0.0908837750943014,
          0.09328447858735843,
          0.09328447858735843,
          0.09997215260373155
         ],
         "xaxis": "x",
         "y": [
          0,
          0.0011730207397847676,
          0.04703864638292786,
          0.04703864638292786,
          0.10627587743196804,
          0.10651055384653078,
          0.14333963357127869,
          0.14333963357127869,
          0.15635971021989234,
          0.15635971021989234,
          0.18568708021100788,
          0.18568708021100788,
          0.2079742366990733,
          0.2079742366990733,
          0.2290902772050285,
          0.2290902772050285,
          0.24422417391410672,
          0.24422417391410672,
          0.26299109068928866,
          0.26299109068928866,
          0.2726102548882424,
          0.2726102548882424,
          0.29278827025287074,
          0.2930229466674335,
          0.31038339972519285,
          0.31038339972519285,
          0.31859481542449053,
          0.31859481542449053,
          0.3266886948155779,
          0.3266886948155779,
          0.33642459563872124,
          0.336659272053284,
          0.3459243042111802,
          0.3459243042111802,
          0.3521421965433146,
          0.3521421965433146,
          0.36258331329985,
          0.36258331329985,
          0.3734940415279229,
          0.3739633943570484,
          0.382641850047547,
          0.3828765264621098,
          0.3913231780099281,
          0.39190986904633496,
          0.40434311250100863,
          0.405399156366541,
          0.41185073192637595,
          0.413141452206471,
          0.42369860399570514,
          0.424285295032112,
          0.43613199420599924,
          0.4364840088278434,
          0.44293548897736607,
          0.44551692953755634,
          0.4513809676297426,
          0.45255434970255637,
          0.4620570497139944,
          0.46287841716496403,
          0.46897760757375123,
          0.46944696040287676,
          0.47542875206289925,
          0.47625011951386886,
          0.4892733784220856,
          0.48997740766577386,
          0.4998310804491029,
          0.5003004332782284,
          0.5049927656836048,
          0.5051101038908863,
          0.5110920120357879,
          0.5150815110833546,
          0.5265771658318233,
          0.5271638568682302,
          0.5320914764674359,
          0.5323261528819986,
          0.5364318547924513,
          0.5378399132798278,
          0.5444090764931815,
          0.5447610911150256,
          0.5506262718319122,
          0.5514473641639901,
          0.5563740162489876,
          0.5567260308708317,
          0.5621218936274217,
          0.5625912464565472,
          0.5693933280824095,
          0.5715054158134742,
          0.5794814718990674,
          0.5808895303864439,
          0.5872214594991602,
          0.5875734741210042,
          0.5934359385178034,
          0.5939052913469289,
          0.5995366045294479,
          0.5997712809440108,
          0.6030559978110897,
          0.6034080124329338,
          0.6079829763602874,
          0.6113857843714473,
          0.6144356010503803,
          0.6152569685013499,
          0.6191277702236567,
          0.6199491376746263,
          0.6260496661268251,
          0.6264016807486692,
          0.6332029067471151,
          0.6335549213689593,
          0.636604385911038,
          0.6367217241183193,
          0.6415317817366604,
          0.6418837963585046,
          0.646692821323067,
          0.6468101595303485,
          0.6504461426805594,
          0.6506808190951222,
          0.6553727598967282,
          0.6566634801768233,
          0.6619414544883486,
          0.6621761309029113,
          0.6658126688889927,
          0.6660473453035554,
          0.6688620472169342,
          0.6689793854242156,
          0.6750790187820815,
          0.6751963569893629,
          0.6824692908039928,
          0.683173320047681,
          0.6877474283476182,
          0.6882167811767437,
          0.6918530697165877,
          0.6920877461311504,
          0.6950203154150268,
          0.6954896682441524,
          0.7001812733853837,
          0.7004159497999464,
          0.7031136748390725,
          0.7032310130463539,
          0.705811868499932,
          0.7061638831217761,
          0.7085100062173957,
          0.7086273444246771,
          0.7126149295183948,
          0.7135536351766457,
          0.7161337468895989,
          0.7163684233041616,
          0.7197700913728388,
          0.7198874295801201,
          0.7246967645324033,
          0.7252834555688101,
          0.7289197697813085,
          0.7292717844031525,
          0.7319697588885162,
          0.7320870970957977,
          0.7367783244275202,
          0.7368956626348017,
          0.7404147761994643,
          0.740649452614027,
          0.7441681021550439,
          0.7444027785696067,
          0.7459277579878398,
          0.7461624344024026,
          0.7486258957053036,
          0.7488605721198662,
          0.7516757683276323,
          0.7522624593640392,
          0.7571889482169367,
          0.757306286424218,
          0.7591829237293536,
          0.7597696147657605,
          0.7627017108298164,
          0.7629363872443791,
          0.7661033183570103,
          0.7662206565642917,
          0.7682145715352254,
          0.7689186007789136,
          0.7716167128237231,
          0.7717340510310046,
          0.7734935390336133,
          0.7737282154481759,
          0.7773643664285743,
          0.7777163810504184,
          0.7800622592978876,
          0.7802969357124505,
          0.7826427277457827,
          0.7831120805749082,
          0.7852235831993607,
          0.785340921406642,
          0.7871003277932006,
          0.787217666000482,
          0.7888598717392048,
          0.7889772099464862,
          0.791323139539264,
          0.7914404777465454,
          0.7951944960974417,
          0.7953118343047231,
          0.796719200396783,
          0.7976579060550341,
          0.8016463467761679,
          0.8017636849834493,
          0.8044617108141214,
          0.8046963872286842,
          0.807511837480775,
          0.8077465138953378,
          0.8096231209297318,
          0.8100924737588573,
          0.8127903060866879,
          0.8129076442939692,
          0.8152533547112514,
          0.8157227075403769,
          0.8181857818375947,
          0.8184204582521575,
          0.8210004883490607,
          0.8212351647636235,
          0.823815770770964,
          0.8239331089782453,
          0.8269833172609489,
          0.8279220229191999,
          0.8294466969477998,
          0.8300333879842067,
          0.833083127645177,
          0.8335524804743025,
          0.8354291434520924,
          0.836250510903062,
          0.8383616265218314,
          0.8393003321800825,
          0.8418808565713731,
          0.8419981947786543,
          0.8445786375538951,
          0.8453997812312815,
          0.8471593811206816,
          0.8476287339498071,
          0.8496231221405616,
          0.8498577985551243,
          0.8518521308024829,
          0.8520868072170457,
          0.854315536161988,
          0.8544328743692693,
          0.8570136482067975,
          0.8571309864140789,
          0.8591251811019917,
          0.859242519309273,
          0.8610021191986732,
          0.8611194574059546,
          0.8634653613260781,
          0.8638173759479222,
          0.8674527364404745,
          0.8675700746477559,
          0.870033174617628,
          0.8703851892394721,
          0.8722620713927576,
          0.8728485386555813,
          0.8747250081305296,
          0.8749596845450922,
          0.8771881126984888,
          0.8774227891130517,
          0.8798860615111982,
          0.8800033997184796,
          0.8816456054572024,
          0.8817629436644838,
          0.8832879230827169,
          0.8835225994972797,
          0.8850473854126713,
          0.885282061827234,
          0.8869241602772526,
          0.887041498484534,
          0.8890354437262094,
          0.8891527819334908,
          0.8910296640867764,
          0.8911470022940577,
          0.8937274964146068,
          0.8939621728291696,
          0.8959563931897365,
          0.896073731397018,
          0.8978333056137638,
          0.8979506438210453,
          0.8995927376729765,
          0.8999447522948206,
          0.9015867948014434,
          0.9017041330087249,
          0.9039330857272505,
          0.9040504239345318,
          0.9063964654141012,
          0.9065138036213827,
          0.9082732916239913,
          0.9083906298312726,
          0.9100327282812912,
          0.9101500664885726,
          0.9117920787244539,
          0.9119094169317353,
          0.913786079909525,
          0.9140207563240879,
          0.9156627428873148,
          0.9158974193018776,
          0.9180088100395385,
          0.9181261482468198,
          0.9194165071938861,
          0.9197685218157302,
          0.921293333403776,
          0.9214106716110574,
          0.9230525206148387,
          0.92316985882212,
          0.9246947263535615,
          0.924812064560843,
          0.9265715828341929,
          0.9266889210414743,
          0.9286832532888328,
          0.9288005914961143,
          0.9309117630582795,
          0.9310291012655608,
          0.9325538871809521,
          0.9326712253882335,
          0.9343134870703524,
          0.9344308252776338,
          0.9365418849530074,
          0.9366592231602887,
          0.9383013729556158,
          0.9384187111628972,
          0.9400608050148285,
          0.9402954814293912,
          0.9417029034648471,
          0.9418202416721284,
          0.943110488732403,
          0.9432278269396844,
          0.944635468150636,
          0.9449874827724801,
          0.9467469707750887,
          0.9470989853969328,
          0.9488585293429371,
          0.9489758675502186,
          0.9502662264972846,
          0.950383564704566,
          0.9514392472370694,
          0.9516739236516322,
          0.9528468884480212,
          0.953081564862584,
          0.9542545296589727,
          0.9547238824880983,
          0.9563660625541671,
          0.9564834007614484,
          0.9577737037651187,
          0.9580083801796815,
          0.9592984640078561,
          0.9594158022151376,
          0.9605887670115265,
          0.9607061052188078,
          0.9618790700151967,
          0.9619964082224781,
          0.9632867671695441,
          0.9634041053768255,
          0.9645770701732146,
          0.9648117465877774,
          0.9658674291202807,
          0.965984767327562,
          0.9672750143878367,
          0.9675096908023995,
          0.968799937862674,
          0.9689172760699555,
          0.9703249172809073,
          0.9704422554881885,
          0.971849952642536,
          0.971849952642536,
          0.9729056351750394,
          0.9730229733823208,
          0.9743132204425954,
          0.9743132204425954,
          0.9754861852389842,
          0.9756035234462657,
          0.9770112206006132,
          0.9773632352224573,
          0.9784189177549606,
          0.978536255962242,
          0.979943759613748,
          0.9800610978210293,
          0.9811167803535327,
          0.9813514567680954,
          0.9826416222123201,
          0.9827589604196015,
          0.8837728718577021,
          0.8838902100649835,
          0.8849458925974869,
          0.8850632308047683,
          0.8861189692806675,
          0.8862363074879489,
          0.8872920459638479,
          0.8874093841711294,
          0.8884650667036327,
          0.8885824049109141,
          0.8895208051795319,
          0.8896381433868132,
          0.8905765436554312,
          0.8906938818627126,
          0.8916322821313304,
          0.8917496203386117,
          0.7927157304440522,
          0.7928330686513335,
          0.7938885320083411,
          0.6939163794046095,
          0.6948547237298317,
          0.6948547237298317,
          0.5955862949801551,
          0.5955862949801551,
          0.49608318981591587,
          0.49620052802319725,
          0.49655229319880395,
          0.3965801405950724,
          0.3970491880345647,
          0.3970491880345647,
          0.2973591821157687,
          0.2973591821157687,
          0.2977109472913755,
          0.2977109472913755,
          0.29806271246698224,
          0.29806271246698224,
          0.29841447764258894,
          0.29841447764258894,
          0.29876624281819564,
          0.29876624281819564,
          0.19895895463551413,
          0.19895895463551413,
          0.19919343754723529,
          0.19919343754723529,
          0.1994279204589564,
          0.09938614936455376,
          0.0995033500123893,
          0.0995033500123893,
          0.09962055066022486,
          0.09962055066022486,
          0.09973775130806042,
          0.09973775130806042,
          0.09985495195589598,
          0.09985495195589598,
          0.09997215260373155,
          0.09997215260373155
         ],
         "yaxis": "y"
        }
       ],
       "layout": {
        "height": 700,
        "legend": {
         "tracegroupgap": 0
        },
        "shapes": [
         {
          "line": {
           "dash": "dash"
          },
          "type": "line",
          "x0": 0,
          "x1": 1,
          "y0": 0,
          "y1": 1
         }
        ],
        "template": {
         "data": {
          "bar": [
           {
            "error_x": {
             "color": "#2a3f5f"
            },
            "error_y": {
             "color": "#2a3f5f"
            },
            "marker": {
             "line": {
              "color": "#E5ECF6",
              "width": 0.5
             },
             "pattern": {
              "fillmode": "overlay",
              "size": 10,
              "solidity": 0.2
             }
            },
            "type": "bar"
           }
          ],
          "barpolar": [
           {
            "marker": {
             "line": {
              "color": "#E5ECF6",
              "width": 0.5
             },
             "pattern": {
              "fillmode": "overlay",
              "size": 10,
              "solidity": 0.2
             }
            },
            "type": "barpolar"
           }
          ],
          "carpet": [
           {
            "aaxis": {
             "endlinecolor": "#2a3f5f",
             "gridcolor": "white",
             "linecolor": "white",
             "minorgridcolor": "white",
             "startlinecolor": "#2a3f5f"
            },
            "baxis": {
             "endlinecolor": "#2a3f5f",
             "gridcolor": "white",
             "linecolor": "white",
             "minorgridcolor": "white",
             "startlinecolor": "#2a3f5f"
            },
            "type": "carpet"
           }
          ],
          "choropleth": [
           {
            "colorbar": {
             "outlinewidth": 0,
             "ticks": ""
            },
            "type": "choropleth"
           }
          ],
          "contour": [
           {
            "colorbar": {
             "outlinewidth": 0,
             "ticks": ""
            },
            "colorscale": [
             [
              0,
              "#0d0887"
             ],
             [
              0.1111111111111111,
              "#46039f"
             ],
             [
              0.2222222222222222,
              "#7201a8"
             ],
             [
              0.3333333333333333,
              "#9c179e"
             ],
             [
              0.4444444444444444,
              "#bd3786"
             ],
             [
              0.5555555555555556,
              "#d8576b"
             ],
             [
              0.6666666666666666,
              "#ed7953"
             ],
             [
              0.7777777777777778,
              "#fb9f3a"
             ],
             [
              0.8888888888888888,
              "#fdca26"
             ],
             [
              1,
              "#f0f921"
             ]
            ],
            "type": "contour"
           }
          ],
          "contourcarpet": [
           {
            "colorbar": {
             "outlinewidth": 0,
             "ticks": ""
            },
            "type": "contourcarpet"
           }
          ],
          "heatmap": [
           {
            "colorbar": {
             "outlinewidth": 0,
             "ticks": ""
            },
            "colorscale": [
             [
              0,
              "#0d0887"
             ],
             [
              0.1111111111111111,
              "#46039f"
             ],
             [
              0.2222222222222222,
              "#7201a8"
             ],
             [
              0.3333333333333333,
              "#9c179e"
             ],
             [
              0.4444444444444444,
              "#bd3786"
             ],
             [
              0.5555555555555556,
              "#d8576b"
             ],
             [
              0.6666666666666666,
              "#ed7953"
             ],
             [
              0.7777777777777778,
              "#fb9f3a"
             ],
             [
              0.8888888888888888,
              "#fdca26"
             ],
             [
              1,
              "#f0f921"
             ]
            ],
            "type": "heatmap"
           }
          ],
          "heatmapgl": [
           {
            "colorbar": {
             "outlinewidth": 0,
             "ticks": ""
            },
            "colorscale": [
             [
              0,
              "#0d0887"
             ],
             [
              0.1111111111111111,
              "#46039f"
             ],
             [
              0.2222222222222222,
              "#7201a8"
             ],
             [
              0.3333333333333333,
              "#9c179e"
             ],
             [
              0.4444444444444444,
              "#bd3786"
             ],
             [
              0.5555555555555556,
              "#d8576b"
             ],
             [
              0.6666666666666666,
              "#ed7953"
             ],
             [
              0.7777777777777778,
              "#fb9f3a"
             ],
             [
              0.8888888888888888,
              "#fdca26"
             ],
             [
              1,
              "#f0f921"
             ]
            ],
            "type": "heatmapgl"
           }
          ],
          "histogram": [
           {
            "marker": {
             "pattern": {
              "fillmode": "overlay",
              "size": 10,
              "solidity": 0.2
             }
            },
            "type": "histogram"
           }
          ],
          "histogram2d": [
           {
            "colorbar": {
             "outlinewidth": 0,
             "ticks": ""
            },
            "colorscale": [
             [
              0,
              "#0d0887"
             ],
             [
              0.1111111111111111,
              "#46039f"
             ],
             [
              0.2222222222222222,
              "#7201a8"
             ],
             [
              0.3333333333333333,
              "#9c179e"
             ],
             [
              0.4444444444444444,
              "#bd3786"
             ],
             [
              0.5555555555555556,
              "#d8576b"
             ],
             [
              0.6666666666666666,
              "#ed7953"
             ],
             [
              0.7777777777777778,
              "#fb9f3a"
             ],
             [
              0.8888888888888888,
              "#fdca26"
             ],
             [
              1,
              "#f0f921"
             ]
            ],
            "type": "histogram2d"
           }
          ],
          "histogram2dcontour": [
           {
            "colorbar": {
             "outlinewidth": 0,
             "ticks": ""
            },
            "colorscale": [
             [
              0,
              "#0d0887"
             ],
             [
              0.1111111111111111,
              "#46039f"
             ],
             [
              0.2222222222222222,
              "#7201a8"
             ],
             [
              0.3333333333333333,
              "#9c179e"
             ],
             [
              0.4444444444444444,
              "#bd3786"
             ],
             [
              0.5555555555555556,
              "#d8576b"
             ],
             [
              0.6666666666666666,
              "#ed7953"
             ],
             [
              0.7777777777777778,
              "#fb9f3a"
             ],
             [
              0.8888888888888888,
              "#fdca26"
             ],
             [
              1,
              "#f0f921"
             ]
            ],
            "type": "histogram2dcontour"
           }
          ],
          "mesh3d": [
           {
            "colorbar": {
             "outlinewidth": 0,
             "ticks": ""
            },
            "type": "mesh3d"
           }
          ],
          "parcoords": [
           {
            "line": {
             "colorbar": {
              "outlinewidth": 0,
              "ticks": ""
             }
            },
            "type": "parcoords"
           }
          ],
          "pie": [
           {
            "automargin": true,
            "type": "pie"
           }
          ],
          "scatter": [
           {
            "fillpattern": {
             "fillmode": "overlay",
             "size": 10,
             "solidity": 0.2
            },
            "type": "scatter"
           }
          ],
          "scatter3d": [
           {
            "line": {
             "colorbar": {
              "outlinewidth": 0,
              "ticks": ""
             }
            },
            "marker": {
             "colorbar": {
              "outlinewidth": 0,
              "ticks": ""
             }
            },
            "type": "scatter3d"
           }
          ],
          "scattercarpet": [
           {
            "marker": {
             "colorbar": {
              "outlinewidth": 0,
              "ticks": ""
             }
            },
            "type": "scattercarpet"
           }
          ],
          "scattergeo": [
           {
            "marker": {
             "colorbar": {
              "outlinewidth": 0,
              "ticks": ""
             }
            },
            "type": "scattergeo"
           }
          ],
          "scattergl": [
           {
            "marker": {
             "colorbar": {
              "outlinewidth": 0,
              "ticks": ""
             }
            },
            "type": "scattergl"
           }
          ],
          "scattermapbox": [
           {
            "marker": {
             "colorbar": {
              "outlinewidth": 0,
              "ticks": ""
             }
            },
            "type": "scattermapbox"
           }
          ],
          "scatterpolar": [
           {
            "marker": {
             "colorbar": {
              "outlinewidth": 0,
              "ticks": ""
             }
            },
            "type": "scatterpolar"
           }
          ],
          "scatterpolargl": [
           {
            "marker": {
             "colorbar": {
              "outlinewidth": 0,
              "ticks": ""
             }
            },
            "type": "scatterpolargl"
           }
          ],
          "scatterternary": [
           {
            "marker": {
             "colorbar": {
              "outlinewidth": 0,
              "ticks": ""
             }
            },
            "type": "scatterternary"
           }
          ],
          "surface": [
           {
            "colorbar": {
             "outlinewidth": 0,
             "ticks": ""
            },
            "colorscale": [
             [
              0,
              "#0d0887"
             ],
             [
              0.1111111111111111,
              "#46039f"
             ],
             [
              0.2222222222222222,
              "#7201a8"
             ],
             [
              0.3333333333333333,
              "#9c179e"
             ],
             [
              0.4444444444444444,
              "#bd3786"
             ],
             [
              0.5555555555555556,
              "#d8576b"
             ],
             [
              0.6666666666666666,
              "#ed7953"
             ],
             [
              0.7777777777777778,
              "#fb9f3a"
             ],
             [
              0.8888888888888888,
              "#fdca26"
             ],
             [
              1,
              "#f0f921"
             ]
            ],
            "type": "surface"
           }
          ],
          "table": [
           {
            "cells": {
             "fill": {
              "color": "#EBF0F8"
             },
             "line": {
              "color": "white"
             }
            },
            "header": {
             "fill": {
              "color": "#C8D4E3"
             },
             "line": {
              "color": "white"
             }
            },
            "type": "table"
           }
          ]
         },
         "layout": {
          "annotationdefaults": {
           "arrowcolor": "#2a3f5f",
           "arrowhead": 0,
           "arrowwidth": 1
          },
          "autotypenumbers": "strict",
          "coloraxis": {
           "colorbar": {
            "outlinewidth": 0,
            "ticks": ""
           }
          },
          "colorscale": {
           "diverging": [
            [
             0,
             "#8e0152"
            ],
            [
             0.1,
             "#c51b7d"
            ],
            [
             0.2,
             "#de77ae"
            ],
            [
             0.3,
             "#f1b6da"
            ],
            [
             0.4,
             "#fde0ef"
            ],
            [
             0.5,
             "#f7f7f7"
            ],
            [
             0.6,
             "#e6f5d0"
            ],
            [
             0.7,
             "#b8e186"
            ],
            [
             0.8,
             "#7fbc41"
            ],
            [
             0.9,
             "#4d9221"
            ],
            [
             1,
             "#276419"
            ]
           ],
           "sequential": [
            [
             0,
             "#0d0887"
            ],
            [
             0.1111111111111111,
             "#46039f"
            ],
            [
             0.2222222222222222,
             "#7201a8"
            ],
            [
             0.3333333333333333,
             "#9c179e"
            ],
            [
             0.4444444444444444,
             "#bd3786"
            ],
            [
             0.5555555555555556,
             "#d8576b"
            ],
            [
             0.6666666666666666,
             "#ed7953"
            ],
            [
             0.7777777777777778,
             "#fb9f3a"
            ],
            [
             0.8888888888888888,
             "#fdca26"
            ],
            [
             1,
             "#f0f921"
            ]
           ],
           "sequentialminus": [
            [
             0,
             "#0d0887"
            ],
            [
             0.1111111111111111,
             "#46039f"
            ],
            [
             0.2222222222222222,
             "#7201a8"
            ],
            [
             0.3333333333333333,
             "#9c179e"
            ],
            [
             0.4444444444444444,
             "#bd3786"
            ],
            [
             0.5555555555555556,
             "#d8576b"
            ],
            [
             0.6666666666666666,
             "#ed7953"
            ],
            [
             0.7777777777777778,
             "#fb9f3a"
            ],
            [
             0.8888888888888888,
             "#fdca26"
            ],
            [
             1,
             "#f0f921"
            ]
           ]
          },
          "colorway": [
           "#636efa",
           "#EF553B",
           "#00cc96",
           "#ab63fa",
           "#FFA15A",
           "#19d3f3",
           "#FF6692",
           "#B6E880",
           "#FF97FF",
           "#FECB52"
          ],
          "font": {
           "color": "#2a3f5f"
          },
          "geo": {
           "bgcolor": "white",
           "lakecolor": "white",
           "landcolor": "#E5ECF6",
           "showlakes": true,
           "showland": true,
           "subunitcolor": "white"
          },
          "hoverlabel": {
           "align": "left"
          },
          "hovermode": "closest",
          "mapbox": {
           "style": "light"
          },
          "paper_bgcolor": "white",
          "plot_bgcolor": "#E5ECF6",
          "polar": {
           "angularaxis": {
            "gridcolor": "white",
            "linecolor": "white",
            "ticks": ""
           },
           "bgcolor": "#E5ECF6",
           "radialaxis": {
            "gridcolor": "white",
            "linecolor": "white",
            "ticks": ""
           }
          },
          "scene": {
           "xaxis": {
            "backgroundcolor": "#E5ECF6",
            "gridcolor": "white",
            "gridwidth": 2,
            "linecolor": "white",
            "showbackground": true,
            "ticks": "",
            "zerolinecolor": "white"
           },
           "yaxis": {
            "backgroundcolor": "#E5ECF6",
            "gridcolor": "white",
            "gridwidth": 2,
            "linecolor": "white",
            "showbackground": true,
            "ticks": "",
            "zerolinecolor": "white"
           },
           "zaxis": {
            "backgroundcolor": "#E5ECF6",
            "gridcolor": "white",
            "gridwidth": 2,
            "linecolor": "white",
            "showbackground": true,
            "ticks": "",
            "zerolinecolor": "white"
           }
          },
          "shapedefaults": {
           "line": {
            "color": "#2a3f5f"
           }
          },
          "ternary": {
           "aaxis": {
            "gridcolor": "white",
            "linecolor": "white",
            "ticks": ""
           },
           "baxis": {
            "gridcolor": "white",
            "linecolor": "white",
            "ticks": ""
           },
           "bgcolor": "#E5ECF6",
           "caxis": {
            "gridcolor": "white",
            "linecolor": "white",
            "ticks": ""
           }
          },
          "title": {
           "x": 0.05
          },
          "xaxis": {
           "automargin": true,
           "gridcolor": "white",
           "linecolor": "white",
           "ticks": "",
           "title": {
            "standoff": 15
           },
           "zerolinecolor": "white",
           "zerolinewidth": 2
          },
          "yaxis": {
           "automargin": true,
           "gridcolor": "white",
           "linecolor": "white",
           "ticks": "",
           "title": {
            "standoff": 15
           },
           "zerolinecolor": "white",
           "zerolinewidth": 2
          }
         }
        },
        "title": {
         "text": "ROC Curve (AUC=0.8754)"
        },
        "width": 700,
        "xaxis": {
         "anchor": "y",
         "constrain": "domain",
         "domain": [
          0,
          1
         ],
         "title": {
          "text": "Average False Positive Rate"
         }
        },
        "yaxis": {
         "anchor": "x",
         "domain": [
          0,
          1
         ],
         "scaleanchor": "x",
         "scaleratio": 1,
         "title": {
          "text": "Average True Positive Rate"
         }
        }
       }
      }
     },
     "metadata": {},
     "output_type": "display_data"
    },
    {
     "data": {
      "application/vnd.plotly.v1+json": {
       "config": {
        "plotlyServerURL": "https://plot.ly"
       },
       "data": [
        {
         "hovertemplate": "K-Fold=%{x}<br>AUC Score=%{y}<extra></extra>",
         "legendgroup": "",
         "marker": {
          "color": "#636efa",
          "symbol": "circle"
         },
         "mode": "markers",
         "name": "",
         "orientation": "v",
         "showlegend": false,
         "type": "scatter",
         "x": [
          1,
          2,
          3,
          4,
          5,
          6,
          7,
          8,
          9,
          10
         ],
         "xaxis": "x",
         "y": [
          0.8670185003773948,
          0.880030593071994,
          0.8771178274904046,
          0.8807291750309142,
          0.8601022724759149,
          0.8692610859219243,
          0.8859834233712779,
          0.8760571419383884,
          0.8812313090874011,
          0.8764088526593349
         ],
         "yaxis": "y"
        },
        {
         "hovertemplate": "<b>OLS trendline</b><br>y = 0.000682038 * x + 0.871643<br>R<sup>2</sup>=0.070779<br><br>K-Fold=%{x}<br>AUC Score=%{y} <b>(trend)</b><extra></extra>",
         "legendgroup": "",
         "marker": {
          "color": "#636efa",
          "symbol": "circle"
         },
         "mode": "lines",
         "name": "",
         "showlegend": false,
         "type": "scatter",
         "x": [
          1,
          2,
          3,
          4,
          5,
          6,
          7,
          8,
          9,
          10
         ],
         "xaxis": "x",
         "y": [
          0.8723248459601584,
          0.8730068842228997,
          0.8736889224856412,
          0.8743709607483827,
          0.8750529990111241,
          0.8757350372738656,
          0.876417075536607,
          0.8770991137993485,
          0.87778115206209,
          0.8784631903248313
         ],
         "yaxis": "y"
        }
       ],
       "layout": {
        "legend": {
         "tracegroupgap": 0
        },
        "template": {
         "data": {
          "bar": [
           {
            "error_x": {
             "color": "#2a3f5f"
            },
            "error_y": {
             "color": "#2a3f5f"
            },
            "marker": {
             "line": {
              "color": "#E5ECF6",
              "width": 0.5
             },
             "pattern": {
              "fillmode": "overlay",
              "size": 10,
              "solidity": 0.2
             }
            },
            "type": "bar"
           }
          ],
          "barpolar": [
           {
            "marker": {
             "line": {
              "color": "#E5ECF6",
              "width": 0.5
             },
             "pattern": {
              "fillmode": "overlay",
              "size": 10,
              "solidity": 0.2
             }
            },
            "type": "barpolar"
           }
          ],
          "carpet": [
           {
            "aaxis": {
             "endlinecolor": "#2a3f5f",
             "gridcolor": "white",
             "linecolor": "white",
             "minorgridcolor": "white",
             "startlinecolor": "#2a3f5f"
            },
            "baxis": {
             "endlinecolor": "#2a3f5f",
             "gridcolor": "white",
             "linecolor": "white",
             "minorgridcolor": "white",
             "startlinecolor": "#2a3f5f"
            },
            "type": "carpet"
           }
          ],
          "choropleth": [
           {
            "colorbar": {
             "outlinewidth": 0,
             "ticks": ""
            },
            "type": "choropleth"
           }
          ],
          "contour": [
           {
            "colorbar": {
             "outlinewidth": 0,
             "ticks": ""
            },
            "colorscale": [
             [
              0,
              "#0d0887"
             ],
             [
              0.1111111111111111,
              "#46039f"
             ],
             [
              0.2222222222222222,
              "#7201a8"
             ],
             [
              0.3333333333333333,
              "#9c179e"
             ],
             [
              0.4444444444444444,
              "#bd3786"
             ],
             [
              0.5555555555555556,
              "#d8576b"
             ],
             [
              0.6666666666666666,
              "#ed7953"
             ],
             [
              0.7777777777777778,
              "#fb9f3a"
             ],
             [
              0.8888888888888888,
              "#fdca26"
             ],
             [
              1,
              "#f0f921"
             ]
            ],
            "type": "contour"
           }
          ],
          "contourcarpet": [
           {
            "colorbar": {
             "outlinewidth": 0,
             "ticks": ""
            },
            "type": "contourcarpet"
           }
          ],
          "heatmap": [
           {
            "colorbar": {
             "outlinewidth": 0,
             "ticks": ""
            },
            "colorscale": [
             [
              0,
              "#0d0887"
             ],
             [
              0.1111111111111111,
              "#46039f"
             ],
             [
              0.2222222222222222,
              "#7201a8"
             ],
             [
              0.3333333333333333,
              "#9c179e"
             ],
             [
              0.4444444444444444,
              "#bd3786"
             ],
             [
              0.5555555555555556,
              "#d8576b"
             ],
             [
              0.6666666666666666,
              "#ed7953"
             ],
             [
              0.7777777777777778,
              "#fb9f3a"
             ],
             [
              0.8888888888888888,
              "#fdca26"
             ],
             [
              1,
              "#f0f921"
             ]
            ],
            "type": "heatmap"
           }
          ],
          "heatmapgl": [
           {
            "colorbar": {
             "outlinewidth": 0,
             "ticks": ""
            },
            "colorscale": [
             [
              0,
              "#0d0887"
             ],
             [
              0.1111111111111111,
              "#46039f"
             ],
             [
              0.2222222222222222,
              "#7201a8"
             ],
             [
              0.3333333333333333,
              "#9c179e"
             ],
             [
              0.4444444444444444,
              "#bd3786"
             ],
             [
              0.5555555555555556,
              "#d8576b"
             ],
             [
              0.6666666666666666,
              "#ed7953"
             ],
             [
              0.7777777777777778,
              "#fb9f3a"
             ],
             [
              0.8888888888888888,
              "#fdca26"
             ],
             [
              1,
              "#f0f921"
             ]
            ],
            "type": "heatmapgl"
           }
          ],
          "histogram": [
           {
            "marker": {
             "pattern": {
              "fillmode": "overlay",
              "size": 10,
              "solidity": 0.2
             }
            },
            "type": "histogram"
           }
          ],
          "histogram2d": [
           {
            "colorbar": {
             "outlinewidth": 0,
             "ticks": ""
            },
            "colorscale": [
             [
              0,
              "#0d0887"
             ],
             [
              0.1111111111111111,
              "#46039f"
             ],
             [
              0.2222222222222222,
              "#7201a8"
             ],
             [
              0.3333333333333333,
              "#9c179e"
             ],
             [
              0.4444444444444444,
              "#bd3786"
             ],
             [
              0.5555555555555556,
              "#d8576b"
             ],
             [
              0.6666666666666666,
              "#ed7953"
             ],
             [
              0.7777777777777778,
              "#fb9f3a"
             ],
             [
              0.8888888888888888,
              "#fdca26"
             ],
             [
              1,
              "#f0f921"
             ]
            ],
            "type": "histogram2d"
           }
          ],
          "histogram2dcontour": [
           {
            "colorbar": {
             "outlinewidth": 0,
             "ticks": ""
            },
            "colorscale": [
             [
              0,
              "#0d0887"
             ],
             [
              0.1111111111111111,
              "#46039f"
             ],
             [
              0.2222222222222222,
              "#7201a8"
             ],
             [
              0.3333333333333333,
              "#9c179e"
             ],
             [
              0.4444444444444444,
              "#bd3786"
             ],
             [
              0.5555555555555556,
              "#d8576b"
             ],
             [
              0.6666666666666666,
              "#ed7953"
             ],
             [
              0.7777777777777778,
              "#fb9f3a"
             ],
             [
              0.8888888888888888,
              "#fdca26"
             ],
             [
              1,
              "#f0f921"
             ]
            ],
            "type": "histogram2dcontour"
           }
          ],
          "mesh3d": [
           {
            "colorbar": {
             "outlinewidth": 0,
             "ticks": ""
            },
            "type": "mesh3d"
           }
          ],
          "parcoords": [
           {
            "line": {
             "colorbar": {
              "outlinewidth": 0,
              "ticks": ""
             }
            },
            "type": "parcoords"
           }
          ],
          "pie": [
           {
            "automargin": true,
            "type": "pie"
           }
          ],
          "scatter": [
           {
            "fillpattern": {
             "fillmode": "overlay",
             "size": 10,
             "solidity": 0.2
            },
            "type": "scatter"
           }
          ],
          "scatter3d": [
           {
            "line": {
             "colorbar": {
              "outlinewidth": 0,
              "ticks": ""
             }
            },
            "marker": {
             "colorbar": {
              "outlinewidth": 0,
              "ticks": ""
             }
            },
            "type": "scatter3d"
           }
          ],
          "scattercarpet": [
           {
            "marker": {
             "colorbar": {
              "outlinewidth": 0,
              "ticks": ""
             }
            },
            "type": "scattercarpet"
           }
          ],
          "scattergeo": [
           {
            "marker": {
             "colorbar": {
              "outlinewidth": 0,
              "ticks": ""
             }
            },
            "type": "scattergeo"
           }
          ],
          "scattergl": [
           {
            "marker": {
             "colorbar": {
              "outlinewidth": 0,
              "ticks": ""
             }
            },
            "type": "scattergl"
           }
          ],
          "scattermapbox": [
           {
            "marker": {
             "colorbar": {
              "outlinewidth": 0,
              "ticks": ""
             }
            },
            "type": "scattermapbox"
           }
          ],
          "scatterpolar": [
           {
            "marker": {
             "colorbar": {
              "outlinewidth": 0,
              "ticks": ""
             }
            },
            "type": "scatterpolar"
           }
          ],
          "scatterpolargl": [
           {
            "marker": {
             "colorbar": {
              "outlinewidth": 0,
              "ticks": ""
             }
            },
            "type": "scatterpolargl"
           }
          ],
          "scatterternary": [
           {
            "marker": {
             "colorbar": {
              "outlinewidth": 0,
              "ticks": ""
             }
            },
            "type": "scatterternary"
           }
          ],
          "surface": [
           {
            "colorbar": {
             "outlinewidth": 0,
             "ticks": ""
            },
            "colorscale": [
             [
              0,
              "#0d0887"
             ],
             [
              0.1111111111111111,
              "#46039f"
             ],
             [
              0.2222222222222222,
              "#7201a8"
             ],
             [
              0.3333333333333333,
              "#9c179e"
             ],
             [
              0.4444444444444444,
              "#bd3786"
             ],
             [
              0.5555555555555556,
              "#d8576b"
             ],
             [
              0.6666666666666666,
              "#ed7953"
             ],
             [
              0.7777777777777778,
              "#fb9f3a"
             ],
             [
              0.8888888888888888,
              "#fdca26"
             ],
             [
              1,
              "#f0f921"
             ]
            ],
            "type": "surface"
           }
          ],
          "table": [
           {
            "cells": {
             "fill": {
              "color": "#EBF0F8"
             },
             "line": {
              "color": "white"
             }
            },
            "header": {
             "fill": {
              "color": "#C8D4E3"
             },
             "line": {
              "color": "white"
             }
            },
            "type": "table"
           }
          ]
         },
         "layout": {
          "annotationdefaults": {
           "arrowcolor": "#2a3f5f",
           "arrowhead": 0,
           "arrowwidth": 1
          },
          "autotypenumbers": "strict",
          "coloraxis": {
           "colorbar": {
            "outlinewidth": 0,
            "ticks": ""
           }
          },
          "colorscale": {
           "diverging": [
            [
             0,
             "#8e0152"
            ],
            [
             0.1,
             "#c51b7d"
            ],
            [
             0.2,
             "#de77ae"
            ],
            [
             0.3,
             "#f1b6da"
            ],
            [
             0.4,
             "#fde0ef"
            ],
            [
             0.5,
             "#f7f7f7"
            ],
            [
             0.6,
             "#e6f5d0"
            ],
            [
             0.7,
             "#b8e186"
            ],
            [
             0.8,
             "#7fbc41"
            ],
            [
             0.9,
             "#4d9221"
            ],
            [
             1,
             "#276419"
            ]
           ],
           "sequential": [
            [
             0,
             "#0d0887"
            ],
            [
             0.1111111111111111,
             "#46039f"
            ],
            [
             0.2222222222222222,
             "#7201a8"
            ],
            [
             0.3333333333333333,
             "#9c179e"
            ],
            [
             0.4444444444444444,
             "#bd3786"
            ],
            [
             0.5555555555555556,
             "#d8576b"
            ],
            [
             0.6666666666666666,
             "#ed7953"
            ],
            [
             0.7777777777777778,
             "#fb9f3a"
            ],
            [
             0.8888888888888888,
             "#fdca26"
            ],
            [
             1,
             "#f0f921"
            ]
           ],
           "sequentialminus": [
            [
             0,
             "#0d0887"
            ],
            [
             0.1111111111111111,
             "#46039f"
            ],
            [
             0.2222222222222222,
             "#7201a8"
            ],
            [
             0.3333333333333333,
             "#9c179e"
            ],
            [
             0.4444444444444444,
             "#bd3786"
            ],
            [
             0.5555555555555556,
             "#d8576b"
            ],
            [
             0.6666666666666666,
             "#ed7953"
            ],
            [
             0.7777777777777778,
             "#fb9f3a"
            ],
            [
             0.8888888888888888,
             "#fdca26"
            ],
            [
             1,
             "#f0f921"
            ]
           ]
          },
          "colorway": [
           "#636efa",
           "#EF553B",
           "#00cc96",
           "#ab63fa",
           "#FFA15A",
           "#19d3f3",
           "#FF6692",
           "#B6E880",
           "#FF97FF",
           "#FECB52"
          ],
          "font": {
           "color": "#2a3f5f"
          },
          "geo": {
           "bgcolor": "white",
           "lakecolor": "white",
           "landcolor": "#E5ECF6",
           "showlakes": true,
           "showland": true,
           "subunitcolor": "white"
          },
          "hoverlabel": {
           "align": "left"
          },
          "hovermode": "closest",
          "mapbox": {
           "style": "light"
          },
          "paper_bgcolor": "white",
          "plot_bgcolor": "#E5ECF6",
          "polar": {
           "angularaxis": {
            "gridcolor": "white",
            "linecolor": "white",
            "ticks": ""
           },
           "bgcolor": "#E5ECF6",
           "radialaxis": {
            "gridcolor": "white",
            "linecolor": "white",
            "ticks": ""
           }
          },
          "scene": {
           "xaxis": {
            "backgroundcolor": "#E5ECF6",
            "gridcolor": "white",
            "gridwidth": 2,
            "linecolor": "white",
            "showbackground": true,
            "ticks": "",
            "zerolinecolor": "white"
           },
           "yaxis": {
            "backgroundcolor": "#E5ECF6",
            "gridcolor": "white",
            "gridwidth": 2,
            "linecolor": "white",
            "showbackground": true,
            "ticks": "",
            "zerolinecolor": "white"
           },
           "zaxis": {
            "backgroundcolor": "#E5ECF6",
            "gridcolor": "white",
            "gridwidth": 2,
            "linecolor": "white",
            "showbackground": true,
            "ticks": "",
            "zerolinecolor": "white"
           }
          },
          "shapedefaults": {
           "line": {
            "color": "#2a3f5f"
           }
          },
          "ternary": {
           "aaxis": {
            "gridcolor": "white",
            "linecolor": "white",
            "ticks": ""
           },
           "baxis": {
            "gridcolor": "white",
            "linecolor": "white",
            "ticks": ""
           },
           "bgcolor": "#E5ECF6",
           "caxis": {
            "gridcolor": "white",
            "linecolor": "white",
            "ticks": ""
           }
          },
          "title": {
           "x": 0.05
          },
          "xaxis": {
           "automargin": true,
           "gridcolor": "white",
           "linecolor": "white",
           "ticks": "",
           "title": {
            "standoff": 15
           },
           "zerolinecolor": "white",
           "zerolinewidth": 2
          },
          "yaxis": {
           "automargin": true,
           "gridcolor": "white",
           "linecolor": "white",
           "ticks": "",
           "title": {
            "standoff": 15
           },
           "zerolinecolor": "white",
           "zerolinewidth": 2
          }
         }
        },
        "title": {
         "text": "AUC Values for the each K-Fold"
        },
        "xaxis": {
         "anchor": "y",
         "domain": [
          0,
          1
         ],
         "title": {
          "text": "K-Fold"
         }
        },
        "yaxis": {
         "anchor": "x",
         "domain": [
          0,
          1
         ],
         "title": {
          "text": "AUC Score"
         }
        }
       }
      }
     },
     "metadata": {},
     "output_type": "display_data"
    }
   ],
   "source": [
    "y = df['Label']\n",
    "perform_kfold_cross_validation_with_lstm(feature_matrix, y)"
   ]
  },
  {
   "cell_type": "markdown",
   "metadata": {},
   "source": [
    "#### Interesting Observations\n",
    "\n",
    "While the second version did only slightly better for sensitivity at 86.74% from 86.69%, we noted a drop in accuracy, from 80.26% to 80.23%, and f1 score, from 83.91%  to 83.89%. <br> We hypothesised that this could be due to the fact that averaging the word embeddings already capture most of the semantic information in the text, or that LSTM is better suited for the first version."
   ]
  },
  {
   "cell_type": "markdown",
   "metadata": {
    "cell_id": "d050cff3137a477e87503d9f6501aec9",
    "deepnote_cell_type": "text-cell-h3",
    "formattedRanges": []
   },
   "source": [
    "### Model 3: Word2Vec"
   ]
  },
  {
   "cell_type": "markdown",
   "metadata": {
    "cell_id": "9adf4857b0d947b593c88f3448b623c9",
    "deepnote_cell_type": "markdown"
   },
   "source": [
    "- **Column used: \"Cleaned Text with V lemmatization\"**\n",
    "- **Model: LSTM**\n",
    "- **Feature Extraction: Word2Vec Embedding by Google**\n",
    "\n",
    "Description:\n",
    "\n",
    "Word2Vec is a powerful natural language processing technique for capturing semantic relationships and word context within text data. It generates word embeddings, which are dense vector representations of words, by considering the co-occurrence patterns of words in a large corpus of text. These word embeddings encode semantic information and can be leveraged as feature vectors for various text processing tasks. \n",
    "\n",
    "While we thought it would have been more interesting to train our own Word2Vec model, it was too computationally intensive for our CPU, and we decided to capitalise on Google's pre-trained vectors that have been trained on about 100 billion words from the Google News dataset. The model has 300-dimensional vectors for about 3 million words and phrases.\n",
    "\n",
    "Link to Pre-trained Word2Vec Embeddings: https://code.google.com/archive/p/word2vec/\n",
    "\n",
    "Pros:\n",
    "\n",
    "Semantic understanding: Captures semantic relationships between words, and words with similar meanings are represented as vectors that are close in the vector space. This enhances the ability of Word2Vec to capture the meaning of words and phrases effectively.\n",
    "\n",
    "Contextual information: Considers the context in which words appear, enabling it to distinguish between different uses of the same word based on the neighbouring words. This contextual understanding is important for tasks like word analogy and text similarity.\n",
    "\n",
    "Smaller feature space: Unlike traditional bag-of-words models, Word2Vec generates relatively low-dimensional vectors, making it computationally efficient and well-suited for downstream machine learning models.\n",
    "\n",
    "Cons:\n",
    "\n",
    "Data dependency: The effectiveness is highly dependent on the quality and quantity of the training data. It requires a substantially large amount of text data to capture meaningful word relationships, which may not be available in certain cases.\n",
    "\n",
    "Out-of-vocabulary words: Word2Vec may have difficulty with out-of-vocabulary words if they are not seen during training. Handling such words requires additional techniques or using subword embeddings like FastText.\n",
    "\n",
    "Feature Transformation: None\n",
    "\n",
    "Explanation:\n",
    "\n",
    "Word2Vec embeddings provide a rich and semantically meaningful representation of words without the need for additional feature transformation. These embeddings are ready for use in various natural language processing tasks, including text classification, sentiment analysis, and document similarity, where capturing the meaning and context of words is crucial for accurate results.\n"
   ]
  },
  {
   "cell_type": "code",
   "execution_count": 26,
   "metadata": {
    "cell_id": "b7d69e012fac4a55b3f375690d0a177b",
    "deepnote_cell_type": "code",
    "deepnote_to_be_reexecuted": false,
    "execution_millis": 1136,
    "execution_start": 1698761523204,
    "source_hash": null
   },
   "outputs": [
    {
     "name": "stdout",
     "output_type": "stream",
     "text": [
      "Epoch 1/5\n",
      "202/202 [==============================] - 2s 2ms/step - loss: 0.5223 - accuracy: 0.7337\n",
      "Epoch 2/5\n",
      "202/202 [==============================] - 0s 2ms/step - loss: 0.4367 - accuracy: 0.8024\n",
      "Epoch 3/5\n",
      "202/202 [==============================] - 0s 2ms/step - loss: 0.4239 - accuracy: 0.8111\n",
      "Epoch 4/5\n",
      "202/202 [==============================] - 0s 2ms/step - loss: 0.4183 - accuracy: 0.8143\n",
      "Epoch 5/5\n",
      "202/202 [==============================] - 0s 2ms/step - loss: 0.4146 - accuracy: 0.8149\n",
      "45/45 [==============================] - 0s 864us/step\n",
      "45/45 [==============================] - 0s 887us/step\n",
      "Epoch 1/5\n",
      "202/202 [==============================] - 2s 2ms/step - loss: 0.5262 - accuracy: 0.7324\n",
      "Epoch 2/5\n",
      "202/202 [==============================] - 0s 2ms/step - loss: 0.4387 - accuracy: 0.8024\n",
      "Epoch 3/5\n",
      "202/202 [==============================] - 0s 2ms/step - loss: 0.4261 - accuracy: 0.8099\n",
      "Epoch 4/5\n",
      "202/202 [==============================] - 0s 2ms/step - loss: 0.4229 - accuracy: 0.8081\n",
      "Epoch 5/5\n",
      "202/202 [==============================] - 0s 2ms/step - loss: 0.4181 - accuracy: 0.8122\n",
      "45/45 [==============================] - 0s 1ms/step\n",
      "45/45 [==============================] - 0s 911us/step\n",
      "Epoch 1/5\n",
      "202/202 [==============================] - 2s 2ms/step - loss: 0.5242 - accuracy: 0.7345\n",
      "Epoch 2/5\n",
      "202/202 [==============================] - 0s 2ms/step - loss: 0.4382 - accuracy: 0.8025\n",
      "Epoch 3/5\n",
      "202/202 [==============================] - 0s 2ms/step - loss: 0.4292 - accuracy: 0.8088\n",
      "Epoch 4/5\n",
      "202/202 [==============================] - 0s 2ms/step - loss: 0.4219 - accuracy: 0.8115\n",
      "Epoch 5/5\n",
      "202/202 [==============================] - 0s 2ms/step - loss: 0.4194 - accuracy: 0.8140\n",
      "45/45 [==============================] - 0s 1ms/step\n",
      "45/45 [==============================] - 0s 932us/step\n",
      "Epoch 1/5\n",
      "202/202 [==============================] - 2s 2ms/step - loss: 0.5201 - accuracy: 0.7349\n",
      "Epoch 2/5\n",
      "202/202 [==============================] - 0s 2ms/step - loss: 0.4369 - accuracy: 0.8010\n",
      "Epoch 3/5\n",
      "202/202 [==============================] - 0s 2ms/step - loss: 0.4243 - accuracy: 0.8087\n",
      "Epoch 4/5\n",
      "202/202 [==============================] - 0s 2ms/step - loss: 0.4181 - accuracy: 0.8122\n",
      "Epoch 5/5\n",
      "202/202 [==============================] - 0s 2ms/step - loss: 0.4158 - accuracy: 0.8133\n",
      "45/45 [==============================] - 0s 927us/step\n",
      "45/45 [==============================] - 0s 884us/step\n",
      "Epoch 1/5\n",
      "202/202 [==============================] - 1s 2ms/step - loss: 0.5244 - accuracy: 0.7307\n",
      "Epoch 2/5\n",
      "202/202 [==============================] - 0s 2ms/step - loss: 0.4332 - accuracy: 0.8034\n",
      "Epoch 3/5\n",
      "202/202 [==============================] - 0s 2ms/step - loss: 0.4219 - accuracy: 0.8093\n",
      "Epoch 4/5\n",
      "202/202 [==============================] - 0s 2ms/step - loss: 0.4191 - accuracy: 0.8102\n",
      "Epoch 5/5\n",
      "202/202 [==============================] - 0s 2ms/step - loss: 0.4126 - accuracy: 0.8147\n",
      "45/45 [==============================] - 0s 884us/step\n",
      "45/45 [==============================] - 0s 886us/step\n",
      "Epoch 1/5\n",
      "202/202 [==============================] - 1s 2ms/step - loss: 0.5235 - accuracy: 0.7352\n",
      "Epoch 2/5\n",
      "202/202 [==============================] - 0s 2ms/step - loss: 0.4377 - accuracy: 0.8028\n",
      "Epoch 3/5\n",
      "202/202 [==============================] - 0s 2ms/step - loss: 0.4271 - accuracy: 0.8097\n",
      "Epoch 4/5\n",
      "202/202 [==============================] - 0s 2ms/step - loss: 0.4232 - accuracy: 0.8112\n",
      "Epoch 5/5\n",
      "202/202 [==============================] - 0s 2ms/step - loss: 0.4175 - accuracy: 0.8105\n",
      "45/45 [==============================] - 0s 860us/step\n",
      "45/45 [==============================] - 0s 887us/step\n",
      "Epoch 1/5\n",
      "202/202 [==============================] - 1s 2ms/step - loss: 0.5233 - accuracy: 0.7381\n",
      "Epoch 2/5\n",
      "202/202 [==============================] - 0s 2ms/step - loss: 0.4381 - accuracy: 0.8022\n",
      "Epoch 3/5\n",
      "202/202 [==============================] - 0s 2ms/step - loss: 0.4300 - accuracy: 0.8051\n",
      "Epoch 4/5\n",
      "202/202 [==============================] - 0s 2ms/step - loss: 0.4230 - accuracy: 0.8106\n",
      "Epoch 5/5\n",
      "202/202 [==============================] - 0s 2ms/step - loss: 0.4187 - accuracy: 0.8118\n",
      "45/45 [==============================] - 0s 864us/step\n",
      "45/45 [==============================] - 0s 823us/step\n",
      "Epoch 1/5\n",
      "202/202 [==============================] - 1s 2ms/step - loss: 0.5317 - accuracy: 0.7287\n",
      "Epoch 2/5\n",
      "202/202 [==============================] - 0s 2ms/step - loss: 0.4375 - accuracy: 0.8007\n",
      "Epoch 3/5\n",
      "202/202 [==============================] - 0s 2ms/step - loss: 0.4251 - accuracy: 0.8089\n",
      "Epoch 4/5\n",
      "202/202 [==============================] - 0s 2ms/step - loss: 0.4207 - accuracy: 0.8107\n",
      "Epoch 5/5\n",
      "202/202 [==============================] - 0s 2ms/step - loss: 0.4159 - accuracy: 0.8140\n",
      "45/45 [==============================] - 0s 881us/step\n",
      "45/45 [==============================] - 0s 858us/step\n",
      "Epoch 1/5\n",
      "202/202 [==============================] - 1s 2ms/step - loss: 0.5311 - accuracy: 0.7276\n",
      "Epoch 2/5\n",
      "202/202 [==============================] - 0s 2ms/step - loss: 0.4384 - accuracy: 0.8017\n",
      "Epoch 3/5\n",
      "202/202 [==============================] - 0s 2ms/step - loss: 0.4277 - accuracy: 0.8096\n",
      "Epoch 4/5\n",
      "202/202 [==============================] - 0s 2ms/step - loss: 0.4223 - accuracy: 0.8096\n",
      "Epoch 5/5\n",
      "202/202 [==============================] - 0s 2ms/step - loss: 0.4185 - accuracy: 0.8137\n",
      "45/45 [==============================] - 0s 870us/step\n",
      "45/45 [==============================] - 0s 847us/step\n",
      "Epoch 1/5\n",
      "202/202 [==============================] - 1s 2ms/step - loss: 0.5234 - accuracy: 0.7338\n",
      "Epoch 2/5\n",
      "202/202 [==============================] - 0s 2ms/step - loss: 0.4356 - accuracy: 0.8025\n",
      "Epoch 3/5\n",
      "202/202 [==============================] - 0s 2ms/step - loss: 0.4238 - accuracy: 0.8112\n",
      "Epoch 4/5\n",
      "202/202 [==============================] - 0s 2ms/step - loss: 0.4199 - accuracy: 0.8129\n",
      "Epoch 5/5\n",
      "202/202 [==============================] - 0s 2ms/step - loss: 0.4159 - accuracy: 0.8145\n",
      "45/45 [==============================] - 0s 872us/step\n",
      "45/45 [==============================] - 0s 897us/step\n",
      "The average accuracy is: 80.83%\n",
      "The average classification error is: 19.17%\n",
      "The average sensitivity is: 87.12%\n",
      "The average precision is: 81.81%\n",
      "The average specificity is: 71.66%\n",
      "The average f1 score is: 84.36%\n",
      "The average AUC Score is: 88.19%\n"
     ]
    },
    {
     "data": {
      "application/vnd.plotly.v1+json": {
       "config": {
        "plotlyServerURL": "https://plot.ly"
       },
       "data": [
        {
         "fillpattern": {
          "shape": ""
         },
         "hovertemplate": "Average False Positive Rate=%{x}<br>Average True Positive Rate=%{y}<extra></extra>",
         "legendgroup": "",
         "line": {
          "color": "#636efa"
         },
         "marker": {
          "symbol": "circle"
         },
         "mode": "lines",
         "name": "",
         "orientation": "v",
         "showlegend": false,
         "stackgroup": "1",
         "type": "scatter",
         "x": [
          0,
          0,
          0,
          0.001712622395241323,
          0.001712622395241323,
          0.003425244790482646,
          0.003425244790482646,
          0.005137867185723968,
          0.005137867185723968,
          0.006850489580965292,
          0.006850489580965292,
          0.008563111976206614,
          0.008563111976206614,
          0.010104549178633328,
          0.010104549178633328,
          0.01181717157387465,
          0.01181717157387465,
          0.013700979161930584,
          0.013700979161930584,
          0.01558473154135708,
          0.01558473154135708,
          0.017297353936598404,
          0.017297353936598404,
          0.019181280734398634,
          0.019181280734398634,
          0.020893903129639957,
          0.020893903129639957,
          0.02277771071769589,
          0.02277771071769589,
          0.024661811933869855,
          0.024661811933869855,
          0.026374434329111178,
          0.026374434329111178,
          0.0280870567243525,
          0.0280870567243525,
          0.029799679119593823,
          0.029799679119593823,
          0.031512301514835146,
          0.031512301514835146,
          0.03322492391007647,
          0.03322492391007647,
          0.035109025126250436,
          0.035109025126250436,
          0.037164017907120976,
          0.037164017907120976,
          0.0388766403023623,
          0.0388766403023623,
          0.04058926269760363,
          0.04058926269760363,
          0.04281555988103307,
          0.04281555988103307,
          0.04504215069258055,
          0.04504215069258055,
          0.04692595828063648,
          0.04692595828063648,
          0.04863858067587781,
          0.04863858067587781,
          0.05052250747367804,
          0.05052250747367804,
          0.05257761946429288,
          0.05257761946429288,
          0.05446154626209312,
          0.05446154626209312,
          0.05617416865733444,
          0.05617416865733444,
          0.058229280647949286,
          0.058229280647949286,
          0.06062700144368194,
          0.06062700144368194,
          0.06285359225522942,
          0.06285359225522942,
          0.06559385785496502,
          0.06559385785496502,
          0.06747766544302097,
          0.06747766544302097,
          0.06970396262645041,
          0.06970396262645041,
          0.07158777021450635,
          0.07158777021450635,
          0.07330039260974766,
          0.07330039260974766,
          0.07535562381010681,
          0.07535562381010681,
          0.07706824620534813,
          0.07706824620534813,
          0.07878086860058944,
          0.07878086860058944,
          0.08066496981676344,
          0.08066496981676344,
          0.08306257140275178,
          0.08306257140275178,
          0.08494649820055201,
          0.08494649820055201,
          0.08700161019116684,
          0.08700161019116684,
          0.0890566029720374,
          0.0890566029720374,
          0.09162515133135177,
          0.09162515133135177,
          0.09385174214289925,
          0.09385174214289925,
          0.09607845216419103,
          0.09607845216419103,
          0.09796237896199125,
          0.09796237896199125,
          0.10018867614542071,
          0.10018867614542071,
          0.10241497332885018,
          0.10241497332885018,
          0.10498364089790882,
          0.10498364089790882,
          0.10720993808133826,
          0.10720993808133826,
          0.10960783329544467,
          0.10977901848825927,
          0.11234816289629515,
          0.11269053328192435,
          0.11440339409665429,
          0.1147457644822835,
          0.11663015932657549,
          0.11714371490501932,
          0.11885657571974925,
          0.11919894610537848,
          0.12039801292217597,
          0.12108275369343441,
          0.12296679970097894,
          0.12330917008660816,
          0.12536481412482964,
          0.12570718451045884,
          0.12707743652007095,
          0.12759099209851477,
          0.12964634250861823,
          0.13015989808706205,
          0.13153009488804474,
          0.13221512928742118,
          0.13392769647403308,
          0.13444154568059496,
          0.1361542320769511,
          0.13683956010444562,
          0.13889485530591963,
          0.1395798897052961,
          0.1411211524893491,
          0.14197795933777624,
          0.14471835293974158,
          0.14574575772474724,
          0.14797223811903587,
          0.14882857692097126,
          0.1513976661203777,
          0.15225400492231306,
          0.15413775730173956,
          0.15499438973179294,
          0.15619304371072812,
          0.1570495017224078,
          0.15859088371620508,
          0.15944722251814047,
          0.16081730010937884,
          0.1615024537184996,
          0.1632150209051115,
          0.16390017451423225,
          0.16561250328135554,
          0.16715446373890347,
          0.17023746614598662,
          0.17126499014073662,
          0.172806014505301,
          0.17349116811442178,
          0.17468982209335696,
          0.17537497570247768,
          0.17708754288908957,
          0.17777269649821034,
          0.18017000445608067,
          0.18119752845083067,
          0.1835945979892124,
          0.18479389443301306,
          0.18719144081037195,
          0.18787659441949273,
          0.1892464335912425,
          0.19027395758599253,
          0.19232913357772224,
          0.19335724482870828,
          0.19489862682250558,
          0.1959264444453736,
          0.19781031603454435,
          0.19849546964366516,
          0.20123562482614188,
          0.20226326803063616,
          0.20363310720238592,
          0.20448944600432134,
          0.2065445027863067,
          0.2074008415882421,
          0.20945554074099462,
          0.21116792471674734,
          0.21356570951359483,
          0.21476453791090375,
          0.21681971390263347,
          0.21784747631687207,
          0.2193886198911807,
          0.22007377350030147,
          0.22144373188179556,
          0.22230018989347525,
          0.22401263787034284,
          0.22538253225072205,
          0.2270952186470782,
          0.2282941662541314,
          0.22949293944281085,
          0.23052046343756089,
          0.23326026099080474,
          0.23497281938493117,
          0.2366850289423101,
          0.23822669577174005,
          0.23976795855579303,
          0.2406244165674727,
          0.2423369837540846,
          0.24302213736320538,
          0.2457619349164492,
          0.24713224213469073,
          0.2485022005161848,
          0.24970132254161173,
          0.2510714001328501,
          0.2522701093204147,
          0.25518168811519465,
          0.25603802691713007,
          0.25809308369911543,
          0.2591206076938654,
          0.26117566447585083,
          0.26254643974058417,
          0.2644303113297549,
          0.2654578353245049,
          0.2675131305259789,
          0.26871183971354357,
          0.270766896495529,
          0.2728219444850289,
          0.27453415404240783,
          0.27556179724690216,
          0.27795910520477246,
          0.27932941242301407,
          0.2817267203808844,
          0.2824118739900051,
          0.2834393427761257,
          0.28429568157806107,
          0.28686429393849033,
          0.28823448194698753,
          0.29011823432641404,
          0.2913175307702147,
          0.2928587935542677,
          0.2944002307566944,
          0.2966264727314944,
          0.2978254203385476,
          0.30022260908667364,
          0.3026206235105244,
          0.3048465078560914,
          0.30570314028614487,
          0.30707309866763893,
          0.3081006226623889,
          0.3108406586351214,
          0.31238227025592186,
          0.3158069277901684,
          0.31786303108239616,
          0.3207738946187103,
          0.32283018112179734,
          0.32591294510939184,
          0.3279686443562428,
          0.3313934211002337,
          0.3332775223164076,
          0.3379014298783109,
          0.33858658348743165,
          0.3406417594791613,
          0.3421833710999618,
          0.3445807982675764,
          0.34732164233106266,
          0.3505751146724946,
          0.3519458899372279,
          0.35382952310691007,
          0.3560572884309297,
          0.35862625842059187,
          0.3611952836188834,
          0.3637638959793127,
          0.3644490495884334,
          0.3666750531437449,
          0.3683880243757337,
          0.3702717767551602,
          0.3726695527595223,
          0.37369702154564277,
          0.37558135238881996,
          0.3769514299800583,
          0.3786652820964012,
          0.3829459848044651,
          0.38585683954829386,
          0.3872267979297879,
          0.38859669231016714,
          0.39253562068132336,
          0.3935637319323094,
          0.39664589987118243,
          0.39784496668798,
          0.4012704586904366,
          0.4029829618759337,
          0.40555181265585155,
          0.40726455426083713,
          0.40897676381821607,
          0.41120317141890445,
          0.41411439258445143,
          0.41651264542779076,
          0.41942350896410496,
          0.4218209273392341,
          0.42370467971866055,
          0.4259313257388376,
          0.4305553525104851,
          0.43261063891947366,
          0.4356932836973239,
          0.4365499161273773,
          0.4398035076785536,
          0.4416871960568652,
          0.4457976672500689,
          0.4483675645402292,
          0.45624375234612136,
          0.45881341121679303,
          0.46258079676590175,
          0.46549254118656996,
          0.4709728515515234,
          0.47559786083229844,
          0.4807361584408556,
          0.4834758279918698,
          0.489639806240383,
          0.49083887305718055,
          0.4939209217863092,
          0.49717555984772793,
          0.5036825045305918,
          0.5083079442342001,
          0.5115617742048649,
          0.5148158890111625,
          0.5172128393398,
          0.5226942778010816,
          0.525262651742022,
          0.5298870737665611,
          0.531941892129058,
          0.537424377100582,
          0.539821565848708,
          0.5453018034200613,
          0.5492403741619845,
          0.5531795873687733,
          0.5571185157399295,
          0.5624312108656288,
          0.5761330596657112,
          0.5819546035274803,
          0.5872633710703863,
          0.5937697749131583,
          0.6019892867826341,
          0.6072991824218681,
          0.6150065692298317,
          0.6208300204475097,
          0.6281952752893326,
          0.6311069092927419,
          0.6338462300070087,
          0.6372717772180948,
          0.6401829983836418,
          0.6470334327559776,
          0.6497732303092215,
          0.6573102224301535,
          0.6694683050415526,
          0.676320867604315,
          0.6857397487111917,
          0.692761615488316,
          0.7032078461715692,
          0.6119032244875656,
          0.616012384373582,
          0.6281746505722339,
          0.5329261840863846,
          0.5373782376131513,
          0.5409734842914911,
          0.5495367794785568,
          0.5604934662869019,
          0.5630625379013375,
          0.5806959240684295,
          0.4853495976287123,
          0.4887746127921918,
          0.49767971114733844,
          0.5007612830374899,
          0.5074397993735746,
          0.5096656837191417,
          0.5218247952558124,
          0.5243929307772643,
          0.532269761048022,
          0.5358650077263617,
          0.5428892435671182,
          0.5454578559275476,
          0.5526485237026006,
          0.5594966466736508,
          0.5791881802835945,
          0.4860643890704017,
          0.48777766272299405,
          0.5050696321824112,
          0.5120923798438899,
          0.41811325871534544,
          0.4203415472944863,
          0.43865979344258105,
          0.44225823240656054,
          0.35009193385958426,
          0.25097717536051595,
          0.26056426141659983,
          0.16076358763380091,
          0.1664166329182449,
          0.1667595905601102,
          0.16710219936522802,
          0.17258952163507263,
          0.1734460436478672,
          0.17498935303626098,
          0.17533196184137878,
          0.1758463983041767,
          0.179101181952796,
          0.17944413959466127,
          0.18081457481513252,
          0.18664485472684245,
          0.19041355158313844,
          0.1917853821505996,
          0.19212799095571742,
          0.19572904619530296,
          0.19778469902600984,
          0.09842884321533775,
          0.09842884321533775,
          0.09997215260373155
         ],
         "xaxis": "x",
         "y": [
          0,
          0.0011730207397847676,
          0.05290742855171196,
          0.05290742855171196,
          0.10510646427486393,
          0.10510646427486393,
          0.12903058008401408,
          0.12903058008401408,
          0.13970659702869542,
          0.13970659702869542,
          0.1588217373027217,
          0.1588217373027217,
          0.17629931399035398,
          0.1765339904049167,
          0.2180584617958082,
          0.21829313821037097,
          0.23671156288177392,
          0.23671156288177392,
          0.2509057607457389,
          0.25114016204141,
          0.2787094426148119,
          0.2787094426148119,
          0.3001765834895813,
          0.3001765834895813,
          0.31707082842677176,
          0.31707082842677176,
          0.32563455225915455,
          0.32563455225915455,
          0.3432298238890099,
          0.3432298238890099,
          0.3564844164023038,
          0.3564844164023038,
          0.3635223124693419,
          0.3635223124693419,
          0.3790067949446279,
          0.3790067949446279,
          0.3862799479347536,
          0.3862799479347536,
          0.39707203478096254,
          0.39707203478096254,
          0.4123223883972514,
          0.4123223883972514,
          0.42698452862705477,
          0.42698452862705477,
          0.4336695425664401,
          0.4336695425664401,
          0.4458694338557008,
          0.4458694338557008,
          0.45478480637881125,
          0.45478480637881125,
          0.4625249782855709,
          0.4625249782855709,
          0.46944597909440666,
          0.46944597909440666,
          0.4736687092244202,
          0.4736687092244202,
          0.4824668113620375,
          0.4824668113620375,
          0.4938439714842625,
          0.4938439714842625,
          0.5014692812537654,
          0.5014692812537654,
          0.5106204609377468,
          0.5106204609377468,
          0.516251086323037,
          0.516251086323037,
          0.5251648640761934,
          0.5251648640761934,
          0.5312640426065883,
          0.5314987190211511,
          0.54006150101198,
          0.54006150101198,
          0.5469826742490904,
          0.5469826742490904,
          0.5523784553896304,
          0.5523784553896304,
          0.5609418646362052,
          0.5609418646362052,
          0.5692692613406755,
          0.5692692613406755,
          0.5767753373413971,
          0.5771273519632412,
          0.5835789531957303,
          0.5835789531957303,
          0.5866288350142338,
          0.5866288350142338,
          0.5923763978068601,
          0.5923763978068601,
          0.5964821767352755,
          0.5964821767352755,
          0.6003535332934529,
          0.6003535332934529,
          0.6077431688634434,
          0.6077431688634434,
          0.6145454347959728,
          0.6147801112105356,
          0.6231097391368804,
          0.6231097391368804,
          0.629444806444196,
          0.6296794828587587,
          0.635074846722874,
          0.635074846722874,
          0.6388285596841368,
          0.6388285596841368,
          0.6453981309777406,
          0.6456328073923032,
          0.6514969271005394,
          0.6514969271005394,
          0.6571278230066339,
          0.6571278230066339,
          0.6644012300410842,
          0.6644012300410842,
          0.6696806964319466,
          0.669798034639228,
          0.67284813103514,
          0.6730828074497027,
          0.677306174031637,
          0.6787142325190136,
          0.6843446506072,
          0.684696665229044,
          0.6891531904735496,
          0.6897398815099565,
          0.6937284084452279,
          0.6957231579690113,
          0.6985380277125773,
          0.6988900423344215,
          0.7017052128695334,
          0.7026439185277842,
          0.7049899297366121,
          0.7060457498285615,
          0.7100333349222789,
          0.7107373641659673,
          0.7139047171531105,
          0.7155464891389292,
          0.719652039695674,
          0.7207073957639775,
          0.7222324008548647,
          0.7236401842233496,
          0.7268074207256141,
          0.7276282379388005,
          0.7314993917979615,
          0.7329067624881089,
          0.7349011763515175,
          0.7361914839532753,
          0.7386549149854346,
          0.7395932593106567,
          0.7413528848727109,
          0.7427602206940296,
          0.7441679435210313,
          0.7448716673750864,
          0.7469830837854016,
          0.7481559669657406,
          0.7499158163013778,
          0.7514406068148568,
          0.7535521910553594,
          0.7543732274440416,
          0.7556637239505535,
          0.7562502214841188,
          0.7582443556305485,
          0.7591827558991663,
          0.7621157075906386,
          0.7627021491808081,
          0.7651655802129673,
          0.766103954808931,
          0.7680984246157354,
          0.7685675839420192,
          0.769740686297854,
          0.7707965366605448,
          0.7722042594875467,
          0.7734945111459084,
          0.7757236573672757,
          0.7765445002531163,
          0.7781870113814723,
          0.7788906536194773,
          0.780650447011719,
          0.7821750999657521,
          0.7841694578857646,
          0.7861638460765191,
          0.7882754303170219,
          0.7905039190119016,
          0.7919115299521118,
          0.793436371810899,
          0.7954308416177034,
          0.796251684503544,
          0.7982460424235568,
          0.7994190374906872,
          0.8003575753187508,
          0.8021166249703677,
          0.8035242359105779,
          0.8045799487138229,
          0.8061048419179185,
          0.8068086217153696,
          0.8086854176545178,
          0.8103271850422491,
          0.8117349078692507,
          0.8132601110610669,
          0.8146677220012772,
          0.8160755310424164,
          0.8174834216996052,
          0.8200633912550255,
          0.8218229049302881,
          0.8227610860234101,
          0.8242859232841102,
          0.8253416360873551,
          0.8276877848556289,
          0.8281569441819128,
          0.8299167935175502,
          0.8316759293833043,
          0.8332008785307958,
          0.8347253893272958,
          0.8362503944181832,
          0.8375404782463576,
          0.8387135806021925,
          0.8394172787835932,
          0.8408249456671992,
          0.8416458444964356,
          0.8432881318512085,
          0.84481283615055,
          0.8461031088834788,
          0.8471586538565363,
          0.8491528439463618,
          0.8504430653339821,
          0.851616111746421,
          0.8522026092799864,
          0.85314114710805,
          0.8549000078549125,
          0.855955772003466,
          0.8575975696619388,
          0.8595917038083684,
          0.8604127658697047,
          0.8628763647320516,
          0.8640493597991822,
          0.8651050680043397,
          0.8659259668335761,
          0.8678030424897033,
          0.8683894840798728,
          0.8701492774721147,
          0.870970201974005,
          0.8727297156492678,
          0.8737851533336213,
          0.8754274966317899,
          0.8768347554351457,
          0.878946171845461,
          0.8804709880315941,
          0.8821133313297627,
          0.882699828863328,
          0.8850460335749977,
          0.885632475165167,
          0.8870401979921687,
          0.8883303120910849,
          0.8892687939757526,
          0.8902070310122704,
          0.8910282306330528,
          0.8917318728710578,
          0.8926704106991213,
          0.8933739713210763,
          0.8941951709418587,
          0.8954853061153416,
          0.8965411262072908,
          0.8974796383627002,
          0.8987700789258164,
          0.900294263258116,
          0.9012326891993881,
          0.902640029618794,
          0.9039304142385144,
          0.904516855828684,
          0.9062766492209257,
          0.9072148862574433,
          0.9083879886132781,
          0.9093263632092417,
          0.910382127357795,
          0.9113203900669671,
          0.9123761542155205,
          0.9131971906042027,
          0.9143702929600375,
          0.915308805115447,
          0.9165993575653547,
          0.9173031373628053,
          0.9192977190564016,
          0.9204708516829778,
          0.9215266158315313,
          0.9219957751578151,
          0.9232861038341398,
          0.9242246159895492,
          0.9251631538176128,
          0.9257495954077821,
          0.9266880772924502,
          0.9272744372665696,
          0.9283303133019145,
          0.9289168108354797,
          0.9300900250781061,
          0.9306765226116716,
          0.9316149485529436,
          0.9320841078792274,
          0.9329052515566137,
          0.9337263136179501,
          0.9346647395592224,
          0.9351338988855062,
          0.9360724367135698,
          0.9366589342471351,
          0.9377146424522926,
          0.9381838017785766,
          0.9392396778139217,
          0.9398261753474869,
          0.9406473749682691,
          0.941116534294553,
          0.942289580706992,
          0.9429932788883929,
          0.944166269357436,
          0.94463542868372,
          0.945339290097221,
          0.946277496862997,
          0.9470986405403834,
          0.947685000514503,
          0.9488580469269421,
          0.9495618267243928,
          0.9505003086090607,
          0.9509694679353446,
          0.9519078938766166,
          0.9523770532029003,
          0.9534328732948495,
          0.9539020326211334,
          0.9548406263925929,
          0.9556616068378793,
          0.9562481859874946,
          0.9573037052878981,
          0.958124960852076,
          0.9589460788568083,
          0.960001787061966,
          0.9610573879784192,
          0.9616439671280346,
          0.9623476093660395,
          0.9629341885156549,
          0.9639896518726625,
          0.9646935132861633,
          0.9652799548763327,
          0.9663357190248862,
          0.9670393612628913,
          0.9677432226763921,
          0.968447002473843,
          0.9690335816234582,
          0.9698545877413989,
          0.9704411668910142,
          0.9710276084811836,
          0.9716141876307989,
          0.9722006292209685,
          0.9727872083705837,
          0.9733736499607533,
          0.9739602291103685,
          0.9745466707005379,
          0.9752505880574346,
          0.9758370296476042,
          0.9764236087972196,
          0.9772447268019515,
          0.9779486441588483,
          0.9785350857490178,
          0.9791216648986332,
          0.9797081064888025,
          0.9805293620529806,
          0.9811156660837042,
          0.9818195834406009,
          0.9825231697352101,
          0.8830680337338186,
          0.883889014179105,
          0.8844756492721161,
          0.7849030375039973,
          0.785372334389727,
          0.785841493716011,
          0.7863107906017407,
          0.7867799499280245,
          0.7878358819067652,
          0.7883050412330492,
          0.6888021855150472,
          0.6892713448413312,
          0.6896233035197796,
          0.6900924628460634,
          0.6904444215245117,
          0.6909135808507957,
          0.6912655395292441,
          0.6917346988555279,
          0.6920866575339761,
          0.6927904373314271,
          0.6931423960098755,
          0.6936115553361594,
          0.694080852221889,
          0.6944326733408916,
          0.6947846320193399,
          0.5951643005346109,
          0.5955162592130592,
          0.5958680803320617,
          0.59622003901051,
          0.4964823693184996,
          0.49671698978966655,
          0.4969514727013877,
          0.49730343137983607,
          0.39737886093326896,
          0.2976413288007044,
          0.2977585294485399,
          0.19790365910869395,
          0.1980208597565295,
          0.1981381420204151,
          0.19825534266825068,
          0.19837262493213625,
          0.1984898255799718,
          0.19860710784385738,
          0.19872430849169295,
          0.19884159075557853,
          0.1989587914034141,
          0.19907607366729968,
          0.19919327431513523,
          0.1993105565790208,
          0.19942775722685635,
          0.19954503949074193,
          0.1996622401385775,
          0.1997795224024631,
          0.19989672305029865,
          0.09985495195589598,
          0.09997215260373155,
          0.09997215260373155
         ],
         "yaxis": "y"
        }
       ],
       "layout": {
        "height": 700,
        "legend": {
         "tracegroupgap": 0
        },
        "shapes": [
         {
          "line": {
           "dash": "dash"
          },
          "type": "line",
          "x0": 0,
          "x1": 1,
          "y0": 0,
          "y1": 1
         }
        ],
        "template": {
         "data": {
          "bar": [
           {
            "error_x": {
             "color": "#2a3f5f"
            },
            "error_y": {
             "color": "#2a3f5f"
            },
            "marker": {
             "line": {
              "color": "#E5ECF6",
              "width": 0.5
             },
             "pattern": {
              "fillmode": "overlay",
              "size": 10,
              "solidity": 0.2
             }
            },
            "type": "bar"
           }
          ],
          "barpolar": [
           {
            "marker": {
             "line": {
              "color": "#E5ECF6",
              "width": 0.5
             },
             "pattern": {
              "fillmode": "overlay",
              "size": 10,
              "solidity": 0.2
             }
            },
            "type": "barpolar"
           }
          ],
          "carpet": [
           {
            "aaxis": {
             "endlinecolor": "#2a3f5f",
             "gridcolor": "white",
             "linecolor": "white",
             "minorgridcolor": "white",
             "startlinecolor": "#2a3f5f"
            },
            "baxis": {
             "endlinecolor": "#2a3f5f",
             "gridcolor": "white",
             "linecolor": "white",
             "minorgridcolor": "white",
             "startlinecolor": "#2a3f5f"
            },
            "type": "carpet"
           }
          ],
          "choropleth": [
           {
            "colorbar": {
             "outlinewidth": 0,
             "ticks": ""
            },
            "type": "choropleth"
           }
          ],
          "contour": [
           {
            "colorbar": {
             "outlinewidth": 0,
             "ticks": ""
            },
            "colorscale": [
             [
              0,
              "#0d0887"
             ],
             [
              0.1111111111111111,
              "#46039f"
             ],
             [
              0.2222222222222222,
              "#7201a8"
             ],
             [
              0.3333333333333333,
              "#9c179e"
             ],
             [
              0.4444444444444444,
              "#bd3786"
             ],
             [
              0.5555555555555556,
              "#d8576b"
             ],
             [
              0.6666666666666666,
              "#ed7953"
             ],
             [
              0.7777777777777778,
              "#fb9f3a"
             ],
             [
              0.8888888888888888,
              "#fdca26"
             ],
             [
              1,
              "#f0f921"
             ]
            ],
            "type": "contour"
           }
          ],
          "contourcarpet": [
           {
            "colorbar": {
             "outlinewidth": 0,
             "ticks": ""
            },
            "type": "contourcarpet"
           }
          ],
          "heatmap": [
           {
            "colorbar": {
             "outlinewidth": 0,
             "ticks": ""
            },
            "colorscale": [
             [
              0,
              "#0d0887"
             ],
             [
              0.1111111111111111,
              "#46039f"
             ],
             [
              0.2222222222222222,
              "#7201a8"
             ],
             [
              0.3333333333333333,
              "#9c179e"
             ],
             [
              0.4444444444444444,
              "#bd3786"
             ],
             [
              0.5555555555555556,
              "#d8576b"
             ],
             [
              0.6666666666666666,
              "#ed7953"
             ],
             [
              0.7777777777777778,
              "#fb9f3a"
             ],
             [
              0.8888888888888888,
              "#fdca26"
             ],
             [
              1,
              "#f0f921"
             ]
            ],
            "type": "heatmap"
           }
          ],
          "heatmapgl": [
           {
            "colorbar": {
             "outlinewidth": 0,
             "ticks": ""
            },
            "colorscale": [
             [
              0,
              "#0d0887"
             ],
             [
              0.1111111111111111,
              "#46039f"
             ],
             [
              0.2222222222222222,
              "#7201a8"
             ],
             [
              0.3333333333333333,
              "#9c179e"
             ],
             [
              0.4444444444444444,
              "#bd3786"
             ],
             [
              0.5555555555555556,
              "#d8576b"
             ],
             [
              0.6666666666666666,
              "#ed7953"
             ],
             [
              0.7777777777777778,
              "#fb9f3a"
             ],
             [
              0.8888888888888888,
              "#fdca26"
             ],
             [
              1,
              "#f0f921"
             ]
            ],
            "type": "heatmapgl"
           }
          ],
          "histogram": [
           {
            "marker": {
             "pattern": {
              "fillmode": "overlay",
              "size": 10,
              "solidity": 0.2
             }
            },
            "type": "histogram"
           }
          ],
          "histogram2d": [
           {
            "colorbar": {
             "outlinewidth": 0,
             "ticks": ""
            },
            "colorscale": [
             [
              0,
              "#0d0887"
             ],
             [
              0.1111111111111111,
              "#46039f"
             ],
             [
              0.2222222222222222,
              "#7201a8"
             ],
             [
              0.3333333333333333,
              "#9c179e"
             ],
             [
              0.4444444444444444,
              "#bd3786"
             ],
             [
              0.5555555555555556,
              "#d8576b"
             ],
             [
              0.6666666666666666,
              "#ed7953"
             ],
             [
              0.7777777777777778,
              "#fb9f3a"
             ],
             [
              0.8888888888888888,
              "#fdca26"
             ],
             [
              1,
              "#f0f921"
             ]
            ],
            "type": "histogram2d"
           }
          ],
          "histogram2dcontour": [
           {
            "colorbar": {
             "outlinewidth": 0,
             "ticks": ""
            },
            "colorscale": [
             [
              0,
              "#0d0887"
             ],
             [
              0.1111111111111111,
              "#46039f"
             ],
             [
              0.2222222222222222,
              "#7201a8"
             ],
             [
              0.3333333333333333,
              "#9c179e"
             ],
             [
              0.4444444444444444,
              "#bd3786"
             ],
             [
              0.5555555555555556,
              "#d8576b"
             ],
             [
              0.6666666666666666,
              "#ed7953"
             ],
             [
              0.7777777777777778,
              "#fb9f3a"
             ],
             [
              0.8888888888888888,
              "#fdca26"
             ],
             [
              1,
              "#f0f921"
             ]
            ],
            "type": "histogram2dcontour"
           }
          ],
          "mesh3d": [
           {
            "colorbar": {
             "outlinewidth": 0,
             "ticks": ""
            },
            "type": "mesh3d"
           }
          ],
          "parcoords": [
           {
            "line": {
             "colorbar": {
              "outlinewidth": 0,
              "ticks": ""
             }
            },
            "type": "parcoords"
           }
          ],
          "pie": [
           {
            "automargin": true,
            "type": "pie"
           }
          ],
          "scatter": [
           {
            "fillpattern": {
             "fillmode": "overlay",
             "size": 10,
             "solidity": 0.2
            },
            "type": "scatter"
           }
          ],
          "scatter3d": [
           {
            "line": {
             "colorbar": {
              "outlinewidth": 0,
              "ticks": ""
             }
            },
            "marker": {
             "colorbar": {
              "outlinewidth": 0,
              "ticks": ""
             }
            },
            "type": "scatter3d"
           }
          ],
          "scattercarpet": [
           {
            "marker": {
             "colorbar": {
              "outlinewidth": 0,
              "ticks": ""
             }
            },
            "type": "scattercarpet"
           }
          ],
          "scattergeo": [
           {
            "marker": {
             "colorbar": {
              "outlinewidth": 0,
              "ticks": ""
             }
            },
            "type": "scattergeo"
           }
          ],
          "scattergl": [
           {
            "marker": {
             "colorbar": {
              "outlinewidth": 0,
              "ticks": ""
             }
            },
            "type": "scattergl"
           }
          ],
          "scattermapbox": [
           {
            "marker": {
             "colorbar": {
              "outlinewidth": 0,
              "ticks": ""
             }
            },
            "type": "scattermapbox"
           }
          ],
          "scatterpolar": [
           {
            "marker": {
             "colorbar": {
              "outlinewidth": 0,
              "ticks": ""
             }
            },
            "type": "scatterpolar"
           }
          ],
          "scatterpolargl": [
           {
            "marker": {
             "colorbar": {
              "outlinewidth": 0,
              "ticks": ""
             }
            },
            "type": "scatterpolargl"
           }
          ],
          "scatterternary": [
           {
            "marker": {
             "colorbar": {
              "outlinewidth": 0,
              "ticks": ""
             }
            },
            "type": "scatterternary"
           }
          ],
          "surface": [
           {
            "colorbar": {
             "outlinewidth": 0,
             "ticks": ""
            },
            "colorscale": [
             [
              0,
              "#0d0887"
             ],
             [
              0.1111111111111111,
              "#46039f"
             ],
             [
              0.2222222222222222,
              "#7201a8"
             ],
             [
              0.3333333333333333,
              "#9c179e"
             ],
             [
              0.4444444444444444,
              "#bd3786"
             ],
             [
              0.5555555555555556,
              "#d8576b"
             ],
             [
              0.6666666666666666,
              "#ed7953"
             ],
             [
              0.7777777777777778,
              "#fb9f3a"
             ],
             [
              0.8888888888888888,
              "#fdca26"
             ],
             [
              1,
              "#f0f921"
             ]
            ],
            "type": "surface"
           }
          ],
          "table": [
           {
            "cells": {
             "fill": {
              "color": "#EBF0F8"
             },
             "line": {
              "color": "white"
             }
            },
            "header": {
             "fill": {
              "color": "#C8D4E3"
             },
             "line": {
              "color": "white"
             }
            },
            "type": "table"
           }
          ]
         },
         "layout": {
          "annotationdefaults": {
           "arrowcolor": "#2a3f5f",
           "arrowhead": 0,
           "arrowwidth": 1
          },
          "autotypenumbers": "strict",
          "coloraxis": {
           "colorbar": {
            "outlinewidth": 0,
            "ticks": ""
           }
          },
          "colorscale": {
           "diverging": [
            [
             0,
             "#8e0152"
            ],
            [
             0.1,
             "#c51b7d"
            ],
            [
             0.2,
             "#de77ae"
            ],
            [
             0.3,
             "#f1b6da"
            ],
            [
             0.4,
             "#fde0ef"
            ],
            [
             0.5,
             "#f7f7f7"
            ],
            [
             0.6,
             "#e6f5d0"
            ],
            [
             0.7,
             "#b8e186"
            ],
            [
             0.8,
             "#7fbc41"
            ],
            [
             0.9,
             "#4d9221"
            ],
            [
             1,
             "#276419"
            ]
           ],
           "sequential": [
            [
             0,
             "#0d0887"
            ],
            [
             0.1111111111111111,
             "#46039f"
            ],
            [
             0.2222222222222222,
             "#7201a8"
            ],
            [
             0.3333333333333333,
             "#9c179e"
            ],
            [
             0.4444444444444444,
             "#bd3786"
            ],
            [
             0.5555555555555556,
             "#d8576b"
            ],
            [
             0.6666666666666666,
             "#ed7953"
            ],
            [
             0.7777777777777778,
             "#fb9f3a"
            ],
            [
             0.8888888888888888,
             "#fdca26"
            ],
            [
             1,
             "#f0f921"
            ]
           ],
           "sequentialminus": [
            [
             0,
             "#0d0887"
            ],
            [
             0.1111111111111111,
             "#46039f"
            ],
            [
             0.2222222222222222,
             "#7201a8"
            ],
            [
             0.3333333333333333,
             "#9c179e"
            ],
            [
             0.4444444444444444,
             "#bd3786"
            ],
            [
             0.5555555555555556,
             "#d8576b"
            ],
            [
             0.6666666666666666,
             "#ed7953"
            ],
            [
             0.7777777777777778,
             "#fb9f3a"
            ],
            [
             0.8888888888888888,
             "#fdca26"
            ],
            [
             1,
             "#f0f921"
            ]
           ]
          },
          "colorway": [
           "#636efa",
           "#EF553B",
           "#00cc96",
           "#ab63fa",
           "#FFA15A",
           "#19d3f3",
           "#FF6692",
           "#B6E880",
           "#FF97FF",
           "#FECB52"
          ],
          "font": {
           "color": "#2a3f5f"
          },
          "geo": {
           "bgcolor": "white",
           "lakecolor": "white",
           "landcolor": "#E5ECF6",
           "showlakes": true,
           "showland": true,
           "subunitcolor": "white"
          },
          "hoverlabel": {
           "align": "left"
          },
          "hovermode": "closest",
          "mapbox": {
           "style": "light"
          },
          "paper_bgcolor": "white",
          "plot_bgcolor": "#E5ECF6",
          "polar": {
           "angularaxis": {
            "gridcolor": "white",
            "linecolor": "white",
            "ticks": ""
           },
           "bgcolor": "#E5ECF6",
           "radialaxis": {
            "gridcolor": "white",
            "linecolor": "white",
            "ticks": ""
           }
          },
          "scene": {
           "xaxis": {
            "backgroundcolor": "#E5ECF6",
            "gridcolor": "white",
            "gridwidth": 2,
            "linecolor": "white",
            "showbackground": true,
            "ticks": "",
            "zerolinecolor": "white"
           },
           "yaxis": {
            "backgroundcolor": "#E5ECF6",
            "gridcolor": "white",
            "gridwidth": 2,
            "linecolor": "white",
            "showbackground": true,
            "ticks": "",
            "zerolinecolor": "white"
           },
           "zaxis": {
            "backgroundcolor": "#E5ECF6",
            "gridcolor": "white",
            "gridwidth": 2,
            "linecolor": "white",
            "showbackground": true,
            "ticks": "",
            "zerolinecolor": "white"
           }
          },
          "shapedefaults": {
           "line": {
            "color": "#2a3f5f"
           }
          },
          "ternary": {
           "aaxis": {
            "gridcolor": "white",
            "linecolor": "white",
            "ticks": ""
           },
           "baxis": {
            "gridcolor": "white",
            "linecolor": "white",
            "ticks": ""
           },
           "bgcolor": "#E5ECF6",
           "caxis": {
            "gridcolor": "white",
            "linecolor": "white",
            "ticks": ""
           }
          },
          "title": {
           "x": 0.05
          },
          "xaxis": {
           "automargin": true,
           "gridcolor": "white",
           "linecolor": "white",
           "ticks": "",
           "title": {
            "standoff": 15
           },
           "zerolinecolor": "white",
           "zerolinewidth": 2
          },
          "yaxis": {
           "automargin": true,
           "gridcolor": "white",
           "linecolor": "white",
           "ticks": "",
           "title": {
            "standoff": 15
           },
           "zerolinecolor": "white",
           "zerolinewidth": 2
          }
         }
        },
        "title": {
         "text": "ROC Curve (AUC=0.8819)"
        },
        "width": 700,
        "xaxis": {
         "anchor": "y",
         "constrain": "domain",
         "domain": [
          0,
          1
         ],
         "title": {
          "text": "Average False Positive Rate"
         }
        },
        "yaxis": {
         "anchor": "x",
         "domain": [
          0,
          1
         ],
         "scaleanchor": "x",
         "scaleratio": 1,
         "title": {
          "text": "Average True Positive Rate"
         }
        }
       }
      }
     },
     "metadata": {},
     "output_type": "display_data"
    },
    {
     "data": {
      "application/vnd.plotly.v1+json": {
       "config": {
        "plotlyServerURL": "https://plot.ly"
       },
       "data": [
        {
         "hovertemplate": "K-Fold=%{x}<br>AUC Score=%{y}<extra></extra>",
         "legendgroup": "",
         "marker": {
          "color": "#636efa",
          "symbol": "circle"
         },
         "mode": "markers",
         "name": "",
         "orientation": "v",
         "showlegend": false,
         "type": "scatter",
         "x": [
          1,
          2,
          3,
          4,
          5,
          6,
          7,
          8,
          9,
          10
         ],
         "xaxis": "x",
         "y": [
          0.8747069167643611,
          0.8863519568324528,
          0.8883774430294369,
          0.8797154282227111,
          0.8639530745084949,
          0.8852679432760948,
          0.8911947713679338,
          0.8796204739854654,
          0.8900713068364525,
          0.8798917936844813
         ],
         "yaxis": "y"
        },
        {
         "hovertemplate": "<b>OLS trendline</b><br>y = 0.000513136 * x + 0.879093<br>R<sup>2</sup>=0.035373<br><br>K-Fold=%{x}<br>AUC Score=%{y} <b>(trend)</b><extra></extra>",
         "legendgroup": "",
         "marker": {
          "color": "#636efa",
          "symbol": "circle"
         },
         "mode": "lines",
         "name": "",
         "showlegend": false,
         "type": "scatter",
         "x": [
          1,
          2,
          3,
          4,
          5,
          6,
          7,
          8,
          9,
          10
         ],
         "xaxis": "x",
         "y": [
          0.8796060000700838,
          0.8801191357991294,
          0.8806322715281748,
          0.8811454072572202,
          0.8816585429862657,
          0.8821716787153111,
          0.8826848144443566,
          0.8831979501734021,
          0.8837110859024475,
          0.8842242216314931
         ],
         "yaxis": "y"
        }
       ],
       "layout": {
        "legend": {
         "tracegroupgap": 0
        },
        "template": {
         "data": {
          "bar": [
           {
            "error_x": {
             "color": "#2a3f5f"
            },
            "error_y": {
             "color": "#2a3f5f"
            },
            "marker": {
             "line": {
              "color": "#E5ECF6",
              "width": 0.5
             },
             "pattern": {
              "fillmode": "overlay",
              "size": 10,
              "solidity": 0.2
             }
            },
            "type": "bar"
           }
          ],
          "barpolar": [
           {
            "marker": {
             "line": {
              "color": "#E5ECF6",
              "width": 0.5
             },
             "pattern": {
              "fillmode": "overlay",
              "size": 10,
              "solidity": 0.2
             }
            },
            "type": "barpolar"
           }
          ],
          "carpet": [
           {
            "aaxis": {
             "endlinecolor": "#2a3f5f",
             "gridcolor": "white",
             "linecolor": "white",
             "minorgridcolor": "white",
             "startlinecolor": "#2a3f5f"
            },
            "baxis": {
             "endlinecolor": "#2a3f5f",
             "gridcolor": "white",
             "linecolor": "white",
             "minorgridcolor": "white",
             "startlinecolor": "#2a3f5f"
            },
            "type": "carpet"
           }
          ],
          "choropleth": [
           {
            "colorbar": {
             "outlinewidth": 0,
             "ticks": ""
            },
            "type": "choropleth"
           }
          ],
          "contour": [
           {
            "colorbar": {
             "outlinewidth": 0,
             "ticks": ""
            },
            "colorscale": [
             [
              0,
              "#0d0887"
             ],
             [
              0.1111111111111111,
              "#46039f"
             ],
             [
              0.2222222222222222,
              "#7201a8"
             ],
             [
              0.3333333333333333,
              "#9c179e"
             ],
             [
              0.4444444444444444,
              "#bd3786"
             ],
             [
              0.5555555555555556,
              "#d8576b"
             ],
             [
              0.6666666666666666,
              "#ed7953"
             ],
             [
              0.7777777777777778,
              "#fb9f3a"
             ],
             [
              0.8888888888888888,
              "#fdca26"
             ],
             [
              1,
              "#f0f921"
             ]
            ],
            "type": "contour"
           }
          ],
          "contourcarpet": [
           {
            "colorbar": {
             "outlinewidth": 0,
             "ticks": ""
            },
            "type": "contourcarpet"
           }
          ],
          "heatmap": [
           {
            "colorbar": {
             "outlinewidth": 0,
             "ticks": ""
            },
            "colorscale": [
             [
              0,
              "#0d0887"
             ],
             [
              0.1111111111111111,
              "#46039f"
             ],
             [
              0.2222222222222222,
              "#7201a8"
             ],
             [
              0.3333333333333333,
              "#9c179e"
             ],
             [
              0.4444444444444444,
              "#bd3786"
             ],
             [
              0.5555555555555556,
              "#d8576b"
             ],
             [
              0.6666666666666666,
              "#ed7953"
             ],
             [
              0.7777777777777778,
              "#fb9f3a"
             ],
             [
              0.8888888888888888,
              "#fdca26"
             ],
             [
              1,
              "#f0f921"
             ]
            ],
            "type": "heatmap"
           }
          ],
          "heatmapgl": [
           {
            "colorbar": {
             "outlinewidth": 0,
             "ticks": ""
            },
            "colorscale": [
             [
              0,
              "#0d0887"
             ],
             [
              0.1111111111111111,
              "#46039f"
             ],
             [
              0.2222222222222222,
              "#7201a8"
             ],
             [
              0.3333333333333333,
              "#9c179e"
             ],
             [
              0.4444444444444444,
              "#bd3786"
             ],
             [
              0.5555555555555556,
              "#d8576b"
             ],
             [
              0.6666666666666666,
              "#ed7953"
             ],
             [
              0.7777777777777778,
              "#fb9f3a"
             ],
             [
              0.8888888888888888,
              "#fdca26"
             ],
             [
              1,
              "#f0f921"
             ]
            ],
            "type": "heatmapgl"
           }
          ],
          "histogram": [
           {
            "marker": {
             "pattern": {
              "fillmode": "overlay",
              "size": 10,
              "solidity": 0.2
             }
            },
            "type": "histogram"
           }
          ],
          "histogram2d": [
           {
            "colorbar": {
             "outlinewidth": 0,
             "ticks": ""
            },
            "colorscale": [
             [
              0,
              "#0d0887"
             ],
             [
              0.1111111111111111,
              "#46039f"
             ],
             [
              0.2222222222222222,
              "#7201a8"
             ],
             [
              0.3333333333333333,
              "#9c179e"
             ],
             [
              0.4444444444444444,
              "#bd3786"
             ],
             [
              0.5555555555555556,
              "#d8576b"
             ],
             [
              0.6666666666666666,
              "#ed7953"
             ],
             [
              0.7777777777777778,
              "#fb9f3a"
             ],
             [
              0.8888888888888888,
              "#fdca26"
             ],
             [
              1,
              "#f0f921"
             ]
            ],
            "type": "histogram2d"
           }
          ],
          "histogram2dcontour": [
           {
            "colorbar": {
             "outlinewidth": 0,
             "ticks": ""
            },
            "colorscale": [
             [
              0,
              "#0d0887"
             ],
             [
              0.1111111111111111,
              "#46039f"
             ],
             [
              0.2222222222222222,
              "#7201a8"
             ],
             [
              0.3333333333333333,
              "#9c179e"
             ],
             [
              0.4444444444444444,
              "#bd3786"
             ],
             [
              0.5555555555555556,
              "#d8576b"
             ],
             [
              0.6666666666666666,
              "#ed7953"
             ],
             [
              0.7777777777777778,
              "#fb9f3a"
             ],
             [
              0.8888888888888888,
              "#fdca26"
             ],
             [
              1,
              "#f0f921"
             ]
            ],
            "type": "histogram2dcontour"
           }
          ],
          "mesh3d": [
           {
            "colorbar": {
             "outlinewidth": 0,
             "ticks": ""
            },
            "type": "mesh3d"
           }
          ],
          "parcoords": [
           {
            "line": {
             "colorbar": {
              "outlinewidth": 0,
              "ticks": ""
             }
            },
            "type": "parcoords"
           }
          ],
          "pie": [
           {
            "automargin": true,
            "type": "pie"
           }
          ],
          "scatter": [
           {
            "fillpattern": {
             "fillmode": "overlay",
             "size": 10,
             "solidity": 0.2
            },
            "type": "scatter"
           }
          ],
          "scatter3d": [
           {
            "line": {
             "colorbar": {
              "outlinewidth": 0,
              "ticks": ""
             }
            },
            "marker": {
             "colorbar": {
              "outlinewidth": 0,
              "ticks": ""
             }
            },
            "type": "scatter3d"
           }
          ],
          "scattercarpet": [
           {
            "marker": {
             "colorbar": {
              "outlinewidth": 0,
              "ticks": ""
             }
            },
            "type": "scattercarpet"
           }
          ],
          "scattergeo": [
           {
            "marker": {
             "colorbar": {
              "outlinewidth": 0,
              "ticks": ""
             }
            },
            "type": "scattergeo"
           }
          ],
          "scattergl": [
           {
            "marker": {
             "colorbar": {
              "outlinewidth": 0,
              "ticks": ""
             }
            },
            "type": "scattergl"
           }
          ],
          "scattermapbox": [
           {
            "marker": {
             "colorbar": {
              "outlinewidth": 0,
              "ticks": ""
             }
            },
            "type": "scattermapbox"
           }
          ],
          "scatterpolar": [
           {
            "marker": {
             "colorbar": {
              "outlinewidth": 0,
              "ticks": ""
             }
            },
            "type": "scatterpolar"
           }
          ],
          "scatterpolargl": [
           {
            "marker": {
             "colorbar": {
              "outlinewidth": 0,
              "ticks": ""
             }
            },
            "type": "scatterpolargl"
           }
          ],
          "scatterternary": [
           {
            "marker": {
             "colorbar": {
              "outlinewidth": 0,
              "ticks": ""
             }
            },
            "type": "scatterternary"
           }
          ],
          "surface": [
           {
            "colorbar": {
             "outlinewidth": 0,
             "ticks": ""
            },
            "colorscale": [
             [
              0,
              "#0d0887"
             ],
             [
              0.1111111111111111,
              "#46039f"
             ],
             [
              0.2222222222222222,
              "#7201a8"
             ],
             [
              0.3333333333333333,
              "#9c179e"
             ],
             [
              0.4444444444444444,
              "#bd3786"
             ],
             [
              0.5555555555555556,
              "#d8576b"
             ],
             [
              0.6666666666666666,
              "#ed7953"
             ],
             [
              0.7777777777777778,
              "#fb9f3a"
             ],
             [
              0.8888888888888888,
              "#fdca26"
             ],
             [
              1,
              "#f0f921"
             ]
            ],
            "type": "surface"
           }
          ],
          "table": [
           {
            "cells": {
             "fill": {
              "color": "#EBF0F8"
             },
             "line": {
              "color": "white"
             }
            },
            "header": {
             "fill": {
              "color": "#C8D4E3"
             },
             "line": {
              "color": "white"
             }
            },
            "type": "table"
           }
          ]
         },
         "layout": {
          "annotationdefaults": {
           "arrowcolor": "#2a3f5f",
           "arrowhead": 0,
           "arrowwidth": 1
          },
          "autotypenumbers": "strict",
          "coloraxis": {
           "colorbar": {
            "outlinewidth": 0,
            "ticks": ""
           }
          },
          "colorscale": {
           "diverging": [
            [
             0,
             "#8e0152"
            ],
            [
             0.1,
             "#c51b7d"
            ],
            [
             0.2,
             "#de77ae"
            ],
            [
             0.3,
             "#f1b6da"
            ],
            [
             0.4,
             "#fde0ef"
            ],
            [
             0.5,
             "#f7f7f7"
            ],
            [
             0.6,
             "#e6f5d0"
            ],
            [
             0.7,
             "#b8e186"
            ],
            [
             0.8,
             "#7fbc41"
            ],
            [
             0.9,
             "#4d9221"
            ],
            [
             1,
             "#276419"
            ]
           ],
           "sequential": [
            [
             0,
             "#0d0887"
            ],
            [
             0.1111111111111111,
             "#46039f"
            ],
            [
             0.2222222222222222,
             "#7201a8"
            ],
            [
             0.3333333333333333,
             "#9c179e"
            ],
            [
             0.4444444444444444,
             "#bd3786"
            ],
            [
             0.5555555555555556,
             "#d8576b"
            ],
            [
             0.6666666666666666,
             "#ed7953"
            ],
            [
             0.7777777777777778,
             "#fb9f3a"
            ],
            [
             0.8888888888888888,
             "#fdca26"
            ],
            [
             1,
             "#f0f921"
            ]
           ],
           "sequentialminus": [
            [
             0,
             "#0d0887"
            ],
            [
             0.1111111111111111,
             "#46039f"
            ],
            [
             0.2222222222222222,
             "#7201a8"
            ],
            [
             0.3333333333333333,
             "#9c179e"
            ],
            [
             0.4444444444444444,
             "#bd3786"
            ],
            [
             0.5555555555555556,
             "#d8576b"
            ],
            [
             0.6666666666666666,
             "#ed7953"
            ],
            [
             0.7777777777777778,
             "#fb9f3a"
            ],
            [
             0.8888888888888888,
             "#fdca26"
            ],
            [
             1,
             "#f0f921"
            ]
           ]
          },
          "colorway": [
           "#636efa",
           "#EF553B",
           "#00cc96",
           "#ab63fa",
           "#FFA15A",
           "#19d3f3",
           "#FF6692",
           "#B6E880",
           "#FF97FF",
           "#FECB52"
          ],
          "font": {
           "color": "#2a3f5f"
          },
          "geo": {
           "bgcolor": "white",
           "lakecolor": "white",
           "landcolor": "#E5ECF6",
           "showlakes": true,
           "showland": true,
           "subunitcolor": "white"
          },
          "hoverlabel": {
           "align": "left"
          },
          "hovermode": "closest",
          "mapbox": {
           "style": "light"
          },
          "paper_bgcolor": "white",
          "plot_bgcolor": "#E5ECF6",
          "polar": {
           "angularaxis": {
            "gridcolor": "white",
            "linecolor": "white",
            "ticks": ""
           },
           "bgcolor": "#E5ECF6",
           "radialaxis": {
            "gridcolor": "white",
            "linecolor": "white",
            "ticks": ""
           }
          },
          "scene": {
           "xaxis": {
            "backgroundcolor": "#E5ECF6",
            "gridcolor": "white",
            "gridwidth": 2,
            "linecolor": "white",
            "showbackground": true,
            "ticks": "",
            "zerolinecolor": "white"
           },
           "yaxis": {
            "backgroundcolor": "#E5ECF6",
            "gridcolor": "white",
            "gridwidth": 2,
            "linecolor": "white",
            "showbackground": true,
            "ticks": "",
            "zerolinecolor": "white"
           },
           "zaxis": {
            "backgroundcolor": "#E5ECF6",
            "gridcolor": "white",
            "gridwidth": 2,
            "linecolor": "white",
            "showbackground": true,
            "ticks": "",
            "zerolinecolor": "white"
           }
          },
          "shapedefaults": {
           "line": {
            "color": "#2a3f5f"
           }
          },
          "ternary": {
           "aaxis": {
            "gridcolor": "white",
            "linecolor": "white",
            "ticks": ""
           },
           "baxis": {
            "gridcolor": "white",
            "linecolor": "white",
            "ticks": ""
           },
           "bgcolor": "#E5ECF6",
           "caxis": {
            "gridcolor": "white",
            "linecolor": "white",
            "ticks": ""
           }
          },
          "title": {
           "x": 0.05
          },
          "xaxis": {
           "automargin": true,
           "gridcolor": "white",
           "linecolor": "white",
           "ticks": "",
           "title": {
            "standoff": 15
           },
           "zerolinecolor": "white",
           "zerolinewidth": 2
          },
          "yaxis": {
           "automargin": true,
           "gridcolor": "white",
           "linecolor": "white",
           "ticks": "",
           "title": {
            "standoff": 15
           },
           "zerolinecolor": "white",
           "zerolinewidth": 2
          }
         }
        },
        "title": {
         "text": "AUC Values for the each K-Fold"
        },
        "xaxis": {
         "anchor": "y",
         "domain": [
          0,
          1
         ],
         "title": {
          "text": "K-Fold"
         }
        },
        "yaxis": {
         "anchor": "x",
         "domain": [
          0,
          1
         ],
         "title": {
          "text": "AUC Score"
         }
        }
       }
      }
     },
     "metadata": {},
     "output_type": "display_data"
    }
   ],
   "source": [
    "# Load the pre-trained Word2Vec model by Google\n",
    "pretrained_model_path = 'GoogleNews-vectors-negative300.bin'\n",
    "word2vec_model = KeyedVectors.load_word2vec_format(pretrained_model_path, binary=True)\n",
    "\n",
    "# Tokenize and pad text\n",
    "texts = df['Cleaned Text with V lemmatization']\n",
    "tokenizer = Tokenizer()\n",
    "tokenizer.fit_on_texts(texts)\n",
    "\n",
    "sequences = tokenizer.texts_to_sequences(texts)\n",
    "maxLen = 150\n",
    "sequences = pad_sequences(sequences, maxlen=maxLen)\n",
    "\n",
    "# Create an embedding matrix\n",
    "vocab_len = len(tokenizer.word_index) + 1\n",
    "embed_vector_len = 300  \n",
    "embedding_matrix = np.zeros((vocab_len, embed_vector_len))\n",
    "\n",
    "for word, index in tokenizer.word_index.items():\n",
    "    if word in word2vec_model:\n",
    "        embedding_vector = word2vec_model[word]\n",
    "        embedding_matrix[index] = embedding_vector\n",
    "\n",
    "# Create a feature matrix with average word embeddings\n",
    "feature_matrix = np.array([\n",
    "    np.mean([embedding_matrix[word_idx] for word_idx in seq if word_idx != 0], axis=0)\n",
    "    for seq in sequences\n",
    "])\n",
    "\n",
    "y = df['Label']\n",
    "perform_kfold_cross_validation_with_lstm(feature_matrix, y)"
   ]
  },
  {
   "cell_type": "markdown",
   "metadata": {
    "cell_id": "db8de39156e84a5aaf8713ce69770086",
    "deepnote_cell_type": "text-cell-h3",
    "formattedRanges": []
   },
   "source": [
    "### Model 4: FastText"
   ]
  },
  {
   "cell_type": "markdown",
   "metadata": {
    "cell_id": "bc9a11a726704476a3cc105a55266838",
    "deepnote_cell_type": "markdown"
   },
   "source": [
    "- **Column used: \"Cleaned Text with N lemmatization\"**\n",
    "- **Model: Logistic Regression**\n",
    "- **Feature Extraction: FastText Embedding**\n",
    "\n",
    "Description:\n",
    "\n",
    "FastText is an effective method for capturing the semantics and context of words through subword information. It excels in handling out-of-vocabulary words and languages with rich morphology. FastText generates word embeddings based on character-level n-grams and their co-occurrence statistics in text data. These embeddings are valuable features for natural language processing tasks.\n",
    "\n",
    "Pros:\n",
    "Subword information: FastText can handle out-of-vocabulary words and complex word forms, making it suitable for diverse languages.\n",
    "Contextual understanding: FastText embeddings capture the semantics and context of words, offering a rich feature representation for text data.\n",
    "\n",
    "Cons:\n",
    "Larger feature space: Each document is represented as a high-dimensional vector, potentially leading to a higher dimensionality.\n",
    "\n",
    "\n",
    "\n",
    "- **Feature Transformation: nil** \n",
    "Explanation:\n",
    "No additional feature transformation steps are necessary. FastText word embeddings inherently capture subword information, semantics, and contextual understanding. These embeddings offer a dense, distributed representation of words, enabling direct use as features for text classification without the need for further feature transformation.\n",
    "\n",
    "\n",
    "\n"
   ]
  },
  {
   "cell_type": "code",
   "execution_count": 14,
   "metadata": {
    "cell_id": "2358f98de464432ca5c42ef920fce8bc",
    "deepnote_cell_type": "code",
    "deepnote_to_be_reexecuted": false,
    "execution_millis": 93863,
    "execution_start": 1698577596590,
    "source_hash": null
   },
   "outputs": [],
   "source": [
    "# Tokenize the text (assuming \"cleaned_text\" contains your preprocessed text data)\n",
    "sentences = df[\"Cleaned Text with V lemmatization\"].apply(lambda x: x.split())\n",
    "\n",
    "# Train FastText model\n",
    "fasttext_model = FastText(sentences, vector_size=300, window=10, min_count=1, sg=1)\n",
    "\n",
    "# Create a feature matrix\n",
    "features = np.array([np.mean([fasttext_model.wv[word] for word in sentence if word in fasttext_model.wv] or [np.zeros(100)], axis=0) for sentence in sentences])"
   ]
  },
  {
   "cell_type": "code",
   "execution_count": 15,
   "metadata": {
    "cell_id": "900fa05fab3744f1b0fddd342bab55b7",
    "deepnote_cell_type": "code",
    "deepnote_to_be_reexecuted": false,
    "execution_millis": 17870,
    "execution_start": 1698577690201,
    "source_hash": null
   },
   "outputs": [
    {
     "name": "stdout",
     "output_type": "stream",
     "text": [
      "Epoch 1/5\n",
      "202/202 [==============================] - 2s 2ms/step - loss: 0.5105 - accuracy: 0.7491\n",
      "Epoch 2/5\n",
      "202/202 [==============================] - 0s 2ms/step - loss: 0.4478 - accuracy: 0.7915\n",
      "Epoch 3/5\n",
      "202/202 [==============================] - 0s 2ms/step - loss: 0.4333 - accuracy: 0.8022\n",
      "Epoch 4/5\n",
      "202/202 [==============================] - 0s 2ms/step - loss: 0.4261 - accuracy: 0.8069\n",
      "Epoch 5/5\n",
      "202/202 [==============================] - 0s 2ms/step - loss: 0.4222 - accuracy: 0.8082\n",
      "45/45 [==============================] - 0s 926us/step\n",
      "45/45 [==============================] - 0s 1ms/step\n",
      "Epoch 1/5\n",
      "202/202 [==============================] - 2s 2ms/step - loss: 0.5151 - accuracy: 0.7460\n",
      "Epoch 2/5\n",
      "202/202 [==============================] - 0s 2ms/step - loss: 0.4503 - accuracy: 0.7917\n",
      "Epoch 3/5\n",
      "202/202 [==============================] - 0s 2ms/step - loss: 0.4354 - accuracy: 0.7994\n",
      "Epoch 4/5\n",
      "202/202 [==============================] - 0s 2ms/step - loss: 0.4295 - accuracy: 0.8013\n",
      "Epoch 5/5\n",
      "202/202 [==============================] - 0s 2ms/step - loss: 0.4236 - accuracy: 0.8086\n",
      "45/45 [==============================] - 0s 894us/step\n",
      "45/45 [==============================] - 0s 927us/step\n",
      "Epoch 1/5\n",
      "202/202 [==============================] - 2s 2ms/step - loss: 0.5119 - accuracy: 0.7487\n",
      "Epoch 2/5\n",
      "202/202 [==============================] - 0s 2ms/step - loss: 0.4477 - accuracy: 0.7924\n",
      "Epoch 3/5\n",
      "202/202 [==============================] - 0s 2ms/step - loss: 0.4335 - accuracy: 0.7998\n",
      "Epoch 4/5\n",
      "202/202 [==============================] - 0s 2ms/step - loss: 0.4273 - accuracy: 0.8060\n",
      "Epoch 5/5\n",
      "202/202 [==============================] - 0s 2ms/step - loss: 0.4234 - accuracy: 0.8068\n",
      "45/45 [==============================] - 0s 977us/step\n",
      "45/45 [==============================] - 0s 909us/step\n",
      "Epoch 1/5\n",
      "202/202 [==============================] - 2s 2ms/step - loss: 0.5127 - accuracy: 0.7476\n",
      "Epoch 2/5\n",
      "202/202 [==============================] - 0s 2ms/step - loss: 0.4506 - accuracy: 0.7897\n",
      "Epoch 3/5\n",
      "202/202 [==============================] - 0s 2ms/step - loss: 0.4344 - accuracy: 0.8020\n",
      "Epoch 4/5\n",
      "202/202 [==============================] - 0s 2ms/step - loss: 0.4264 - accuracy: 0.8062\n",
      "Epoch 5/5\n",
      "202/202 [==============================] - 0s 2ms/step - loss: 0.4222 - accuracy: 0.8078\n",
      "45/45 [==============================] - 0s 875us/step\n",
      "45/45 [==============================] - 0s 864us/step\n",
      "Epoch 1/5\n",
      "202/202 [==============================] - 2s 2ms/step - loss: 0.5133 - accuracy: 0.7468\n",
      "Epoch 2/5\n",
      "202/202 [==============================] - 0s 2ms/step - loss: 0.4462 - accuracy: 0.7939\n",
      "Epoch 3/5\n",
      "202/202 [==============================] - 0s 2ms/step - loss: 0.4320 - accuracy: 0.8022\n",
      "Epoch 4/5\n",
      "202/202 [==============================] - 0s 2ms/step - loss: 0.4244 - accuracy: 0.8065\n",
      "Epoch 5/5\n",
      "202/202 [==============================] - 0s 2ms/step - loss: 0.4218 - accuracy: 0.8093\n",
      "45/45 [==============================] - 0s 937us/step\n",
      "45/45 [==============================] - 0s 952us/step\n",
      "Epoch 1/5\n",
      "202/202 [==============================] - 1s 2ms/step - loss: 0.5168 - accuracy: 0.7417\n",
      "Epoch 2/5\n",
      "202/202 [==============================] - 0s 2ms/step - loss: 0.4507 - accuracy: 0.7932\n",
      "Epoch 3/5\n",
      "202/202 [==============================] - 0s 2ms/step - loss: 0.4338 - accuracy: 0.8017\n",
      "Epoch 4/5\n",
      "202/202 [==============================] - 0s 2ms/step - loss: 0.4266 - accuracy: 0.8052\n",
      "Epoch 5/5\n",
      "202/202 [==============================] - 0s 2ms/step - loss: 0.4227 - accuracy: 0.8077\n",
      "45/45 [==============================] - 0s 868us/step\n",
      "45/45 [==============================] - 0s 899us/step\n",
      "Epoch 1/5\n",
      "202/202 [==============================] - 1s 2ms/step - loss: 0.5125 - accuracy: 0.7461\n",
      "Epoch 2/5\n",
      "202/202 [==============================] - 0s 2ms/step - loss: 0.4503 - accuracy: 0.7918\n",
      "Epoch 3/5\n",
      "202/202 [==============================] - 0s 2ms/step - loss: 0.4362 - accuracy: 0.7988\n",
      "Epoch 4/5\n",
      "202/202 [==============================] - 0s 2ms/step - loss: 0.4281 - accuracy: 0.8057\n",
      "Epoch 5/5\n",
      "202/202 [==============================] - 0s 2ms/step - loss: 0.4223 - accuracy: 0.8090\n",
      "45/45 [==============================] - 0s 872us/step\n",
      "45/45 [==============================] - 0s 887us/step\n",
      "Epoch 1/5\n",
      "202/202 [==============================] - 1s 2ms/step - loss: 0.5222 - accuracy: 0.7406\n",
      "Epoch 2/5\n",
      "202/202 [==============================] - 0s 2ms/step - loss: 0.4525 - accuracy: 0.7887\n",
      "Epoch 3/5\n",
      "202/202 [==============================] - 0s 2ms/step - loss: 0.4352 - accuracy: 0.7990\n",
      "Epoch 4/5\n",
      "202/202 [==============================] - 0s 2ms/step - loss: 0.4269 - accuracy: 0.8037\n",
      "Epoch 5/5\n",
      "202/202 [==============================] - 0s 2ms/step - loss: 0.4213 - accuracy: 0.8056\n",
      "45/45 [==============================] - 0s 841us/step\n",
      "45/45 [==============================] - 0s 881us/step\n",
      "Epoch 1/5\n",
      "202/202 [==============================] - 1s 2ms/step - loss: 0.5208 - accuracy: 0.7389\n",
      "Epoch 2/5\n",
      "202/202 [==============================] - 0s 2ms/step - loss: 0.4511 - accuracy: 0.7935\n",
      "Epoch 3/5\n",
      "202/202 [==============================] - 0s 2ms/step - loss: 0.4385 - accuracy: 0.7996\n",
      "Epoch 4/5\n",
      "202/202 [==============================] - 0s 2ms/step - loss: 0.4285 - accuracy: 0.8057\n",
      "Epoch 5/5\n",
      "202/202 [==============================] - 0s 2ms/step - loss: 0.4238 - accuracy: 0.8073\n",
      "45/45 [==============================] - 0s 840us/step\n",
      "45/45 [==============================] - 0s 845us/step\n",
      "Epoch 1/5\n",
      "202/202 [==============================] - 1s 2ms/step - loss: 0.5153 - accuracy: 0.7444\n",
      "Epoch 2/5\n",
      "202/202 [==============================] - 0s 2ms/step - loss: 0.4473 - accuracy: 0.7959\n",
      "Epoch 3/5\n",
      "202/202 [==============================] - 0s 2ms/step - loss: 0.4312 - accuracy: 0.8012\n",
      "Epoch 4/5\n",
      "202/202 [==============================] - 0s 2ms/step - loss: 0.4237 - accuracy: 0.8072\n",
      "Epoch 5/5\n",
      "202/202 [==============================] - 0s 2ms/step - loss: 0.4218 - accuracy: 0.8076\n",
      "45/45 [==============================] - 0s 903us/step\n",
      "45/45 [==============================] - 0s 896us/step\n",
      "The average accuracy is: 80.63%\n",
      "The average classification error is: 19.37%\n",
      "The average sensitivity is: 87.37%\n",
      "The average precision is: 81.48%\n",
      "The average specificity is: 70.80%\n",
      "The average f1 score is: 84.25%\n",
      "The average AUC Score is: 88.44%\n"
     ]
    },
    {
     "data": {
      "application/vnd.plotly.v1+json": {
       "config": {
        "plotlyServerURL": "https://plot.ly"
       },
       "data": [
        {
         "fillpattern": {
          "shape": ""
         },
         "hovertemplate": "Average False Positive Rate=%{x}<br>Average True Positive Rate=%{y}<extra></extra>",
         "legendgroup": "",
         "line": {
          "color": "#636efa"
         },
         "marker": {
          "symbol": "circle"
         },
         "mode": "lines",
         "name": "",
         "orientation": "v",
         "showlegend": false,
         "stackgroup": "1",
         "type": "scatter",
         "x": [
          0,
          0,
          0,
          0.001712622395241323,
          0.001712622395241323,
          0.003425244790482646,
          0.003425244790482646,
          0.005137867185723968,
          0.005137867185723968,
          0.006850489580965292,
          0.006850489580965292,
          0.008563111976206614,
          0.008563111976206614,
          0.010275734371447937,
          0.010275734371447937,
          0.01198835676668926,
          0.01198835676668926,
          0.013700979161930584,
          0.013700979161930584,
          0.015584786749986515,
          0.015584786749986515,
          0.01764007315897509,
          0.01764007315897509,
          0.019352695554216412,
          0.019352695554216412,
          0.021236503142272344,
          0.021236503142272344,
          0.023120310730328275,
          0.023120310730328275,
          0.0248329331255696,
          0.0248329331255696,
          0.026545555520810924,
          0.026545555520810924,
          0.028258177916052247,
          0.028258177916052247,
          0.03014210471385248,
          0.03014210471385248,
          0.0318547271090938,
          0.0318547271090938,
          0.033567349504335126,
          0.033567349504335126,
          0.035451276302135355,
          0.035451276302135355,
          0.037506269083005896,
          0.037506269083005896,
          0.03956167470173877,
          0.03956167470173877,
          0.041445601499539006,
          0.041445601499539006,
          0.04384320308552736,
          0.04384320308552736,
          0.0458981958663979,
          0.0458981958663979,
          0.04778212266419814,
          0.04778212266419814,
          0.04966593025225407,
          0.04966593025225407,
          0.051721161452613205,
          0.051721161452613205,
          0.05394757784578696,
          0.05394757784578696,
          0.055660200241028274,
          0.055660200241028274,
          0.057886616634202026,
          0.057886616634202026,
          0.059770543432002256,
          0.059770543432002256,
          0.06148316582724358,
          0.06148316582724358,
          0.06336726704341755,
          0.06336726704341755,
          0.06593605382222051,
          0.06593605382222051,
          0.06884744940614129,
          0.06884744940614129,
          0.07090256139675614,
          0.07090256139675614,
          0.07347164180367716,
          0.07347164180367716,
          0.07552675379429198,
          0.07552675379429198,
          0.07912324777870411,
          0.07912324777870411,
          0.08169203455750706,
          0.08169203455750706,
          0.08374714654812192,
          0.08374714654812192,
          0.08563095413617783,
          0.08563095413617783,
          0.08751488093397808,
          0.08751488093397808,
          0.08974141653689613,
          0.08974141653689613,
          0.09196783293006987,
          0.09196783293006987,
          0.09419401090375504,
          0.09419401090375504,
          0.09659178690811712,
          0.09659178690811712,
          0.09847559449617303,
          0.09847559449617303,
          0.1008729576626728,
          0.1008729576626728,
          0.10258558005791413,
          0.10258558005791413,
          0.10464069204852895,
          0.10464069204852895,
          0.10686698923195842,
          0.10686698923195842,
          0.10960749325118263,
          0.10960749325118263,
          0.11166248603205317,
          0.11166248603205317,
          0.11406026203641528,
          0.11406026203641528,
          0.11611554844540384,
          0.11611554844540384,
          0.11868457364369539,
          0.11868457364369539,
          0.12056861965123994,
          0.12056861965123994,
          0.1227949168346694,
          0.1227949168346694,
          0.12536382282321668,
          0.12536382282321668,
          0.12741910923220523,
          0.12741910923220523,
          0.13067281120064037,
          0.13067281120064037,
          0.13341319601012028,
          0.13341319601012028,
          0.13581079759610865,
          0.13581079759610865,
          0.13838011642251824,
          0.13838011642251824,
          0.140606532815692,
          0.140606532815692,
          0.14334714725217507,
          0.14334714725217507,
          0.14557385727346683,
          0.14557385727346683,
          0.14848501443789902,
          0.14848501443789902,
          0.1512249864095166,
          0.1512249864095166,
          0.15328009840013146,
          0.15328009840013146,
          0.15584912359842304,
          0.15584912359842304,
          0.15841849763346205,
          0.15841849763346205,
          0.16133001242712713,
          0.16133001242712713,
          0.16424152722079222,
          0.16424152722079222,
          0.16663900959703626,
          0.16663900959703626,
          0.16972182879326025,
          0.16972182879326025,
          0.1719480067669454,
          0.1719480067669454,
          0.17434607639942556,
          0.17434607639942556,
          0.17708698446402668,
          0.17708698446402668,
          0.17982695643564428,
          0.17982695643564428,
          0.18239603684256522,
          0.18239603684256522,
          0.1847935192188093,
          0.1847935192188093,
          0.1875334911904269,
          0.1875334911904269,
          0.1904448227732328,
          0.1904448227732328,
          0.19352757796834194,
          0.19352757796834194,
          0.1959251795543303,
          0.1959251795543303,
          0.19780928077050422,
          0.19780928077050422,
          0.20020688235649262,
          0.20020688235649262,
          0.20294709274759884,
          0.20294709274759884,
          0.2065429906832894,
          0.2065429906832894,
          0.21031031223128321,
          0.21031031223128321,
          0.21287909901008623,
          0.21287909901008623,
          0.21561953902819556,
          0.21561953902819556,
          0.21887306657825692,
          0.21887306657825692,
          0.22246932214318046,
          0.22246932214318046,
          0.22520941332454233,
          0.22520941332454233,
          0.2296622373184044,
          0.2296622373184044,
          0.23291600328795442,
          0.23291600328795442,
          0.2365122500603925,
          0.2365122500603925,
          0.23890997085612514,
          0.23890997085612514,
          0.2419927260512343,
          0.2419927260512343,
          0.24524649202078433,
          0.24524649202078433,
          0.24884274758570782,
          0.24884274758570782,
          0.252096743182261,
          0.252096743182261,
          0.2550082579759261,
          0.2550082579759261,
          0.2591184267485263,
          0.2591184267485263,
          0.26254337791089094,
          0.26254337791089094,
          0.2651119262702053,
          0.2651119262702053,
          0.2680233218541261,
          0.2680233218541261,
          0.27162022867640057,
          0.27162022867640057,
          0.27504517983876514,
          0.27504517983876514,
          0.27966954665467464,
          0.27966954665467464,
          0.2844658779229795,
          0.2844658779229795,
          0.29200153869803647,
          0.29200153869803647,
          0.2959409351156845,
          0.2959409351156845,
          0.29799604710629923,
          0.29799604710629923,
          0.30261994587571706,
          0.30261994587571706,
          0.3067299314374582,
          0.3067299314374582,
          0.3103267830511033,
          0.3103267830511033,
          0.31375214705133014,
          0.31375214705133014,
          0.3170071427419817,
          0.3170071427419817,
          0.3207748219192085,
          0.3207748219192085,
          0.3242002499205503,
          0.3242002499205503,
          0.3286530274982683,
          0.3286530274982683,
          0.3327630770611243,
          0.3327630770611243,
          0.33721549700960946,
          0.33721549700960946,
          0.34081222062102473,
          0.34081222062102473,
          0.3461213282081927,
          0.3461213282081927,
          0.3495464537889311,
          0.3495464537889311,
          0.35177321901885233,
          0.35177321901885233,
          0.35554171507931825,
          0.35554171507931825,
          0.35999502470464295,
          0.35999502470464295,
          0.36290671391668183,
          0.36290671391668183,
          0.3668452758661197,
          0.3668452758661197,
          0.3750658982469528,
          0.3750658982469528,
          0.3798613398384181,
          0.3798613398384181,
          0.38482683852636984,
          0.38482683852636984,
          0.3915063901264946,
          0.3915063901264946,
          0.3945888516934857,
          0.3945888516934857,
          0.3993834036081115,
          0.3993834036081115,
          0.4040067703299226,
          0.4040067703299226,
          0.409316244338809,
          0.409316244338809,
          0.4146252879248621,
          0.4146252879248621,
          0.42010640638056934,
          0.42010640638056934,
          0.4230179211742345,
          0.4230179211742345,
          0.42661435115753177,
          0.42661435115753177,
          0.43038196633364356,
          0.43038196633364356,
          0.43586226790611166,
          0.43586226790611166,
          0.441170549817555,
          0.441170549817555,
          0.4468213853254867,
          0.4468213853254867,
          0.45418625616062047,
          0.45418625616062047,
          0.46103556243662835,
          0.46103556243662835,
          0.4653170356117873,
          0.4653170356117873,
          0.47131260811526343,
          0.47131260811526343,
          0.4774778888784786,
          0.4774778888784786,
          0.4819302448258488,
          0.482272615211478,
          0.4899789027542867,
          0.4899789027542867,
          0.4952884319718024,
          0.4952884319718024,
          0.5011106270909226,
          0.5011106270909226,
          0.5071053739186739,
          0.5071053739186739,
          0.5165226965063894,
          0.5165226965063894,
          0.5267981548346902,
          0.5267981548346902,
          0.5339914188466616,
          0.5339914188466616,
          0.5442652546546861,
          0.5442652546546861,
          0.5541979209670099,
          0.5541979209670099,
          0.5605352038062789,
          0.5605352038062789,
          0.5733777799769624,
          0.5733777799769624,
          0.5838253771760322,
          0.5838253771760322,
          0.5958133386898299,
          0.5958133386898299,
          0.6055736917130109,
          0.6055736917130109,
          0.6237242849981929,
          0.5237521323944614,
          0.5324869151949453,
          0.5324869151949453,
          0.5388238579899521,
          0.5388238579899521,
          0.5468712221961736,
          0.5468712221961736,
          0.5624572914221742,
          0.5624572914221742,
          0.57341961871216,
          0.57341961871216,
          0.5831812830425281,
          0.5845517182629995,
          0.5946561018157446,
          0.5951700150234212,
          0.6134921863005924,
          0.6136634907031514,
          0.6299345855360431,
          0.630277194341161,
          0.6436379601390619,
          0.6472353525927991,
          0.6650475382450868,
          0.6686449306988239,
          0.6933087667446299,
          0.6977626812111616,
          0.708721560211048,
          0.718314606754347,
          0.7458833018868253,
          0.5467259002014855,
          0.4620994347706166,
          0.4620994347706166,
          0.46946381118180236,
          0.46946381118180236,
          0.49138319415556836,
          0.2913692704574341,
          0.29856375539802166,
          0.29856375539802166,
          0.3102094105273051,
          0.3102094105273051,
          0.313636169874522,
          0.313636169874522,
          0.32151400903186345,
          0.2214722379374608,
          0.22232875115776993,
          0.22232875115776993,
          0.22815051585405682,
          0.22815051585405682,
          0.23705537578971483,
          0.23705537578971483,
          0.25177877051236136,
          0.25177877051236136,
          0.2689058050092453,
          0.2689058050092453,
          0.2817555587107083,
          0.1817834061069767,
          0.19051649359358408,
          0.19051649359358408,
          0.1999443052074631
         ],
         "xaxis": "x",
         "y": [
          0,
          0.0011730207397847676,
          0.04024023326440324,
          0.04024023326440324,
          0.0961889467440161,
          0.0961889467440161,
          0.14604393502480195,
          0.14604393502480195,
          0.17700935446687227,
          0.17700935446687227,
          0.1995312808639427,
          0.19976595727850543,
          0.21161474091864688,
          0.21161474091864688,
          0.23201998341319693,
          0.23201998341319693,
          0.24961666090825202,
          0.24961666090825202,
          0.2655701578700712,
          0.2655701578700712,
          0.2795311970714647,
          0.2795311970714647,
          0.30909124254280856,
          0.30909124254280856,
          0.32164442135775456,
          0.32164442135775456,
          0.3313806697196648,
          0.3313806697196648,
          0.3534342594649087,
          0.3534342594649087,
          0.36246508191410565,
          0.36246508191410565,
          0.37196608714719037,
          0.37196608714719037,
          0.3860443315945068,
          0.3860443315945068,
          0.40035220950411193,
          0.40035220950411193,
          0.40656896189376357,
          0.40656896189376357,
          0.4177132173977419,
          0.4177132173977419,
          0.4297951459061927,
          0.4297951459061927,
          0.44656881443310303,
          0.44656881443310303,
          0.45665737092809844,
          0.45665737092809844,
          0.47178960964352196,
          0.47178960964352196,
          0.4816415684898005,
          0.4816415684898005,
          0.4878586051945185,
          0.4878586051945185,
          0.4963051962008536,
          0.4963051962008536,
          0.5045165440783632,
          0.5045165440783632,
          0.5113204304535008,
          0.5113204304535008,
          0.5207062352067365,
          0.5207062352067365,
          0.5289168439417085,
          0.5289168439417085,
          0.5357215437951287,
          0.5357215437951287,
          0.5418220979199817,
          0.5418220979199817,
          0.552612899983957,
          0.552612899983957,
          0.5623475416975211,
          0.5623475416975211,
          0.5687993621055062,
          0.5687993621055062,
          0.5759551814864378,
          0.5759551814864378,
          0.5817032523677134,
          0.5817032523677134,
          0.5873332321049081,
          0.5873332321049081,
          0.5934330332929616,
          0.5934330332929616,
          0.6018798572690547,
          0.6018798572690547,
          0.6069234000141673,
          0.6069234000141673,
          0.6116155645893564,
          0.6116155645893564,
          0.6158389614420321,
          0.6158389614420321,
          0.6214694354736144,
          0.6214694354736144,
          0.6279215007297494,
          0.6279215007297494,
          0.6349599773053123,
          0.6349599773053123,
          0.6380097683115911,
          0.6380097683115911,
          0.6431699147195349,
          0.6431699147195349,
          0.649035207323213,
          0.649035207323213,
          0.6545486834059759,
          0.6545486834059759,
          0.6621724827037926,
          0.6621724827037926,
          0.66616014941356,
          0.66616014941356,
          0.6729634434017806,
          0.6729634434017806,
          0.6773034301230255,
          0.6773034301230255,
          0.6828167081048594,
          0.6828167081048594,
          0.6863356327647679,
          0.6863356327647679,
          0.690441523579975,
          0.690441523579975,
          0.6924356623244919,
          0.6926703387390547,
          0.6965410845179658,
          0.6965410845179658,
          0.6999424215243554,
          0.6999424215243554,
          0.7048684931008282,
          0.7048684931008282,
          0.7074491853223062,
          0.7074491853223062,
          0.7119055216620577,
          0.7119055216620577,
          0.716714826343599,
          0.716714826343599,
          0.7188264408548433,
          0.7188264408548433,
          0.7215239467184738,
          0.7215239467184738,
          0.7263332770726696,
          0.7263332770726696,
          0.7303213913296034,
          0.7303213913296034,
          0.7332537322418092,
          0.7332537322418092,
          0.7374762734670686,
          0.7374762734670686,
          0.7413476254271587,
          0.7413476254271587,
          0.7443978896532581,
          0.7443978896532581,
          0.7487379882612946,
          0.7487379882612946,
          0.7514359627466582,
          0.7514359627466582,
          0.7546030919602182,
          0.7546030919602182,
          0.7585910943303608,
          0.7585910943303608,
          0.7612891761044286,
          0.7612891761044286,
          0.7658643335346238,
          0.7658643335346238,
          0.7704396028516105,
          0.7704396028516105,
          0.7747798949624886,
          0.7747798949624886,
          0.7777125201897607,
          0.7777125201897607,
          0.7804103525175913,
          0.7804103525175913,
          0.7862753397316362,
          0.7862753397316362,
          0.7889732326009498,
          0.7889732326009498,
          0.7920233289968619,
          0.7920233289968619,
          0.7939002670935432,
          0.7939002670935432,
          0.7978886775439358,
          0.7978886775439358,
          0.8012906510022462,
          0.8012906510022462,
          0.804106126926991,
          0.804106126926991,
          0.8057483886091097,
          0.8057483886091097,
          0.8079772853842396,
          0.8079772853842396,
          0.8124343562684411,
          0.8124343562684411,
          0.8153671704004677,
          0.8153671704004677,
          0.8180653383886728,
          0.8180653383886728,
          0.8224063228948674,
          0.8224063228948674,
          0.8252212742544834,
          0.8252212742544834,
          0.8273326695902318,
          0.8273326695902318,
          0.830382628426698,
          0.830382628426698,
          0.832611168466886,
          0.832611168466886,
          0.8348397085070742,
          0.8348397085070742,
          0.836716758490547,
          0.836716758490547,
          0.839532290358688,
          0.839532290358688,
          0.8418785812844948,
          0.8418785812844948,
          0.844458830556894,
          0.844458830556894,
          0.8480950585552549,
          0.8480950585552549,
          0.8509102547630212,
          0.8509102547630212,
          0.8532563265133322,
          0.8532563265133322,
          0.8553676915783389,
          0.8553676915783389,
          0.8577138146739585,
          0.8577138146739585,
          0.8605289595364161,
          0.8605289595364161,
          0.8636961190207179,
          0.8636961190207179,
          0.8665116508888586,
          0.8665116508888586,
          0.8694438074943975,
          0.8694438074943975,
          0.8726112420975911,
          0.8726112420975911,
          0.8749574514073478,
          0.8749574514073478,
          0.8771860684654987,
          0.8771860684654987,
          0.8789454748520573,
          0.8789454748520573,
          0.8810569774765099,
          0.8810569774765099,
          0.8831684801009623,
          0.8831684801009623,
          0.8861014061197804,
          0.8861014061197804,
          0.8887994622211941,
          0.8887994622211941,
          0.891028303052928,
          0.891028303052928,
          0.892904828471272,
          0.892904828471272,
          0.8953683759883103,
          0.8953683759883103,
          0.8970104441675874,
          0.8970104441675874,
          0.8986527617931019,
          0.8986527617931019,
          0.9007643506316918,
          0.9007643506316918,
          0.9027586828790505,
          0.9027586828790505,
          0.9052221441819515,
          0.9052221441819515,
          0.9075683232209667,
          0.9075683232209667,
          0.9092106408464813,
          0.9092106408464813,
          0.9108529584719958,
          0.9108529584719958,
          0.9124951385380644,
          0.9124951385380644,
          0.9150759939916425,
          0.9150759939916425,
          0.917187415000045,
          0.917187415000045,
          0.9190642155372807,
          0.9190642155372807,
          0.9210583799544518,
          0.9210583799544518,
          0.9227007535233621,
          0.9227007535233621,
          0.9248118737402189,
          0.9248118737402189,
          0.9266884551019587,
          0.9266884551019587,
          0.928916939198751,
          0.928916939198751,
          0.9305590633214237,
          0.9305590633214237,
          0.9327878225371078,
          0.9327878225371078,
          0.934312720339291,
          0.934312720339291,
          0.9364241156750391,
          0.9364241156750391,
          0.9377144746221053,
          0.9377144746221053,
          0.9395910816564993,
          0.9395910816564993,
          0.9408813030441199,
          0.9408813030441199,
          0.94217160604779,
          0.94217160604779,
          0.9438138677299086,
          0.9438138677299086,
          0.9451041707335791,
          0.9451041707335791,
          0.946746376472302,
          0.946746376472302,
          0.9481540736266495,
          0.9481540736266495,
          0.9494443766303199,
          0.9494443766303199,
          0.9508520737846673,
          0.9508520737846673,
          0.9522594958201234,
          0.9522594958201234,
          0.953432516559908,
          0.953432516559908,
          0.9547227636201825,
          0.9547227636201825,
          0.9562477989818112,
          0.9562477989818112,
          0.9575380203694319,
          0.9575380203694319,
          0.9590630557310607,
          0.9590630557310607,
          0.9608224923883606,
          0.9608224923883606,
          0.962581873102265,
          0.962581873102265,
          0.9641067965771021,
          0.9641067965771021,
          0.9655144937314497,
          0.9655144937314497,
          0.9670394172062869,
          0.9670394172062869,
          0.9685642590650745,
          0.9685642590650745,
          0.969737279804859,
          0.969737279804859,
          0.9714969356376549,
          0.9714969356376549,
          0.9730219709992838,
          0.9730219709992838,
          0.9744295305941855,
          0.9744295305941855,
          0.9756025513339704,
          0.9756025513339704,
          0.8771553222050761,
          0.8771553222050761,
          0.8783283429448608,
          0.8783283429448608,
          0.8796185643324811,
          0.8796185643324811,
          0.88079152912887,
          0.88079152912887,
          0.8818472116613736,
          0.8818472116613736,
          0.8831373771055979,
          0.8831373771055979,
          0.8841931155814973,
          0.8843103978453828,
          0.8852487981140007,
          0.8853660803778862,
          0.8866562201494564,
          0.886773502413342,
          0.8877119026819601,
          0.8878291849458456,
          0.8890022616290261,
          0.8891195438929116,
          0.8901752264254151,
          0.8902925086893008,
          0.891348191221804,
          0.8915827557495751,
          0.8926383566660288,
          0.8927556389299143,
          0.6934454950292308,
          0.5934037239348281,
          0.5942247043801144,
          0.5942247043801144,
          0.5949284841775653,
          0.5949284841775653,
          0.3955010580129964,
          0.3955010580129964,
          0.3959702173392803,
          0.3959702173392803,
          0.39655671487284555,
          0.39655671487284555,
          0.39702587419912944,
          0.39702587419912944,
          0.2974533183744065,
          0.2974533183744065,
          0.29803987185136754,
          0.29803987185136754,
          0.29839174891376585,
          0.29839174891376585,
          0.2987436259761641,
          0.2987436259761641,
          0.29909550303856247,
          0.29909550303856247,
          0.2994473801009608,
          0.2994473801009608,
          0.19970976635234616,
          0.19970976635234616,
          0.1999443052074631,
          0.1999443052074631
         ],
         "yaxis": "y"
        }
       ],
       "layout": {
        "height": 700,
        "legend": {
         "tracegroupgap": 0
        },
        "shapes": [
         {
          "line": {
           "dash": "dash"
          },
          "type": "line",
          "x0": 0,
          "x1": 1,
          "y0": 0,
          "y1": 1
         }
        ],
        "template": {
         "data": {
          "bar": [
           {
            "error_x": {
             "color": "#2a3f5f"
            },
            "error_y": {
             "color": "#2a3f5f"
            },
            "marker": {
             "line": {
              "color": "#E5ECF6",
              "width": 0.5
             },
             "pattern": {
              "fillmode": "overlay",
              "size": 10,
              "solidity": 0.2
             }
            },
            "type": "bar"
           }
          ],
          "barpolar": [
           {
            "marker": {
             "line": {
              "color": "#E5ECF6",
              "width": 0.5
             },
             "pattern": {
              "fillmode": "overlay",
              "size": 10,
              "solidity": 0.2
             }
            },
            "type": "barpolar"
           }
          ],
          "carpet": [
           {
            "aaxis": {
             "endlinecolor": "#2a3f5f",
             "gridcolor": "white",
             "linecolor": "white",
             "minorgridcolor": "white",
             "startlinecolor": "#2a3f5f"
            },
            "baxis": {
             "endlinecolor": "#2a3f5f",
             "gridcolor": "white",
             "linecolor": "white",
             "minorgridcolor": "white",
             "startlinecolor": "#2a3f5f"
            },
            "type": "carpet"
           }
          ],
          "choropleth": [
           {
            "colorbar": {
             "outlinewidth": 0,
             "ticks": ""
            },
            "type": "choropleth"
           }
          ],
          "contour": [
           {
            "colorbar": {
             "outlinewidth": 0,
             "ticks": ""
            },
            "colorscale": [
             [
              0,
              "#0d0887"
             ],
             [
              0.1111111111111111,
              "#46039f"
             ],
             [
              0.2222222222222222,
              "#7201a8"
             ],
             [
              0.3333333333333333,
              "#9c179e"
             ],
             [
              0.4444444444444444,
              "#bd3786"
             ],
             [
              0.5555555555555556,
              "#d8576b"
             ],
             [
              0.6666666666666666,
              "#ed7953"
             ],
             [
              0.7777777777777778,
              "#fb9f3a"
             ],
             [
              0.8888888888888888,
              "#fdca26"
             ],
             [
              1,
              "#f0f921"
             ]
            ],
            "type": "contour"
           }
          ],
          "contourcarpet": [
           {
            "colorbar": {
             "outlinewidth": 0,
             "ticks": ""
            },
            "type": "contourcarpet"
           }
          ],
          "heatmap": [
           {
            "colorbar": {
             "outlinewidth": 0,
             "ticks": ""
            },
            "colorscale": [
             [
              0,
              "#0d0887"
             ],
             [
              0.1111111111111111,
              "#46039f"
             ],
             [
              0.2222222222222222,
              "#7201a8"
             ],
             [
              0.3333333333333333,
              "#9c179e"
             ],
             [
              0.4444444444444444,
              "#bd3786"
             ],
             [
              0.5555555555555556,
              "#d8576b"
             ],
             [
              0.6666666666666666,
              "#ed7953"
             ],
             [
              0.7777777777777778,
              "#fb9f3a"
             ],
             [
              0.8888888888888888,
              "#fdca26"
             ],
             [
              1,
              "#f0f921"
             ]
            ],
            "type": "heatmap"
           }
          ],
          "heatmapgl": [
           {
            "colorbar": {
             "outlinewidth": 0,
             "ticks": ""
            },
            "colorscale": [
             [
              0,
              "#0d0887"
             ],
             [
              0.1111111111111111,
              "#46039f"
             ],
             [
              0.2222222222222222,
              "#7201a8"
             ],
             [
              0.3333333333333333,
              "#9c179e"
             ],
             [
              0.4444444444444444,
              "#bd3786"
             ],
             [
              0.5555555555555556,
              "#d8576b"
             ],
             [
              0.6666666666666666,
              "#ed7953"
             ],
             [
              0.7777777777777778,
              "#fb9f3a"
             ],
             [
              0.8888888888888888,
              "#fdca26"
             ],
             [
              1,
              "#f0f921"
             ]
            ],
            "type": "heatmapgl"
           }
          ],
          "histogram": [
           {
            "marker": {
             "pattern": {
              "fillmode": "overlay",
              "size": 10,
              "solidity": 0.2
             }
            },
            "type": "histogram"
           }
          ],
          "histogram2d": [
           {
            "colorbar": {
             "outlinewidth": 0,
             "ticks": ""
            },
            "colorscale": [
             [
              0,
              "#0d0887"
             ],
             [
              0.1111111111111111,
              "#46039f"
             ],
             [
              0.2222222222222222,
              "#7201a8"
             ],
             [
              0.3333333333333333,
              "#9c179e"
             ],
             [
              0.4444444444444444,
              "#bd3786"
             ],
             [
              0.5555555555555556,
              "#d8576b"
             ],
             [
              0.6666666666666666,
              "#ed7953"
             ],
             [
              0.7777777777777778,
              "#fb9f3a"
             ],
             [
              0.8888888888888888,
              "#fdca26"
             ],
             [
              1,
              "#f0f921"
             ]
            ],
            "type": "histogram2d"
           }
          ],
          "histogram2dcontour": [
           {
            "colorbar": {
             "outlinewidth": 0,
             "ticks": ""
            },
            "colorscale": [
             [
              0,
              "#0d0887"
             ],
             [
              0.1111111111111111,
              "#46039f"
             ],
             [
              0.2222222222222222,
              "#7201a8"
             ],
             [
              0.3333333333333333,
              "#9c179e"
             ],
             [
              0.4444444444444444,
              "#bd3786"
             ],
             [
              0.5555555555555556,
              "#d8576b"
             ],
             [
              0.6666666666666666,
              "#ed7953"
             ],
             [
              0.7777777777777778,
              "#fb9f3a"
             ],
             [
              0.8888888888888888,
              "#fdca26"
             ],
             [
              1,
              "#f0f921"
             ]
            ],
            "type": "histogram2dcontour"
           }
          ],
          "mesh3d": [
           {
            "colorbar": {
             "outlinewidth": 0,
             "ticks": ""
            },
            "type": "mesh3d"
           }
          ],
          "parcoords": [
           {
            "line": {
             "colorbar": {
              "outlinewidth": 0,
              "ticks": ""
             }
            },
            "type": "parcoords"
           }
          ],
          "pie": [
           {
            "automargin": true,
            "type": "pie"
           }
          ],
          "scatter": [
           {
            "fillpattern": {
             "fillmode": "overlay",
             "size": 10,
             "solidity": 0.2
            },
            "type": "scatter"
           }
          ],
          "scatter3d": [
           {
            "line": {
             "colorbar": {
              "outlinewidth": 0,
              "ticks": ""
             }
            },
            "marker": {
             "colorbar": {
              "outlinewidth": 0,
              "ticks": ""
             }
            },
            "type": "scatter3d"
           }
          ],
          "scattercarpet": [
           {
            "marker": {
             "colorbar": {
              "outlinewidth": 0,
              "ticks": ""
             }
            },
            "type": "scattercarpet"
           }
          ],
          "scattergeo": [
           {
            "marker": {
             "colorbar": {
              "outlinewidth": 0,
              "ticks": ""
             }
            },
            "type": "scattergeo"
           }
          ],
          "scattergl": [
           {
            "marker": {
             "colorbar": {
              "outlinewidth": 0,
              "ticks": ""
             }
            },
            "type": "scattergl"
           }
          ],
          "scattermapbox": [
           {
            "marker": {
             "colorbar": {
              "outlinewidth": 0,
              "ticks": ""
             }
            },
            "type": "scattermapbox"
           }
          ],
          "scatterpolar": [
           {
            "marker": {
             "colorbar": {
              "outlinewidth": 0,
              "ticks": ""
             }
            },
            "type": "scatterpolar"
           }
          ],
          "scatterpolargl": [
           {
            "marker": {
             "colorbar": {
              "outlinewidth": 0,
              "ticks": ""
             }
            },
            "type": "scatterpolargl"
           }
          ],
          "scatterternary": [
           {
            "marker": {
             "colorbar": {
              "outlinewidth": 0,
              "ticks": ""
             }
            },
            "type": "scatterternary"
           }
          ],
          "surface": [
           {
            "colorbar": {
             "outlinewidth": 0,
             "ticks": ""
            },
            "colorscale": [
             [
              0,
              "#0d0887"
             ],
             [
              0.1111111111111111,
              "#46039f"
             ],
             [
              0.2222222222222222,
              "#7201a8"
             ],
             [
              0.3333333333333333,
              "#9c179e"
             ],
             [
              0.4444444444444444,
              "#bd3786"
             ],
             [
              0.5555555555555556,
              "#d8576b"
             ],
             [
              0.6666666666666666,
              "#ed7953"
             ],
             [
              0.7777777777777778,
              "#fb9f3a"
             ],
             [
              0.8888888888888888,
              "#fdca26"
             ],
             [
              1,
              "#f0f921"
             ]
            ],
            "type": "surface"
           }
          ],
          "table": [
           {
            "cells": {
             "fill": {
              "color": "#EBF0F8"
             },
             "line": {
              "color": "white"
             }
            },
            "header": {
             "fill": {
              "color": "#C8D4E3"
             },
             "line": {
              "color": "white"
             }
            },
            "type": "table"
           }
          ]
         },
         "layout": {
          "annotationdefaults": {
           "arrowcolor": "#2a3f5f",
           "arrowhead": 0,
           "arrowwidth": 1
          },
          "autotypenumbers": "strict",
          "coloraxis": {
           "colorbar": {
            "outlinewidth": 0,
            "ticks": ""
           }
          },
          "colorscale": {
           "diverging": [
            [
             0,
             "#8e0152"
            ],
            [
             0.1,
             "#c51b7d"
            ],
            [
             0.2,
             "#de77ae"
            ],
            [
             0.3,
             "#f1b6da"
            ],
            [
             0.4,
             "#fde0ef"
            ],
            [
             0.5,
             "#f7f7f7"
            ],
            [
             0.6,
             "#e6f5d0"
            ],
            [
             0.7,
             "#b8e186"
            ],
            [
             0.8,
             "#7fbc41"
            ],
            [
             0.9,
             "#4d9221"
            ],
            [
             1,
             "#276419"
            ]
           ],
           "sequential": [
            [
             0,
             "#0d0887"
            ],
            [
             0.1111111111111111,
             "#46039f"
            ],
            [
             0.2222222222222222,
             "#7201a8"
            ],
            [
             0.3333333333333333,
             "#9c179e"
            ],
            [
             0.4444444444444444,
             "#bd3786"
            ],
            [
             0.5555555555555556,
             "#d8576b"
            ],
            [
             0.6666666666666666,
             "#ed7953"
            ],
            [
             0.7777777777777778,
             "#fb9f3a"
            ],
            [
             0.8888888888888888,
             "#fdca26"
            ],
            [
             1,
             "#f0f921"
            ]
           ],
           "sequentialminus": [
            [
             0,
             "#0d0887"
            ],
            [
             0.1111111111111111,
             "#46039f"
            ],
            [
             0.2222222222222222,
             "#7201a8"
            ],
            [
             0.3333333333333333,
             "#9c179e"
            ],
            [
             0.4444444444444444,
             "#bd3786"
            ],
            [
             0.5555555555555556,
             "#d8576b"
            ],
            [
             0.6666666666666666,
             "#ed7953"
            ],
            [
             0.7777777777777778,
             "#fb9f3a"
            ],
            [
             0.8888888888888888,
             "#fdca26"
            ],
            [
             1,
             "#f0f921"
            ]
           ]
          },
          "colorway": [
           "#636efa",
           "#EF553B",
           "#00cc96",
           "#ab63fa",
           "#FFA15A",
           "#19d3f3",
           "#FF6692",
           "#B6E880",
           "#FF97FF",
           "#FECB52"
          ],
          "font": {
           "color": "#2a3f5f"
          },
          "geo": {
           "bgcolor": "white",
           "lakecolor": "white",
           "landcolor": "#E5ECF6",
           "showlakes": true,
           "showland": true,
           "subunitcolor": "white"
          },
          "hoverlabel": {
           "align": "left"
          },
          "hovermode": "closest",
          "mapbox": {
           "style": "light"
          },
          "paper_bgcolor": "white",
          "plot_bgcolor": "#E5ECF6",
          "polar": {
           "angularaxis": {
            "gridcolor": "white",
            "linecolor": "white",
            "ticks": ""
           },
           "bgcolor": "#E5ECF6",
           "radialaxis": {
            "gridcolor": "white",
            "linecolor": "white",
            "ticks": ""
           }
          },
          "scene": {
           "xaxis": {
            "backgroundcolor": "#E5ECF6",
            "gridcolor": "white",
            "gridwidth": 2,
            "linecolor": "white",
            "showbackground": true,
            "ticks": "",
            "zerolinecolor": "white"
           },
           "yaxis": {
            "backgroundcolor": "#E5ECF6",
            "gridcolor": "white",
            "gridwidth": 2,
            "linecolor": "white",
            "showbackground": true,
            "ticks": "",
            "zerolinecolor": "white"
           },
           "zaxis": {
            "backgroundcolor": "#E5ECF6",
            "gridcolor": "white",
            "gridwidth": 2,
            "linecolor": "white",
            "showbackground": true,
            "ticks": "",
            "zerolinecolor": "white"
           }
          },
          "shapedefaults": {
           "line": {
            "color": "#2a3f5f"
           }
          },
          "ternary": {
           "aaxis": {
            "gridcolor": "white",
            "linecolor": "white",
            "ticks": ""
           },
           "baxis": {
            "gridcolor": "white",
            "linecolor": "white",
            "ticks": ""
           },
           "bgcolor": "#E5ECF6",
           "caxis": {
            "gridcolor": "white",
            "linecolor": "white",
            "ticks": ""
           }
          },
          "title": {
           "x": 0.05
          },
          "xaxis": {
           "automargin": true,
           "gridcolor": "white",
           "linecolor": "white",
           "ticks": "",
           "title": {
            "standoff": 15
           },
           "zerolinecolor": "white",
           "zerolinewidth": 2
          },
          "yaxis": {
           "automargin": true,
           "gridcolor": "white",
           "linecolor": "white",
           "ticks": "",
           "title": {
            "standoff": 15
           },
           "zerolinecolor": "white",
           "zerolinewidth": 2
          }
         }
        },
        "title": {
         "text": "ROC Curve (AUC=0.8844)"
        },
        "width": 700,
        "xaxis": {
         "anchor": "y",
         "constrain": "domain",
         "domain": [
          0,
          1
         ],
         "title": {
          "text": "Average False Positive Rate"
         }
        },
        "yaxis": {
         "anchor": "x",
         "domain": [
          0,
          1
         ],
         "scaleanchor": "x",
         "scaleratio": 1,
         "title": {
          "text": "Average True Positive Rate"
         }
        }
       }
      }
     },
     "metadata": {},
     "output_type": "display_data"
    },
    {
     "data": {
      "application/vnd.plotly.v1+json": {
       "config": {
        "plotlyServerURL": "https://plot.ly"
       },
       "data": [
        {
         "hovertemplate": "K-Fold=%{x}<br>AUC Score=%{y}<extra></extra>",
         "legendgroup": "",
         "marker": {
          "color": "#636efa",
          "symbol": "circle"
         },
         "mode": "markers",
         "name": "",
         "orientation": "v",
         "showlegend": false,
         "type": "scatter",
         "x": [
          1,
          2,
          3,
          4,
          5,
          6,
          7,
          8,
          9,
          10
         ],
         "xaxis": "x",
         "y": [
          0.8796712649954231,
          0.8910453034415199,
          0.8912480528031606,
          0.8855550113218457,
          0.8716767980631369,
          0.8824140619975559,
          0.8928206797864815,
          0.8808504566210047,
          0.8904310566595922,
          0.8783744131455399
         ],
         "yaxis": "y"
        },
        {
         "hovertemplate": "<b>OLS trendline</b><br>y = -0.000214698 * x + 0.88559<br>R<sup>2</sup>=0.008707<br><br>K-Fold=%{x}<br>AUC Score=%{y} <b>(trend)</b><extra></extra>",
         "legendgroup": "",
         "marker": {
          "color": "#636efa",
          "symbol": "circle"
         },
         "mode": "lines",
         "name": "",
         "showlegend": false,
         "type": "scatter",
         "x": [
          1,
          2,
          3,
          4,
          5,
          6,
          7,
          8,
          9,
          10
         ],
         "xaxis": "x",
         "y": [
          0.8853748491300226,
          0.88516015151969,
          0.8849454539093573,
          0.8847307562990248,
          0.8845160586886921,
          0.8843013610783594,
          0.8840866634680268,
          0.8838719658576941,
          0.8836572682473615,
          0.8834425706370288
         ],
         "yaxis": "y"
        }
       ],
       "layout": {
        "legend": {
         "tracegroupgap": 0
        },
        "template": {
         "data": {
          "bar": [
           {
            "error_x": {
             "color": "#2a3f5f"
            },
            "error_y": {
             "color": "#2a3f5f"
            },
            "marker": {
             "line": {
              "color": "#E5ECF6",
              "width": 0.5
             },
             "pattern": {
              "fillmode": "overlay",
              "size": 10,
              "solidity": 0.2
             }
            },
            "type": "bar"
           }
          ],
          "barpolar": [
           {
            "marker": {
             "line": {
              "color": "#E5ECF6",
              "width": 0.5
             },
             "pattern": {
              "fillmode": "overlay",
              "size": 10,
              "solidity": 0.2
             }
            },
            "type": "barpolar"
           }
          ],
          "carpet": [
           {
            "aaxis": {
             "endlinecolor": "#2a3f5f",
             "gridcolor": "white",
             "linecolor": "white",
             "minorgridcolor": "white",
             "startlinecolor": "#2a3f5f"
            },
            "baxis": {
             "endlinecolor": "#2a3f5f",
             "gridcolor": "white",
             "linecolor": "white",
             "minorgridcolor": "white",
             "startlinecolor": "#2a3f5f"
            },
            "type": "carpet"
           }
          ],
          "choropleth": [
           {
            "colorbar": {
             "outlinewidth": 0,
             "ticks": ""
            },
            "type": "choropleth"
           }
          ],
          "contour": [
           {
            "colorbar": {
             "outlinewidth": 0,
             "ticks": ""
            },
            "colorscale": [
             [
              0,
              "#0d0887"
             ],
             [
              0.1111111111111111,
              "#46039f"
             ],
             [
              0.2222222222222222,
              "#7201a8"
             ],
             [
              0.3333333333333333,
              "#9c179e"
             ],
             [
              0.4444444444444444,
              "#bd3786"
             ],
             [
              0.5555555555555556,
              "#d8576b"
             ],
             [
              0.6666666666666666,
              "#ed7953"
             ],
             [
              0.7777777777777778,
              "#fb9f3a"
             ],
             [
              0.8888888888888888,
              "#fdca26"
             ],
             [
              1,
              "#f0f921"
             ]
            ],
            "type": "contour"
           }
          ],
          "contourcarpet": [
           {
            "colorbar": {
             "outlinewidth": 0,
             "ticks": ""
            },
            "type": "contourcarpet"
           }
          ],
          "heatmap": [
           {
            "colorbar": {
             "outlinewidth": 0,
             "ticks": ""
            },
            "colorscale": [
             [
              0,
              "#0d0887"
             ],
             [
              0.1111111111111111,
              "#46039f"
             ],
             [
              0.2222222222222222,
              "#7201a8"
             ],
             [
              0.3333333333333333,
              "#9c179e"
             ],
             [
              0.4444444444444444,
              "#bd3786"
             ],
             [
              0.5555555555555556,
              "#d8576b"
             ],
             [
              0.6666666666666666,
              "#ed7953"
             ],
             [
              0.7777777777777778,
              "#fb9f3a"
             ],
             [
              0.8888888888888888,
              "#fdca26"
             ],
             [
              1,
              "#f0f921"
             ]
            ],
            "type": "heatmap"
           }
          ],
          "heatmapgl": [
           {
            "colorbar": {
             "outlinewidth": 0,
             "ticks": ""
            },
            "colorscale": [
             [
              0,
              "#0d0887"
             ],
             [
              0.1111111111111111,
              "#46039f"
             ],
             [
              0.2222222222222222,
              "#7201a8"
             ],
             [
              0.3333333333333333,
              "#9c179e"
             ],
             [
              0.4444444444444444,
              "#bd3786"
             ],
             [
              0.5555555555555556,
              "#d8576b"
             ],
             [
              0.6666666666666666,
              "#ed7953"
             ],
             [
              0.7777777777777778,
              "#fb9f3a"
             ],
             [
              0.8888888888888888,
              "#fdca26"
             ],
             [
              1,
              "#f0f921"
             ]
            ],
            "type": "heatmapgl"
           }
          ],
          "histogram": [
           {
            "marker": {
             "pattern": {
              "fillmode": "overlay",
              "size": 10,
              "solidity": 0.2
             }
            },
            "type": "histogram"
           }
          ],
          "histogram2d": [
           {
            "colorbar": {
             "outlinewidth": 0,
             "ticks": ""
            },
            "colorscale": [
             [
              0,
              "#0d0887"
             ],
             [
              0.1111111111111111,
              "#46039f"
             ],
             [
              0.2222222222222222,
              "#7201a8"
             ],
             [
              0.3333333333333333,
              "#9c179e"
             ],
             [
              0.4444444444444444,
              "#bd3786"
             ],
             [
              0.5555555555555556,
              "#d8576b"
             ],
             [
              0.6666666666666666,
              "#ed7953"
             ],
             [
              0.7777777777777778,
              "#fb9f3a"
             ],
             [
              0.8888888888888888,
              "#fdca26"
             ],
             [
              1,
              "#f0f921"
             ]
            ],
            "type": "histogram2d"
           }
          ],
          "histogram2dcontour": [
           {
            "colorbar": {
             "outlinewidth": 0,
             "ticks": ""
            },
            "colorscale": [
             [
              0,
              "#0d0887"
             ],
             [
              0.1111111111111111,
              "#46039f"
             ],
             [
              0.2222222222222222,
              "#7201a8"
             ],
             [
              0.3333333333333333,
              "#9c179e"
             ],
             [
              0.4444444444444444,
              "#bd3786"
             ],
             [
              0.5555555555555556,
              "#d8576b"
             ],
             [
              0.6666666666666666,
              "#ed7953"
             ],
             [
              0.7777777777777778,
              "#fb9f3a"
             ],
             [
              0.8888888888888888,
              "#fdca26"
             ],
             [
              1,
              "#f0f921"
             ]
            ],
            "type": "histogram2dcontour"
           }
          ],
          "mesh3d": [
           {
            "colorbar": {
             "outlinewidth": 0,
             "ticks": ""
            },
            "type": "mesh3d"
           }
          ],
          "parcoords": [
           {
            "line": {
             "colorbar": {
              "outlinewidth": 0,
              "ticks": ""
             }
            },
            "type": "parcoords"
           }
          ],
          "pie": [
           {
            "automargin": true,
            "type": "pie"
           }
          ],
          "scatter": [
           {
            "fillpattern": {
             "fillmode": "overlay",
             "size": 10,
             "solidity": 0.2
            },
            "type": "scatter"
           }
          ],
          "scatter3d": [
           {
            "line": {
             "colorbar": {
              "outlinewidth": 0,
              "ticks": ""
             }
            },
            "marker": {
             "colorbar": {
              "outlinewidth": 0,
              "ticks": ""
             }
            },
            "type": "scatter3d"
           }
          ],
          "scattercarpet": [
           {
            "marker": {
             "colorbar": {
              "outlinewidth": 0,
              "ticks": ""
             }
            },
            "type": "scattercarpet"
           }
          ],
          "scattergeo": [
           {
            "marker": {
             "colorbar": {
              "outlinewidth": 0,
              "ticks": ""
             }
            },
            "type": "scattergeo"
           }
          ],
          "scattergl": [
           {
            "marker": {
             "colorbar": {
              "outlinewidth": 0,
              "ticks": ""
             }
            },
            "type": "scattergl"
           }
          ],
          "scattermapbox": [
           {
            "marker": {
             "colorbar": {
              "outlinewidth": 0,
              "ticks": ""
             }
            },
            "type": "scattermapbox"
           }
          ],
          "scatterpolar": [
           {
            "marker": {
             "colorbar": {
              "outlinewidth": 0,
              "ticks": ""
             }
            },
            "type": "scatterpolar"
           }
          ],
          "scatterpolargl": [
           {
            "marker": {
             "colorbar": {
              "outlinewidth": 0,
              "ticks": ""
             }
            },
            "type": "scatterpolargl"
           }
          ],
          "scatterternary": [
           {
            "marker": {
             "colorbar": {
              "outlinewidth": 0,
              "ticks": ""
             }
            },
            "type": "scatterternary"
           }
          ],
          "surface": [
           {
            "colorbar": {
             "outlinewidth": 0,
             "ticks": ""
            },
            "colorscale": [
             [
              0,
              "#0d0887"
             ],
             [
              0.1111111111111111,
              "#46039f"
             ],
             [
              0.2222222222222222,
              "#7201a8"
             ],
             [
              0.3333333333333333,
              "#9c179e"
             ],
             [
              0.4444444444444444,
              "#bd3786"
             ],
             [
              0.5555555555555556,
              "#d8576b"
             ],
             [
              0.6666666666666666,
              "#ed7953"
             ],
             [
              0.7777777777777778,
              "#fb9f3a"
             ],
             [
              0.8888888888888888,
              "#fdca26"
             ],
             [
              1,
              "#f0f921"
             ]
            ],
            "type": "surface"
           }
          ],
          "table": [
           {
            "cells": {
             "fill": {
              "color": "#EBF0F8"
             },
             "line": {
              "color": "white"
             }
            },
            "header": {
             "fill": {
              "color": "#C8D4E3"
             },
             "line": {
              "color": "white"
             }
            },
            "type": "table"
           }
          ]
         },
         "layout": {
          "annotationdefaults": {
           "arrowcolor": "#2a3f5f",
           "arrowhead": 0,
           "arrowwidth": 1
          },
          "autotypenumbers": "strict",
          "coloraxis": {
           "colorbar": {
            "outlinewidth": 0,
            "ticks": ""
           }
          },
          "colorscale": {
           "diverging": [
            [
             0,
             "#8e0152"
            ],
            [
             0.1,
             "#c51b7d"
            ],
            [
             0.2,
             "#de77ae"
            ],
            [
             0.3,
             "#f1b6da"
            ],
            [
             0.4,
             "#fde0ef"
            ],
            [
             0.5,
             "#f7f7f7"
            ],
            [
             0.6,
             "#e6f5d0"
            ],
            [
             0.7,
             "#b8e186"
            ],
            [
             0.8,
             "#7fbc41"
            ],
            [
             0.9,
             "#4d9221"
            ],
            [
             1,
             "#276419"
            ]
           ],
           "sequential": [
            [
             0,
             "#0d0887"
            ],
            [
             0.1111111111111111,
             "#46039f"
            ],
            [
             0.2222222222222222,
             "#7201a8"
            ],
            [
             0.3333333333333333,
             "#9c179e"
            ],
            [
             0.4444444444444444,
             "#bd3786"
            ],
            [
             0.5555555555555556,
             "#d8576b"
            ],
            [
             0.6666666666666666,
             "#ed7953"
            ],
            [
             0.7777777777777778,
             "#fb9f3a"
            ],
            [
             0.8888888888888888,
             "#fdca26"
            ],
            [
             1,
             "#f0f921"
            ]
           ],
           "sequentialminus": [
            [
             0,
             "#0d0887"
            ],
            [
             0.1111111111111111,
             "#46039f"
            ],
            [
             0.2222222222222222,
             "#7201a8"
            ],
            [
             0.3333333333333333,
             "#9c179e"
            ],
            [
             0.4444444444444444,
             "#bd3786"
            ],
            [
             0.5555555555555556,
             "#d8576b"
            ],
            [
             0.6666666666666666,
             "#ed7953"
            ],
            [
             0.7777777777777778,
             "#fb9f3a"
            ],
            [
             0.8888888888888888,
             "#fdca26"
            ],
            [
             1,
             "#f0f921"
            ]
           ]
          },
          "colorway": [
           "#636efa",
           "#EF553B",
           "#00cc96",
           "#ab63fa",
           "#FFA15A",
           "#19d3f3",
           "#FF6692",
           "#B6E880",
           "#FF97FF",
           "#FECB52"
          ],
          "font": {
           "color": "#2a3f5f"
          },
          "geo": {
           "bgcolor": "white",
           "lakecolor": "white",
           "landcolor": "#E5ECF6",
           "showlakes": true,
           "showland": true,
           "subunitcolor": "white"
          },
          "hoverlabel": {
           "align": "left"
          },
          "hovermode": "closest",
          "mapbox": {
           "style": "light"
          },
          "paper_bgcolor": "white",
          "plot_bgcolor": "#E5ECF6",
          "polar": {
           "angularaxis": {
            "gridcolor": "white",
            "linecolor": "white",
            "ticks": ""
           },
           "bgcolor": "#E5ECF6",
           "radialaxis": {
            "gridcolor": "white",
            "linecolor": "white",
            "ticks": ""
           }
          },
          "scene": {
           "xaxis": {
            "backgroundcolor": "#E5ECF6",
            "gridcolor": "white",
            "gridwidth": 2,
            "linecolor": "white",
            "showbackground": true,
            "ticks": "",
            "zerolinecolor": "white"
           },
           "yaxis": {
            "backgroundcolor": "#E5ECF6",
            "gridcolor": "white",
            "gridwidth": 2,
            "linecolor": "white",
            "showbackground": true,
            "ticks": "",
            "zerolinecolor": "white"
           },
           "zaxis": {
            "backgroundcolor": "#E5ECF6",
            "gridcolor": "white",
            "gridwidth": 2,
            "linecolor": "white",
            "showbackground": true,
            "ticks": "",
            "zerolinecolor": "white"
           }
          },
          "shapedefaults": {
           "line": {
            "color": "#2a3f5f"
           }
          },
          "ternary": {
           "aaxis": {
            "gridcolor": "white",
            "linecolor": "white",
            "ticks": ""
           },
           "baxis": {
            "gridcolor": "white",
            "linecolor": "white",
            "ticks": ""
           },
           "bgcolor": "#E5ECF6",
           "caxis": {
            "gridcolor": "white",
            "linecolor": "white",
            "ticks": ""
           }
          },
          "title": {
           "x": 0.05
          },
          "xaxis": {
           "automargin": true,
           "gridcolor": "white",
           "linecolor": "white",
           "ticks": "",
           "title": {
            "standoff": 15
           },
           "zerolinecolor": "white",
           "zerolinewidth": 2
          },
          "yaxis": {
           "automargin": true,
           "gridcolor": "white",
           "linecolor": "white",
           "ticks": "",
           "title": {
            "standoff": 15
           },
           "zerolinecolor": "white",
           "zerolinewidth": 2
          }
         }
        },
        "title": {
         "text": "AUC Values for the each K-Fold"
        },
        "xaxis": {
         "anchor": "y",
         "domain": [
          0,
          1
         ],
         "title": {
          "text": "K-Fold"
         }
        },
        "yaxis": {
         "anchor": "x",
         "domain": [
          0,
          1
         ],
         "title": {
          "text": "AUC Score"
         }
        }
       }
      }
     },
     "metadata": {},
     "output_type": "display_data"
    }
   ],
   "source": [
    "y = df['Label']\n",
    "perform_kfold_cross_validation_with_lstm(features, y)"
   ]
  },
  {
   "cell_type": "markdown",
   "metadata": {
    "cell_id": "30529b2b35c24d2db36ddd2120aad4ea",
    "deepnote_cell_type": "markdown"
   },
   "source": [
    "#### Tuning Hyperparameters of FastText embedding\n",
    "Method: RandomsearchCV"
   ]
  },
  {
   "cell_type": "code",
   "execution_count": 26,
   "metadata": {
    "scrolled": true
   },
   "outputs": [
    {
     "name": "stdout",
     "output_type": "stream",
     "text": [
      "90/90 [==============================] - 0s 858us/step\n",
      "90/90 [==============================] - 0s 817us/step\n",
      "90/90 [==============================] - 0s 832us/step\n",
      "90/90 [==============================] - 0s 860us/step\n",
      "90/90 [==============================] - 0s 865us/step\n",
      "90/90 [==============================] - 0s 925us/step\n",
      "90/90 [==============================] - 0s 849us/step\n",
      "90/90 [==============================] - 0s 845us/step\n",
      "90/90 [==============================] - 0s 884us/step\n",
      "90/90 [==============================] - 0s 875us/step\n",
      "90/90 [==============================] - 0s 820us/step\n",
      "90/90 [==============================] - 0s 861us/step\n",
      "90/90 [==============================] - 0s 841us/step\n",
      "90/90 [==============================] - 2s 826us/step\n",
      "90/90 [==============================] - 0s 930us/step\n",
      "90/90 [==============================] - 0s 1ms/step\n",
      "90/90 [==============================] - 0s 877us/step\n",
      "90/90 [==============================] - 0s 864us/step\n",
      "90/90 [==============================] - 0s 862us/step\n",
      "90/90 [==============================] - 0s 865us/step\n",
      "90/90 [==============================] - 0s 877us/step\n",
      "90/90 [==============================] - 0s 857us/step\n",
      "90/90 [==============================] - 0s 863us/step\n",
      "90/90 [==============================] - 0s 918us/step\n",
      "90/90 [==============================] - 0s 844us/step\n",
      "90/90 [==============================] - 0s 886us/step\n",
      "90/90 [==============================] - 0s 1ms/step\n",
      "90/90 [==============================] - 0s 868us/step\n",
      "90/90 [==============================] - 0s 827us/step\n",
      "90/90 [==============================] - 0s 856us/step\n",
      "90/90 [==============================] - 0s 867us/step\n",
      "90/90 [==============================] - 0s 844us/step\n",
      "90/90 [==============================] - 0s 884us/step\n",
      "90/90 [==============================] - 0s 878us/step\n",
      "90/90 [==============================] - 0s 854us/step\n",
      "90/90 [==============================] - 0s 913us/step\n",
      "90/90 [==============================] - 0s 890us/step\n",
      "90/90 [==============================] - 0s 889us/step\n",
      "90/90 [==============================] - 0s 922us/step\n",
      "90/90 [==============================] - 0s 878us/step\n",
      "90/90 [==============================] - 0s 889us/step\n",
      "90/90 [==============================] - 0s 875us/step\n",
      "90/90 [==============================] - 0s 926us/step\n",
      "90/90 [==============================] - 0s 980us/step\n",
      "90/90 [==============================] - 0s 932us/step\n",
      "90/90 [==============================] - 0s 909us/step\n",
      "90/90 [==============================] - 0s 988us/step\n",
      "90/90 [==============================] - 0s 1ms/step\n",
      "90/90 [==============================] - 0s 970us/step\n",
      "90/90 [==============================] - 0s 975us/step\n",
      "90/90 [==============================] - 0s 964us/step\n",
      "90/90 [==============================] - 0s 965us/step\n",
      "90/90 [==============================] - 0s 1ms/step\n",
      "90/90 [==============================] - 0s 978us/step\n",
      "Best recall score: 0.9439421338155516\n",
      "Best parameters for recall: {'vector_size': 300, 'window': 10, 'min_count': 1, 'sg': 1}\n"
     ]
    }
   ],
   "source": [
    "np.random.seed(42)\n",
    "random.seed(42)\n",
    "tf.random.set_seed(42)\n",
    "\n",
    "vector_sizes = [100, 200, 300]\n",
    "windows = [5, 10, 15]\n",
    "min_counts = [1, 2, 3]\n",
    "sgs = [0, 1]\n",
    "\n",
    "best_score = 0\n",
    "best_params = {}\n",
    "\n",
    "# Loop over each combination of hyperparameters\n",
    "for vector_size in vector_sizes:\n",
    "    for window in windows:\n",
    "        for min_count in min_counts:\n",
    "            for sg in sgs:\n",
    "                # Train FastText model\n",
    "                model = FastText(sentences, vector_size=vector_size, window=window, min_count=min_count, sg=sg)\n",
    "\n",
    "                # Create a feature matrix\n",
    "                features = np.array([np.mean([model.wv[word] for word in sentence if word in model.wv] or [np.zeros(vector_size)], axis=0) for sentence in sentences])\n",
    "\n",
    "                # Reshape the features for LSTM\n",
    "                features = features.reshape(features.shape[0], 1, features.shape[1])\n",
    "\n",
    "                # Create LSTM model\n",
    "                lstm_model = Sequential()\n",
    "                lstm_model.add(LSTM(100, input_shape=(1, features.shape[2])))\n",
    "                lstm_model.add(Dense(1, activation='sigmoid'))\n",
    "                lstm_model.compile(loss='binary_crossentropy', optimizer='adam', metrics=['accuracy'])\n",
    "\n",
    "                # Split the data\n",
    "                X_train, X_test, y_train, y_test = train_test_split(features, y, test_size=0.2, random_state=42)\n",
    "\n",
    "                # Fit the model\n",
    "                lstm_model.fit(X_train, y_train, epochs=5, batch_size=64, verbose=0)\n",
    "\n",
    "                # Make predictions\n",
    "                y_pred = (lstm_model.predict(X_test) > 0.5).astype(\"int32\")\n",
    "\n",
    "                # Calculate recall (sensitivity)\n",
    "                score = recall_score(y_test, y_pred)\n",
    "\n",
    "                # If the score is better than the current best score, update the best score and best parameters\n",
    "                if score > best_score:\n",
    "                    best_score = score\n",
    "                    best_params = {'vector_size': vector_size, 'window': window, 'min_count': min_count, 'sg': sg}\n",
    "\n",
    "print('Best recall score:', best_score)\n",
    "print('Best parameters for recall:', best_params)"
   ]
  },
  {
   "cell_type": "code",
   "execution_count": 28,
   "metadata": {},
   "outputs": [],
   "source": [
    "# Tokenize the text (assuming \"cleaned_text\" contains your preprocessed text data)\n",
    "sentences = df[\"Cleaned Text with V lemmatization\"].apply(lambda x: x.split())\n",
    "\n",
    "# Train FastText model\n",
    "fasttext_model = FastText(sentences, vector_size=300, window=10, min_count=1, sg=1)\n",
    "\n",
    "# Create a feature matrix\n",
    "features = np.array([np.mean([fasttext_model.wv[word] for word in sentence if word in fasttext_model.wv] or [np.zeros(100)], axis=0) for sentence in sentences])"
   ]
  },
  {
   "cell_type": "code",
   "execution_count": 29,
   "metadata": {},
   "outputs": [
    {
     "name": "stdout",
     "output_type": "stream",
     "text": [
      "Epoch 1/5\n",
      "202/202 [==============================] - 2s 2ms/step - loss: 0.5085 - accuracy: 0.7494\n",
      "Epoch 2/5\n",
      "202/202 [==============================] - 0s 2ms/step - loss: 0.4450 - accuracy: 0.7952\n",
      "Epoch 3/5\n",
      "202/202 [==============================] - 0s 2ms/step - loss: 0.4325 - accuracy: 0.8057\n",
      "Epoch 4/5\n",
      "202/202 [==============================] - 0s 2ms/step - loss: 0.4263 - accuracy: 0.8079\n",
      "Epoch 5/5\n",
      "202/202 [==============================] - 0s 2ms/step - loss: 0.4229 - accuracy: 0.8083\n",
      "45/45 [==============================] - 0s 819us/step\n",
      "45/45 [==============================] - 0s 822us/step\n",
      "Epoch 1/5\n",
      "202/202 [==============================] - 2s 2ms/step - loss: 0.5122 - accuracy: 0.7480\n",
      "Epoch 2/5\n",
      "202/202 [==============================] - 0s 2ms/step - loss: 0.4476 - accuracy: 0.7950\n",
      "Epoch 3/5\n",
      "202/202 [==============================] - 0s 2ms/step - loss: 0.4345 - accuracy: 0.8013\n",
      "Epoch 4/5\n",
      "202/202 [==============================] - 0s 2ms/step - loss: 0.4298 - accuracy: 0.8013\n",
      "Epoch 5/5\n",
      "202/202 [==============================] - 0s 2ms/step - loss: 0.4244 - accuracy: 0.8088\n",
      "45/45 [==============================] - 0s 840us/step\n",
      "45/45 [==============================] - 0s 866us/step\n",
      "Epoch 1/5\n",
      "202/202 [==============================] - 2s 2ms/step - loss: 0.5103 - accuracy: 0.7484\n",
      "Epoch 2/5\n",
      "202/202 [==============================] - 0s 2ms/step - loss: 0.4455 - accuracy: 0.7964\n",
      "Epoch 3/5\n",
      "202/202 [==============================] - 0s 2ms/step - loss: 0.4332 - accuracy: 0.8010\n",
      "Epoch 4/5\n",
      "202/202 [==============================] - 0s 2ms/step - loss: 0.4273 - accuracy: 0.8052\n",
      "Epoch 5/5\n",
      "202/202 [==============================] - 0s 2ms/step - loss: 0.4238 - accuracy: 0.8089\n",
      "45/45 [==============================] - 0s 841us/step\n",
      "45/45 [==============================] - 0s 887us/step\n",
      "Epoch 1/5\n",
      "202/202 [==============================] - 2s 2ms/step - loss: 0.5095 - accuracy: 0.7516\n",
      "Epoch 2/5\n",
      "202/202 [==============================] - 0s 2ms/step - loss: 0.4479 - accuracy: 0.7918\n",
      "Epoch 3/5\n",
      "202/202 [==============================] - 0s 2ms/step - loss: 0.4330 - accuracy: 0.8006\n",
      "Epoch 4/5\n",
      "202/202 [==============================] - 0s 2ms/step - loss: 0.4256 - accuracy: 0.8083\n",
      "Epoch 5/5\n",
      "202/202 [==============================] - 0s 2ms/step - loss: 0.4217 - accuracy: 0.8087\n",
      "45/45 [==============================] - 0s 823us/step\n",
      "45/45 [==============================] - 0s 825us/step\n",
      "Epoch 1/5\n",
      "202/202 [==============================] - 1s 2ms/step - loss: 0.5095 - accuracy: 0.7502\n",
      "Epoch 2/5\n",
      "202/202 [==============================] - 0s 2ms/step - loss: 0.4435 - accuracy: 0.7959\n",
      "Epoch 3/5\n",
      "202/202 [==============================] - 0s 2ms/step - loss: 0.4306 - accuracy: 0.8035\n",
      "Epoch 4/5\n",
      "202/202 [==============================] - 0s 2ms/step - loss: 0.4242 - accuracy: 0.8070\n",
      "Epoch 5/5\n",
      "202/202 [==============================] - 0s 2ms/step - loss: 0.4211 - accuracy: 0.8094\n",
      "45/45 [==============================] - 0s 870us/step\n",
      "45/45 [==============================] - 0s 898us/step\n",
      "Epoch 1/5\n",
      "202/202 [==============================] - 1s 2ms/step - loss: 0.5134 - accuracy: 0.7450\n",
      "Epoch 2/5\n",
      "202/202 [==============================] - 0s 2ms/step - loss: 0.4473 - accuracy: 0.7956\n",
      "Epoch 3/5\n",
      "202/202 [==============================] - 0s 2ms/step - loss: 0.4324 - accuracy: 0.8041\n",
      "Epoch 4/5\n",
      "202/202 [==============================] - 0s 2ms/step - loss: 0.4270 - accuracy: 0.8052\n",
      "Epoch 5/5\n",
      "202/202 [==============================] - 0s 2ms/step - loss: 0.4230 - accuracy: 0.8083\n",
      "45/45 [==============================] - 0s 818us/step\n",
      "45/45 [==============================] - 0s 932us/step\n",
      "Epoch 1/5\n",
      "202/202 [==============================] - 5s 21ms/step - loss: 0.5084 - accuracy: 0.7494\n",
      "Epoch 2/5\n",
      "202/202 [==============================] - 0s 2ms/step - loss: 0.4470 - accuracy: 0.7958\n",
      "Epoch 3/5\n",
      "202/202 [==============================] - 0s 2ms/step - loss: 0.4350 - accuracy: 0.8014\n",
      "Epoch 4/5\n",
      "202/202 [==============================] - 0s 2ms/step - loss: 0.4275 - accuracy: 0.8062\n",
      "Epoch 5/5\n",
      "202/202 [==============================] - 0s 2ms/step - loss: 0.4220 - accuracy: 0.8090\n",
      "45/45 [==============================] - 0s 842us/step\n",
      "45/45 [==============================] - 0s 796us/step\n",
      "Epoch 1/5\n",
      "202/202 [==============================] - 1s 2ms/step - loss: 0.5193 - accuracy: 0.7429\n",
      "Epoch 2/5\n",
      "202/202 [==============================] - 0s 2ms/step - loss: 0.4495 - accuracy: 0.7912\n",
      "Epoch 3/5\n",
      "202/202 [==============================] - 0s 2ms/step - loss: 0.4344 - accuracy: 0.8008\n",
      "Epoch 4/5\n",
      "202/202 [==============================] - 0s 2ms/step - loss: 0.4270 - accuracy: 0.8051\n",
      "Epoch 5/5\n",
      "202/202 [==============================] - 0s 2ms/step - loss: 0.4219 - accuracy: 0.8085\n",
      "45/45 [==============================] - 0s 887us/step\n",
      "45/45 [==============================] - 0s 909us/step\n",
      "Epoch 1/5\n",
      "202/202 [==============================] - 1s 2ms/step - loss: 0.5167 - accuracy: 0.7423\n",
      "Epoch 2/5\n",
      "202/202 [==============================] - 0s 2ms/step - loss: 0.4481 - accuracy: 0.7949\n",
      "Epoch 3/5\n",
      "202/202 [==============================] - 0s 2ms/step - loss: 0.4376 - accuracy: 0.8045\n",
      "Epoch 4/5\n",
      "202/202 [==============================] - 0s 2ms/step - loss: 0.4290 - accuracy: 0.8062\n",
      "Epoch 5/5\n",
      "202/202 [==============================] - 0s 2ms/step - loss: 0.4246 - accuracy: 0.8085\n",
      "45/45 [==============================] - 0s 796us/step\n",
      "45/45 [==============================] - 0s 841us/step\n",
      "Epoch 1/5\n",
      "202/202 [==============================] - 1s 2ms/step - loss: 0.5123 - accuracy: 0.7481\n",
      "Epoch 2/5\n",
      "202/202 [==============================] - 0s 2ms/step - loss: 0.4448 - accuracy: 0.7972\n",
      "Epoch 3/5\n",
      "202/202 [==============================] - 0s 2ms/step - loss: 0.4305 - accuracy: 0.8044\n",
      "Epoch 4/5\n",
      "202/202 [==============================] - 0s 2ms/step - loss: 0.4242 - accuracy: 0.8074\n",
      "Epoch 5/5\n",
      "202/202 [==============================] - 0s 2ms/step - loss: 0.4228 - accuracy: 0.8074\n",
      "45/45 [==============================] - 0s 848us/step\n",
      "45/45 [==============================] - 0s 966us/step\n",
      "The average accuracy is: 80.81%\n",
      "The average classification error is: 19.20%\n",
      "The average sensitivity is: 87.72%\n",
      "The average precision is: 81.47%\n",
      "The average specificity is: 70.72%\n",
      "The average f1 score is: 84.42%\n",
      "The average AUC Score is: 88.43%\n"
     ]
    },
    {
     "data": {
      "application/vnd.plotly.v1+json": {
       "config": {
        "plotlyServerURL": "https://plot.ly"
       },
       "data": [
        {
         "fillpattern": {
          "shape": ""
         },
         "hovertemplate": "Average False Positive Rate=%{x}<br>Average True Positive Rate=%{y}<extra></extra>",
         "legendgroup": "",
         "line": {
          "color": "#636efa"
         },
         "marker": {
          "symbol": "circle"
         },
         "mode": "lines",
         "name": "",
         "orientation": "v",
         "showlegend": false,
         "stackgroup": "1",
         "type": "scatter",
         "x": [
          0,
          0,
          0,
          0.001712622395241323,
          0.001712622395241323,
          0.003425244790482646,
          0.003425244790482646,
          0.005137867185723968,
          0.005137867185723968,
          0.006850489580965292,
          0.006850489580965292,
          0.008563111976206614,
          0.008563111976206614,
          0.010275734371447937,
          0.010275734371447937,
          0.01198835676668926,
          0.01198835676668926,
          0.013700979161930584,
          0.013700979161930584,
          0.015584905959730815,
          0.015584905959730815,
          0.017297528354972138,
          0.017297528354972138,
          0.01918133594302807,
          0.01918133594302807,
          0.02123644793364291,
          0.02123644793364291,
          0.023120255521698843,
          0.023120255521698843,
          0.025175248302569384,
          0.025175248302569384,
          0.026887870697810706,
          0.026887870697810706,
          0.028771678285866638,
          0.028771678285866638,
          0.030655605083666868,
          0.030655605083666868,
          0.032539531881467104,
          0.032539531881467104,
          0.03442345867926733,
          0.03442345867926733,
          0.036307266267323265,
          0.036307266267323265,
          0.03801988866256459,
          0.03801988866256459,
          0.04024642426548264,
          0.04024642426548264,
          0.04195904666072396,
          0.04195904666072396,
          0.043842854248779886,
          0.043842854248779886,
          0.04606903222246504,
          0.04606903222246504,
          0.04778165461770636,
          0.04778165461770636,
          0.05017925620369472,
          0.05017925620369472,
          0.052405672596868465,
          0.052405672596868465,
          0.05480327418285683,
          0.05480327418285683,
          0.05668708177091276,
          0.05668708177091276,
          0.05839970416615408,
          0.05839970416615408,
          0.06028351175421001,
          0.06028351175421001,
          0.06233862374482486,
          0.06233862374482486,
          0.06405124614006619,
          0.06405124614006619,
          0.06644872851631023,
          0.06644872851631023,
          0.06833265531411047,
          0.06833265531411047,
          0.0702164629021664,
          0.0702164629021664,
          0.07192908529740773,
          0.07192908529740773,
          0.07364170769264905,
          0.07364170769264905,
          0.07569693889300819,
          0.07569693889300819,
          0.07775222530199676,
          0.07775222530199676,
          0.08032089287105543,
          0.08032089287105543,
          0.08288967964985841,
          0.08288967964985841,
          0.08460230204509972,
          0.08460230204509972,
          0.08631492444034106,
          0.08631492444034106,
          0.0887124068165851,
          0.0887124068165851,
          0.09110988919282917,
          0.09110988919282917,
          0.09333630558600291,
          0.09333630558600291,
          0.09504892798124423,
          0.09504892798124423,
          0.097446291147744,
          0.097446291147744,
          0.09967270754091774,
          0.09967270754091774,
          0.10189924314383578,
          0.10189924314383578,
          0.10412554032726523,
          0.10412554032726523,
          0.10686568671725655,
          0.10686568671725655,
          0.1092630498837563,
          0.1092630498837563,
          0.11148934706718575,
          0.11148934706718575,
          0.1138869486531741,
          0.1138869486531741,
          0.11594194143404463,
          0.11594194143404463,
          0.11851072821284762,
          0.11851072821284762,
          0.12090809137934738,
          0.12090809137934738,
          0.12279189896740332,
          0.12279189896740332,
          0.12553199014876518,
          0.12553199014876518,
          0.12775840654193893,
          0.12775840654193893,
          0.13032731253048624,
          0.13032731253048624,
          0.13375226369285081,
          0.13375226369285081,
          0.13563607128090677,
          0.13563607128090677,
          0.1378623684643362,
          0.1378623684643362,
          0.14008878485750997,
          0.14008878485750997,
          0.14231520125068367,
          0.14282875682912752,
          0.145569086429978,
          0.14574027162279263,
          0.14762419842059282,
          0.14779538361340744,
          0.15002191921632552,
          0.1501931044091401,
          0.15293319559050195,
          0.15310438078331656,
          0.15550239520716727,
          0.1556735803999819,
          0.15772881160034105,
          0.15789999679315564,
          0.16081144758570587,
          0.16098263277852043,
          0.16389390915269697,
          0.1640650943455116,
          0.1669774812310453,
          0.16731985161667454,
          0.1700600620077807,
          0.17023124720059532,
          0.17297175121981953,
          0.17348530679826338,
          0.17571196161092567,
          0.1758831468037403,
          0.17793813958461083,
          0.17810932477742544,
          0.18016455597778464,
          0.18067811155622845,
          0.18256203835402868,
          0.18324677912528708,
          0.1856445551296492,
          0.1858157403224638,
          0.18804215671563757,
          0.18838452710126674,
          0.1907821286872551,
          0.19095331388006972,
          0.19437820104131948,
          0.1947205714269487,
          0.19643331303193434,
          0.19677568341756357,
          0.19934458940611074,
          0.19968695979173998,
          0.20225598499003158,
          0.2024271701828462,
          0.20465364178464934,
          0.20499601217027857,
          0.20790740775419939,
          0.20824977813982862,
          0.21047660737086465,
          0.21064779256367927,
          0.2135594265670887,
          0.2137306117599033,
          0.21630027942306035,
          0.2164714646158749,
          0.21938320903654324,
          0.21955439422935782,
          0.22212364905465254,
          0.22229483424746715,
          0.22469255504319985,
          0.2252061106216437,
          0.2289750835210868,
          0.22914626871390142,
          0.23085889110914276,
          0.23120126149477196,
          0.2342839614812517,
          0.23445514667406628,
          0.23719570590191996,
          0.2375380762875492,
          0.2397647311002115,
          0.23993591629302607,
          0.24250517991080625,
          0.24267636510362087,
          0.24473177072235375,
          0.24507414110798298,
          0.24901329910614234,
          0.24918448429895695,
          0.25243836947825127,
          0.2527807398638805,
          0.2565487766703401,
          0.2568911470559693,
          0.25928886785170197,
          0.2599736086229604,
          0.26357080907335295,
          0.26374199426616757,
          0.2681947718438855,
          0.26853714222951475,
          0.27110675468404244,
          0.27127793987685705,
          0.2736756606725897,
          0.2738468458654043,
          0.2764159902734401,
          0.2765871754662548,
          0.2794988646782936,
          0.2796700498711082,
          0.2827529242759616,
          0.2829241094687763,
          0.28480791705683217,
          0.28549265782809063,
          0.2877191934310087,
          0.28806156381663794,
          0.29302837381177693,
          0.2931995590045916,
          0.29508366022076554,
          0.29525484541358016,
          0.2981663602072453,
          0.29850873059287447,
          0.30210498615779796,
          0.30261854173624175,
          0.30672900413696,
          0.30690018932977464,
          0.3103249020726507,
          0.3113520132295383,
          0.3152919969034224,
          0.31820214518127077,
          0.3207709319600737,
          0.32094211715288834,
          0.3229976419813655,
          0.32368238275262395,
          0.3274511172325785,
          0.3276223024253931,
          0.33156180926029993,
          0.3319041796459291,
          0.33772725564940337,
          0.3380696260350326,
          0.3426929287557289,
          0.34303529914135805,
          0.34766039000821886,
          0.3480027603938481,
          0.35194179038977774,
          0.3527977163538508,
          0.35656574436782495,
          0.3567369295606395,
          0.36067625318468727,
          0.3618745495343895,
          0.36547103472631626,
          0.3658134051119454,
          0.3704381295570879,
          0.3707804999427171,
          0.3750622115373649,
          0.3752333967301795,
          0.3788295330853587,
          0.37900071827817333,
          0.38242614627951516,
          0.3827685166651444,
          0.386365606698278,
          0.3867079770839072,
          0.39235874859072406,
          0.39287230416916785,
          0.3962977321705097,
          0.39646891736332435,
          0.4000650537185035,
          0.4004074241041327,
          0.4055451808725979,
          0.4065722920294855,
          0.4132526517203641,
          0.4134238369131787,
          0.41787619286054895,
          0.41873211882462197,
          0.42558241640224265,
          0.42660952755913034,
          0.43243472296054564,
          0.433119463731804,
          0.43860059097999676,
          0.44116836887221594,
          0.44973125122141927,
          0.44990243641423394,
          0.45452651839451097,
          0.4548688887801402,
          0.4588087996604239,
          0.4589799848532385,
          0.46189149964690357,
          0.46240505522534736,
          0.46668705165562774,
          0.46685823684844235,
          0.47302465450047104,
          0.4733670248861003,
          0.47747647840023477,
          0.477818848785864,
          0.48090131035285505,
          0.48107249554566966,
          0.4868959467633475,
          0.4870671319561621,
          0.49460315036045194,
          0.49477433555326655,
          0.4990560383554289,
          0.4992272235482435,
          0.5038511863187762,
          0.5041935567044055,
          0.5100159814505286,
          0.5113854629930454,
          0.5211469265275838,
          0.523714704419803,
          0.533647196313753,
          0.5341607518921968,
          0.5444352565425432,
          0.5470030344347623,
          0.5535106855836066,
          0.5538530559692357,
          0.5617299414486229,
          0.5620723118342521,
          0.5726917366910022,
          0.5728629218838167,
          0.5797141355157333,
          0.5800565059013625,
          0.5911887246619463,
          0.5917022802403902,
          0.5973558048175283,
          0.6006083234810058,
          0.62424492916018,
          0.6244161143529946,
          0.6360633104164684,
          0.6365768659949123,
          0.6406869707663978,
          0.6410293411520269,
          0.654217084741088,
          0.655073010705161,
          0.6658629343274328,
          0.6670612306771352,
          0.685045442329216,
          0.6852166275220306,
          0.6936095079833773,
          0.5939101072746037,
          0.6170278393529844,
          0.6201091728236474,
          0.6336367921861928,
          0.636204570078412,
          0.6469942992436224,
          0.6516162994496169,
          0.6654877749233525,
          0.6656589601161672,
          0.6855270257724482,
          0.6862117665437066,
          0.7011090970757722,
          0.6022656223310717,
          0.6245223112188599,
          0.524721343807943,
          0.5326004503100448,
          0.53465467262382,
          0.5733514029296293,
          0.5747208844721462,
          0.5932178309343801,
          0.3971411666709819,
          0.40433195365577934,
          0.30932417164367143,
          0.31412047653451997,
          0.3225085509824358,
          0.22887090177019576,
          0.22887090177019576,
          0.24068562514806952,
          0.14071347254433797,
          0.1462006203958089,
          0.1462006203958089,
          0.14671470802185932,
          0.14671470802185932,
          0.14791418767651915,
          0.14791418767651915,
          0.15134045014607106,
          0.15134045014607106,
          0.15288288744259618,
          0.15288288744259618,
          0.15922237126589195,
          0.15922237126589195,
          0.16265002908243376,
          0.16265002908243376,
          0.16556412252804628,
          0.16556412252804628,
          0.17636536964469177,
          0.17636536964469177,
          0.17910693775912925,
          0.17910693775912925,
          0.19007826834971753,
          0.09010611574598597,
          0.09661568304322449,
          0.09661568304322449,
          0.0967869874457834,
          0.0967869874457834,
          0.10004177109440267
         ],
         "xaxis": "x",
         "y": [
          0,
          0.0011730207397847676,
          0.0418829470917756,
          0.0418829470917756,
          0.1026425013972706,
          0.1026425013972706,
          0.1510890395869094,
          0.1510890395869094,
          0.17689332863034826,
          0.17689332863034826,
          0.20058754850305824,
          0.200822224917621,
          0.20821227776403636,
          0.20821227776403636,
          0.23366328502939904,
          0.23366328502939904,
          0.250087195828994,
          0.250087195828994,
          0.2629912677156507,
          0.2629912677156507,
          0.2765962149412643,
          0.2765962149412643,
          0.30252323383254753,
          0.30252323383254753,
          0.3136683633562916,
          0.3136683633562916,
          0.33220080641592703,
          0.33220080641592703,
          0.34791902806230934,
          0.34791902806230934,
          0.3639901969759149,
          0.3639901969759149,
          0.37595457269967586,
          0.37595457269967586,
          0.39343175969940736,
          0.39343175969940736,
          0.40340171887754206,
          0.40340171887754206,
          0.42076153548338086,
          0.42076153548338086,
          0.42650968798070654,
          0.42650968798070654,
          0.4415260621758365,
          0.4415260621758365,
          0.44950341223983775,
          0.44950341223983775,
          0.4577152708882144,
          0.4577152708882144,
          0.46557557625617535,
          0.46557557625617535,
          0.4768370159315096,
          0.4768370159315096,
          0.4841100102876226,
          0.4841100102876226,
          0.49349354895015485,
          0.49349354895015485,
          0.4991238340769827,
          0.4991238340769827,
          0.5107385237269559,
          0.5107385237269559,
          0.5214122581044542,
          0.5214122581044542,
          0.5304441132074297,
          0.5304441132074297,
          0.5371287493373064,
          0.5371287493373064,
          0.5419374570338436,
          0.5419374570338436,
          0.5503832740288124,
          0.5503832740288124,
          0.5585961396583132,
          0.5585961396583132,
          0.5683326091115891,
          0.5683326091115891,
          0.5745489882898196,
          0.5745489882898196,
          0.5811187017409565,
          0.5811187017409565,
          0.5883921903914568,
          0.5883921903914568,
          0.5942569630280933,
          0.5942569630280933,
          0.6015293558011146,
          0.6015293558011146,
          0.6046968766184453,
          0.6046968766184453,
          0.6102099097521291,
          0.6102099097521291,
          0.6141979937383216,
          0.6141979937383216,
          0.62018098588231,
          0.62018098588231,
          0.6235824301774041,
          0.6235824301774041,
          0.6289776518839859,
          0.6289776518839859,
          0.6364860407226325,
          0.6364860407226325,
          0.6414126276680595,
          0.6414126276680595,
          0.6452837604526537,
          0.6452837604526537,
          0.6491545273061317,
          0.6491545273061317,
          0.6531431055867115,
          0.6531431055867115,
          0.6572489404585227,
          0.6572489404585227,
          0.6614717824753278,
          0.6614717824753278,
          0.6686273175411931,
          0.6686273175411931,
          0.6747261301404718,
          0.6747261301404718,
          0.6783625562397616,
          0.6783625562397616,
          0.6823503953778038,
          0.6823503953778038,
          0.6885676723325845,
          0.6885676723325845,
          0.6931424730278382,
          0.6931424730278382,
          0.6979510174922753,
          0.6979510174922753,
          0.7017048936856382,
          0.7017048936856382,
          0.7047549900815502,
          0.7047549900815502,
          0.7081568259804145,
          0.7081568259804145,
          0.712966410378935,
          0.712966410378935,
          0.7177755169595477,
          0.7177755169595477,
          0.7222327391974571,
          0.7222327391974571,
          0.7262213477487787,
          0.7262213477487787,
          0.7290365742272862,
          0.7295059270564117,
          0.7329076556665719,
          0.7330249938738533,
          0.7378346388138569,
          0.7380693152284198,
          0.7418218974433742,
          0.7420565738579371,
          0.7487423874813431,
          0.7489770638959058,
          0.7513229632179421,
          0.7517923160470676,
          0.7537859302264557,
          0.7543726212628625,
          0.756601294264409,
          0.7568359706789719,
          0.7600024377679572,
          0.7601197759752386,
          0.7624657312406709,
          0.7625830694479521,
          0.7668062425270447,
          0.766923580734326,
          0.7688003510008202,
          0.7691523656226643,
          0.7707943521858913,
          0.7709116903931728,
          0.7746649906760981,
          0.7747823288833793,
          0.7780668779202711,
          0.778301554334834,
          0.7812342052347602,
          0.7817035580638856,
          0.7835803842737756,
          0.7838150606883383,
          0.7867475391599901,
          0.7868648773672715,
          0.7900316195751483,
          0.7902662959897111,
          0.7924949992619993,
          0.792729675676562,
          0.7954274217902553,
          0.7955447599975365,
          0.7980080580683374,
          0.7982427344829003,
          0.8015272019037417,
          0.8024659075619928,
          0.8055156123541343,
          0.8059849651832597,
          0.808564913664113,
          0.8086822518713944,
          0.8120839712853799,
          0.8122013094926613,
          0.8144297889913662,
          0.814664465405929,
          0.8173626590667884,
          0.8175973354813513,
          0.8206471824310259,
          0.8208818588455886,
          0.8226415146783845,
          0.8227588528856659,
          0.825809091439111,
          0.8259264296463924,
          0.8288589127161314,
          0.8290935891306941,
          0.831439798440451,
          0.8320264894768579,
          0.8342552184218003,
          0.8343725566290817,
          0.837187675818885,
          0.8373050140261664,
          0.8391818402360565,
          0.8394165166506191,
          0.8429357164294193,
          0.8430530546367005,
          0.8453990658455285,
          0.8456337422600912,
          0.8484489127952031,
          0.8485662510024844,
          0.8504425829179869,
          0.8505599211252683,
          0.8520848446001056,
          0.8522021828073869,
          0.8541959602188749,
          0.8543132984261563,
          0.856307187724436,
          0.8564245259317174,
          0.8588882110082015,
          0.8591228874227642,
          0.8612339773688793,
          0.8615859919907234,
          0.8640493973502286,
          0.86416673555751,
          0.8656915774162972,
          0.8663956066599855,
          0.8688589606741822,
          0.8689762988814637,
          0.8705011966836467,
          0.8707358730982093,
          0.8728468814282745,
          0.8729642196355559,
          0.8751931164106856,
          0.8753104546179671,
          0.8773047309219297,
          0.8774220691292111,
          0.879885530432112,
          0.8803548832612376,
          0.8822315462390276,
          0.8824662226535903,
          0.8852817288490767,
          0.8855164052636395,
          0.8880967361520886,
          0.8882140743593698,
          0.8900906813937641,
          0.8902080196010456,
          0.8926715671180838,
          0.8929062435326465,
          0.8949002447177177,
          0.8952522593395618,
          0.8970119151723577,
          0.897129253379639,
          0.8993581804255103,
          0.8994755186327917,
          0.9018214784963112,
          0.9019388167035927,
          0.9040497993610035,
          0.9041671375682849,
          0.9056919234836764,
          0.9059265998982391,
          0.907334185165795,
          0.907920876202202,
          0.9101496354178857,
          0.9102669736251672,
          0.9122607813073967,
          0.9124954577219595,
          0.914137775347474,
          0.9142551135547554,
          0.915897375236874,
          0.9160147134441554,
          0.9177742317175054,
          0.9178915699247867,
          0.91941654934302,
          0.9196512257575827,
          0.9214105505280912,
          0.9218799033572167,
          0.9237564847189564,
          0.9238738229262379,
          0.9251641259299082,
          0.9252814641371895,
          0.9268062757252352,
          0.9269236139325165,
          0.9284486492941455,
          0.9286833257087083,
          0.9299736287123784,
          0.9300909669196599,
          0.9313812139799347,
          0.9316158903944974,
          0.9333754343405015,
          0.9334927725477828,
          0.935017751966016,
          0.9351350901732974,
          0.937128979471577,
          0.9372463176788584,
          0.9388882785694312,
          0.9390056167767126,
          0.9405303210760539,
          0.9407649974906167,
          0.9424073151161313,
          0.9425246533234127,
          0.9441669709489272,
          0.9442843091562085,
          0.9454573298959933,
          0.9455746681032747,
          0.947216598723106,
          0.9473339369303874,
          0.9485069017267762,
          0.9486242399340576,
          0.9499145429377279,
          0.9500318811450092,
          0.9512048459413982,
          0.951439522355961,
          0.9536678642952202,
          0.9537852025025015,
          0.9550755614495677,
          0.9551928996568492,
          0.9566005408678009,
          0.9567178790750822,
          0.957890899814867,
          0.9581255762294297,
          0.9596506115910587,
          0.9598852880056215,
          0.9612927100410773,
          0.9614100482483587,
          0.9628173327243686,
          0.9629346709316501,
          0.9641076916714348,
          0.9642250298787162,
          0.9653979946751052,
          0.9655153328823867,
          0.9668054983266112,
          0.9669228365338925,
          0.9685648230971196,
          0.968682161304401,
          0.9703243110997282,
          0.9704416493070095,
          0.9718493464613569,
          0.9719666846686383,
          0.9730223672011418,
          0.9731397054084232,
          0.9745472347325832,
          0.9746645729398646,
          0.9760722141508162,
          0.9760722141508162,
          0.9773624355384368,
          0.9774797737457182,
          0.978887303069878,
          0.9790046412771595,
          0.9802948883374341,
          0.9804122265447155,
          0.98170247360499,
          0.9818198118122713,
          0.9828754943447748,
          0.9829928325520563,
          0.9844004737630079,
          0.9845178119702892,
          0.8855317793517858,
          0.8856491175590673,
          0.886587517827685,
          0.8867048560349663,
          0.8876432563035842,
          0.8877605945108654,
          0.8888163329867647,
          0.888933671194046,
          0.8898720714626639,
          0.8899894096699453,
          0.890927809938563,
          0.8910451481458445,
          0.791824495056174,
          0.7919418332634555,
          0.6926734604571747,
          0.6927907986644561,
          0.693494578461907,
          0.6936119166691883,
          0.6945501793783602,
          0.6946675175856416,
          0.4952400354776769,
          0.4953573736849583,
          0.3958542428480648,
          0.3959715810553462,
          0.39632340217434875,
          0.2963512495706172,
          0.2967030706896197,
          0.2967030706896197,
          0.19696540099760929,
          0.19696540099760929,
          0.197317166173216,
          0.197317166173216,
          0.19755164908493716,
          0.19755164908493716,
          0.1977861319966583,
          0.1977861319966583,
          0.19802061490837944,
          0.19802061490837944,
          0.1982550978201006,
          0.1982550978201006,
          0.1986068629957073,
          0.1986068629957073,
          0.19884134590742847,
          0.19884134590742847,
          0.1990758288191496,
          0.1990758288191496,
          0.19931031173087074,
          0.19931031173087074,
          0.1995447946425919,
          0.1995447946425919,
          0.0998072065666315,
          0.0998072065666315,
          0.09992448883051708,
          0.09992448883051708,
          0.10004177109440267,
          0.10004177109440267
         ],
         "yaxis": "y"
        }
       ],
       "layout": {
        "height": 700,
        "legend": {
         "tracegroupgap": 0
        },
        "shapes": [
         {
          "line": {
           "dash": "dash"
          },
          "type": "line",
          "x0": 0,
          "x1": 1,
          "y0": 0,
          "y1": 1
         }
        ],
        "template": {
         "data": {
          "bar": [
           {
            "error_x": {
             "color": "#2a3f5f"
            },
            "error_y": {
             "color": "#2a3f5f"
            },
            "marker": {
             "line": {
              "color": "#E5ECF6",
              "width": 0.5
             },
             "pattern": {
              "fillmode": "overlay",
              "size": 10,
              "solidity": 0.2
             }
            },
            "type": "bar"
           }
          ],
          "barpolar": [
           {
            "marker": {
             "line": {
              "color": "#E5ECF6",
              "width": 0.5
             },
             "pattern": {
              "fillmode": "overlay",
              "size": 10,
              "solidity": 0.2
             }
            },
            "type": "barpolar"
           }
          ],
          "carpet": [
           {
            "aaxis": {
             "endlinecolor": "#2a3f5f",
             "gridcolor": "white",
             "linecolor": "white",
             "minorgridcolor": "white",
             "startlinecolor": "#2a3f5f"
            },
            "baxis": {
             "endlinecolor": "#2a3f5f",
             "gridcolor": "white",
             "linecolor": "white",
             "minorgridcolor": "white",
             "startlinecolor": "#2a3f5f"
            },
            "type": "carpet"
           }
          ],
          "choropleth": [
           {
            "colorbar": {
             "outlinewidth": 0,
             "ticks": ""
            },
            "type": "choropleth"
           }
          ],
          "contour": [
           {
            "colorbar": {
             "outlinewidth": 0,
             "ticks": ""
            },
            "colorscale": [
             [
              0,
              "#0d0887"
             ],
             [
              0.1111111111111111,
              "#46039f"
             ],
             [
              0.2222222222222222,
              "#7201a8"
             ],
             [
              0.3333333333333333,
              "#9c179e"
             ],
             [
              0.4444444444444444,
              "#bd3786"
             ],
             [
              0.5555555555555556,
              "#d8576b"
             ],
             [
              0.6666666666666666,
              "#ed7953"
             ],
             [
              0.7777777777777778,
              "#fb9f3a"
             ],
             [
              0.8888888888888888,
              "#fdca26"
             ],
             [
              1,
              "#f0f921"
             ]
            ],
            "type": "contour"
           }
          ],
          "contourcarpet": [
           {
            "colorbar": {
             "outlinewidth": 0,
             "ticks": ""
            },
            "type": "contourcarpet"
           }
          ],
          "heatmap": [
           {
            "colorbar": {
             "outlinewidth": 0,
             "ticks": ""
            },
            "colorscale": [
             [
              0,
              "#0d0887"
             ],
             [
              0.1111111111111111,
              "#46039f"
             ],
             [
              0.2222222222222222,
              "#7201a8"
             ],
             [
              0.3333333333333333,
              "#9c179e"
             ],
             [
              0.4444444444444444,
              "#bd3786"
             ],
             [
              0.5555555555555556,
              "#d8576b"
             ],
             [
              0.6666666666666666,
              "#ed7953"
             ],
             [
              0.7777777777777778,
              "#fb9f3a"
             ],
             [
              0.8888888888888888,
              "#fdca26"
             ],
             [
              1,
              "#f0f921"
             ]
            ],
            "type": "heatmap"
           }
          ],
          "heatmapgl": [
           {
            "colorbar": {
             "outlinewidth": 0,
             "ticks": ""
            },
            "colorscale": [
             [
              0,
              "#0d0887"
             ],
             [
              0.1111111111111111,
              "#46039f"
             ],
             [
              0.2222222222222222,
              "#7201a8"
             ],
             [
              0.3333333333333333,
              "#9c179e"
             ],
             [
              0.4444444444444444,
              "#bd3786"
             ],
             [
              0.5555555555555556,
              "#d8576b"
             ],
             [
              0.6666666666666666,
              "#ed7953"
             ],
             [
              0.7777777777777778,
              "#fb9f3a"
             ],
             [
              0.8888888888888888,
              "#fdca26"
             ],
             [
              1,
              "#f0f921"
             ]
            ],
            "type": "heatmapgl"
           }
          ],
          "histogram": [
           {
            "marker": {
             "pattern": {
              "fillmode": "overlay",
              "size": 10,
              "solidity": 0.2
             }
            },
            "type": "histogram"
           }
          ],
          "histogram2d": [
           {
            "colorbar": {
             "outlinewidth": 0,
             "ticks": ""
            },
            "colorscale": [
             [
              0,
              "#0d0887"
             ],
             [
              0.1111111111111111,
              "#46039f"
             ],
             [
              0.2222222222222222,
              "#7201a8"
             ],
             [
              0.3333333333333333,
              "#9c179e"
             ],
             [
              0.4444444444444444,
              "#bd3786"
             ],
             [
              0.5555555555555556,
              "#d8576b"
             ],
             [
              0.6666666666666666,
              "#ed7953"
             ],
             [
              0.7777777777777778,
              "#fb9f3a"
             ],
             [
              0.8888888888888888,
              "#fdca26"
             ],
             [
              1,
              "#f0f921"
             ]
            ],
            "type": "histogram2d"
           }
          ],
          "histogram2dcontour": [
           {
            "colorbar": {
             "outlinewidth": 0,
             "ticks": ""
            },
            "colorscale": [
             [
              0,
              "#0d0887"
             ],
             [
              0.1111111111111111,
              "#46039f"
             ],
             [
              0.2222222222222222,
              "#7201a8"
             ],
             [
              0.3333333333333333,
              "#9c179e"
             ],
             [
              0.4444444444444444,
              "#bd3786"
             ],
             [
              0.5555555555555556,
              "#d8576b"
             ],
             [
              0.6666666666666666,
              "#ed7953"
             ],
             [
              0.7777777777777778,
              "#fb9f3a"
             ],
             [
              0.8888888888888888,
              "#fdca26"
             ],
             [
              1,
              "#f0f921"
             ]
            ],
            "type": "histogram2dcontour"
           }
          ],
          "mesh3d": [
           {
            "colorbar": {
             "outlinewidth": 0,
             "ticks": ""
            },
            "type": "mesh3d"
           }
          ],
          "parcoords": [
           {
            "line": {
             "colorbar": {
              "outlinewidth": 0,
              "ticks": ""
             }
            },
            "type": "parcoords"
           }
          ],
          "pie": [
           {
            "automargin": true,
            "type": "pie"
           }
          ],
          "scatter": [
           {
            "fillpattern": {
             "fillmode": "overlay",
             "size": 10,
             "solidity": 0.2
            },
            "type": "scatter"
           }
          ],
          "scatter3d": [
           {
            "line": {
             "colorbar": {
              "outlinewidth": 0,
              "ticks": ""
             }
            },
            "marker": {
             "colorbar": {
              "outlinewidth": 0,
              "ticks": ""
             }
            },
            "type": "scatter3d"
           }
          ],
          "scattercarpet": [
           {
            "marker": {
             "colorbar": {
              "outlinewidth": 0,
              "ticks": ""
             }
            },
            "type": "scattercarpet"
           }
          ],
          "scattergeo": [
           {
            "marker": {
             "colorbar": {
              "outlinewidth": 0,
              "ticks": ""
             }
            },
            "type": "scattergeo"
           }
          ],
          "scattergl": [
           {
            "marker": {
             "colorbar": {
              "outlinewidth": 0,
              "ticks": ""
             }
            },
            "type": "scattergl"
           }
          ],
          "scattermapbox": [
           {
            "marker": {
             "colorbar": {
              "outlinewidth": 0,
              "ticks": ""
             }
            },
            "type": "scattermapbox"
           }
          ],
          "scatterpolar": [
           {
            "marker": {
             "colorbar": {
              "outlinewidth": 0,
              "ticks": ""
             }
            },
            "type": "scatterpolar"
           }
          ],
          "scatterpolargl": [
           {
            "marker": {
             "colorbar": {
              "outlinewidth": 0,
              "ticks": ""
             }
            },
            "type": "scatterpolargl"
           }
          ],
          "scatterternary": [
           {
            "marker": {
             "colorbar": {
              "outlinewidth": 0,
              "ticks": ""
             }
            },
            "type": "scatterternary"
           }
          ],
          "surface": [
           {
            "colorbar": {
             "outlinewidth": 0,
             "ticks": ""
            },
            "colorscale": [
             [
              0,
              "#0d0887"
             ],
             [
              0.1111111111111111,
              "#46039f"
             ],
             [
              0.2222222222222222,
              "#7201a8"
             ],
             [
              0.3333333333333333,
              "#9c179e"
             ],
             [
              0.4444444444444444,
              "#bd3786"
             ],
             [
              0.5555555555555556,
              "#d8576b"
             ],
             [
              0.6666666666666666,
              "#ed7953"
             ],
             [
              0.7777777777777778,
              "#fb9f3a"
             ],
             [
              0.8888888888888888,
              "#fdca26"
             ],
             [
              1,
              "#f0f921"
             ]
            ],
            "type": "surface"
           }
          ],
          "table": [
           {
            "cells": {
             "fill": {
              "color": "#EBF0F8"
             },
             "line": {
              "color": "white"
             }
            },
            "header": {
             "fill": {
              "color": "#C8D4E3"
             },
             "line": {
              "color": "white"
             }
            },
            "type": "table"
           }
          ]
         },
         "layout": {
          "annotationdefaults": {
           "arrowcolor": "#2a3f5f",
           "arrowhead": 0,
           "arrowwidth": 1
          },
          "autotypenumbers": "strict",
          "coloraxis": {
           "colorbar": {
            "outlinewidth": 0,
            "ticks": ""
           }
          },
          "colorscale": {
           "diverging": [
            [
             0,
             "#8e0152"
            ],
            [
             0.1,
             "#c51b7d"
            ],
            [
             0.2,
             "#de77ae"
            ],
            [
             0.3,
             "#f1b6da"
            ],
            [
             0.4,
             "#fde0ef"
            ],
            [
             0.5,
             "#f7f7f7"
            ],
            [
             0.6,
             "#e6f5d0"
            ],
            [
             0.7,
             "#b8e186"
            ],
            [
             0.8,
             "#7fbc41"
            ],
            [
             0.9,
             "#4d9221"
            ],
            [
             1,
             "#276419"
            ]
           ],
           "sequential": [
            [
             0,
             "#0d0887"
            ],
            [
             0.1111111111111111,
             "#46039f"
            ],
            [
             0.2222222222222222,
             "#7201a8"
            ],
            [
             0.3333333333333333,
             "#9c179e"
            ],
            [
             0.4444444444444444,
             "#bd3786"
            ],
            [
             0.5555555555555556,
             "#d8576b"
            ],
            [
             0.6666666666666666,
             "#ed7953"
            ],
            [
             0.7777777777777778,
             "#fb9f3a"
            ],
            [
             0.8888888888888888,
             "#fdca26"
            ],
            [
             1,
             "#f0f921"
            ]
           ],
           "sequentialminus": [
            [
             0,
             "#0d0887"
            ],
            [
             0.1111111111111111,
             "#46039f"
            ],
            [
             0.2222222222222222,
             "#7201a8"
            ],
            [
             0.3333333333333333,
             "#9c179e"
            ],
            [
             0.4444444444444444,
             "#bd3786"
            ],
            [
             0.5555555555555556,
             "#d8576b"
            ],
            [
             0.6666666666666666,
             "#ed7953"
            ],
            [
             0.7777777777777778,
             "#fb9f3a"
            ],
            [
             0.8888888888888888,
             "#fdca26"
            ],
            [
             1,
             "#f0f921"
            ]
           ]
          },
          "colorway": [
           "#636efa",
           "#EF553B",
           "#00cc96",
           "#ab63fa",
           "#FFA15A",
           "#19d3f3",
           "#FF6692",
           "#B6E880",
           "#FF97FF",
           "#FECB52"
          ],
          "font": {
           "color": "#2a3f5f"
          },
          "geo": {
           "bgcolor": "white",
           "lakecolor": "white",
           "landcolor": "#E5ECF6",
           "showlakes": true,
           "showland": true,
           "subunitcolor": "white"
          },
          "hoverlabel": {
           "align": "left"
          },
          "hovermode": "closest",
          "mapbox": {
           "style": "light"
          },
          "paper_bgcolor": "white",
          "plot_bgcolor": "#E5ECF6",
          "polar": {
           "angularaxis": {
            "gridcolor": "white",
            "linecolor": "white",
            "ticks": ""
           },
           "bgcolor": "#E5ECF6",
           "radialaxis": {
            "gridcolor": "white",
            "linecolor": "white",
            "ticks": ""
           }
          },
          "scene": {
           "xaxis": {
            "backgroundcolor": "#E5ECF6",
            "gridcolor": "white",
            "gridwidth": 2,
            "linecolor": "white",
            "showbackground": true,
            "ticks": "",
            "zerolinecolor": "white"
           },
           "yaxis": {
            "backgroundcolor": "#E5ECF6",
            "gridcolor": "white",
            "gridwidth": 2,
            "linecolor": "white",
            "showbackground": true,
            "ticks": "",
            "zerolinecolor": "white"
           },
           "zaxis": {
            "backgroundcolor": "#E5ECF6",
            "gridcolor": "white",
            "gridwidth": 2,
            "linecolor": "white",
            "showbackground": true,
            "ticks": "",
            "zerolinecolor": "white"
           }
          },
          "shapedefaults": {
           "line": {
            "color": "#2a3f5f"
           }
          },
          "ternary": {
           "aaxis": {
            "gridcolor": "white",
            "linecolor": "white",
            "ticks": ""
           },
           "baxis": {
            "gridcolor": "white",
            "linecolor": "white",
            "ticks": ""
           },
           "bgcolor": "#E5ECF6",
           "caxis": {
            "gridcolor": "white",
            "linecolor": "white",
            "ticks": ""
           }
          },
          "title": {
           "x": 0.05
          },
          "xaxis": {
           "automargin": true,
           "gridcolor": "white",
           "linecolor": "white",
           "ticks": "",
           "title": {
            "standoff": 15
           },
           "zerolinecolor": "white",
           "zerolinewidth": 2
          },
          "yaxis": {
           "automargin": true,
           "gridcolor": "white",
           "linecolor": "white",
           "ticks": "",
           "title": {
            "standoff": 15
           },
           "zerolinecolor": "white",
           "zerolinewidth": 2
          }
         }
        },
        "title": {
         "text": "ROC Curve (AUC=0.8843)"
        },
        "width": 700,
        "xaxis": {
         "anchor": "y",
         "constrain": "domain",
         "domain": [
          0,
          1
         ],
         "title": {
          "text": "Average False Positive Rate"
         }
        },
        "yaxis": {
         "anchor": "x",
         "domain": [
          0,
          1
         ],
         "scaleanchor": "x",
         "scaleratio": 1,
         "title": {
          "text": "Average True Positive Rate"
         }
        }
       }
      }
     },
     "metadata": {},
     "output_type": "display_data"
    },
    {
     "data": {
      "application/vnd.plotly.v1+json": {
       "config": {
        "plotlyServerURL": "https://plot.ly"
       },
       "data": [
        {
         "hovertemplate": "K-Fold=%{x}<br>AUC Score=%{y}<extra></extra>",
         "legendgroup": "",
         "marker": {
          "color": "#636efa",
          "symbol": "circle"
         },
         "mode": "markers",
         "name": "",
         "orientation": "v",
         "showlegend": false,
         "type": "scatter",
         "x": [
          1,
          2,
          3,
          4,
          5,
          6,
          7,
          8,
          9,
          10
         ],
         "xaxis": "x",
         "y": [
          0.8800486598467937,
          0.892625142526779,
          0.8900576530858051,
          0.886835744913199,
          0.871564189753046,
          0.880703743005981,
          0.8924147051257317,
          0.8803801691427101,
          0.8913374654318605,
          0.877094186121294
         ],
         "yaxis": "y"
        },
        {
         "hovertemplate": "<b>OLS trendline</b><br>y = -0.000352212 * x + 0.886243<br>R<sup>2</sup>=0.021112<br><br>K-Fold=%{x}<br>AUC Score=%{y} <b>(trend)</b><extra></extra>",
         "legendgroup": "",
         "marker": {
          "color": "#636efa",
          "symbol": "circle"
         },
         "mode": "lines",
         "name": "",
         "showlegend": false,
         "type": "scatter",
         "x": [
          1,
          2,
          3,
          4,
          5,
          6,
          7,
          8,
          9,
          10
         ],
         "xaxis": "x",
         "y": [
          0.885891120141289,
          0.8855389080866292,
          0.8851866960319694,
          0.8848344839773097,
          0.8844822719226499,
          0.8841300598679902,
          0.8837778478133304,
          0.8834256357586706,
          0.8830734237040109,
          0.882721211649351
         ],
         "yaxis": "y"
        }
       ],
       "layout": {
        "legend": {
         "tracegroupgap": 0
        },
        "template": {
         "data": {
          "bar": [
           {
            "error_x": {
             "color": "#2a3f5f"
            },
            "error_y": {
             "color": "#2a3f5f"
            },
            "marker": {
             "line": {
              "color": "#E5ECF6",
              "width": 0.5
             },
             "pattern": {
              "fillmode": "overlay",
              "size": 10,
              "solidity": 0.2
             }
            },
            "type": "bar"
           }
          ],
          "barpolar": [
           {
            "marker": {
             "line": {
              "color": "#E5ECF6",
              "width": 0.5
             },
             "pattern": {
              "fillmode": "overlay",
              "size": 10,
              "solidity": 0.2
             }
            },
            "type": "barpolar"
           }
          ],
          "carpet": [
           {
            "aaxis": {
             "endlinecolor": "#2a3f5f",
             "gridcolor": "white",
             "linecolor": "white",
             "minorgridcolor": "white",
             "startlinecolor": "#2a3f5f"
            },
            "baxis": {
             "endlinecolor": "#2a3f5f",
             "gridcolor": "white",
             "linecolor": "white",
             "minorgridcolor": "white",
             "startlinecolor": "#2a3f5f"
            },
            "type": "carpet"
           }
          ],
          "choropleth": [
           {
            "colorbar": {
             "outlinewidth": 0,
             "ticks": ""
            },
            "type": "choropleth"
           }
          ],
          "contour": [
           {
            "colorbar": {
             "outlinewidth": 0,
             "ticks": ""
            },
            "colorscale": [
             [
              0,
              "#0d0887"
             ],
             [
              0.1111111111111111,
              "#46039f"
             ],
             [
              0.2222222222222222,
              "#7201a8"
             ],
             [
              0.3333333333333333,
              "#9c179e"
             ],
             [
              0.4444444444444444,
              "#bd3786"
             ],
             [
              0.5555555555555556,
              "#d8576b"
             ],
             [
              0.6666666666666666,
              "#ed7953"
             ],
             [
              0.7777777777777778,
              "#fb9f3a"
             ],
             [
              0.8888888888888888,
              "#fdca26"
             ],
             [
              1,
              "#f0f921"
             ]
            ],
            "type": "contour"
           }
          ],
          "contourcarpet": [
           {
            "colorbar": {
             "outlinewidth": 0,
             "ticks": ""
            },
            "type": "contourcarpet"
           }
          ],
          "heatmap": [
           {
            "colorbar": {
             "outlinewidth": 0,
             "ticks": ""
            },
            "colorscale": [
             [
              0,
              "#0d0887"
             ],
             [
              0.1111111111111111,
              "#46039f"
             ],
             [
              0.2222222222222222,
              "#7201a8"
             ],
             [
              0.3333333333333333,
              "#9c179e"
             ],
             [
              0.4444444444444444,
              "#bd3786"
             ],
             [
              0.5555555555555556,
              "#d8576b"
             ],
             [
              0.6666666666666666,
              "#ed7953"
             ],
             [
              0.7777777777777778,
              "#fb9f3a"
             ],
             [
              0.8888888888888888,
              "#fdca26"
             ],
             [
              1,
              "#f0f921"
             ]
            ],
            "type": "heatmap"
           }
          ],
          "heatmapgl": [
           {
            "colorbar": {
             "outlinewidth": 0,
             "ticks": ""
            },
            "colorscale": [
             [
              0,
              "#0d0887"
             ],
             [
              0.1111111111111111,
              "#46039f"
             ],
             [
              0.2222222222222222,
              "#7201a8"
             ],
             [
              0.3333333333333333,
              "#9c179e"
             ],
             [
              0.4444444444444444,
              "#bd3786"
             ],
             [
              0.5555555555555556,
              "#d8576b"
             ],
             [
              0.6666666666666666,
              "#ed7953"
             ],
             [
              0.7777777777777778,
              "#fb9f3a"
             ],
             [
              0.8888888888888888,
              "#fdca26"
             ],
             [
              1,
              "#f0f921"
             ]
            ],
            "type": "heatmapgl"
           }
          ],
          "histogram": [
           {
            "marker": {
             "pattern": {
              "fillmode": "overlay",
              "size": 10,
              "solidity": 0.2
             }
            },
            "type": "histogram"
           }
          ],
          "histogram2d": [
           {
            "colorbar": {
             "outlinewidth": 0,
             "ticks": ""
            },
            "colorscale": [
             [
              0,
              "#0d0887"
             ],
             [
              0.1111111111111111,
              "#46039f"
             ],
             [
              0.2222222222222222,
              "#7201a8"
             ],
             [
              0.3333333333333333,
              "#9c179e"
             ],
             [
              0.4444444444444444,
              "#bd3786"
             ],
             [
              0.5555555555555556,
              "#d8576b"
             ],
             [
              0.6666666666666666,
              "#ed7953"
             ],
             [
              0.7777777777777778,
              "#fb9f3a"
             ],
             [
              0.8888888888888888,
              "#fdca26"
             ],
             [
              1,
              "#f0f921"
             ]
            ],
            "type": "histogram2d"
           }
          ],
          "histogram2dcontour": [
           {
            "colorbar": {
             "outlinewidth": 0,
             "ticks": ""
            },
            "colorscale": [
             [
              0,
              "#0d0887"
             ],
             [
              0.1111111111111111,
              "#46039f"
             ],
             [
              0.2222222222222222,
              "#7201a8"
             ],
             [
              0.3333333333333333,
              "#9c179e"
             ],
             [
              0.4444444444444444,
              "#bd3786"
             ],
             [
              0.5555555555555556,
              "#d8576b"
             ],
             [
              0.6666666666666666,
              "#ed7953"
             ],
             [
              0.7777777777777778,
              "#fb9f3a"
             ],
             [
              0.8888888888888888,
              "#fdca26"
             ],
             [
              1,
              "#f0f921"
             ]
            ],
            "type": "histogram2dcontour"
           }
          ],
          "mesh3d": [
           {
            "colorbar": {
             "outlinewidth": 0,
             "ticks": ""
            },
            "type": "mesh3d"
           }
          ],
          "parcoords": [
           {
            "line": {
             "colorbar": {
              "outlinewidth": 0,
              "ticks": ""
             }
            },
            "type": "parcoords"
           }
          ],
          "pie": [
           {
            "automargin": true,
            "type": "pie"
           }
          ],
          "scatter": [
           {
            "fillpattern": {
             "fillmode": "overlay",
             "size": 10,
             "solidity": 0.2
            },
            "type": "scatter"
           }
          ],
          "scatter3d": [
           {
            "line": {
             "colorbar": {
              "outlinewidth": 0,
              "ticks": ""
             }
            },
            "marker": {
             "colorbar": {
              "outlinewidth": 0,
              "ticks": ""
             }
            },
            "type": "scatter3d"
           }
          ],
          "scattercarpet": [
           {
            "marker": {
             "colorbar": {
              "outlinewidth": 0,
              "ticks": ""
             }
            },
            "type": "scattercarpet"
           }
          ],
          "scattergeo": [
           {
            "marker": {
             "colorbar": {
              "outlinewidth": 0,
              "ticks": ""
             }
            },
            "type": "scattergeo"
           }
          ],
          "scattergl": [
           {
            "marker": {
             "colorbar": {
              "outlinewidth": 0,
              "ticks": ""
             }
            },
            "type": "scattergl"
           }
          ],
          "scattermapbox": [
           {
            "marker": {
             "colorbar": {
              "outlinewidth": 0,
              "ticks": ""
             }
            },
            "type": "scattermapbox"
           }
          ],
          "scatterpolar": [
           {
            "marker": {
             "colorbar": {
              "outlinewidth": 0,
              "ticks": ""
             }
            },
            "type": "scatterpolar"
           }
          ],
          "scatterpolargl": [
           {
            "marker": {
             "colorbar": {
              "outlinewidth": 0,
              "ticks": ""
             }
            },
            "type": "scatterpolargl"
           }
          ],
          "scatterternary": [
           {
            "marker": {
             "colorbar": {
              "outlinewidth": 0,
              "ticks": ""
             }
            },
            "type": "scatterternary"
           }
          ],
          "surface": [
           {
            "colorbar": {
             "outlinewidth": 0,
             "ticks": ""
            },
            "colorscale": [
             [
              0,
              "#0d0887"
             ],
             [
              0.1111111111111111,
              "#46039f"
             ],
             [
              0.2222222222222222,
              "#7201a8"
             ],
             [
              0.3333333333333333,
              "#9c179e"
             ],
             [
              0.4444444444444444,
              "#bd3786"
             ],
             [
              0.5555555555555556,
              "#d8576b"
             ],
             [
              0.6666666666666666,
              "#ed7953"
             ],
             [
              0.7777777777777778,
              "#fb9f3a"
             ],
             [
              0.8888888888888888,
              "#fdca26"
             ],
             [
              1,
              "#f0f921"
             ]
            ],
            "type": "surface"
           }
          ],
          "table": [
           {
            "cells": {
             "fill": {
              "color": "#EBF0F8"
             },
             "line": {
              "color": "white"
             }
            },
            "header": {
             "fill": {
              "color": "#C8D4E3"
             },
             "line": {
              "color": "white"
             }
            },
            "type": "table"
           }
          ]
         },
         "layout": {
          "annotationdefaults": {
           "arrowcolor": "#2a3f5f",
           "arrowhead": 0,
           "arrowwidth": 1
          },
          "autotypenumbers": "strict",
          "coloraxis": {
           "colorbar": {
            "outlinewidth": 0,
            "ticks": ""
           }
          },
          "colorscale": {
           "diverging": [
            [
             0,
             "#8e0152"
            ],
            [
             0.1,
             "#c51b7d"
            ],
            [
             0.2,
             "#de77ae"
            ],
            [
             0.3,
             "#f1b6da"
            ],
            [
             0.4,
             "#fde0ef"
            ],
            [
             0.5,
             "#f7f7f7"
            ],
            [
             0.6,
             "#e6f5d0"
            ],
            [
             0.7,
             "#b8e186"
            ],
            [
             0.8,
             "#7fbc41"
            ],
            [
             0.9,
             "#4d9221"
            ],
            [
             1,
             "#276419"
            ]
           ],
           "sequential": [
            [
             0,
             "#0d0887"
            ],
            [
             0.1111111111111111,
             "#46039f"
            ],
            [
             0.2222222222222222,
             "#7201a8"
            ],
            [
             0.3333333333333333,
             "#9c179e"
            ],
            [
             0.4444444444444444,
             "#bd3786"
            ],
            [
             0.5555555555555556,
             "#d8576b"
            ],
            [
             0.6666666666666666,
             "#ed7953"
            ],
            [
             0.7777777777777778,
             "#fb9f3a"
            ],
            [
             0.8888888888888888,
             "#fdca26"
            ],
            [
             1,
             "#f0f921"
            ]
           ],
           "sequentialminus": [
            [
             0,
             "#0d0887"
            ],
            [
             0.1111111111111111,
             "#46039f"
            ],
            [
             0.2222222222222222,
             "#7201a8"
            ],
            [
             0.3333333333333333,
             "#9c179e"
            ],
            [
             0.4444444444444444,
             "#bd3786"
            ],
            [
             0.5555555555555556,
             "#d8576b"
            ],
            [
             0.6666666666666666,
             "#ed7953"
            ],
            [
             0.7777777777777778,
             "#fb9f3a"
            ],
            [
             0.8888888888888888,
             "#fdca26"
            ],
            [
             1,
             "#f0f921"
            ]
           ]
          },
          "colorway": [
           "#636efa",
           "#EF553B",
           "#00cc96",
           "#ab63fa",
           "#FFA15A",
           "#19d3f3",
           "#FF6692",
           "#B6E880",
           "#FF97FF",
           "#FECB52"
          ],
          "font": {
           "color": "#2a3f5f"
          },
          "geo": {
           "bgcolor": "white",
           "lakecolor": "white",
           "landcolor": "#E5ECF6",
           "showlakes": true,
           "showland": true,
           "subunitcolor": "white"
          },
          "hoverlabel": {
           "align": "left"
          },
          "hovermode": "closest",
          "mapbox": {
           "style": "light"
          },
          "paper_bgcolor": "white",
          "plot_bgcolor": "#E5ECF6",
          "polar": {
           "angularaxis": {
            "gridcolor": "white",
            "linecolor": "white",
            "ticks": ""
           },
           "bgcolor": "#E5ECF6",
           "radialaxis": {
            "gridcolor": "white",
            "linecolor": "white",
            "ticks": ""
           }
          },
          "scene": {
           "xaxis": {
            "backgroundcolor": "#E5ECF6",
            "gridcolor": "white",
            "gridwidth": 2,
            "linecolor": "white",
            "showbackground": true,
            "ticks": "",
            "zerolinecolor": "white"
           },
           "yaxis": {
            "backgroundcolor": "#E5ECF6",
            "gridcolor": "white",
            "gridwidth": 2,
            "linecolor": "white",
            "showbackground": true,
            "ticks": "",
            "zerolinecolor": "white"
           },
           "zaxis": {
            "backgroundcolor": "#E5ECF6",
            "gridcolor": "white",
            "gridwidth": 2,
            "linecolor": "white",
            "showbackground": true,
            "ticks": "",
            "zerolinecolor": "white"
           }
          },
          "shapedefaults": {
           "line": {
            "color": "#2a3f5f"
           }
          },
          "ternary": {
           "aaxis": {
            "gridcolor": "white",
            "linecolor": "white",
            "ticks": ""
           },
           "baxis": {
            "gridcolor": "white",
            "linecolor": "white",
            "ticks": ""
           },
           "bgcolor": "#E5ECF6",
           "caxis": {
            "gridcolor": "white",
            "linecolor": "white",
            "ticks": ""
           }
          },
          "title": {
           "x": 0.05
          },
          "xaxis": {
           "automargin": true,
           "gridcolor": "white",
           "linecolor": "white",
           "ticks": "",
           "title": {
            "standoff": 15
           },
           "zerolinecolor": "white",
           "zerolinewidth": 2
          },
          "yaxis": {
           "automargin": true,
           "gridcolor": "white",
           "linecolor": "white",
           "ticks": "",
           "title": {
            "standoff": 15
           },
           "zerolinecolor": "white",
           "zerolinewidth": 2
          }
         }
        },
        "title": {
         "text": "AUC Values for the each K-Fold"
        },
        "xaxis": {
         "anchor": "y",
         "domain": [
          0,
          1
         ],
         "title": {
          "text": "K-Fold"
         }
        },
        "yaxis": {
         "anchor": "x",
         "domain": [
          0,
          1
         ],
         "title": {
          "text": "AUC Score"
         }
        }
       }
      }
     },
     "metadata": {},
     "output_type": "display_data"
    }
   ],
   "source": [
    "y = df['Label']\n",
    "perform_kfold_cross_validation_with_lstm(features, y)"
   ]
  },
  {
   "cell_type": "markdown",
   "metadata": {},
   "source": [
    "#### Results of Hyperparameter Tuning of Embedding\n",
    "After tuning the FastText embedding, we saw that there was an improvement in all performance metrics except for precision, that dropped by 0.01%, specificity, that dropped by 0.08%, and f1 score that dropped by \n",
    "0.17%\n",
    "<br> Sensitivity increased from 87.37% to 87.72%. As sensitivity is our main performance metrics, we will be using the tuned FastText embedding for the rest of the notebook."
   ]
  },
  {
   "cell_type": "markdown",
   "metadata": {
    "cell_id": "657a9ad4215d4080a885edae94a8475d",
    "deepnote_cell_type": "text-cell-h3",
    "formattedRanges": []
   },
   "source": [
    "### Model 5: Doc2Vec"
   ]
  },
  {
   "cell_type": "code",
   "execution_count": 19,
   "metadata": {
    "cell_id": "ebc6e5920486454c955f80a51b5d56ec",
    "deepnote_cell_type": "code",
    "deepnote_to_be_reexecuted": false,
    "execution_millis": 28630,
    "execution_start": 1698577707925,
    "source_hash": null
   },
   "outputs": [],
   "source": [
    "# Create TaggedDocument objects for Doc2Vec\n",
    "documents = [TaggedDocument(words=text.split(), tags=[str(i)]) for i, text in enumerate(df[\"Cleaned Text with V lemmatization\"])]\n",
    "\n",
    "# Train a Doc2Vec model\n",
    "doc2vec_model = Doc2Vec(documents, vector_size=300, window=10, min_count=1, epochs=10)\n",
    "\n",
    "# Create feature vectors for text data\n",
    "features = np.array([doc2vec_model.dv[i] for i in range(len(documents))])"
   ]
  },
  {
   "cell_type": "code",
   "execution_count": 20,
   "metadata": {
    "cell_id": "29c39a6bee96440faf89c0b5a3358113",
    "deepnote_cell_type": "code",
    "deepnote_to_be_reexecuted": false,
    "execution_millis": 7899,
    "execution_start": 1698577736597,
    "source_hash": null
   },
   "outputs": [
    {
     "name": "stdout",
     "output_type": "stream",
     "text": [
      "Epoch 1/5\n",
      "202/202 [==============================] - 2s 2ms/step - loss: 0.6133 - accuracy: 0.6639\n",
      "Epoch 2/5\n",
      "202/202 [==============================] - 0s 2ms/step - loss: 0.5670 - accuracy: 0.7131\n",
      "Epoch 3/5\n",
      "202/202 [==============================] - 0s 2ms/step - loss: 0.5560 - accuracy: 0.7238\n",
      "Epoch 4/5\n",
      "202/202 [==============================] - 0s 2ms/step - loss: 0.5482 - accuracy: 0.7277\n",
      "Epoch 5/5\n",
      "202/202 [==============================] - 0s 2ms/step - loss: 0.5426 - accuracy: 0.7311\n",
      "45/45 [==============================] - 0s 887us/step\n",
      "45/45 [==============================] - 0s 841us/step\n",
      "Epoch 1/5\n",
      "202/202 [==============================] - 2s 2ms/step - loss: 0.6153 - accuracy: 0.6601\n",
      "Epoch 2/5\n",
      "202/202 [==============================] - 0s 2ms/step - loss: 0.5667 - accuracy: 0.7152\n",
      "Epoch 3/5\n",
      "202/202 [==============================] - 0s 2ms/step - loss: 0.5570 - accuracy: 0.7224\n",
      "Epoch 4/5\n",
      "202/202 [==============================] - 0s 2ms/step - loss: 0.5504 - accuracy: 0.7255\n",
      "Epoch 5/5\n",
      "202/202 [==============================] - 0s 2ms/step - loss: 0.5440 - accuracy: 0.7302\n",
      "45/45 [==============================] - 0s 932us/step\n",
      "45/45 [==============================] - 0s 932us/step\n",
      "Epoch 1/5\n",
      "202/202 [==============================] - 2s 2ms/step - loss: 0.6124 - accuracy: 0.6620\n",
      "Epoch 2/5\n",
      "202/202 [==============================] - 0s 2ms/step - loss: 0.5676 - accuracy: 0.7156\n",
      "Epoch 3/5\n",
      "202/202 [==============================] - 0s 2ms/step - loss: 0.5561 - accuracy: 0.7234\n",
      "Epoch 4/5\n",
      "202/202 [==============================] - 0s 2ms/step - loss: 0.5481 - accuracy: 0.7303\n",
      "Epoch 5/5\n",
      "202/202 [==============================] - 0s 2ms/step - loss: 0.5425 - accuracy: 0.7366\n",
      "45/45 [==============================] - 0s 1ms/step\n",
      "45/45 [==============================] - 0s 887us/step\n",
      "Epoch 1/5\n",
      "202/202 [==============================] - 2s 2ms/step - loss: 0.6144 - accuracy: 0.6614\n",
      "Epoch 2/5\n",
      "202/202 [==============================] - 0s 2ms/step - loss: 0.5689 - accuracy: 0.7132\n",
      "Epoch 3/5\n",
      "202/202 [==============================] - 0s 2ms/step - loss: 0.5592 - accuracy: 0.7206\n",
      "Epoch 4/5\n",
      "202/202 [==============================] - 0s 2ms/step - loss: 0.5520 - accuracy: 0.7238\n",
      "Epoch 5/5\n",
      "202/202 [==============================] - 0s 2ms/step - loss: 0.5460 - accuracy: 0.7309\n",
      "45/45 [==============================] - 0s 841us/step\n",
      "45/45 [==============================] - 0s 932us/step\n",
      "Epoch 1/5\n",
      "202/202 [==============================] - 1s 2ms/step - loss: 0.6082 - accuracy: 0.6634\n",
      "Epoch 2/5\n",
      "202/202 [==============================] - 0s 2ms/step - loss: 0.5662 - accuracy: 0.7151\n",
      "Epoch 3/5\n",
      "202/202 [==============================] - 0s 2ms/step - loss: 0.5556 - accuracy: 0.7242\n",
      "Epoch 4/5\n",
      "202/202 [==============================] - 0s 2ms/step - loss: 0.5485 - accuracy: 0.7295\n",
      "Epoch 5/5\n",
      "202/202 [==============================] - 0s 2ms/step - loss: 0.5421 - accuracy: 0.7316\n",
      "45/45 [==============================] - 0s 856us/step\n",
      "45/45 [==============================] - 0s 870us/step\n",
      "Epoch 1/5\n",
      "202/202 [==============================] - 1s 2ms/step - loss: 0.6096 - accuracy: 0.6652\n",
      "Epoch 2/5\n",
      "202/202 [==============================] - 0s 2ms/step - loss: 0.5657 - accuracy: 0.7147\n",
      "Epoch 3/5\n",
      "202/202 [==============================] - 0s 2ms/step - loss: 0.5567 - accuracy: 0.7222\n",
      "Epoch 4/5\n",
      "202/202 [==============================] - 0s 2ms/step - loss: 0.5501 - accuracy: 0.7261\n",
      "Epoch 5/5\n",
      "202/202 [==============================] - 0s 2ms/step - loss: 0.5442 - accuracy: 0.7310\n",
      "45/45 [==============================] - 0s 861us/step\n",
      "45/45 [==============================] - 0s 927us/step\n",
      "Epoch 1/5\n",
      "202/202 [==============================] - 1s 2ms/step - loss: 0.6117 - accuracy: 0.6622\n",
      "Epoch 2/5\n",
      "202/202 [==============================] - 0s 2ms/step - loss: 0.5686 - accuracy: 0.7146\n",
      "Epoch 3/5\n",
      "202/202 [==============================] - 0s 2ms/step - loss: 0.5577 - accuracy: 0.7220\n",
      "Epoch 4/5\n",
      "202/202 [==============================] - 0s 2ms/step - loss: 0.5491 - accuracy: 0.7268\n",
      "Epoch 5/5\n",
      "202/202 [==============================] - 0s 2ms/step - loss: 0.5429 - accuracy: 0.7330\n",
      "45/45 [==============================] - 0s 829us/step\n",
      "45/45 [==============================] - 0s 843us/step\n",
      "Epoch 1/5\n",
      "202/202 [==============================] - 1s 2ms/step - loss: 0.6155 - accuracy: 0.6589\n",
      "Epoch 2/5\n",
      "202/202 [==============================] - 0s 2ms/step - loss: 0.5685 - accuracy: 0.7115\n",
      "Epoch 3/5\n",
      "202/202 [==============================] - 0s 2ms/step - loss: 0.5565 - accuracy: 0.7232\n",
      "Epoch 4/5\n",
      "202/202 [==============================] - 0s 2ms/step - loss: 0.5488 - accuracy: 0.7300\n",
      "Epoch 5/5\n",
      "202/202 [==============================] - 0s 2ms/step - loss: 0.5424 - accuracy: 0.7314\n",
      "45/45 [==============================] - 0s 832us/step\n",
      "45/45 [==============================] - 0s 842us/step\n",
      "Epoch 1/5\n",
      "202/202 [==============================] - 1s 2ms/step - loss: 0.6118 - accuracy: 0.6619\n",
      "Epoch 2/5\n",
      "202/202 [==============================] - 0s 2ms/step - loss: 0.5672 - accuracy: 0.7135\n",
      "Epoch 3/5\n",
      "202/202 [==============================] - 0s 2ms/step - loss: 0.5573 - accuracy: 0.7225\n",
      "Epoch 4/5\n",
      "202/202 [==============================] - 0s 2ms/step - loss: 0.5503 - accuracy: 0.7255\n",
      "Epoch 5/5\n",
      "202/202 [==============================] - 0s 2ms/step - loss: 0.5440 - accuracy: 0.7317\n",
      "45/45 [==============================] - 0s 877us/step\n",
      "45/45 [==============================] - 0s 831us/step\n",
      "Epoch 1/5\n",
      "202/202 [==============================] - 1s 2ms/step - loss: 0.6109 - accuracy: 0.6594\n",
      "Epoch 2/5\n",
      "202/202 [==============================] - 0s 2ms/step - loss: 0.5667 - accuracy: 0.7139\n",
      "Epoch 3/5\n",
      "202/202 [==============================] - 0s 2ms/step - loss: 0.5561 - accuracy: 0.7228\n",
      "Epoch 4/5\n",
      "202/202 [==============================] - 0s 2ms/step - loss: 0.5488 - accuracy: 0.7299\n",
      "Epoch 5/5\n",
      "202/202 [==============================] - 0s 2ms/step - loss: 0.5434 - accuracy: 0.7321\n",
      "45/45 [==============================] - 0s 943us/step\n",
      "45/45 [==============================] - 0s 905us/step\n",
      "The average accuracy is: 73.03%\n",
      "The average classification error is: 26.97%\n",
      "The average sensitivity is: 82.88%\n",
      "The average precision is: 74.58%\n",
      "The average specificity is: 58.64%\n",
      "The average f1 score is: 78.48%\n",
      "The average AUC Score is: 79.34%\n"
     ]
    },
    {
     "data": {
      "application/vnd.plotly.v1+json": {
       "config": {
        "plotlyServerURL": "https://plot.ly"
       },
       "data": [
        {
         "fillpattern": {
          "shape": ""
         },
         "hovertemplate": "Average False Positive Rate=%{x}<br>Average True Positive Rate=%{y}<extra></extra>",
         "legendgroup": "",
         "line": {
          "color": "#636efa"
         },
         "marker": {
          "symbol": "circle"
         },
         "mode": "lines",
         "name": "",
         "orientation": "v",
         "showlegend": false,
         "stackgroup": "1",
         "type": "scatter",
         "x": [
          0,
          0,
          0,
          0.001712622395241323,
          0.001712622395241323,
          0.0035964299832972548,
          0.0035964299832972548,
          0.0058226079569824035,
          0.0058226079569824035,
          0.007706415545038336,
          0.007706415545038336,
          0.009419037940279658,
          0.009419037940279658,
          0.01113166033552098,
          0.01113166033552098,
          0.013015587133321214,
          0.013015587133321214,
          0.014728209528562537,
          0.014728209528562537,
          0.016612017116618468,
          0.016612017116618468,
          0.01832463951185979,
          0.01832463951185979,
          0.020037261907101114,
          0.020037261907101114,
          0.02243503791146321,
          0.02243503791146321,
          0.024661215885148358,
          0.024661215885148358,
          0.02637383828038968,
          0.02637383828038968,
          0.028086460675631003,
          0.028086460675631003,
          0.03014157266624584,
          0.03014157266624584,
          0.031854195061487164,
          0.031854195061487164,
          0.033738002649543096,
          0.033738002649543096,
          0.03562181023759903,
          0.03562181023759903,
          0.03767680301846957,
          0.03767680301846957,
          0.0395606106065255,
          0.0395606106065255,
          0.04144471182269947,
          0.04144471182269947,
          0.04435563056764305,
          0.04435563056764305,
          0.04623973178381702,
          0.04623973178381702,
          0.04795235417905835,
          0.04795235417905835,
          0.05035013018342044,
          0.05035013018342044,
          0.05223393777147637,
          0.05223393777147637,
          0.05446023495490582,
          0.05446023495490582,
          0.0573716305388266,
          0.0573716305388266,
          0.05925543812688253,
          0.05925543812688253,
          0.0611395393430565,
          0.0611395393430565,
          0.0638799241525364,
          0.0638799241525364,
          0.06593491693340695,
          0.06593491693340695,
          0.06799032255213983,
          0.06799032255213983,
          0.07021661973556928,
          0.07021661973556928,
          0.07261463415941997,
          0.07261463415941997,
          0.07466974615003481,
          0.07466974615003481,
          0.07638236854527614,
          0.07638236854527614,
          0.07843748053589096,
          0.07843748053589096,
          0.08049306057299757,
          0.08049306057299757,
          0.08220568296823891,
          0.08220568296823891,
          0.08408949055629483,
          0.08408949055629483,
          0.08682970094740101,
          0.08682970094740101,
          0.08974133495081041,
          0.08974133495081041,
          0.09179632773168095,
          0.09179632773168095,
          0.09350895012692227,
          0.09350895012692227,
          0.0952215725221636,
          0.0952215725221636,
          0.09830420850752841,
          0.09830420850752841,
          0.10001683090276973,
          0.10001683090276973,
          0.10207182368364026,
          0.10207182368364026,
          0.10429824007681401,
          0.10429824007681401,
          0.10703826725706103,
          0.10703826725706103,
          0.1097781200189343,
          0.1097781200189343,
          0.11251838561866992,
          0.11251838561866992,
          0.11457349760928477,
          0.11457349760928477,
          0.11697127361364686,
          0.11697127361364686,
          0.1188550812017028,
          0.1188550812017028,
          0.12091007398257334,
          0.12091007398257334,
          0.1229653051829325,
          0.1229653051829325,
          0.1253629067689208,
          0.1253629067689208,
          0.12741789954979138,
          0.12741789954979138,
          0.12930182634759163,
          0.12930182634759163,
          0.13169918951409135,
          0.13169918951409135,
          0.13375430150470619,
          0.13375430150470619,
          0.13649427347632379,
          0.13649427347632379,
          0.138378200274124,
          0.138378200274124,
          0.14009082266936534,
          0.14009082266936534,
          0.14248859867372743,
          0.14248859867372743,
          0.14505802791739592,
          0.14505802791739592,
          0.14779835751824638,
          0.14779835751824638,
          0.1496821651063023,
          0.1496821651063023,
          0.15276498430252627,
          0.15276498430252627,
          0.15499116227621146,
          0.15499116227621146,
          0.15704615505708197,
          0.15704615505708197,
          0.15893008185488222,
          0.15893008185488222,
          0.16167005382649977,
          0.16167005382649977,
          0.16423884060530275,
          0.16423884060530275,
          0.16663685502915346,
          0.16663685502915346,
          0.16903457582488612,
          0.16903457582488612,
          0.17160341781231853,
          0.17160341781231853,
          0.17400101939830687,
          0.17400101939830687,
          0.1762273165817363,
          0.1762273165817363,
          0.17828242857235116,
          0.17828242857235116,
          0.18033754056296603,
          0.18033754056296603,
          0.18273490372946577,
          0.18273490372946577,
          0.18530357129852437,
          0.18530357129852437,
          0.18735856407939494,
          0.18735856407939494,
          0.19026972124382713,
          0.19026972124382713,
          0.19215352883188308,
          0.19215352883188308,
          0.19455113041787145,
          0.19455113041787145,
          0.19643523163404542,
          0.19643523163404542,
          0.19917567165215477,
          0.19917567165215477,
          0.20208706723607556,
          0.20208706723607556,
          0.2046558540148785,
          0.2046558540148785,
          0.2075673048074287,
          0.2075673048074287,
          0.20927992720267002,
          0.20927992720267002,
          0.2115062243860995,
          0.2115062243860995,
          0.21407571763088284,
          0.21407571763088284,
          0.21613094883124195,
          0.21613094883124195,
          0.21955601920335088,
          0.21955601920335088,
          0.22195350157959493,
          0.22195350157959493,
          0.22469347355121252,
          0.22469347355121252,
          0.22674905358831915,
          0.22674905358831915,
          0.22880428478867826,
          0.22880428478867826,
          0.23085927756954883,
          0.23085927756954883,
          0.2329142703504194,
          0.2329142703504194,
          0.2351408611619668,
          0.2351408611619668,
          0.23771023519700588,
          0.23771023519700588,
          0.2409638819568116,
          0.2409638819568116,
          0.24301887473768213,
          0.24301887473768213,
          0.245758965919044,
          0.245758965919044,
          0.2486701230834762,
          0.2486701230834762,
          0.2512390842806529,
          0.2512390842806529,
          0.25466439307225036,
          0.25466439307225036,
          0.2572333542694271,
          0.2572333542694271,
          0.26014486906309214,
          0.26014486906309214,
          0.2633991670802488,
          0.2633991670802488,
          0.2668242374523577,
          0.2668242374523577,
          0.2700782970500258,
          0.2700782970500258,
          0.2733319438098315,
          0.2733319438098315,
          0.27607244782905566,
          0.27607244782905566,
          0.2788126582201619,
          0.2788126582201619,
          0.2820668370275742,
          0.2820668370275742,
          0.28532060299712414,
          0.28532060299712414,
          0.289430469349121,
          0.289430469349121,
          0.2926848225749071,
          0.2926848225749071,
          0.2962817758133255,
          0.2962817758133255,
          0.2995362394563704,
          0.2995362394563704,
          0.30313289906667085,
          0.30313289906667085,
          0.3058727518285442,
          0.3058727518285442,
          0.3089549749760466,
          0.3089549749760466,
          0.31289383934608794,
          0.31289383934608794,
          0.3166606840551046,
          0.3166606840551046,
          0.3192294708339076,
          0.3192294708339076,
          0.3233392819772749,
          0.3233392819772749,
          0.32676447155912813,
          0.32676447155912813,
          0.33190144906801256,
          0.33190144906801256,
          0.3353260426011443,
          0.3353260426011443,
          0.3382369613460878,
          0.3382369613460878,
          0.3414910209437559,
          0.3414910209437559,
          0.3452594617955924,
          0.3452594617955924,
          0.3490275538106815,
          0.3490275538106815,
          0.3539963464090465,
          0.3539963464090465,
          0.35690850366757715,
          0.35690850366757715,
          0.35930598604382125,
          0.35930598604382125,
          0.36187489203236844,
          0.36187489203236844,
          0.3661563564150422,
          0.3661563564150422,
          0.370267057235249,
          0.370267057235249,
          0.3733496380119844,
          0.3733496380119844,
          0.3760897291933463,
          0.3760897291933463,
          0.37985751878783197,
          0.37985751878783197,
          0.3834534167235225,
          0.3834534167235225,
          0.38636510593556134,
          0.38636510593556134,
          0.3885918159568531,
          0.3885918159568531,
          0.39287305071252365,
          0.39287305071252365,
          0.3969833939034977,
          0.3969833939034977,
          0.4007515963358457,
          0.4007515963358457,
          0.40297789351927515,
          0.40297789351927515,
          0.4070877046626424,
          0.4070877046626424,
          0.41119823106447556,
          0.41119823106447556,
          0.4146237142744468,
          0.4146237142744468,
          0.41787765466237053,
          0.41787765466237053,
          0.42113142063192055,
          0.42113142063192055,
          0.4250708810506833,
          0.4250708810506833,
          0.4290098558379835,
          0.4290098558379835,
          0.43346179894749154,
          0.43346179894749154,
          0.43894061479439855,
          0.43894061479439855,
          0.442023489199252,
          0.442023489199252,
          0.4461337131804817,
          0.4461337131804817,
          0.45109962470629583,
          0.45109962470629583,
          0.4569224798752522,
          0.4569224798752522,
          0.460689801423246,
          0.460689801423246,
          0.4639432097635631,
          0.4639432097635631,
          0.469422740868936,
          0.469422740868936,
          0.47524392710147223,
          0.47524392710147223,
          0.47866911668332546,
          0.47866911668332546,
          0.48295070027574344,
          0.48295070027574344,
          0.48706074983859937,
          0.48706074983859937,
          0.4906580054976213,
          0.4906580054976213,
          0.4940831950794745,
          0.4940831950794745,
          0.4980226554982374,
          0.4980226554982374,
          0.5009338126626696,
          0.5009338126626696,
          0.5072700401992106,
          0.5072700401992106,
          0.510694872151831,
          0.510694872151831,
          0.5144631385852937,
          0.5144631385852937,
          0.5180595133599615,
          0.5180595133599615,
          0.5214846389407,
          0.5214846389407,
          0.5262802461580536,
          0.5262802461580536,
          0.5312471025693366,
          0.5312471025693366,
          0.5362146102379707,
          0.5362146102379707,
          0.5399823446238268,
          0.5399823446238268,
          0.543236991477731,
          0.543236991477731,
          0.548032854699544,
          0.548032854699544,
          0.5541985483006214,
          0.5541985483006214,
          0.5595080687256517,
          0.5595080687256517,
          0.5636178710765337,
          0.5636178710765337,
          0.5706390778038218,
          0.5706390778038218,
          0.5761196730044079,
          0.5761196730044079,
          0.582284302510272,
          0.582284302510272,
          0.5879357252744398,
          0.5879357252744398,
          0.5920467109302794,
          0.5920467109302794,
          0.5976978312738437,
          0.5980404400789615,
          0.6012946828874887,
          0.6021512049002833,
          0.6055765048993952,
          0.6069469401198665,
          0.6131114504159865,
          0.6132827548185453,
          0.6196199272405554,
          0.6201338404482322,
          0.6240731088636503,
          0.6252722396815628,
          0.6292113248861219,
          0.6302391513014752,
          0.6355497910303481,
          0.6358923998354661,
          0.64188596335826,
          0.6422285721633778,
          0.6458245253076978,
          0.6466810473204924,
          0.6502769452561831,
          0.6509621628664187,
          0.6555865848909577,
          0.6561004980986345,
          0.6617516736508282,
          0.6638073264815351,
          0.6708280011612165,
          0.6711706099663344,
          0.6766511411658056,
          0.6771650543734824,
          0.6828159362975581,
          0.6836724583103526,
          0.6882965314981442,
          0.6888104447058209,
          0.6934346371033566,
          0.6936059415059156,
          0.69857332117232,
          0.6992585387825556,
          0.7054245724278949,
          0.7066237032458074,
          0.7103910800024307,
          0.7114189064177842,
          0.7177557124180758,
          0.7179270168206348,
          0.7223786023009099,
          0.7227212111060276,
          0.7280301354823365,
          0.7290579618976899,
          0.7341958842920433,
          0.7345384930971612,
          0.7396762410731407,
          0.7398475454756996,
          0.7444716274559768,
          0.7449855406636535,
          0.752349577030577,
          0.7525208814331359,
          0.7576577949409056,
          0.7578290993434645,
          0.7657071769202944,
          0.766735003335648,
          0.7747840188933187,
          0.7756405409061135,
          0.7797509393057167,
          0.7799222437082757,
          0.7850599364756259,
          0.7871155893063329,
          0.7946516453342813,
          0.7965359937624292,
          0.8042438774480578,
          0.704785638052003,
          0.7102650499476314,
          0.7106076587527492,
          0.714717882733979,
          0.7190004927979516,
          0.7231100655218304,
          0.723966587534625,
          0.7268786895845262,
          0.7270499939870851,
          0.7332160916335393,
          0.7352717444642463,
          0.7426381474410851,
          0.7431520606487617,
          0.7498314930391422,
          0.7500027974417011,
          0.7577093409889691,
          0.758051949794087,
          0.7630193558379477,
          0.7638758778507422,
          0.7741495216554222,
          0.5746495111649647,
          0.5768759275581383,
          0.577561145168374,
          0.5811581712003927,
          0.5818433888106284,
          0.5852680375523895,
          0.5856106463575074,
          0.596400494732462,
          0.5981135387580511,
          0.6042794707786171,
          0.6053072971939706,
          0.6094166314983607,
          0.6097592403034785,
          0.615412369627725,
          0.6164401960430785,
          0.6234613475617373,
          0.5234195764673346,
          0.5259881248266489,
          0.5259881248266489,
          0.4295417748289597,
          0.4295417748289597,
          0.4333094364212156,
          0.4333094364212156,
          0.4377629116724286,
          0.4377629116724286,
          0.4425571059578215,
          0.4425571059578215,
          0.4464959703278628,
          0.4464959703278628,
          0.4494080083766491,
          0.4494080083766491,
          0.4542046068956157,
          0.4542046068956157,
          0.4572871788798657,
          0.4572871788798657,
          0.46328347788800983,
          0.46328347788800983,
          0.46722375519001197,
          0.46722375519001197,
          0.4721927774153801,
          0.3722206248116485,
          0.37598681826331426,
          0.37598681826331426,
          0.3816377177723609,
          0.3816377177723609,
          0.3862598371880996,
          0.1863155319806365,
          0.1880276223282712,
          0.1880276223282712,
          0.1921364245850547,
          0.1921364245850547,
          0.19333543619322277,
          0.19333543619322277,
          0.1957329825705817,
          0.1957329825705817,
          0.2000139236981342
         ],
         "xaxis": "x",
         "y": [
          0,
          0.0011730207397847676,
          0.04563140597192133,
          0.04563140597192133,
          0.06475364071151668,
          0.06475364071151668,
          0.08879893987847398,
          0.08879893987847398,
          0.10322665505582176,
          0.10322665505582176,
          0.12316993346440425,
          0.12316993346440425,
          0.13454958804900333,
          0.13454958804900333,
          0.1419401351898062,
          0.1419401351898062,
          0.15519420505384085,
          0.15519420505384085,
          0.159534660396819,
          0.159534660396819,
          0.17079606060523708,
          0.17079606060523708,
          0.17806772151602573,
          0.17806772151602573,
          0.1869820962541867,
          0.1869820962541867,
          0.19695288806930125,
          0.19695288806930125,
          0.20516429917051163,
          0.20516429917051163,
          0.21372656847460375,
          0.21372656847460375,
          0.22229030878346612,
          0.22229030878346612,
          0.22909327898970405,
          0.22909327898970405,
          0.235896971862,
          0.235896971862,
          0.24528193746429883,
          0.24528193746429883,
          0.25396274086155085,
          0.25396274086155085,
          0.2585373948011839,
          0.2585373948011839,
          0.26440102021503264,
          0.26440102021503264,
          0.2712035658645409,
          0.2712035658645409,
          0.2792971279876028,
          0.2792971279876028,
          0.2858646358895193,
          0.2858646358895193,
          0.2951316827760119,
          0.2951316827760119,
          0.2995891709366383,
          0.2995891709366383,
          0.30686191124842654,
          0.30686191124842654,
          0.3184726097586013,
          0.3184726097586013,
          0.3239856896395064,
          0.3239856896395064,
          0.3319629278167161,
          0.3319629278167161,
          0.3340743744977729,
          0.3340743744977729,
          0.34111304917426477,
          0.34111304917426477,
          0.3494414720185565,
          0.3494414720185565,
          0.3587078146313403,
          0.3587078146313403,
          0.36774043454950767,
          0.36774043454950767,
          0.37348917215344546,
          0.37348917215344546,
          0.37806447174117375,
          0.37806447174117375,
          0.38439833856452366,
          0.38439833856452366,
          0.39319733579647353,
          0.39319733579647353,
          0.39742017321519135,
          0.39742017321519135,
          0.40281572138597344,
          0.40281572138597344,
          0.4063347276619319,
          0.4063347276619319,
          0.4114963615511254,
          0.4114963615511254,
          0.4157196465170096,
          0.4157196465170096,
          0.420411836764853,
          0.420411836764853,
          0.42451714247344774,
          0.42451714247344774,
          0.4315547634215942,
          0.4315547634215942,
          0.43671645325418357,
          0.43671645325418357,
          0.44528041273854174,
          0.44528041273854174,
          0.44879898066350854,
          0.44879898066350854,
          0.4531395735659326,
          0.4531395735659326,
          0.4575975349463794,
          0.4575975349463794,
          0.4640489380779396,
          0.4640489380779396,
          0.4694451832421254,
          0.4694451832421254,
          0.47425487952743745,
          0.47425487952743745,
          0.4794160401968104,
          0.4794160401968104,
          0.48469396776111456,
          0.48469396776111456,
          0.49208488083303376,
          0.49208488083303376,
          0.49677723891106446,
          0.49677723891106446,
          0.5012353937943529,
          0.5012353937943529,
          0.5048715145040097,
          0.5048715145040097,
          0.5101500903986268,
          0.5101500903986268,
          0.5141385613905023,
          0.5141385613905023,
          0.5198864598435032,
          0.5198864598435032,
          0.5232884076291593,
          0.5232884076291593,
          0.5270417335847389,
          0.5270417335847389,
          0.5347835910736772,
          0.5347835910736772,
          0.538888208985043,
          0.538888208985043,
          0.5432285267685754,
          0.5432285267685754,
          0.5478036071808078,
          0.5478036071808078,
          0.5516744694445977,
          0.5516744694445977,
          0.5566013407050912,
          0.5566013407050912,
          0.561528766801455,
          0.561528766801455,
          0.5684492173725078,
          0.5684492173725078,
          0.5710297674364525,
          0.5710297674364525,
          0.5738451360724933,
          0.5738451360724933,
          0.5781854538560256,
          0.5781854538560256,
          0.580062447896103,
          0.580062447896103,
          0.5844026794654978,
          0.5844026794654978,
          0.588390574546936,
          0.588390574546936,
          0.5909709870514351,
          0.5909709870514351,
          0.5963666563051833,
          0.5963666563051833,
          0.6001201454928631,
          0.6001201454928631,
          0.6046950580749081,
          0.6046950580749081,
          0.6090353153169573,
          0.6090353153169573,
          0.6131411199180271,
          0.6131411199180271,
          0.61830252543555,
          0.61830252543555,
          0.6220562594713797,
          0.6220562594713797,
          0.6254582888730859,
          0.6254582888730859,
          0.6281563147037579,
          0.6281563147037579,
          0.6306195008877673,
          0.6306195008877673,
          0.6351948261481497,
          0.6351948261481497,
          0.6385968252791143,
          0.6385968252791143,
          0.6424667713740047,
          0.6424667713740047,
          0.6457505555957045,
          0.6457505555957045,
          0.6480966530186699,
          0.6480966530186699,
          0.6529061255303987,
          0.6529061255303987,
          0.6565423113796259,
          0.6565423113796259,
          0.6604136936104575,
          0.6604136936104575,
          0.6652232569344111,
          0.6652232569344111,
          0.668624817714384,
          0.668624817714384,
          0.6709709967533992,
          0.6709709967533992,
          0.6748417122615687,
          0.6748417122615687,
          0.6780086222996331,
          0.6780086222996331,
          0.6809412429288181,
          0.6809412429288181,
          0.6846949512919934,
          0.6846949512919934,
          0.6872755270285926,
          0.6872755270285926,
          0.690794472763068,
          0.690794472763068,
          0.6936095360094756,
          0.6936095360094756,
          0.6959557709918867,
          0.6959557709918867,
          0.6986535519744087,
          0.6986535519744087,
          0.7028758483515181,
          0.7028758483515181,
          0.7052218036169502,
          0.7052218036169502,
          0.7085063059066206,
          0.7085063059066206,
          0.710969935039709,
          0.710969935039709,
          0.7142544024605504,
          0.7142544024605504,
          0.7174209300910189,
          0.7174209300910189,
          0.7218785650072658,
          0.7218785650072658,
          0.7243419190214625,
          0.7243419190214625,
          0.7275089060774895,
          0.7275089060774895,
          0.7302069319081617,
          0.7302069319081617,
          0.7333742546245633,
          0.7333742546245633,
          0.736071923720294,
          0.736071923720294,
          0.738300626992582,
          0.738300626992582,
          0.7427579775937626,
          0.7427579775937626,
          0.7451036623383905,
          0.7451036623383905,
          0.7489749326824304,
          0.7489749326824304,
          0.7521422040535238,
          0.7521422040535238,
          0.7553096689274588,
          0.7553096689274588,
          0.7571864135212987,
          0.7571864135212987,
          0.7604706920373859,
          0.7604706920373859,
          0.7631691094718286,
          0.7631691094718286,
          0.7657491395687317,
          0.7657491395687317,
          0.7677433599292989,
          0.7677433599292989,
          0.7702067955595455,
          0.7702067955595455,
          0.7727876510131237,
          0.7727876510131237,
          0.7745470014562862,
          0.7745470014562862,
          0.7765408091385159,
          0.7765408091385159,
          0.7795910174212194,
          0.7795910174212194,
          0.7825234188749086,
          0.7825234188749086,
          0.7852210879706388,
          0.7852210879706388,
          0.7882712403099466,
          0.7882712403099466,
          0.7901480105764407,
          0.7901480105764407,
          0.7921420677049078,
          0.7921420677049078,
          0.7944878900089815,
          0.7944878900089815,
          0.7969514631986739,
          0.7969514631986739,
          0.7992974184641062,
          0.7992974184641062,
          0.801056936737456,
          0.8011742749447375,
          0.8034029479462841,
          0.8034029479462841,
          0.8058662157463434,
          0.8058662157463434,
          0.8083295138171445,
          0.8083295138171445,
          0.8113787848563814,
          0.8113787848563814,
          0.8146630633724685,
          0.8146630633724685,
          0.8168919042042028,
          0.8168919042042028,
          0.8194727037143852,
          0.8194727037143852,
          0.8211148837804536,
          0.8211148837804536,
          0.8233437246121876,
          0.8233437246121876,
          0.825807074028297,
          0.825807074028297,
          0.8282705399292851,
          0.8282705399292851,
          0.8302646786738023,
          0.8302646786738023,
          0.832962536674287,
          0.832962536674287,
          0.8356605368323049,
          0.8356605368323049,
          0.8377720697274991,
          0.8377720697274991,
          0.839648839993993,
          0.839648839993993,
          0.8417603426184457,
          0.8417603426184457,
          0.8434025483571687,
          0.8434025483571687,
          0.8458658721006237,
          0.8458658721006237,
          0.8478600924611905,
          0.8478600924611905,
          0.8499715134695932,
          0.8499715134695932,
          0.851848395622879,
          0.851848395622879,
          0.8546637339881783,
          0.8546637339881783,
          0.856775043109789,
          0.856775043109789,
          0.8584173047919078,
          0.8584173047919078,
          0.8608807660948088,
          0.8608807660948088,
          0.8624056895696461,
          0.8624056895696461,
          0.8645172481374944,
          0.8645172481374944,
          0.8669803527054537,
          0.8669803527054537,
          0.8690917177704606,
          0.8690917177704606,
          0.8709685999237462,
          0.8709685999237462,
          0.8731972215799843,
          0.8731972215799843,
          0.8749567655259884,
          0.8749567655259884,
          0.8765989455920572,
          0.8765989455920572,
          0.8785929467771285,
          0.8785929467771285,
          0.8809390698727481,
          0.8809390698727481,
          0.8829331783465234,
          0.8829331783465234,
          0.8849274546504864,
          0.8849274546504864,
          0.887976919192565,
          0.887976919192565,
          0.8896190433152379,
          0.8896190433152379,
          0.8916133755625965,
          0.8916133755625965,
          0.893255693188111,
          0.893255693188111,
          0.8947806726063441,
          0.8947806726063441,
          0.8963057079679727,
          0.8963057079679727,
          0.898065307857373,
          0.898065307857373,
          0.9001766169789838,
          0.9001766169789838,
          0.9019361911957298,
          0.9019361911957298,
          0.9035783712617985,
          0.9035783712617985,
          0.9059244127413679,
          0.9059244127413679,
          0.9078013251653952,
          0.9078013251653952,
          0.909208884760297,
          0.909208884760297,
          0.910968428706301,
          0.910968428706301,
          0.9136662353614773,
          0.9139007998892485,
          0.9157776260991385,
          0.9160121906269096,
          0.9173025495739756,
          0.9174198318378611,
          0.9189448112560945,
          0.9190620935199801,
          0.9205870729382132,
          0.9208216374659842,
          0.9222293346203319,
          0.9223466168842174,
          0.9239888785663359,
          0.9241061608302215,
          0.9251618993061208,
          0.925396463833892,
          0.9268041050448437,
          0.9269213873087293,
          0.9286810990849209,
          0.9287983813488065,
          0.9302061344465499,
          0.9304406989743211,
          0.9316137197141057,
          0.9318482842418768,
          0.9337253901687458,
          0.9338426724326315,
          0.935015749115812,
          0.935250313643583,
          0.9364233903267636,
          0.9365406725906491,
          0.9380655960654865,
          0.938182878329372,
          0.9394732932198341,
          0.9395905754837196,
          0.9408809344307857,
          0.9409982166946713,
          0.9422886315851334,
          0.942405913849019,
          0.9441653202355773,
          0.9442826024994628,
          0.945338340975362,
          0.9454556232392475,
          0.9470979408647621,
          0.9472152231286476,
          0.9485055004596639,
          0.9486227827235494,
          0.9497957218472841,
          0.9500302863750553,
          0.951437927586007,
          0.9515552098498926,
          0.9530801892681259,
          0.9531974715320114,
          0.9547222317747486,
          0.9548395140386341,
          0.9563644375134714,
          0.9567162843051282,
          0.958358545987247,
          0.9584758282511325,
          0.95988344378943,
          0.9600007260533155,
          0.9610564645292149,
          0.9611737467931004,
          0.9624638865646706,
          0.9625811688285563,
          0.9638715277756225,
          0.9639888100395081,
          0.965513789457741,
          0.9656310717216267,
          0.96703882481937,
          0.9671561070832555,
          0.8685915397470799,
          0.8687088220109656,
          0.86999906907124,
          0.8701163513351255,
          0.8710547516037435,
          0.8711720338676291,
          0.8723450546074137,
          0.8724623368712993,
          0.8737525839315741,
          0.8738698661954596,
          0.8752775074064113,
          0.8753947896702969,
          0.8765678663534774,
          0.8768024308812485,
          0.8780926522688689,
          0.8782099345327545,
          0.8792656170652579,
          0.8793828993291434,
          0.8806732023328137,
          0.8807904845966994,
          0.6814803406960162,
          0.6817149052237872,
          0.6825359672851237,
          0.6826532495490092,
          0.6838262143453983,
          0.6839434966092838,
          0.6847645586706201,
          0.6848818409345058,
          0.685702958939238,
          0.6859375234670092,
          0.68664130326446,
          0.6867585855283457,
          0.6874623653257965,
          0.687579647589682,
          0.6885181038016956,
          0.6886353860655812,
          0.5892973947686294,
          0.5892973947686294,
          0.5901185127733616,
          0.490076741678959,
          0.49089791562708696,
          0.49089791562708696,
          0.4914844131606522,
          0.4914844131606522,
          0.4920709106942175,
          0.4920709106942175,
          0.4927747464350642,
          0.4927747464350642,
          0.49347858217591084,
          0.49347858217591084,
          0.4940650797094761,
          0.4940650797094761,
          0.4947687778908769,
          0.4947687778908769,
          0.4954726136317235,
          0.4954726136317235,
          0.4960591111652888,
          0.4960591111652888,
          0.4967628093466896,
          0.4967628093466896,
          0.39725995362868777,
          0.39725995362868777,
          0.39772925051441754,
          0.39772925051441754,
          0.39866784428587687,
          0.39866784428587687,
          0.19907544181346637,
          0.19907544181346637,
          0.19931006228463333,
          0.19931006228463333,
          0.19954468275580028,
          0.19954468275580028,
          0.19977930322696724,
          0.19977930322696724,
          0.2000139236981342,
          0.2000139236981342
         ],
         "yaxis": "y"
        }
       ],
       "layout": {
        "height": 700,
        "legend": {
         "tracegroupgap": 0
        },
        "shapes": [
         {
          "line": {
           "dash": "dash"
          },
          "type": "line",
          "x0": 0,
          "x1": 1,
          "y0": 0,
          "y1": 1
         }
        ],
        "template": {
         "data": {
          "bar": [
           {
            "error_x": {
             "color": "#2a3f5f"
            },
            "error_y": {
             "color": "#2a3f5f"
            },
            "marker": {
             "line": {
              "color": "#E5ECF6",
              "width": 0.5
             },
             "pattern": {
              "fillmode": "overlay",
              "size": 10,
              "solidity": 0.2
             }
            },
            "type": "bar"
           }
          ],
          "barpolar": [
           {
            "marker": {
             "line": {
              "color": "#E5ECF6",
              "width": 0.5
             },
             "pattern": {
              "fillmode": "overlay",
              "size": 10,
              "solidity": 0.2
             }
            },
            "type": "barpolar"
           }
          ],
          "carpet": [
           {
            "aaxis": {
             "endlinecolor": "#2a3f5f",
             "gridcolor": "white",
             "linecolor": "white",
             "minorgridcolor": "white",
             "startlinecolor": "#2a3f5f"
            },
            "baxis": {
             "endlinecolor": "#2a3f5f",
             "gridcolor": "white",
             "linecolor": "white",
             "minorgridcolor": "white",
             "startlinecolor": "#2a3f5f"
            },
            "type": "carpet"
           }
          ],
          "choropleth": [
           {
            "colorbar": {
             "outlinewidth": 0,
             "ticks": ""
            },
            "type": "choropleth"
           }
          ],
          "contour": [
           {
            "colorbar": {
             "outlinewidth": 0,
             "ticks": ""
            },
            "colorscale": [
             [
              0,
              "#0d0887"
             ],
             [
              0.1111111111111111,
              "#46039f"
             ],
             [
              0.2222222222222222,
              "#7201a8"
             ],
             [
              0.3333333333333333,
              "#9c179e"
             ],
             [
              0.4444444444444444,
              "#bd3786"
             ],
             [
              0.5555555555555556,
              "#d8576b"
             ],
             [
              0.6666666666666666,
              "#ed7953"
             ],
             [
              0.7777777777777778,
              "#fb9f3a"
             ],
             [
              0.8888888888888888,
              "#fdca26"
             ],
             [
              1,
              "#f0f921"
             ]
            ],
            "type": "contour"
           }
          ],
          "contourcarpet": [
           {
            "colorbar": {
             "outlinewidth": 0,
             "ticks": ""
            },
            "type": "contourcarpet"
           }
          ],
          "heatmap": [
           {
            "colorbar": {
             "outlinewidth": 0,
             "ticks": ""
            },
            "colorscale": [
             [
              0,
              "#0d0887"
             ],
             [
              0.1111111111111111,
              "#46039f"
             ],
             [
              0.2222222222222222,
              "#7201a8"
             ],
             [
              0.3333333333333333,
              "#9c179e"
             ],
             [
              0.4444444444444444,
              "#bd3786"
             ],
             [
              0.5555555555555556,
              "#d8576b"
             ],
             [
              0.6666666666666666,
              "#ed7953"
             ],
             [
              0.7777777777777778,
              "#fb9f3a"
             ],
             [
              0.8888888888888888,
              "#fdca26"
             ],
             [
              1,
              "#f0f921"
             ]
            ],
            "type": "heatmap"
           }
          ],
          "heatmapgl": [
           {
            "colorbar": {
             "outlinewidth": 0,
             "ticks": ""
            },
            "colorscale": [
             [
              0,
              "#0d0887"
             ],
             [
              0.1111111111111111,
              "#46039f"
             ],
             [
              0.2222222222222222,
              "#7201a8"
             ],
             [
              0.3333333333333333,
              "#9c179e"
             ],
             [
              0.4444444444444444,
              "#bd3786"
             ],
             [
              0.5555555555555556,
              "#d8576b"
             ],
             [
              0.6666666666666666,
              "#ed7953"
             ],
             [
              0.7777777777777778,
              "#fb9f3a"
             ],
             [
              0.8888888888888888,
              "#fdca26"
             ],
             [
              1,
              "#f0f921"
             ]
            ],
            "type": "heatmapgl"
           }
          ],
          "histogram": [
           {
            "marker": {
             "pattern": {
              "fillmode": "overlay",
              "size": 10,
              "solidity": 0.2
             }
            },
            "type": "histogram"
           }
          ],
          "histogram2d": [
           {
            "colorbar": {
             "outlinewidth": 0,
             "ticks": ""
            },
            "colorscale": [
             [
              0,
              "#0d0887"
             ],
             [
              0.1111111111111111,
              "#46039f"
             ],
             [
              0.2222222222222222,
              "#7201a8"
             ],
             [
              0.3333333333333333,
              "#9c179e"
             ],
             [
              0.4444444444444444,
              "#bd3786"
             ],
             [
              0.5555555555555556,
              "#d8576b"
             ],
             [
              0.6666666666666666,
              "#ed7953"
             ],
             [
              0.7777777777777778,
              "#fb9f3a"
             ],
             [
              0.8888888888888888,
              "#fdca26"
             ],
             [
              1,
              "#f0f921"
             ]
            ],
            "type": "histogram2d"
           }
          ],
          "histogram2dcontour": [
           {
            "colorbar": {
             "outlinewidth": 0,
             "ticks": ""
            },
            "colorscale": [
             [
              0,
              "#0d0887"
             ],
             [
              0.1111111111111111,
              "#46039f"
             ],
             [
              0.2222222222222222,
              "#7201a8"
             ],
             [
              0.3333333333333333,
              "#9c179e"
             ],
             [
              0.4444444444444444,
              "#bd3786"
             ],
             [
              0.5555555555555556,
              "#d8576b"
             ],
             [
              0.6666666666666666,
              "#ed7953"
             ],
             [
              0.7777777777777778,
              "#fb9f3a"
             ],
             [
              0.8888888888888888,
              "#fdca26"
             ],
             [
              1,
              "#f0f921"
             ]
            ],
            "type": "histogram2dcontour"
           }
          ],
          "mesh3d": [
           {
            "colorbar": {
             "outlinewidth": 0,
             "ticks": ""
            },
            "type": "mesh3d"
           }
          ],
          "parcoords": [
           {
            "line": {
             "colorbar": {
              "outlinewidth": 0,
              "ticks": ""
             }
            },
            "type": "parcoords"
           }
          ],
          "pie": [
           {
            "automargin": true,
            "type": "pie"
           }
          ],
          "scatter": [
           {
            "fillpattern": {
             "fillmode": "overlay",
             "size": 10,
             "solidity": 0.2
            },
            "type": "scatter"
           }
          ],
          "scatter3d": [
           {
            "line": {
             "colorbar": {
              "outlinewidth": 0,
              "ticks": ""
             }
            },
            "marker": {
             "colorbar": {
              "outlinewidth": 0,
              "ticks": ""
             }
            },
            "type": "scatter3d"
           }
          ],
          "scattercarpet": [
           {
            "marker": {
             "colorbar": {
              "outlinewidth": 0,
              "ticks": ""
             }
            },
            "type": "scattercarpet"
           }
          ],
          "scattergeo": [
           {
            "marker": {
             "colorbar": {
              "outlinewidth": 0,
              "ticks": ""
             }
            },
            "type": "scattergeo"
           }
          ],
          "scattergl": [
           {
            "marker": {
             "colorbar": {
              "outlinewidth": 0,
              "ticks": ""
             }
            },
            "type": "scattergl"
           }
          ],
          "scattermapbox": [
           {
            "marker": {
             "colorbar": {
              "outlinewidth": 0,
              "ticks": ""
             }
            },
            "type": "scattermapbox"
           }
          ],
          "scatterpolar": [
           {
            "marker": {
             "colorbar": {
              "outlinewidth": 0,
              "ticks": ""
             }
            },
            "type": "scatterpolar"
           }
          ],
          "scatterpolargl": [
           {
            "marker": {
             "colorbar": {
              "outlinewidth": 0,
              "ticks": ""
             }
            },
            "type": "scatterpolargl"
           }
          ],
          "scatterternary": [
           {
            "marker": {
             "colorbar": {
              "outlinewidth": 0,
              "ticks": ""
             }
            },
            "type": "scatterternary"
           }
          ],
          "surface": [
           {
            "colorbar": {
             "outlinewidth": 0,
             "ticks": ""
            },
            "colorscale": [
             [
              0,
              "#0d0887"
             ],
             [
              0.1111111111111111,
              "#46039f"
             ],
             [
              0.2222222222222222,
              "#7201a8"
             ],
             [
              0.3333333333333333,
              "#9c179e"
             ],
             [
              0.4444444444444444,
              "#bd3786"
             ],
             [
              0.5555555555555556,
              "#d8576b"
             ],
             [
              0.6666666666666666,
              "#ed7953"
             ],
             [
              0.7777777777777778,
              "#fb9f3a"
             ],
             [
              0.8888888888888888,
              "#fdca26"
             ],
             [
              1,
              "#f0f921"
             ]
            ],
            "type": "surface"
           }
          ],
          "table": [
           {
            "cells": {
             "fill": {
              "color": "#EBF0F8"
             },
             "line": {
              "color": "white"
             }
            },
            "header": {
             "fill": {
              "color": "#C8D4E3"
             },
             "line": {
              "color": "white"
             }
            },
            "type": "table"
           }
          ]
         },
         "layout": {
          "annotationdefaults": {
           "arrowcolor": "#2a3f5f",
           "arrowhead": 0,
           "arrowwidth": 1
          },
          "autotypenumbers": "strict",
          "coloraxis": {
           "colorbar": {
            "outlinewidth": 0,
            "ticks": ""
           }
          },
          "colorscale": {
           "diverging": [
            [
             0,
             "#8e0152"
            ],
            [
             0.1,
             "#c51b7d"
            ],
            [
             0.2,
             "#de77ae"
            ],
            [
             0.3,
             "#f1b6da"
            ],
            [
             0.4,
             "#fde0ef"
            ],
            [
             0.5,
             "#f7f7f7"
            ],
            [
             0.6,
             "#e6f5d0"
            ],
            [
             0.7,
             "#b8e186"
            ],
            [
             0.8,
             "#7fbc41"
            ],
            [
             0.9,
             "#4d9221"
            ],
            [
             1,
             "#276419"
            ]
           ],
           "sequential": [
            [
             0,
             "#0d0887"
            ],
            [
             0.1111111111111111,
             "#46039f"
            ],
            [
             0.2222222222222222,
             "#7201a8"
            ],
            [
             0.3333333333333333,
             "#9c179e"
            ],
            [
             0.4444444444444444,
             "#bd3786"
            ],
            [
             0.5555555555555556,
             "#d8576b"
            ],
            [
             0.6666666666666666,
             "#ed7953"
            ],
            [
             0.7777777777777778,
             "#fb9f3a"
            ],
            [
             0.8888888888888888,
             "#fdca26"
            ],
            [
             1,
             "#f0f921"
            ]
           ],
           "sequentialminus": [
            [
             0,
             "#0d0887"
            ],
            [
             0.1111111111111111,
             "#46039f"
            ],
            [
             0.2222222222222222,
             "#7201a8"
            ],
            [
             0.3333333333333333,
             "#9c179e"
            ],
            [
             0.4444444444444444,
             "#bd3786"
            ],
            [
             0.5555555555555556,
             "#d8576b"
            ],
            [
             0.6666666666666666,
             "#ed7953"
            ],
            [
             0.7777777777777778,
             "#fb9f3a"
            ],
            [
             0.8888888888888888,
             "#fdca26"
            ],
            [
             1,
             "#f0f921"
            ]
           ]
          },
          "colorway": [
           "#636efa",
           "#EF553B",
           "#00cc96",
           "#ab63fa",
           "#FFA15A",
           "#19d3f3",
           "#FF6692",
           "#B6E880",
           "#FF97FF",
           "#FECB52"
          ],
          "font": {
           "color": "#2a3f5f"
          },
          "geo": {
           "bgcolor": "white",
           "lakecolor": "white",
           "landcolor": "#E5ECF6",
           "showlakes": true,
           "showland": true,
           "subunitcolor": "white"
          },
          "hoverlabel": {
           "align": "left"
          },
          "hovermode": "closest",
          "mapbox": {
           "style": "light"
          },
          "paper_bgcolor": "white",
          "plot_bgcolor": "#E5ECF6",
          "polar": {
           "angularaxis": {
            "gridcolor": "white",
            "linecolor": "white",
            "ticks": ""
           },
           "bgcolor": "#E5ECF6",
           "radialaxis": {
            "gridcolor": "white",
            "linecolor": "white",
            "ticks": ""
           }
          },
          "scene": {
           "xaxis": {
            "backgroundcolor": "#E5ECF6",
            "gridcolor": "white",
            "gridwidth": 2,
            "linecolor": "white",
            "showbackground": true,
            "ticks": "",
            "zerolinecolor": "white"
           },
           "yaxis": {
            "backgroundcolor": "#E5ECF6",
            "gridcolor": "white",
            "gridwidth": 2,
            "linecolor": "white",
            "showbackground": true,
            "ticks": "",
            "zerolinecolor": "white"
           },
           "zaxis": {
            "backgroundcolor": "#E5ECF6",
            "gridcolor": "white",
            "gridwidth": 2,
            "linecolor": "white",
            "showbackground": true,
            "ticks": "",
            "zerolinecolor": "white"
           }
          },
          "shapedefaults": {
           "line": {
            "color": "#2a3f5f"
           }
          },
          "ternary": {
           "aaxis": {
            "gridcolor": "white",
            "linecolor": "white",
            "ticks": ""
           },
           "baxis": {
            "gridcolor": "white",
            "linecolor": "white",
            "ticks": ""
           },
           "bgcolor": "#E5ECF6",
           "caxis": {
            "gridcolor": "white",
            "linecolor": "white",
            "ticks": ""
           }
          },
          "title": {
           "x": 0.05
          },
          "xaxis": {
           "automargin": true,
           "gridcolor": "white",
           "linecolor": "white",
           "ticks": "",
           "title": {
            "standoff": 15
           },
           "zerolinecolor": "white",
           "zerolinewidth": 2
          },
          "yaxis": {
           "automargin": true,
           "gridcolor": "white",
           "linecolor": "white",
           "ticks": "",
           "title": {
            "standoff": 15
           },
           "zerolinecolor": "white",
           "zerolinewidth": 2
          }
         }
        },
        "title": {
         "text": "ROC Curve (AUC=0.7934)"
        },
        "width": 700,
        "xaxis": {
         "anchor": "y",
         "constrain": "domain",
         "domain": [
          0,
          1
         ],
         "title": {
          "text": "Average False Positive Rate"
         }
        },
        "yaxis": {
         "anchor": "x",
         "domain": [
          0,
          1
         ],
         "scaleanchor": "x",
         "scaleratio": 1,
         "title": {
          "text": "Average True Positive Rate"
         }
        }
       }
      }
     },
     "metadata": {},
     "output_type": "display_data"
    },
    {
     "data": {
      "application/vnd.plotly.v1+json": {
       "config": {
        "plotlyServerURL": "https://plot.ly"
       },
       "data": [
        {
         "hovertemplate": "K-Fold=%{x}<br>AUC Score=%{y}<extra></extra>",
         "legendgroup": "",
         "marker": {
          "color": "#636efa",
          "symbol": "circle"
         },
         "mode": "markers",
         "name": "",
         "orientation": "v",
         "showlegend": false,
         "type": "scatter",
         "x": [
          1,
          2,
          3,
          4,
          5,
          6,
          7,
          8,
          9,
          10
         ],
         "xaxis": "x",
         "y": [
          0.8017432430262249,
          0.8074623809600283,
          0.7796696590598853,
          0.8075045367678941,
          0.783482371772314,
          0.7979009904173903,
          0.7945808412116534,
          0.780375747636504,
          0.7969734790018651,
          0.7838506495594573
         ],
         "yaxis": "y"
        },
        {
         "hovertemplate": "<b>OLS trendline</b><br>y = -0.00154714 * x + 0.801864<br>R<sup>2</sup>=0.188358<br><br>K-Fold=%{x}<br>AUC Score=%{y} <b>(trend)</b><extra></extra>",
         "legendgroup": "",
         "marker": {
          "color": "#636efa",
          "symbol": "circle"
         },
         "mode": "lines",
         "name": "",
         "showlegend": false,
         "type": "scatter",
         "x": [
          1,
          2,
          3,
          4,
          5,
          6,
          7,
          8,
          9,
          10
         ],
         "xaxis": "x",
         "y": [
          0.8003165084881014,
          0.7987693710332614,
          0.7972222335784214,
          0.7956750961235814,
          0.7941279586687415,
          0.7925808212139015,
          0.7910336837590615,
          0.7894865463042215,
          0.7879394088493816,
          0.7863922713945416
         ],
         "yaxis": "y"
        }
       ],
       "layout": {
        "legend": {
         "tracegroupgap": 0
        },
        "template": {
         "data": {
          "bar": [
           {
            "error_x": {
             "color": "#2a3f5f"
            },
            "error_y": {
             "color": "#2a3f5f"
            },
            "marker": {
             "line": {
              "color": "#E5ECF6",
              "width": 0.5
             },
             "pattern": {
              "fillmode": "overlay",
              "size": 10,
              "solidity": 0.2
             }
            },
            "type": "bar"
           }
          ],
          "barpolar": [
           {
            "marker": {
             "line": {
              "color": "#E5ECF6",
              "width": 0.5
             },
             "pattern": {
              "fillmode": "overlay",
              "size": 10,
              "solidity": 0.2
             }
            },
            "type": "barpolar"
           }
          ],
          "carpet": [
           {
            "aaxis": {
             "endlinecolor": "#2a3f5f",
             "gridcolor": "white",
             "linecolor": "white",
             "minorgridcolor": "white",
             "startlinecolor": "#2a3f5f"
            },
            "baxis": {
             "endlinecolor": "#2a3f5f",
             "gridcolor": "white",
             "linecolor": "white",
             "minorgridcolor": "white",
             "startlinecolor": "#2a3f5f"
            },
            "type": "carpet"
           }
          ],
          "choropleth": [
           {
            "colorbar": {
             "outlinewidth": 0,
             "ticks": ""
            },
            "type": "choropleth"
           }
          ],
          "contour": [
           {
            "colorbar": {
             "outlinewidth": 0,
             "ticks": ""
            },
            "colorscale": [
             [
              0,
              "#0d0887"
             ],
             [
              0.1111111111111111,
              "#46039f"
             ],
             [
              0.2222222222222222,
              "#7201a8"
             ],
             [
              0.3333333333333333,
              "#9c179e"
             ],
             [
              0.4444444444444444,
              "#bd3786"
             ],
             [
              0.5555555555555556,
              "#d8576b"
             ],
             [
              0.6666666666666666,
              "#ed7953"
             ],
             [
              0.7777777777777778,
              "#fb9f3a"
             ],
             [
              0.8888888888888888,
              "#fdca26"
             ],
             [
              1,
              "#f0f921"
             ]
            ],
            "type": "contour"
           }
          ],
          "contourcarpet": [
           {
            "colorbar": {
             "outlinewidth": 0,
             "ticks": ""
            },
            "type": "contourcarpet"
           }
          ],
          "heatmap": [
           {
            "colorbar": {
             "outlinewidth": 0,
             "ticks": ""
            },
            "colorscale": [
             [
              0,
              "#0d0887"
             ],
             [
              0.1111111111111111,
              "#46039f"
             ],
             [
              0.2222222222222222,
              "#7201a8"
             ],
             [
              0.3333333333333333,
              "#9c179e"
             ],
             [
              0.4444444444444444,
              "#bd3786"
             ],
             [
              0.5555555555555556,
              "#d8576b"
             ],
             [
              0.6666666666666666,
              "#ed7953"
             ],
             [
              0.7777777777777778,
              "#fb9f3a"
             ],
             [
              0.8888888888888888,
              "#fdca26"
             ],
             [
              1,
              "#f0f921"
             ]
            ],
            "type": "heatmap"
           }
          ],
          "heatmapgl": [
           {
            "colorbar": {
             "outlinewidth": 0,
             "ticks": ""
            },
            "colorscale": [
             [
              0,
              "#0d0887"
             ],
             [
              0.1111111111111111,
              "#46039f"
             ],
             [
              0.2222222222222222,
              "#7201a8"
             ],
             [
              0.3333333333333333,
              "#9c179e"
             ],
             [
              0.4444444444444444,
              "#bd3786"
             ],
             [
              0.5555555555555556,
              "#d8576b"
             ],
             [
              0.6666666666666666,
              "#ed7953"
             ],
             [
              0.7777777777777778,
              "#fb9f3a"
             ],
             [
              0.8888888888888888,
              "#fdca26"
             ],
             [
              1,
              "#f0f921"
             ]
            ],
            "type": "heatmapgl"
           }
          ],
          "histogram": [
           {
            "marker": {
             "pattern": {
              "fillmode": "overlay",
              "size": 10,
              "solidity": 0.2
             }
            },
            "type": "histogram"
           }
          ],
          "histogram2d": [
           {
            "colorbar": {
             "outlinewidth": 0,
             "ticks": ""
            },
            "colorscale": [
             [
              0,
              "#0d0887"
             ],
             [
              0.1111111111111111,
              "#46039f"
             ],
             [
              0.2222222222222222,
              "#7201a8"
             ],
             [
              0.3333333333333333,
              "#9c179e"
             ],
             [
              0.4444444444444444,
              "#bd3786"
             ],
             [
              0.5555555555555556,
              "#d8576b"
             ],
             [
              0.6666666666666666,
              "#ed7953"
             ],
             [
              0.7777777777777778,
              "#fb9f3a"
             ],
             [
              0.8888888888888888,
              "#fdca26"
             ],
             [
              1,
              "#f0f921"
             ]
            ],
            "type": "histogram2d"
           }
          ],
          "histogram2dcontour": [
           {
            "colorbar": {
             "outlinewidth": 0,
             "ticks": ""
            },
            "colorscale": [
             [
              0,
              "#0d0887"
             ],
             [
              0.1111111111111111,
              "#46039f"
             ],
             [
              0.2222222222222222,
              "#7201a8"
             ],
             [
              0.3333333333333333,
              "#9c179e"
             ],
             [
              0.4444444444444444,
              "#bd3786"
             ],
             [
              0.5555555555555556,
              "#d8576b"
             ],
             [
              0.6666666666666666,
              "#ed7953"
             ],
             [
              0.7777777777777778,
              "#fb9f3a"
             ],
             [
              0.8888888888888888,
              "#fdca26"
             ],
             [
              1,
              "#f0f921"
             ]
            ],
            "type": "histogram2dcontour"
           }
          ],
          "mesh3d": [
           {
            "colorbar": {
             "outlinewidth": 0,
             "ticks": ""
            },
            "type": "mesh3d"
           }
          ],
          "parcoords": [
           {
            "line": {
             "colorbar": {
              "outlinewidth": 0,
              "ticks": ""
             }
            },
            "type": "parcoords"
           }
          ],
          "pie": [
           {
            "automargin": true,
            "type": "pie"
           }
          ],
          "scatter": [
           {
            "fillpattern": {
             "fillmode": "overlay",
             "size": 10,
             "solidity": 0.2
            },
            "type": "scatter"
           }
          ],
          "scatter3d": [
           {
            "line": {
             "colorbar": {
              "outlinewidth": 0,
              "ticks": ""
             }
            },
            "marker": {
             "colorbar": {
              "outlinewidth": 0,
              "ticks": ""
             }
            },
            "type": "scatter3d"
           }
          ],
          "scattercarpet": [
           {
            "marker": {
             "colorbar": {
              "outlinewidth": 0,
              "ticks": ""
             }
            },
            "type": "scattercarpet"
           }
          ],
          "scattergeo": [
           {
            "marker": {
             "colorbar": {
              "outlinewidth": 0,
              "ticks": ""
             }
            },
            "type": "scattergeo"
           }
          ],
          "scattergl": [
           {
            "marker": {
             "colorbar": {
              "outlinewidth": 0,
              "ticks": ""
             }
            },
            "type": "scattergl"
           }
          ],
          "scattermapbox": [
           {
            "marker": {
             "colorbar": {
              "outlinewidth": 0,
              "ticks": ""
             }
            },
            "type": "scattermapbox"
           }
          ],
          "scatterpolar": [
           {
            "marker": {
             "colorbar": {
              "outlinewidth": 0,
              "ticks": ""
             }
            },
            "type": "scatterpolar"
           }
          ],
          "scatterpolargl": [
           {
            "marker": {
             "colorbar": {
              "outlinewidth": 0,
              "ticks": ""
             }
            },
            "type": "scatterpolargl"
           }
          ],
          "scatterternary": [
           {
            "marker": {
             "colorbar": {
              "outlinewidth": 0,
              "ticks": ""
             }
            },
            "type": "scatterternary"
           }
          ],
          "surface": [
           {
            "colorbar": {
             "outlinewidth": 0,
             "ticks": ""
            },
            "colorscale": [
             [
              0,
              "#0d0887"
             ],
             [
              0.1111111111111111,
              "#46039f"
             ],
             [
              0.2222222222222222,
              "#7201a8"
             ],
             [
              0.3333333333333333,
              "#9c179e"
             ],
             [
              0.4444444444444444,
              "#bd3786"
             ],
             [
              0.5555555555555556,
              "#d8576b"
             ],
             [
              0.6666666666666666,
              "#ed7953"
             ],
             [
              0.7777777777777778,
              "#fb9f3a"
             ],
             [
              0.8888888888888888,
              "#fdca26"
             ],
             [
              1,
              "#f0f921"
             ]
            ],
            "type": "surface"
           }
          ],
          "table": [
           {
            "cells": {
             "fill": {
              "color": "#EBF0F8"
             },
             "line": {
              "color": "white"
             }
            },
            "header": {
             "fill": {
              "color": "#C8D4E3"
             },
             "line": {
              "color": "white"
             }
            },
            "type": "table"
           }
          ]
         },
         "layout": {
          "annotationdefaults": {
           "arrowcolor": "#2a3f5f",
           "arrowhead": 0,
           "arrowwidth": 1
          },
          "autotypenumbers": "strict",
          "coloraxis": {
           "colorbar": {
            "outlinewidth": 0,
            "ticks": ""
           }
          },
          "colorscale": {
           "diverging": [
            [
             0,
             "#8e0152"
            ],
            [
             0.1,
             "#c51b7d"
            ],
            [
             0.2,
             "#de77ae"
            ],
            [
             0.3,
             "#f1b6da"
            ],
            [
             0.4,
             "#fde0ef"
            ],
            [
             0.5,
             "#f7f7f7"
            ],
            [
             0.6,
             "#e6f5d0"
            ],
            [
             0.7,
             "#b8e186"
            ],
            [
             0.8,
             "#7fbc41"
            ],
            [
             0.9,
             "#4d9221"
            ],
            [
             1,
             "#276419"
            ]
           ],
           "sequential": [
            [
             0,
             "#0d0887"
            ],
            [
             0.1111111111111111,
             "#46039f"
            ],
            [
             0.2222222222222222,
             "#7201a8"
            ],
            [
             0.3333333333333333,
             "#9c179e"
            ],
            [
             0.4444444444444444,
             "#bd3786"
            ],
            [
             0.5555555555555556,
             "#d8576b"
            ],
            [
             0.6666666666666666,
             "#ed7953"
            ],
            [
             0.7777777777777778,
             "#fb9f3a"
            ],
            [
             0.8888888888888888,
             "#fdca26"
            ],
            [
             1,
             "#f0f921"
            ]
           ],
           "sequentialminus": [
            [
             0,
             "#0d0887"
            ],
            [
             0.1111111111111111,
             "#46039f"
            ],
            [
             0.2222222222222222,
             "#7201a8"
            ],
            [
             0.3333333333333333,
             "#9c179e"
            ],
            [
             0.4444444444444444,
             "#bd3786"
            ],
            [
             0.5555555555555556,
             "#d8576b"
            ],
            [
             0.6666666666666666,
             "#ed7953"
            ],
            [
             0.7777777777777778,
             "#fb9f3a"
            ],
            [
             0.8888888888888888,
             "#fdca26"
            ],
            [
             1,
             "#f0f921"
            ]
           ]
          },
          "colorway": [
           "#636efa",
           "#EF553B",
           "#00cc96",
           "#ab63fa",
           "#FFA15A",
           "#19d3f3",
           "#FF6692",
           "#B6E880",
           "#FF97FF",
           "#FECB52"
          ],
          "font": {
           "color": "#2a3f5f"
          },
          "geo": {
           "bgcolor": "white",
           "lakecolor": "white",
           "landcolor": "#E5ECF6",
           "showlakes": true,
           "showland": true,
           "subunitcolor": "white"
          },
          "hoverlabel": {
           "align": "left"
          },
          "hovermode": "closest",
          "mapbox": {
           "style": "light"
          },
          "paper_bgcolor": "white",
          "plot_bgcolor": "#E5ECF6",
          "polar": {
           "angularaxis": {
            "gridcolor": "white",
            "linecolor": "white",
            "ticks": ""
           },
           "bgcolor": "#E5ECF6",
           "radialaxis": {
            "gridcolor": "white",
            "linecolor": "white",
            "ticks": ""
           }
          },
          "scene": {
           "xaxis": {
            "backgroundcolor": "#E5ECF6",
            "gridcolor": "white",
            "gridwidth": 2,
            "linecolor": "white",
            "showbackground": true,
            "ticks": "",
            "zerolinecolor": "white"
           },
           "yaxis": {
            "backgroundcolor": "#E5ECF6",
            "gridcolor": "white",
            "gridwidth": 2,
            "linecolor": "white",
            "showbackground": true,
            "ticks": "",
            "zerolinecolor": "white"
           },
           "zaxis": {
            "backgroundcolor": "#E5ECF6",
            "gridcolor": "white",
            "gridwidth": 2,
            "linecolor": "white",
            "showbackground": true,
            "ticks": "",
            "zerolinecolor": "white"
           }
          },
          "shapedefaults": {
           "line": {
            "color": "#2a3f5f"
           }
          },
          "ternary": {
           "aaxis": {
            "gridcolor": "white",
            "linecolor": "white",
            "ticks": ""
           },
           "baxis": {
            "gridcolor": "white",
            "linecolor": "white",
            "ticks": ""
           },
           "bgcolor": "#E5ECF6",
           "caxis": {
            "gridcolor": "white",
            "linecolor": "white",
            "ticks": ""
           }
          },
          "title": {
           "x": 0.05
          },
          "xaxis": {
           "automargin": true,
           "gridcolor": "white",
           "linecolor": "white",
           "ticks": "",
           "title": {
            "standoff": 15
           },
           "zerolinecolor": "white",
           "zerolinewidth": 2
          },
          "yaxis": {
           "automargin": true,
           "gridcolor": "white",
           "linecolor": "white",
           "ticks": "",
           "title": {
            "standoff": 15
           },
           "zerolinecolor": "white",
           "zerolinewidth": 2
          }
         }
        },
        "title": {
         "text": "AUC Values for the each K-Fold"
        },
        "xaxis": {
         "anchor": "y",
         "domain": [
          0,
          1
         ],
         "title": {
          "text": "K-Fold"
         }
        },
        "yaxis": {
         "anchor": "x",
         "domain": [
          0,
          1
         ],
         "title": {
          "text": "AUC Score"
         }
        }
       }
      }
     },
     "metadata": {},
     "output_type": "display_data"
    }
   ],
   "source": [
    "y = df['Label']\n",
    "perform_kfold_cross_validation_with_lstm(features, y)"
   ]
  },
  {
   "cell_type": "markdown",
   "metadata": {
    "cell_id": "042a3582dc6e40e19c14566ab4c7e8ec",
    "deepnote_cell_type": "text-cell-h3",
    "formattedRanges": [],
    "is_collapsed": false
   },
   "source": [
    "### Model 6: ELMo"
   ]
  },
  {
   "cell_type": "markdown",
   "metadata": {
    "cell_id": "1ff5664b4922495b9d4f4ffa35a7e797",
    "deepnote_cell_type": "text-cell-p",
    "formattedRanges": []
   },
   "source": [
    "Column used: \"Cleaned Text with N lemmatization\"\n",
    "Model: Logistic Regression\n",
    "Feature Extraction: ELMo Embedding\n",
    "Description:"
   ]
  },
  {
   "cell_type": "markdown",
   "metadata": {
    "cell_id": "45273f0b2a044d1da9f8b55fae247cef",
    "deepnote_cell_type": "text-cell-p",
    "formattedRanges": []
   },
   "source": [
    "ELMo (Embeddings from Language Models) is a deep contextualized word representation model developed by researchers at the Allen Institute for Artificial Intelligence. Unlike traditional word embeddings, which assign a fixed vector to each word, ELMo generates contextualized word representations that capture various aspects of word meaning and usage based on the specific context in which the word appears."
   ]
  },
  {
   "cell_type": "markdown",
   "metadata": {
    "cell_id": "190e8414272249209b0c5fb8535f3761",
    "deepnote_cell_type": "text-cell-p",
    "formattedRanges": []
   },
   "source": [
    "Pros:\n",
    "ELMo captures contextual information, allowing for a more nuanced understanding of word meanings based on their surrounding context, which can be beneficial for various downstream NLP tasks."
   ]
  },
  {
   "cell_type": "markdown",
   "metadata": {
    "cell_id": "fd757fd5040d4a849e8c190939cc44da",
    "deepnote_cell_type": "text-cell-p",
    "formattedRanges": []
   },
   "source": [
    "Cons:\n",
    "ELMo models can be computationally expensive and may require significant computational resources, making them less feasible for resource-constrained environments. ELMo embeddings also heavily rely on large and diverse datasets for training, which might limit their effectiveness when working with domain-specific or small-scale datasets."
   ]
  },
  {
   "cell_type": "markdown",
   "metadata": {
    "cell_id": "b5c5703065a444dc8d59c55b8eb2c65e",
    "deepnote_cell_type": "text-cell-p",
    "formattedRanges": []
   },
   "source": [
    "Feature Transformation: nil\n",
    "Explanation:\n",
    "Similarly to GloVe word embeddings, ELMo also does not require additional feature transformation steps like TF-IDF, PCA or LDA because the word embeddings are context-sensitive word representations by considering the entire input sentence. It uses a deep, bidirectional language model to compute word embeddings that capture both syntax and semantics, considering the surrounding context. "
   ]
  },
  {
   "cell_type": "markdown",
   "metadata": {
    "cell_id": "0872159893fb42509a4755e75712b6d8",
    "deepnote_cell_type": "text-cell-p",
    "formattedRanges": []
   },
   "source": [
    "Therefore, we can directly use ELMo word embeddings as features for your text classification model without the need for feature transformation steps."
   ]
  },
  {
   "cell_type": "code",
   "execution_count": 23,
   "metadata": {
    "cell_id": "6ebf23d401ff49c7b6a6164edc5bde38",
    "deepnote_cell_type": "code",
    "deepnote_to_be_reexecuted": false,
    "execution_millis": 1525,
    "execution_start": 1698579200496,
    "source_hash": null
   },
   "outputs": [
    {
     "ename": "ValueError",
     "evalue": "Trying to load a model of incompatible/unknown type. 'C:\\Users\\sylve\\AppData\\Local\\Temp\\tfhub_modules\\58051eb9ff2f7c649b7c541acc518dac54e786ca' contains neither 'saved_model.pb' nor 'saved_model.pbtxt'.",
     "output_type": "error",
     "traceback": [
      "\u001b[1;31m---------------------------------------------------------------------------\u001b[0m",
      "\u001b[1;31mValueError\u001b[0m                                Traceback (most recent call last)",
      "\u001b[1;32mc:\\Users\\sylve\\Downloads\\LSTM fina.ipynb Cell 75\u001b[0m line \u001b[0;36m8\n\u001b[0;32m      <a href='vscode-notebook-cell:/c%3A/Users/sylve/Downloads/LSTM%20fina.ipynb#Y134sZmlsZQ%3D%3D?line=4'>5</a>\u001b[0m tokenizer\u001b[39m.\u001b[39mfit_on_texts(df[\u001b[39m'\u001b[39m\u001b[39mCleaned Text with V lemmatization\u001b[39m\u001b[39m'\u001b[39m])\n\u001b[0;32m      <a href='vscode-notebook-cell:/c%3A/Users/sylve/Downloads/LSTM%20fina.ipynb#Y134sZmlsZQ%3D%3D?line=6'>7</a>\u001b[0m \u001b[39m# Load the ELMo model outside the loop\u001b[39;00m\n\u001b[1;32m----> <a href='vscode-notebook-cell:/c%3A/Users/sylve/Downloads/LSTM%20fina.ipynb#Y134sZmlsZQ%3D%3D?line=7'>8</a>\u001b[0m elmo \u001b[39m=\u001b[39m hub\u001b[39m.\u001b[39;49mload(\u001b[39m\"\u001b[39;49m\u001b[39mhttps://tfhub.dev/google/elmo/3\u001b[39;49m\u001b[39m\"\u001b[39;49m)\n\u001b[0;32m     <a href='vscode-notebook-cell:/c%3A/Users/sylve/Downloads/LSTM%20fina.ipynb#Y134sZmlsZQ%3D%3D?line=9'>10</a>\u001b[0m \u001b[39m# Preprocess all data and convert it to sequences\u001b[39;00m\n\u001b[0;32m     <a href='vscode-notebook-cell:/c%3A/Users/sylve/Downloads/LSTM%20fina.ipynb#Y134sZmlsZQ%3D%3D?line=10'>11</a>\u001b[0m sequences \u001b[39m=\u001b[39m tokenizer\u001b[39m.\u001b[39mtexts_to_sequences(df[\u001b[39m'\u001b[39m\u001b[39mCleaned Text with V lemmatization\u001b[39m\u001b[39m'\u001b[39m])\n",
      "File \u001b[1;32m~\\AppData\\Local\\Packages\\PythonSoftwareFoundation.Python.3.10_qbz5n2kfra8p0\\LocalCache\\local-packages\\Python310\\site-packages\\tensorflow_hub\\module_v2.py:107\u001b[0m, in \u001b[0;36mload\u001b[1;34m(handle, tags, options)\u001b[0m\n\u001b[0;32m    102\u001b[0m saved_model_pbtxt_path \u001b[39m=\u001b[39m os\u001b[39m.\u001b[39mpath\u001b[39m.\u001b[39mjoin(\n\u001b[0;32m    103\u001b[0m     tf\u001b[39m.\u001b[39mcompat\u001b[39m.\u001b[39mas_bytes(module_path),\n\u001b[0;32m    104\u001b[0m     tf\u001b[39m.\u001b[39mcompat\u001b[39m.\u001b[39mas_bytes(tf\u001b[39m.\u001b[39msaved_model\u001b[39m.\u001b[39mSAVED_MODEL_FILENAME_PBTXT))\n\u001b[0;32m    105\u001b[0m \u001b[39mif\u001b[39;00m (\u001b[39mnot\u001b[39;00m tf\u001b[39m.\u001b[39mio\u001b[39m.\u001b[39mgfile\u001b[39m.\u001b[39mexists(saved_model_path) \u001b[39mand\u001b[39;00m\n\u001b[0;32m    106\u001b[0m     \u001b[39mnot\u001b[39;00m tf\u001b[39m.\u001b[39mio\u001b[39m.\u001b[39mgfile\u001b[39m.\u001b[39mexists(saved_model_pbtxt_path)):\n\u001b[1;32m--> 107\u001b[0m   \u001b[39mraise\u001b[39;00m \u001b[39mValueError\u001b[39;00m(\u001b[39m\"\u001b[39m\u001b[39mTrying to load a model of incompatible/unknown type. \u001b[39m\u001b[39m\"\u001b[39m\n\u001b[0;32m    108\u001b[0m                    \u001b[39m\"\u001b[39m\u001b[39m'\u001b[39m\u001b[39m%s\u001b[39;00m\u001b[39m'\u001b[39m\u001b[39m contains neither \u001b[39m\u001b[39m'\u001b[39m\u001b[39m%s\u001b[39;00m\u001b[39m'\u001b[39m\u001b[39m nor \u001b[39m\u001b[39m'\u001b[39m\u001b[39m%s\u001b[39;00m\u001b[39m'\u001b[39m\u001b[39m.\u001b[39m\u001b[39m\"\u001b[39m \u001b[39m%\u001b[39m\n\u001b[0;32m    109\u001b[0m                    (module_path, tf\u001b[39m.\u001b[39msaved_model\u001b[39m.\u001b[39mSAVED_MODEL_FILENAME_PB,\n\u001b[0;32m    110\u001b[0m                     tf\u001b[39m.\u001b[39msaved_model\u001b[39m.\u001b[39mSAVED_MODEL_FILENAME_PBTXT))\n\u001b[0;32m    112\u001b[0m \u001b[39mif\u001b[39;00m options:\n\u001b[0;32m    113\u001b[0m   \u001b[39mif\u001b[39;00m \u001b[39mnot\u001b[39;00m \u001b[39mhasattr\u001b[39m(\u001b[39mgetattr\u001b[39m(tf, \u001b[39m\"\u001b[39m\u001b[39msaved_model\u001b[39m\u001b[39m\"\u001b[39m, \u001b[39mNone\u001b[39;00m), \u001b[39m\"\u001b[39m\u001b[39mLoadOptions\u001b[39m\u001b[39m\"\u001b[39m):\n",
      "\u001b[1;31mValueError\u001b[0m: Trying to load a model of incompatible/unknown type. 'C:\\Users\\sylve\\AppData\\Local\\Temp\\tfhub_modules\\58051eb9ff2f7c649b7c541acc518dac54e786ca' contains neither 'saved_model.pb' nor 'saved_model.pbtxt'."
     ]
    }
   ],
   "source": [
    "# Creating ELMo Embeddings. [DEEPNOTE NOTEBOOK INSUFFICIENT MEMORY]\n",
    "\n",
    "# Initialize the Tokenizer\n",
    "tokenizer = Tokenizer()\n",
    "tokenizer.fit_on_texts(df['Cleaned Text with V lemmatization'])\n",
    "\n",
    "# Load the ELMo model outside the loop\n",
    "elmo = hub.load(\"https://tfhub.dev/google/elmo/3\")\n",
    "\n",
    "# Preprocess all data and convert it to sequences\n",
    "sequences = tokenizer.texts_to_sequences(df['Cleaned Text with V lemmatization'])\n",
    "max_sequence_length = max([len(seq) for seq in sequences])\n",
    "padded_sequences = pad_sequences(sequences, maxlen=max_sequence_length, padding='post')\n",
    "\n",
    "# Process the data in batches\n",
    "batch_size = 25\n",
    "num_batches = len(df) // batch_size + 1\n",
    "all_embeddings = None\n",
    "\n",
    "for i in range(num_batches):\n",
    "    start_idx = i * batch_size\n",
    "    end_idx = min((i + 1) * batch_size, len(df))\n",
    "    batch_sequences = padded_sequences[start_idx:end_idx]\n",
    "\n",
    "    # Extract ELMo embeddings for the batch\n",
    "    batch_texts = df['Cleaned Text with V lemmatization'][start_idx:end_idx].tolist()\n",
    "    embedding = elmo.signatures[\"default\"](tf.constant(batch_texts))[\"default\"]\n",
    "    embeddings_array = embedding.numpy()\n",
    "\n",
    "    # Store the embeddings\n",
    "    if all_embeddings is None:\n",
    "        all_embeddings = embeddings_array\n",
    "    else:\n",
    "        all_embeddings = np.concatenate((all_embeddings, embeddings_array), axis=0)\n",
    "\n",
    "# Save the embeddings to a file\n",
    "with h5py.File(\"elmo_embeddingsV.hdf5\", \"w\") as f:\n",
    "    f.create_dataset(\"embeddings\", data=all_embeddings)\n",
    "\n",
    "print(\"ELMo embeddings saved to elmo_embeddings.hdf5.\")"
   ]
  },
  {
   "cell_type": "markdown",
   "metadata": {
    "cell_id": "052860d084dc4e87889019cc5c8dc19c",
    "deepnote_cell_type": "text-cell-p",
    "formattedRanges": []
   },
   "source": [
    "Load ELMo embeddings."
   ]
  },
  {
   "cell_type": "code",
   "execution_count": 24,
   "metadata": {
    "cell_id": "a3cd4fc6a1e3406db8d208cdd90ef525",
    "deepnote_cell_type": "code",
    "deepnote_to_be_reexecuted": false,
    "execution_millis": 163,
    "execution_start": 1698592623137,
    "source_hash": null
   },
   "outputs": [
    {
     "name": "stdout",
     "output_type": "stream",
     "text": [
      "Shape of the loaded embeddings: (14364, 1024)\n"
     ]
    }
   ],
   "source": [
    "with h5py.File(\"elmo_embeddingsV.hdf5\", \"r\") as f:\n",
    "    all_embeddings = f[\"embeddings\"][:]\n",
    "    # Process the embeddings as needed\n",
    "    # For example, you can print the shape of the embeddings\n",
    "    print(\"Shape of the loaded embeddings:\", all_embeddings.shape)"
   ]
  },
  {
   "cell_type": "code",
   "execution_count": 25,
   "metadata": {
    "cell_id": "6dcf3beb251843979036f13e4a2b238f",
    "deepnote_cell_type": "code",
    "deepnote_to_be_reexecuted": false,
    "execution_millis": 172419,
    "execution_start": 1698592641339,
    "source_hash": null
   },
   "outputs": [
    {
     "name": "stdout",
     "output_type": "stream",
     "text": [
      "Epoch 1/5\n",
      "202/202 [==============================] - 2s 2ms/step - loss: 0.4583 - accuracy: 0.7794\n",
      "Epoch 2/5\n",
      "202/202 [==============================] - 1s 3ms/step - loss: 0.4041 - accuracy: 0.8157\n",
      "Epoch 3/5\n",
      "202/202 [==============================] - 0s 2ms/step - loss: 0.3833 - accuracy: 0.8293\n",
      "Epoch 4/5\n",
      "202/202 [==============================] - 0s 2ms/step - loss: 0.3687 - accuracy: 0.8335\n",
      "Epoch 5/5\n",
      "202/202 [==============================] - 0s 2ms/step - loss: 0.3551 - accuracy: 0.8390\n",
      "45/45 [==============================] - 0s 1ms/step\n",
      "45/45 [==============================] - 0s 1ms/step\n",
      "Epoch 1/5\n",
      "202/202 [==============================] - 2s 2ms/step - loss: 0.4639 - accuracy: 0.7845\n",
      "Epoch 2/5\n",
      "202/202 [==============================] - 0s 2ms/step - loss: 0.4070 - accuracy: 0.8139\n",
      "Epoch 3/5\n",
      "202/202 [==============================] - 0s 2ms/step - loss: 0.3885 - accuracy: 0.8227\n",
      "Epoch 4/5\n",
      "202/202 [==============================] - 0s 2ms/step - loss: 0.3685 - accuracy: 0.8342\n",
      "Epoch 5/5\n",
      "202/202 [==============================] - 0s 2ms/step - loss: 0.3559 - accuracy: 0.8419\n",
      "45/45 [==============================] - 0s 1ms/step\n",
      "45/45 [==============================] - 0s 1ms/step\n",
      "Epoch 1/5\n",
      "202/202 [==============================] - 2s 2ms/step - loss: 0.4646 - accuracy: 0.7779\n",
      "Epoch 2/5\n",
      "202/202 [==============================] - 0s 2ms/step - loss: 0.4096 - accuracy: 0.8135\n",
      "Epoch 3/5\n",
      "202/202 [==============================] - 0s 2ms/step - loss: 0.3875 - accuracy: 0.8235\n",
      "Epoch 4/5\n",
      "202/202 [==============================] - 0s 2ms/step - loss: 0.3702 - accuracy: 0.8351\n",
      "Epoch 5/5\n",
      "202/202 [==============================] - 0s 2ms/step - loss: 0.3591 - accuracy: 0.8416\n",
      "45/45 [==============================] - 0s 1ms/step\n",
      "45/45 [==============================] - 0s 1ms/step\n",
      "Epoch 1/5\n",
      "202/202 [==============================] - 2s 2ms/step - loss: 0.4596 - accuracy: 0.7830\n",
      "Epoch 2/5\n",
      "202/202 [==============================] - 0s 2ms/step - loss: 0.4055 - accuracy: 0.8133\n",
      "Epoch 3/5\n",
      "202/202 [==============================] - 0s 2ms/step - loss: 0.3845 - accuracy: 0.8237\n",
      "Epoch 4/5\n",
      "202/202 [==============================] - 0s 2ms/step - loss: 0.3714 - accuracy: 0.8345\n",
      "Epoch 5/5\n",
      "202/202 [==============================] - 0s 2ms/step - loss: 0.3541 - accuracy: 0.8427\n",
      "45/45 [==============================] - 0s 1ms/step\n",
      "45/45 [==============================] - 0s 1ms/step\n",
      "Epoch 1/5\n",
      "202/202 [==============================] - 3s 2ms/step - loss: 0.4641 - accuracy: 0.7794\n",
      "Epoch 2/5\n",
      "202/202 [==============================] - 1s 5ms/step - loss: 0.4096 - accuracy: 0.8096\n",
      "Epoch 3/5\n",
      "202/202 [==============================] - 1s 6ms/step - loss: 0.3879 - accuracy: 0.8248\n",
      "Epoch 4/5\n",
      "202/202 [==============================] - 1s 6ms/step - loss: 0.3659 - accuracy: 0.8332\n",
      "Epoch 5/5\n",
      "202/202 [==============================] - 1s 6ms/step - loss: 0.3551 - accuracy: 0.8363\n",
      "45/45 [==============================] - 0s 1ms/step\n",
      "45/45 [==============================] - 0s 1ms/step\n",
      "Epoch 1/5\n",
      "202/202 [==============================] - 1s 2ms/step - loss: 0.4618 - accuracy: 0.7840\n",
      "Epoch 2/5\n",
      "202/202 [==============================] - 0s 2ms/step - loss: 0.4094 - accuracy: 0.8156\n",
      "Epoch 3/5\n",
      "202/202 [==============================] - 0s 2ms/step - loss: 0.3885 - accuracy: 0.8263\n",
      "Epoch 4/5\n",
      "202/202 [==============================] - 1s 3ms/step - loss: 0.3702 - accuracy: 0.8336\n",
      "Epoch 5/5\n",
      "202/202 [==============================] - 1s 6ms/step - loss: 0.3571 - accuracy: 0.8376\n",
      "45/45 [==============================] - 0s 1ms/step\n",
      "45/45 [==============================] - 0s 1ms/step\n",
      "Epoch 1/5\n",
      "202/202 [==============================] - 1s 2ms/step - loss: 0.4568 - accuracy: 0.7820\n",
      "Epoch 2/5\n",
      "202/202 [==============================] - 0s 2ms/step - loss: 0.4060 - accuracy: 0.8152\n",
      "Epoch 3/5\n",
      "202/202 [==============================] - 0s 2ms/step - loss: 0.3861 - accuracy: 0.8243\n",
      "Epoch 4/5\n",
      "202/202 [==============================] - 0s 2ms/step - loss: 0.3717 - accuracy: 0.8321\n",
      "Epoch 5/5\n",
      "202/202 [==============================] - 0s 2ms/step - loss: 0.3554 - accuracy: 0.8397\n",
      "45/45 [==============================] - 0s 1ms/step\n",
      "45/45 [==============================] - 0s 1ms/step\n",
      "Epoch 1/5\n",
      "202/202 [==============================] - 2s 2ms/step - loss: 0.4702 - accuracy: 0.7769\n",
      "Epoch 2/5\n",
      "202/202 [==============================] - 0s 2ms/step - loss: 0.4080 - accuracy: 0.8125\n",
      "Epoch 3/5\n",
      "202/202 [==============================] - 0s 2ms/step - loss: 0.3893 - accuracy: 0.8217\n",
      "Epoch 4/5\n",
      "202/202 [==============================] - 0s 2ms/step - loss: 0.3728 - accuracy: 0.8319\n",
      "Epoch 5/5\n",
      "202/202 [==============================] - 0s 2ms/step - loss: 0.3535 - accuracy: 0.8416\n",
      "45/45 [==============================] - 0s 1ms/step\n",
      "45/45 [==============================] - 0s 1ms/step\n",
      "Epoch 1/5\n",
      "202/202 [==============================] - 1s 2ms/step - loss: 0.4646 - accuracy: 0.7833\n",
      "Epoch 2/5\n",
      "202/202 [==============================] - 0s 2ms/step - loss: 0.4107 - accuracy: 0.8133\n",
      "Epoch 3/5\n",
      "202/202 [==============================] - 0s 2ms/step - loss: 0.3909 - accuracy: 0.8238\n",
      "Epoch 4/5\n",
      "202/202 [==============================] - 0s 2ms/step - loss: 0.3749 - accuracy: 0.8314\n",
      "Epoch 5/5\n",
      "202/202 [==============================] - 0s 2ms/step - loss: 0.3600 - accuracy: 0.8400\n",
      "45/45 [==============================] - 0s 1ms/step\n",
      "45/45 [==============================] - 0s 1ms/step\n",
      "Epoch 1/5\n",
      "202/202 [==============================] - 1s 2ms/step - loss: 0.4626 - accuracy: 0.7811\n",
      "Epoch 2/5\n",
      "202/202 [==============================] - 0s 2ms/step - loss: 0.4038 - accuracy: 0.8155\n",
      "Epoch 3/5\n",
      "202/202 [==============================] - 0s 2ms/step - loss: 0.3849 - accuracy: 0.8236\n",
      "Epoch 4/5\n",
      "202/202 [==============================] - 1s 3ms/step - loss: 0.3684 - accuracy: 0.8314\n",
      "Epoch 5/5\n",
      "202/202 [==============================] - 1s 5ms/step - loss: 0.3525 - accuracy: 0.8411\n",
      "45/45 [==============================] - 0s 1ms/step\n",
      "45/45 [==============================] - 0s 1ms/step\n",
      "The average accuracy is: 81.88%\n",
      "The average classification error is: 18.12%\n",
      "The average sensitivity is: 86.28%\n",
      "The average precision is: 83.72%\n",
      "The average specificity is: 75.46%\n",
      "The average f1 score is: 84.96%\n",
      "The average AUC Score is: 89.69%\n"
     ]
    },
    {
     "data": {
      "application/vnd.plotly.v1+json": {
       "config": {
        "plotlyServerURL": "https://plot.ly"
       },
       "data": [
        {
         "fillpattern": {
          "shape": ""
         },
         "hovertemplate": "Average False Positive Rate=%{x}<br>Average True Positive Rate=%{y}<extra></extra>",
         "legendgroup": "",
         "line": {
          "color": "#636efa"
         },
         "marker": {
          "symbol": "circle"
         },
         "mode": "lines",
         "name": "",
         "orientation": "v",
         "showlegend": false,
         "stackgroup": "1",
         "type": "scatter",
         "x": [
          0,
          0,
          0,
          0.001712622395241323,
          0.001712622395241323,
          0.003254059597668037,
          0.003254059597668037,
          0.005137867185723968,
          0.005137867185723968,
          0.007021674773779901,
          0.007021674773779901,
          0.008734297169021223,
          0.008734297169021223,
          0.010446919564262545,
          0.010446919564262545,
          0.012159541959503868,
          0.012159541959503868,
          0.01421465395011871,
          0.01421465395011871,
          0.01626988515047785,
          0.01626988515047785,
          0.017811203143160266,
          0.017811203143160266,
          0.01935264034558698,
          0.01935264034558698,
          0.02123656714338721,
          0.02123656714338721,
          0.02312049394118744,
          0.02312049394118744,
          0.02500430152924337,
          0.02500430152924337,
          0.026716923924484697,
          0.026716923924484697,
          0.02860073151254063,
          0.02860073151254063,
          0.03031335390778195,
          0.03031335390778195,
          0.032197280705582185,
          0.032197280705582185,
          0.03390990310082351,
          0.03390990310082351,
          0.036136200284252955,
          0.036136200284252955,
          0.03784882267949428,
          0.03784882267949428,
          0.03973263026755021,
          0.03973263026755021,
          0.041616731483724176,
          0.041616731483724176,
          0.043842909457409325,
          0.043842909457409325,
          0.045726836255209555,
          0.045726836255209555,
          0.047439458650450884,
          0.047439458650450884,
          0.04932326623850681,
          0.04932326623850681,
          0.05154973784031,
          0.05154973784031,
          0.05377603502373945,
          0.05377603502373945,
          0.05548865741898077,
          0.05548865741898077,
          0.05771483539266592,
          0.05771483539266592,
          0.05977006659302506,
          0.05977006659302506,
          0.061996776614316844,
          0.061996776614316844,
          0.06422319300749059,
          0.06422319300749059,
          0.06610711980529083,
          0.06610711980529083,
          0.06867614500358238,
          0.06867614500358238,
          0.07107392100794449,
          0.07107392100794449,
          0.07278654340318581,
          0.07278654340318581,
          0.07449916579842714,
          0.07449916579842714,
          0.07689676738441548,
          0.07689676738441548,
          0.07895217300314836,
          0.07895217300314836,
          0.08066479539838968,
          0.08066479539838968,
          0.08289109258181913,
          0.08289109258181913,
          0.08597355414881022,
          0.08597355414881022,
          0.08819973212249538,
          0.08819973212249538,
          0.08991235451773671,
          0.08991235451773671,
          0.09213877091091044,
          0.09213877091091044,
          0.09470743847996912,
          0.09470743847996912,
          0.09676272488895771,
          0.09676272488895771,
          0.09881783687957253,
          0.09881783687957253,
          0.10121555767530518,
          0.10121555767530518,
          0.10378446366385247,
          0.10378446366385247,
          0.10635360807188834,
          0.10635360807188834,
          0.10909358004350588,
          0.10909358004350588,
          0.11132005164530909,
          0.11132005164530909,
          0.11354664245685656,
          0.11354664245685656,
          0.11594412483310063,
          0.11594412483310063,
          0.11799953045183349,
          0.11817071564464811,
          0.12022594684500723,
          0.12039713203782185,
          0.12245253765655474,
          0.12262372284936933,
          0.12553488001380156,
          0.12570606520661615,
          0.12844627559772231,
          0.12861746079053693,
          0.1306728664092698,
          0.13084405160208443,
          0.13324189160756136,
          0.13341307680037598,
          0.13598198278892323,
          0.13615316798173785,
          0.1382081607626084,
          0.138379345955423,
          0.14026339196296755,
          0.14060576234859673,
          0.1423186783719561,
          0.1424898635647707,
          0.14505882476194742,
          0.14523000995476204,
          0.1479703395556125,
          0.14814152474842712,
          0.15019687515853056,
          0.1505392455441598,
          0.1531082707424513,
          0.15327945593526593,
          0.15567681910176567,
          0.1558480042945803,
          0.1585883338954308,
          0.15875951908824537,
          0.16081475028860454,
          0.16098593548141915,
          0.1633835370674075,
          0.1635547222602221,
          0.1661233898292808,
          0.1662945750220954,
          0.16920614502438988,
          0.1693773302172045,
          0.1722887258011253,
          0.17245991099393992,
          0.17537130657786068,
          0.1755424917706753,
          0.1779403317761523,
          0.17862507254741072,
          0.18170800216089353,
          0.18222155773933738,
          0.18427655052020792,
          0.18461892090583715,
          0.1871879461041287,
          0.18753031648975793,
          0.19009963531616753,
          0.19061319089461135,
          0.19369582687997616,
          0.19420938245842,
          0.196607516092015,
          0.1967787012848296,
          0.1993476072733769,
          0.1995187924661915,
          0.20174520885936523,
          0.20191639405217984,
          0.20465672365303028,
          0.2048279088458449,
          0.20688302083645976,
          0.20705420602927438,
          0.210822289251878,
          0.2109934744446926,
          0.21356249964298418,
          0.21390487002861341,
          0.21733041723969954,
          0.21750160243251415,
          0.2200706276308057,
          0.22024181282362026,
          0.2221258588311648,
          0.22281059960242328,
          0.22589335479753242,
          0.226064539990347,
          0.2288046863803383,
          0.22948942715159673,
          0.23274331233089102,
          0.23291449752370563,
          0.2359966014614639,
          0.23702371261835153,
          0.23925036743101383,
          0.23976392300945767,
          0.24250425261030817,
          0.24318899338156658,
          0.2464428785608609,
          0.2466140637536755,
          0.24918332737145563,
          0.24935451256427024,
          0.25209448453588784,
          0.25226566972870246,
          0.255006586585789,
          0.2551777717786036,
          0.25963048535520683,
          0.25980167054802145,
          0.26356982656422534,
          0.2639121969498545,
          0.26665204971172785,
          0.2675079756758009,
          0.2700770560827219,
          0.27024824127553654,
          0.2721324617014548,
          0.27264601727989857,
          0.27590026008842583,
          0.276242630474055,
          0.28035279045416983,
          0.2808663460326137,
          0.2839486883898604,
          0.28429105877548966,
          0.2890857298998597,
          0.2892569150926743,
          0.292339615079154,
          0.29251080027196863,
          0.2952510106630748,
          0.29559338104870403,
          0.29953323672035836,
          0.299704421913173,
          0.30244487072376774,
          0.3029584263022116,
          0.30638361588406476,
          0.30723954184813784,
          0.31306251622683856,
          0.3132337014196532,
          0.316659129420995,
          0.31734387019225346,
          0.32145397496373884,
          0.32179634534936796,
          0.3250499921091736,
          0.3262482884588759,
          0.3305317530297465,
          0.33070293822256114,
          0.33378575741878513,
          0.33412812780441437,
          0.33909439695946136,
          0.33977913773071977,
          0.34183436893107894,
          0.34251910970233734,
          0.34697188728005546,
          0.3478278132441285,
          0.35176715445314705,
          0.35193833964596166,
          0.35604838920881754,
          0.35639075959444677,
          0.35930262322485934,
          0.3596449936104886,
          0.3666679796914557,
          0.36803746123397263,
          0.3730040880182526,
          0.373688828789511,
          0.378828181700796,
          0.3795129224720544,
          0.3834526677264498,
          0.3843085936905229,
          0.3882473940594494,
          0.3889321348307078,
          0.3937281172622652,
          0.3942416728407091,
          0.40109169437518255,
          0.4012628795679971,
          0.4075991711056531,
          0.4082839118769115,
          0.41581961906811243,
          0.41599080426092705,
          0.4207866674827402,
          0.4209578526755548,
          0.426609577860326,
          0.42763668901721363,
          0.43551530743413586,
          0.4356864926269505,
          0.44236682348665585,
          0.4427091938722851,
          0.44853245308661843,
          0.4497307494363207,
          0.4550405634894691,
          0.45521174868228365,
          0.45966599440059186,
          0.46137784632873796,
          0.46651649277404267,
          0.4668588631596719,
          0.47165418554139293,
          0.4718253707342075,
          0.48090383522750785,
          0.48193094638439554,
          0.486384430428094,
          0.48809628235624003,
          0.493405747572641,
          0.49357693276545556,
          0.49871385506571053,
          0.49888504025852515,
          0.5081339194775449,
          0.5083051046703595,
          0.5154993047753145,
          0.517895897474719,
          0.5268033888172371,
          0.5271457592028663,
          0.5379377357682474,
          0.5384512913466912,
          0.5454733877508189,
          0.5458157581364482,
          0.553008984524761,
          0.5533513549103902,
          0.5658556602428948,
          0.5663692158213387,
          0.5780138444790673,
          0.5785274000575111,
          0.593941452076204,
          0.5954821188115355,
          0.6120941710980956,
          0.6131212822549833,
          0.6254532830908306,
          0.6269939498261621,
          0.6446375641075244,
          0.6453223048787828,
          0.6581700271071589,
          0.6588547678784173,
          0.6694729366366095,
          0.6701576774078678,
          0.7069751789657654,
          0.5102137739311088,
          0.5163802467917669,
          0.5184344691055421,
          0.5365911420876834,
          0.5383029940158295,
          0.5530332476950159,
          0.45436095814313016,
          0.4601835108914831,
          0.46377839994058995,
          0.4755962516029887,
          0.4764521775670617,
          0.4874152577391718,
          0.48775762812480106,
          0.5012895766617999,
          0.5019743174330583,
          0.5132811721302729,
          0.41392414180712866,
          0.4312181930408284,
          0.43207411900490145,
          0.4464614287421418,
          0.4474885398990294,
          0.45313842172900676,
          0.45348079211463593,
          0.47128565710266057,
          0.4745381757661382,
          0.49029082742106983,
          0.49320097569891813,
          0.49748307375397194,
          0.404700699248454,
          0.41600292235061176,
          0.4237062560272692,
          0.33247066803141745,
          0.33247066803141745,
          0.357640339853461,
          0.25766818724972945,
          0.26691641521139825,
          0.26691641521139825,
          0.2744570237020346,
          0.2744570237020346,
          0.28935840102663773,
          0.1893862484229062,
          0.2000139236981342
         ],
         "xaxis": "x",
         "y": [
          0,
          0.0011730207397847676,
          0.0977088180704047,
          0.0977088180704047,
          0.13277495432991912,
          0.13300963074448185,
          0.1846284219496571,
          0.1846284219496571,
          0.24292946555960476,
          0.24292946555960476,
          0.26298927789336063,
          0.26298927789336063,
          0.2905555624296961,
          0.2905555624296961,
          0.30768408029928657,
          0.30768408029928657,
          0.3348996093233571,
          0.3348996093233571,
          0.3460436035027058,
          0.3460436035027058,
          0.36352375626876215,
          0.3637583207965333,
          0.37877468579548856,
          0.37900936221005127,
          0.39754264710284115,
          0.39754264710284115,
          0.40950676878227743,
          0.40950676878227743,
          0.4195930032431735,
          0.4195930032431735,
          0.43789478210261146,
          0.43789478210261146,
          0.44751472950910626,
          0.44751472950910626,
          0.4586596260630925,
          0.4586596260630925,
          0.4705072651626639,
          0.4705072651626639,
          0.4866937529568671,
          0.4866937529568671,
          0.4968991744393232,
          0.4968991744393232,
          0.505461105400823,
          0.505461105400823,
          0.5132032544851326,
          0.5132032544851326,
          0.5198897302331134,
          0.5198897302331134,
          0.5284526451853009,
          0.5284526451853009,
          0.5364280088755775,
          0.5364280088755775,
          0.5441701671560617,
          0.5441701671560617,
          0.5564873012422917,
          0.5564873012422917,
          0.5645812063060334,
          0.5645812063060334,
          0.5700947896775006,
          0.5700947896775006,
          0.5744345269525081,
          0.5744345269525081,
          0.5838189844661574,
          0.5838189844661574,
          0.5883945894435189,
          0.5883945894435189,
          0.5940249818590511,
          0.5940249818590511,
          0.599069074841947,
          0.599069074841947,
          0.6070454014483444,
          0.6070454014483444,
          0.6111509566031766,
          0.6111509566031766,
          0.6178367050870122,
          0.6178367050870122,
          0.6239350536626449,
          0.6239350536626449,
          0.629331023707939,
          0.629331023707939,
          0.6333193782149357,
          0.6333193782149357,
          0.6394186805105143,
          0.6394186805105143,
          0.643876138400399,
          0.643876138400399,
          0.6515005971405731,
          0.6515005971405731,
          0.656662643708104,
          0.656662643708104,
          0.6645221053270406,
          0.6645221053270406,
          0.6675720082201111,
          0.6675720082201111,
          0.672381622889373,
          0.672381622889373,
          0.6751966815376934,
          0.6751966815376934,
          0.6815310564496928,
          0.6815310564496928,
          0.6869268283940579,
          0.6869268283940579,
          0.6907977071343274,
          0.6907977071343274,
          0.693612989556231,
          0.693612989556231,
          0.6981862514249262,
          0.6981862514249262,
          0.7011185969352194,
          0.7011185969352194,
          0.7051061306836284,
          0.7051061306836284,
          0.7095638682904921,
          0.7095638682904921,
          0.7130829305098464,
          0.7130829305098464,
          0.716952739045291,
          0.7171874154598536,
          0.7205891697426683,
          0.7207065079499497,
          0.7256327124877808,
          0.7262194035241878,
          0.7313799626104689,
          0.7314973008177503,
          0.735368041998574,
          0.7358373948276995,
          0.7393562892168664,
          0.7398256420459919,
          0.7431098600205961,
          0.7433445364351589,
          0.7451040547085088,
          0.7455734075376343,
          0.7472153124848115,
          0.7473326506920929,
          0.7506171181129344,
          0.7509691327347785,
          0.7537844408293362,
          0.7548404846948684,
          0.7577725202174412,
          0.7581245348392854,
          0.7605881080289778,
          0.7608227844435407,
          0.7649285120266476,
          0.7650458502339289,
          0.767274553506217,
          0.7673918917134984,
          0.7718494660882622,
          0.7719668042955434,
          0.774430097768257,
          0.7745474359755384,
          0.7784179625789536,
          0.778535300786235,
          0.7826397297928466,
          0.782757068000128,
          0.7855723760946858,
          0.7856897143019671,
          0.7875666523986484,
          0.7878013288132111,
          0.7906163617888772,
          0.7907336999961585,
          0.7939008548823729,
          0.7940181930896543,
          0.7980061092456594,
          0.7982407856602222,
          0.8000003039335721,
          0.8001176421408536,
          0.8038711056558788,
          0.8046924731068487,
          0.8069213698819783,
          0.8073907227111038,
          0.8100884688247969,
          0.8103231452393597,
          0.8124344030156623,
          0.8126690794302249,
          0.8152495222054656,
          0.8159535514491538,
          0.8191207109334556,
          0.8197074019698626,
          0.8219361868582008,
          0.822640216101889,
          0.8270975364323279,
          0.8274495510541722,
          0.8320244636362172,
          0.8322591400507798,
          0.8341361340908571,
          0.8343708105054198,
          0.8364821755704266,
          0.8367168519849892,
          0.8405870521242044,
          0.8408217285387671,
          0.843285108225618,
          0.8435197846401808,
          0.8458659077358004,
          0.8459832459430817,
          0.8482120051587658,
          0.8487986961951728,
          0.8520828371518141,
          0.8523175135663769,
          0.8544288226879879,
          0.8545461608952692,
          0.8574788071971082,
          0.857713483611671,
          0.8592381879110127,
          0.8594728643255755,
          0.8633435541610904,
          0.8634608923683718,
          0.8651029348749948,
          0.865454949496839,
          0.8673318059774703,
          0.8678011588065957,
          0.8701471186701152,
          0.8702644568773966,
          0.8717891868493923,
          0.8719065250566737,
          0.8741350650968618,
          0.8742524033041432,
          0.876129066281933,
          0.8764810809037771,
          0.8778887221147288,
          0.8780060603220102,
          0.8797656602114103,
          0.8804696894550985,
          0.8825811361361553,
          0.8826984743434367,
          0.8843405168500595,
          0.8845751932646224,
          0.886217317387295,
          0.8863346555945765,
          0.8880940922518766,
          0.8884461068737207,
          0.8910269623272988,
          0.8911443005345803,
          0.8933730294795227,
          0.8936077058940853,
          0.8951325477528727,
          0.895601900581998,
          0.8974787827352837,
          0.8975961209425651,
          0.8995903715738737,
          0.899707709781155,
          0.9012325773125966,
          0.9013499155198781,
          0.9033440285917407,
          0.9034613667990221,
          0.9056897949524186,
          0.9059244713669813,
          0.9072147743706517,
          0.9075667889924958,
          0.9099128864154612,
          0.9100302246227426,
          0.9113205835698087,
          0.91143792177709,
          0.9135487925477093,
          0.9136661307549907,
          0.9160124776241935,
          0.9162471540387562,
          0.9181236491863587,
          0.9184756638082028,
          0.9202350142513653,
          0.9203523524586467,
          0.9221117845178596,
          0.9223464609324223,
          0.9242233733564494,
          0.9244580497710122,
          0.9257482968312867,
          0.9258656350385681,
          0.9273905025700097,
          0.9276251789845724,
          0.9293847229305768,
          0.9295020611378582,
          0.9313789432911437,
          0.931496281498425,
          0.9327864469426496,
          0.9330211233572124,
          0.9340768058897156,
          0.9341941440969971,
          0.936539768300142,
          0.9366571065074232,
          0.9379474095110937,
          0.9380647477183751,
          0.9397069534570979,
          0.9398242916643792,
          0.9414665533464979,
          0.9415838915537793,
          0.9429915327647311,
          0.9431088709720125,
          0.9447511326541311,
          0.9448684708614125,
          0.9467452713986481,
          0.9468626096059295,
          0.9487394917592151,
          0.9488568299664965,
          0.9503815902092339,
          0.9504989284165153,
          0.9519062945085752,
          0.9520236327158565,
          0.9540178274037694,
          0.9541351656110508,
          0.9555428068220025,
          0.9556601450292839,
          0.9567158275617872,
          0.9568331657690686,
          0.9583580333005102,
          0.9584753715077915,
          0.9596483922475763,
          0.9596483922475763,
          0.9611732341063637,
          0.961290572313645,
          0.9625808193739194,
          0.9626981575812008,
          0.9637538401137044,
          0.9638711783209857,
          0.965396101795823,
          0.9655134400031045,
          0.9668036054473288,
          0.9669209436546101,
          0.9680938268349492,
          0.9682111650422306,
          0.9697359509576221,
          0.9699706273721849,
          0.971730227261585,
          0.9718475654688663,
          0.9736071094148704,
          0.9738417858294331,
          0.9748974683619368,
          0.9750148065692181,
          0.9764223661641196,
          0.976539704371401,
          0.9778300633184673,
          0.9779474015257485,
          0.9791202847060876,
          0.9793549611206503,
          0.9805279818604351,
          0.9806453200677165,
          0.9820530172220641,
          0.9821703554293455,
          0.9833433761691301,
          0.9834607143764115,
          0.9846337351161963,
          0.984868411530759,
          0.785910226308524,
          0.7860275645158054,
          0.7868486265771417,
          0.7869659647844232,
          0.7880216473169267,
          0.788138985524208,
          0.6889181948750916,
          0.689035533082373,
          0.6897393128798239,
          0.6898566510871053,
          0.6906777131484417,
          0.690795051355723,
          0.691498831153174,
          0.6916161693604553,
          0.6924372873651876,
          0.6925546255724689,
          0.5930993520116316,
          0.593216690218913,
          0.5938031877524782,
          0.5939205259597596,
          0.5945070234933247,
          0.5947416999078876,
          0.5954454797053385,
          0.5955628179126198,
          0.596149315446185,
          0.5962666536534663,
          0.5968531511870316,
          0.5969704893943131,
          0.49746749611686536,
          0.4975848343241468,
          0.4981712759143163,
          0.3981991233105847,
          0.3986682826368686,
          0.3986682826368686,
          0.29904795115213956,
          0.29904795115213956,
          0.2993997722711421,
          0.2993997722711421,
          0.2997515933901446,
          0.2997515933901446,
          0.2000139236981342,
          0.2000139236981342
         ],
         "yaxis": "y"
        }
       ],
       "layout": {
        "height": 700,
        "legend": {
         "tracegroupgap": 0
        },
        "shapes": [
         {
          "line": {
           "dash": "dash"
          },
          "type": "line",
          "x0": 0,
          "x1": 1,
          "y0": 0,
          "y1": 1
         }
        ],
        "template": {
         "data": {
          "bar": [
           {
            "error_x": {
             "color": "#2a3f5f"
            },
            "error_y": {
             "color": "#2a3f5f"
            },
            "marker": {
             "line": {
              "color": "#E5ECF6",
              "width": 0.5
             },
             "pattern": {
              "fillmode": "overlay",
              "size": 10,
              "solidity": 0.2
             }
            },
            "type": "bar"
           }
          ],
          "barpolar": [
           {
            "marker": {
             "line": {
              "color": "#E5ECF6",
              "width": 0.5
             },
             "pattern": {
              "fillmode": "overlay",
              "size": 10,
              "solidity": 0.2
             }
            },
            "type": "barpolar"
           }
          ],
          "carpet": [
           {
            "aaxis": {
             "endlinecolor": "#2a3f5f",
             "gridcolor": "white",
             "linecolor": "white",
             "minorgridcolor": "white",
             "startlinecolor": "#2a3f5f"
            },
            "baxis": {
             "endlinecolor": "#2a3f5f",
             "gridcolor": "white",
             "linecolor": "white",
             "minorgridcolor": "white",
             "startlinecolor": "#2a3f5f"
            },
            "type": "carpet"
           }
          ],
          "choropleth": [
           {
            "colorbar": {
             "outlinewidth": 0,
             "ticks": ""
            },
            "type": "choropleth"
           }
          ],
          "contour": [
           {
            "colorbar": {
             "outlinewidth": 0,
             "ticks": ""
            },
            "colorscale": [
             [
              0,
              "#0d0887"
             ],
             [
              0.1111111111111111,
              "#46039f"
             ],
             [
              0.2222222222222222,
              "#7201a8"
             ],
             [
              0.3333333333333333,
              "#9c179e"
             ],
             [
              0.4444444444444444,
              "#bd3786"
             ],
             [
              0.5555555555555556,
              "#d8576b"
             ],
             [
              0.6666666666666666,
              "#ed7953"
             ],
             [
              0.7777777777777778,
              "#fb9f3a"
             ],
             [
              0.8888888888888888,
              "#fdca26"
             ],
             [
              1,
              "#f0f921"
             ]
            ],
            "type": "contour"
           }
          ],
          "contourcarpet": [
           {
            "colorbar": {
             "outlinewidth": 0,
             "ticks": ""
            },
            "type": "contourcarpet"
           }
          ],
          "heatmap": [
           {
            "colorbar": {
             "outlinewidth": 0,
             "ticks": ""
            },
            "colorscale": [
             [
              0,
              "#0d0887"
             ],
             [
              0.1111111111111111,
              "#46039f"
             ],
             [
              0.2222222222222222,
              "#7201a8"
             ],
             [
              0.3333333333333333,
              "#9c179e"
             ],
             [
              0.4444444444444444,
              "#bd3786"
             ],
             [
              0.5555555555555556,
              "#d8576b"
             ],
             [
              0.6666666666666666,
              "#ed7953"
             ],
             [
              0.7777777777777778,
              "#fb9f3a"
             ],
             [
              0.8888888888888888,
              "#fdca26"
             ],
             [
              1,
              "#f0f921"
             ]
            ],
            "type": "heatmap"
           }
          ],
          "heatmapgl": [
           {
            "colorbar": {
             "outlinewidth": 0,
             "ticks": ""
            },
            "colorscale": [
             [
              0,
              "#0d0887"
             ],
             [
              0.1111111111111111,
              "#46039f"
             ],
             [
              0.2222222222222222,
              "#7201a8"
             ],
             [
              0.3333333333333333,
              "#9c179e"
             ],
             [
              0.4444444444444444,
              "#bd3786"
             ],
             [
              0.5555555555555556,
              "#d8576b"
             ],
             [
              0.6666666666666666,
              "#ed7953"
             ],
             [
              0.7777777777777778,
              "#fb9f3a"
             ],
             [
              0.8888888888888888,
              "#fdca26"
             ],
             [
              1,
              "#f0f921"
             ]
            ],
            "type": "heatmapgl"
           }
          ],
          "histogram": [
           {
            "marker": {
             "pattern": {
              "fillmode": "overlay",
              "size": 10,
              "solidity": 0.2
             }
            },
            "type": "histogram"
           }
          ],
          "histogram2d": [
           {
            "colorbar": {
             "outlinewidth": 0,
             "ticks": ""
            },
            "colorscale": [
             [
              0,
              "#0d0887"
             ],
             [
              0.1111111111111111,
              "#46039f"
             ],
             [
              0.2222222222222222,
              "#7201a8"
             ],
             [
              0.3333333333333333,
              "#9c179e"
             ],
             [
              0.4444444444444444,
              "#bd3786"
             ],
             [
              0.5555555555555556,
              "#d8576b"
             ],
             [
              0.6666666666666666,
              "#ed7953"
             ],
             [
              0.7777777777777778,
              "#fb9f3a"
             ],
             [
              0.8888888888888888,
              "#fdca26"
             ],
             [
              1,
              "#f0f921"
             ]
            ],
            "type": "histogram2d"
           }
          ],
          "histogram2dcontour": [
           {
            "colorbar": {
             "outlinewidth": 0,
             "ticks": ""
            },
            "colorscale": [
             [
              0,
              "#0d0887"
             ],
             [
              0.1111111111111111,
              "#46039f"
             ],
             [
              0.2222222222222222,
              "#7201a8"
             ],
             [
              0.3333333333333333,
              "#9c179e"
             ],
             [
              0.4444444444444444,
              "#bd3786"
             ],
             [
              0.5555555555555556,
              "#d8576b"
             ],
             [
              0.6666666666666666,
              "#ed7953"
             ],
             [
              0.7777777777777778,
              "#fb9f3a"
             ],
             [
              0.8888888888888888,
              "#fdca26"
             ],
             [
              1,
              "#f0f921"
             ]
            ],
            "type": "histogram2dcontour"
           }
          ],
          "mesh3d": [
           {
            "colorbar": {
             "outlinewidth": 0,
             "ticks": ""
            },
            "type": "mesh3d"
           }
          ],
          "parcoords": [
           {
            "line": {
             "colorbar": {
              "outlinewidth": 0,
              "ticks": ""
             }
            },
            "type": "parcoords"
           }
          ],
          "pie": [
           {
            "automargin": true,
            "type": "pie"
           }
          ],
          "scatter": [
           {
            "fillpattern": {
             "fillmode": "overlay",
             "size": 10,
             "solidity": 0.2
            },
            "type": "scatter"
           }
          ],
          "scatter3d": [
           {
            "line": {
             "colorbar": {
              "outlinewidth": 0,
              "ticks": ""
             }
            },
            "marker": {
             "colorbar": {
              "outlinewidth": 0,
              "ticks": ""
             }
            },
            "type": "scatter3d"
           }
          ],
          "scattercarpet": [
           {
            "marker": {
             "colorbar": {
              "outlinewidth": 0,
              "ticks": ""
             }
            },
            "type": "scattercarpet"
           }
          ],
          "scattergeo": [
           {
            "marker": {
             "colorbar": {
              "outlinewidth": 0,
              "ticks": ""
             }
            },
            "type": "scattergeo"
           }
          ],
          "scattergl": [
           {
            "marker": {
             "colorbar": {
              "outlinewidth": 0,
              "ticks": ""
             }
            },
            "type": "scattergl"
           }
          ],
          "scattermapbox": [
           {
            "marker": {
             "colorbar": {
              "outlinewidth": 0,
              "ticks": ""
             }
            },
            "type": "scattermapbox"
           }
          ],
          "scatterpolar": [
           {
            "marker": {
             "colorbar": {
              "outlinewidth": 0,
              "ticks": ""
             }
            },
            "type": "scatterpolar"
           }
          ],
          "scatterpolargl": [
           {
            "marker": {
             "colorbar": {
              "outlinewidth": 0,
              "ticks": ""
             }
            },
            "type": "scatterpolargl"
           }
          ],
          "scatterternary": [
           {
            "marker": {
             "colorbar": {
              "outlinewidth": 0,
              "ticks": ""
             }
            },
            "type": "scatterternary"
           }
          ],
          "surface": [
           {
            "colorbar": {
             "outlinewidth": 0,
             "ticks": ""
            },
            "colorscale": [
             [
              0,
              "#0d0887"
             ],
             [
              0.1111111111111111,
              "#46039f"
             ],
             [
              0.2222222222222222,
              "#7201a8"
             ],
             [
              0.3333333333333333,
              "#9c179e"
             ],
             [
              0.4444444444444444,
              "#bd3786"
             ],
             [
              0.5555555555555556,
              "#d8576b"
             ],
             [
              0.6666666666666666,
              "#ed7953"
             ],
             [
              0.7777777777777778,
              "#fb9f3a"
             ],
             [
              0.8888888888888888,
              "#fdca26"
             ],
             [
              1,
              "#f0f921"
             ]
            ],
            "type": "surface"
           }
          ],
          "table": [
           {
            "cells": {
             "fill": {
              "color": "#EBF0F8"
             },
             "line": {
              "color": "white"
             }
            },
            "header": {
             "fill": {
              "color": "#C8D4E3"
             },
             "line": {
              "color": "white"
             }
            },
            "type": "table"
           }
          ]
         },
         "layout": {
          "annotationdefaults": {
           "arrowcolor": "#2a3f5f",
           "arrowhead": 0,
           "arrowwidth": 1
          },
          "autotypenumbers": "strict",
          "coloraxis": {
           "colorbar": {
            "outlinewidth": 0,
            "ticks": ""
           }
          },
          "colorscale": {
           "diverging": [
            [
             0,
             "#8e0152"
            ],
            [
             0.1,
             "#c51b7d"
            ],
            [
             0.2,
             "#de77ae"
            ],
            [
             0.3,
             "#f1b6da"
            ],
            [
             0.4,
             "#fde0ef"
            ],
            [
             0.5,
             "#f7f7f7"
            ],
            [
             0.6,
             "#e6f5d0"
            ],
            [
             0.7,
             "#b8e186"
            ],
            [
             0.8,
             "#7fbc41"
            ],
            [
             0.9,
             "#4d9221"
            ],
            [
             1,
             "#276419"
            ]
           ],
           "sequential": [
            [
             0,
             "#0d0887"
            ],
            [
             0.1111111111111111,
             "#46039f"
            ],
            [
             0.2222222222222222,
             "#7201a8"
            ],
            [
             0.3333333333333333,
             "#9c179e"
            ],
            [
             0.4444444444444444,
             "#bd3786"
            ],
            [
             0.5555555555555556,
             "#d8576b"
            ],
            [
             0.6666666666666666,
             "#ed7953"
            ],
            [
             0.7777777777777778,
             "#fb9f3a"
            ],
            [
             0.8888888888888888,
             "#fdca26"
            ],
            [
             1,
             "#f0f921"
            ]
           ],
           "sequentialminus": [
            [
             0,
             "#0d0887"
            ],
            [
             0.1111111111111111,
             "#46039f"
            ],
            [
             0.2222222222222222,
             "#7201a8"
            ],
            [
             0.3333333333333333,
             "#9c179e"
            ],
            [
             0.4444444444444444,
             "#bd3786"
            ],
            [
             0.5555555555555556,
             "#d8576b"
            ],
            [
             0.6666666666666666,
             "#ed7953"
            ],
            [
             0.7777777777777778,
             "#fb9f3a"
            ],
            [
             0.8888888888888888,
             "#fdca26"
            ],
            [
             1,
             "#f0f921"
            ]
           ]
          },
          "colorway": [
           "#636efa",
           "#EF553B",
           "#00cc96",
           "#ab63fa",
           "#FFA15A",
           "#19d3f3",
           "#FF6692",
           "#B6E880",
           "#FF97FF",
           "#FECB52"
          ],
          "font": {
           "color": "#2a3f5f"
          },
          "geo": {
           "bgcolor": "white",
           "lakecolor": "white",
           "landcolor": "#E5ECF6",
           "showlakes": true,
           "showland": true,
           "subunitcolor": "white"
          },
          "hoverlabel": {
           "align": "left"
          },
          "hovermode": "closest",
          "mapbox": {
           "style": "light"
          },
          "paper_bgcolor": "white",
          "plot_bgcolor": "#E5ECF6",
          "polar": {
           "angularaxis": {
            "gridcolor": "white",
            "linecolor": "white",
            "ticks": ""
           },
           "bgcolor": "#E5ECF6",
           "radialaxis": {
            "gridcolor": "white",
            "linecolor": "white",
            "ticks": ""
           }
          },
          "scene": {
           "xaxis": {
            "backgroundcolor": "#E5ECF6",
            "gridcolor": "white",
            "gridwidth": 2,
            "linecolor": "white",
            "showbackground": true,
            "ticks": "",
            "zerolinecolor": "white"
           },
           "yaxis": {
            "backgroundcolor": "#E5ECF6",
            "gridcolor": "white",
            "gridwidth": 2,
            "linecolor": "white",
            "showbackground": true,
            "ticks": "",
            "zerolinecolor": "white"
           },
           "zaxis": {
            "backgroundcolor": "#E5ECF6",
            "gridcolor": "white",
            "gridwidth": 2,
            "linecolor": "white",
            "showbackground": true,
            "ticks": "",
            "zerolinecolor": "white"
           }
          },
          "shapedefaults": {
           "line": {
            "color": "#2a3f5f"
           }
          },
          "ternary": {
           "aaxis": {
            "gridcolor": "white",
            "linecolor": "white",
            "ticks": ""
           },
           "baxis": {
            "gridcolor": "white",
            "linecolor": "white",
            "ticks": ""
           },
           "bgcolor": "#E5ECF6",
           "caxis": {
            "gridcolor": "white",
            "linecolor": "white",
            "ticks": ""
           }
          },
          "title": {
           "x": 0.05
          },
          "xaxis": {
           "automargin": true,
           "gridcolor": "white",
           "linecolor": "white",
           "ticks": "",
           "title": {
            "standoff": 15
           },
           "zerolinecolor": "white",
           "zerolinewidth": 2
          },
          "yaxis": {
           "automargin": true,
           "gridcolor": "white",
           "linecolor": "white",
           "ticks": "",
           "title": {
            "standoff": 15
           },
           "zerolinecolor": "white",
           "zerolinewidth": 2
          }
         }
        },
        "title": {
         "text": "ROC Curve (AUC=0.8969)"
        },
        "width": 700,
        "xaxis": {
         "anchor": "y",
         "constrain": "domain",
         "domain": [
          0,
          1
         ],
         "title": {
          "text": "Average False Positive Rate"
         }
        },
        "yaxis": {
         "anchor": "x",
         "domain": [
          0,
          1
         ],
         "scaleanchor": "x",
         "scaleratio": 1,
         "title": {
          "text": "Average True Positive Rate"
         }
        }
       }
      }
     },
     "metadata": {},
     "output_type": "display_data"
    },
    {
     "data": {
      "application/vnd.plotly.v1+json": {
       "config": {
        "plotlyServerURL": "https://plot.ly"
       },
       "data": [
        {
         "hovertemplate": "K-Fold=%{x}<br>AUC Score=%{y}<extra></extra>",
         "legendgroup": "",
         "marker": {
          "color": "#636efa",
          "symbol": "circle"
         },
         "mode": "markers",
         "name": "",
         "orientation": "v",
         "showlegend": false,
         "type": "scatter",
         "x": [
          1,
          2,
          3,
          4,
          5,
          6,
          7,
          8,
          9,
          10
         ],
         "xaxis": "x",
         "y": [
          0.8920008350864796,
          0.903469222245419,
          0.8998277634135765,
          0.9000124460004175,
          0.889207498909107,
          0.9025379445623513,
          0.9024213775805519,
          0.8940566917486655,
          0.890640073316612,
          0.8951801562801466
         ],
         "yaxis": "y"
        },
        {
         "hovertemplate": "<b>OLS trendline</b><br>y = -0.000421141 * x + 0.899252<br>R<sup>2</sup>=0.056917<br><br>K-Fold=%{x}<br>AUC Score=%{y} <b>(trend)</b><extra></extra>",
         "legendgroup": "",
         "marker": {
          "color": "#636efa",
          "symbol": "circle"
         },
         "mode": "lines",
         "name": "",
         "showlegend": false,
         "type": "scatter",
         "x": [
          1,
          2,
          3,
          4,
          5,
          6,
          7,
          8,
          9,
          10
         ],
         "xaxis": "x",
         "y": [
          0.8988305355422291,
          0.8984093945138076,
          0.8979882534853861,
          0.8975671124569646,
          0.8971459714285432,
          0.8967248304001217,
          0.8963036893717002,
          0.8958825483432787,
          0.8954614073148572,
          0.8950402662864357
         ],
         "yaxis": "y"
        }
       ],
       "layout": {
        "legend": {
         "tracegroupgap": 0
        },
        "template": {
         "data": {
          "bar": [
           {
            "error_x": {
             "color": "#2a3f5f"
            },
            "error_y": {
             "color": "#2a3f5f"
            },
            "marker": {
             "line": {
              "color": "#E5ECF6",
              "width": 0.5
             },
             "pattern": {
              "fillmode": "overlay",
              "size": 10,
              "solidity": 0.2
             }
            },
            "type": "bar"
           }
          ],
          "barpolar": [
           {
            "marker": {
             "line": {
              "color": "#E5ECF6",
              "width": 0.5
             },
             "pattern": {
              "fillmode": "overlay",
              "size": 10,
              "solidity": 0.2
             }
            },
            "type": "barpolar"
           }
          ],
          "carpet": [
           {
            "aaxis": {
             "endlinecolor": "#2a3f5f",
             "gridcolor": "white",
             "linecolor": "white",
             "minorgridcolor": "white",
             "startlinecolor": "#2a3f5f"
            },
            "baxis": {
             "endlinecolor": "#2a3f5f",
             "gridcolor": "white",
             "linecolor": "white",
             "minorgridcolor": "white",
             "startlinecolor": "#2a3f5f"
            },
            "type": "carpet"
           }
          ],
          "choropleth": [
           {
            "colorbar": {
             "outlinewidth": 0,
             "ticks": ""
            },
            "type": "choropleth"
           }
          ],
          "contour": [
           {
            "colorbar": {
             "outlinewidth": 0,
             "ticks": ""
            },
            "colorscale": [
             [
              0,
              "#0d0887"
             ],
             [
              0.1111111111111111,
              "#46039f"
             ],
             [
              0.2222222222222222,
              "#7201a8"
             ],
             [
              0.3333333333333333,
              "#9c179e"
             ],
             [
              0.4444444444444444,
              "#bd3786"
             ],
             [
              0.5555555555555556,
              "#d8576b"
             ],
             [
              0.6666666666666666,
              "#ed7953"
             ],
             [
              0.7777777777777778,
              "#fb9f3a"
             ],
             [
              0.8888888888888888,
              "#fdca26"
             ],
             [
              1,
              "#f0f921"
             ]
            ],
            "type": "contour"
           }
          ],
          "contourcarpet": [
           {
            "colorbar": {
             "outlinewidth": 0,
             "ticks": ""
            },
            "type": "contourcarpet"
           }
          ],
          "heatmap": [
           {
            "colorbar": {
             "outlinewidth": 0,
             "ticks": ""
            },
            "colorscale": [
             [
              0,
              "#0d0887"
             ],
             [
              0.1111111111111111,
              "#46039f"
             ],
             [
              0.2222222222222222,
              "#7201a8"
             ],
             [
              0.3333333333333333,
              "#9c179e"
             ],
             [
              0.4444444444444444,
              "#bd3786"
             ],
             [
              0.5555555555555556,
              "#d8576b"
             ],
             [
              0.6666666666666666,
              "#ed7953"
             ],
             [
              0.7777777777777778,
              "#fb9f3a"
             ],
             [
              0.8888888888888888,
              "#fdca26"
             ],
             [
              1,
              "#f0f921"
             ]
            ],
            "type": "heatmap"
           }
          ],
          "heatmapgl": [
           {
            "colorbar": {
             "outlinewidth": 0,
             "ticks": ""
            },
            "colorscale": [
             [
              0,
              "#0d0887"
             ],
             [
              0.1111111111111111,
              "#46039f"
             ],
             [
              0.2222222222222222,
              "#7201a8"
             ],
             [
              0.3333333333333333,
              "#9c179e"
             ],
             [
              0.4444444444444444,
              "#bd3786"
             ],
             [
              0.5555555555555556,
              "#d8576b"
             ],
             [
              0.6666666666666666,
              "#ed7953"
             ],
             [
              0.7777777777777778,
              "#fb9f3a"
             ],
             [
              0.8888888888888888,
              "#fdca26"
             ],
             [
              1,
              "#f0f921"
             ]
            ],
            "type": "heatmapgl"
           }
          ],
          "histogram": [
           {
            "marker": {
             "pattern": {
              "fillmode": "overlay",
              "size": 10,
              "solidity": 0.2
             }
            },
            "type": "histogram"
           }
          ],
          "histogram2d": [
           {
            "colorbar": {
             "outlinewidth": 0,
             "ticks": ""
            },
            "colorscale": [
             [
              0,
              "#0d0887"
             ],
             [
              0.1111111111111111,
              "#46039f"
             ],
             [
              0.2222222222222222,
              "#7201a8"
             ],
             [
              0.3333333333333333,
              "#9c179e"
             ],
             [
              0.4444444444444444,
              "#bd3786"
             ],
             [
              0.5555555555555556,
              "#d8576b"
             ],
             [
              0.6666666666666666,
              "#ed7953"
             ],
             [
              0.7777777777777778,
              "#fb9f3a"
             ],
             [
              0.8888888888888888,
              "#fdca26"
             ],
             [
              1,
              "#f0f921"
             ]
            ],
            "type": "histogram2d"
           }
          ],
          "histogram2dcontour": [
           {
            "colorbar": {
             "outlinewidth": 0,
             "ticks": ""
            },
            "colorscale": [
             [
              0,
              "#0d0887"
             ],
             [
              0.1111111111111111,
              "#46039f"
             ],
             [
              0.2222222222222222,
              "#7201a8"
             ],
             [
              0.3333333333333333,
              "#9c179e"
             ],
             [
              0.4444444444444444,
              "#bd3786"
             ],
             [
              0.5555555555555556,
              "#d8576b"
             ],
             [
              0.6666666666666666,
              "#ed7953"
             ],
             [
              0.7777777777777778,
              "#fb9f3a"
             ],
             [
              0.8888888888888888,
              "#fdca26"
             ],
             [
              1,
              "#f0f921"
             ]
            ],
            "type": "histogram2dcontour"
           }
          ],
          "mesh3d": [
           {
            "colorbar": {
             "outlinewidth": 0,
             "ticks": ""
            },
            "type": "mesh3d"
           }
          ],
          "parcoords": [
           {
            "line": {
             "colorbar": {
              "outlinewidth": 0,
              "ticks": ""
             }
            },
            "type": "parcoords"
           }
          ],
          "pie": [
           {
            "automargin": true,
            "type": "pie"
           }
          ],
          "scatter": [
           {
            "fillpattern": {
             "fillmode": "overlay",
             "size": 10,
             "solidity": 0.2
            },
            "type": "scatter"
           }
          ],
          "scatter3d": [
           {
            "line": {
             "colorbar": {
              "outlinewidth": 0,
              "ticks": ""
             }
            },
            "marker": {
             "colorbar": {
              "outlinewidth": 0,
              "ticks": ""
             }
            },
            "type": "scatter3d"
           }
          ],
          "scattercarpet": [
           {
            "marker": {
             "colorbar": {
              "outlinewidth": 0,
              "ticks": ""
             }
            },
            "type": "scattercarpet"
           }
          ],
          "scattergeo": [
           {
            "marker": {
             "colorbar": {
              "outlinewidth": 0,
              "ticks": ""
             }
            },
            "type": "scattergeo"
           }
          ],
          "scattergl": [
           {
            "marker": {
             "colorbar": {
              "outlinewidth": 0,
              "ticks": ""
             }
            },
            "type": "scattergl"
           }
          ],
          "scattermapbox": [
           {
            "marker": {
             "colorbar": {
              "outlinewidth": 0,
              "ticks": ""
             }
            },
            "type": "scattermapbox"
           }
          ],
          "scatterpolar": [
           {
            "marker": {
             "colorbar": {
              "outlinewidth": 0,
              "ticks": ""
             }
            },
            "type": "scatterpolar"
           }
          ],
          "scatterpolargl": [
           {
            "marker": {
             "colorbar": {
              "outlinewidth": 0,
              "ticks": ""
             }
            },
            "type": "scatterpolargl"
           }
          ],
          "scatterternary": [
           {
            "marker": {
             "colorbar": {
              "outlinewidth": 0,
              "ticks": ""
             }
            },
            "type": "scatterternary"
           }
          ],
          "surface": [
           {
            "colorbar": {
             "outlinewidth": 0,
             "ticks": ""
            },
            "colorscale": [
             [
              0,
              "#0d0887"
             ],
             [
              0.1111111111111111,
              "#46039f"
             ],
             [
              0.2222222222222222,
              "#7201a8"
             ],
             [
              0.3333333333333333,
              "#9c179e"
             ],
             [
              0.4444444444444444,
              "#bd3786"
             ],
             [
              0.5555555555555556,
              "#d8576b"
             ],
             [
              0.6666666666666666,
              "#ed7953"
             ],
             [
              0.7777777777777778,
              "#fb9f3a"
             ],
             [
              0.8888888888888888,
              "#fdca26"
             ],
             [
              1,
              "#f0f921"
             ]
            ],
            "type": "surface"
           }
          ],
          "table": [
           {
            "cells": {
             "fill": {
              "color": "#EBF0F8"
             },
             "line": {
              "color": "white"
             }
            },
            "header": {
             "fill": {
              "color": "#C8D4E3"
             },
             "line": {
              "color": "white"
             }
            },
            "type": "table"
           }
          ]
         },
         "layout": {
          "annotationdefaults": {
           "arrowcolor": "#2a3f5f",
           "arrowhead": 0,
           "arrowwidth": 1
          },
          "autotypenumbers": "strict",
          "coloraxis": {
           "colorbar": {
            "outlinewidth": 0,
            "ticks": ""
           }
          },
          "colorscale": {
           "diverging": [
            [
             0,
             "#8e0152"
            ],
            [
             0.1,
             "#c51b7d"
            ],
            [
             0.2,
             "#de77ae"
            ],
            [
             0.3,
             "#f1b6da"
            ],
            [
             0.4,
             "#fde0ef"
            ],
            [
             0.5,
             "#f7f7f7"
            ],
            [
             0.6,
             "#e6f5d0"
            ],
            [
             0.7,
             "#b8e186"
            ],
            [
             0.8,
             "#7fbc41"
            ],
            [
             0.9,
             "#4d9221"
            ],
            [
             1,
             "#276419"
            ]
           ],
           "sequential": [
            [
             0,
             "#0d0887"
            ],
            [
             0.1111111111111111,
             "#46039f"
            ],
            [
             0.2222222222222222,
             "#7201a8"
            ],
            [
             0.3333333333333333,
             "#9c179e"
            ],
            [
             0.4444444444444444,
             "#bd3786"
            ],
            [
             0.5555555555555556,
             "#d8576b"
            ],
            [
             0.6666666666666666,
             "#ed7953"
            ],
            [
             0.7777777777777778,
             "#fb9f3a"
            ],
            [
             0.8888888888888888,
             "#fdca26"
            ],
            [
             1,
             "#f0f921"
            ]
           ],
           "sequentialminus": [
            [
             0,
             "#0d0887"
            ],
            [
             0.1111111111111111,
             "#46039f"
            ],
            [
             0.2222222222222222,
             "#7201a8"
            ],
            [
             0.3333333333333333,
             "#9c179e"
            ],
            [
             0.4444444444444444,
             "#bd3786"
            ],
            [
             0.5555555555555556,
             "#d8576b"
            ],
            [
             0.6666666666666666,
             "#ed7953"
            ],
            [
             0.7777777777777778,
             "#fb9f3a"
            ],
            [
             0.8888888888888888,
             "#fdca26"
            ],
            [
             1,
             "#f0f921"
            ]
           ]
          },
          "colorway": [
           "#636efa",
           "#EF553B",
           "#00cc96",
           "#ab63fa",
           "#FFA15A",
           "#19d3f3",
           "#FF6692",
           "#B6E880",
           "#FF97FF",
           "#FECB52"
          ],
          "font": {
           "color": "#2a3f5f"
          },
          "geo": {
           "bgcolor": "white",
           "lakecolor": "white",
           "landcolor": "#E5ECF6",
           "showlakes": true,
           "showland": true,
           "subunitcolor": "white"
          },
          "hoverlabel": {
           "align": "left"
          },
          "hovermode": "closest",
          "mapbox": {
           "style": "light"
          },
          "paper_bgcolor": "white",
          "plot_bgcolor": "#E5ECF6",
          "polar": {
           "angularaxis": {
            "gridcolor": "white",
            "linecolor": "white",
            "ticks": ""
           },
           "bgcolor": "#E5ECF6",
           "radialaxis": {
            "gridcolor": "white",
            "linecolor": "white",
            "ticks": ""
           }
          },
          "scene": {
           "xaxis": {
            "backgroundcolor": "#E5ECF6",
            "gridcolor": "white",
            "gridwidth": 2,
            "linecolor": "white",
            "showbackground": true,
            "ticks": "",
            "zerolinecolor": "white"
           },
           "yaxis": {
            "backgroundcolor": "#E5ECF6",
            "gridcolor": "white",
            "gridwidth": 2,
            "linecolor": "white",
            "showbackground": true,
            "ticks": "",
            "zerolinecolor": "white"
           },
           "zaxis": {
            "backgroundcolor": "#E5ECF6",
            "gridcolor": "white",
            "gridwidth": 2,
            "linecolor": "white",
            "showbackground": true,
            "ticks": "",
            "zerolinecolor": "white"
           }
          },
          "shapedefaults": {
           "line": {
            "color": "#2a3f5f"
           }
          },
          "ternary": {
           "aaxis": {
            "gridcolor": "white",
            "linecolor": "white",
            "ticks": ""
           },
           "baxis": {
            "gridcolor": "white",
            "linecolor": "white",
            "ticks": ""
           },
           "bgcolor": "#E5ECF6",
           "caxis": {
            "gridcolor": "white",
            "linecolor": "white",
            "ticks": ""
           }
          },
          "title": {
           "x": 0.05
          },
          "xaxis": {
           "automargin": true,
           "gridcolor": "white",
           "linecolor": "white",
           "ticks": "",
           "title": {
            "standoff": 15
           },
           "zerolinecolor": "white",
           "zerolinewidth": 2
          },
          "yaxis": {
           "automargin": true,
           "gridcolor": "white",
           "linecolor": "white",
           "ticks": "",
           "title": {
            "standoff": 15
           },
           "zerolinecolor": "white",
           "zerolinewidth": 2
          }
         }
        },
        "title": {
         "text": "AUC Values for the each K-Fold"
        },
        "xaxis": {
         "anchor": "y",
         "domain": [
          0,
          1
         ],
         "title": {
          "text": "K-Fold"
         }
        },
        "yaxis": {
         "anchor": "x",
         "domain": [
          0,
          1
         ],
         "title": {
          "text": "AUC Score"
         }
        }
       }
      }
     },
     "metadata": {},
     "output_type": "display_data"
    }
   ],
   "source": [
    "y = df['Label']\n",
    "feature_matrix = all_embeddings\n",
    "perform_kfold_cross_validation_with_lstm(feature_matrix, y)"
   ]
  },
  {
   "cell_type": "markdown",
   "metadata": {},
   "source": [
    "Conclusion\n",
    "\n",
    "Tuned FastText embedding has the best results in terms of sensitivity(recall), 87.72%, and accuracy, 80.81%"
   ]
  },
  {
   "cell_type": "markdown",
   "metadata": {
    "cell_id": "6676ef88afcb406f984a068055714c73",
    "deepnote_cell_type": "markdown"
   },
   "source": [
    "#### Notes:\n",
    "We did not carry out hyperparameter tuning for GloVe, Word2Vec,Doc2Vec and ELMo embeddings, as we noted that these are all pre-trained embeddings which are already optimised. The benefits from tuning the hyperparameters of the embedding might not be worth the computational complexity and intensity, and we decided to focus more on tuning the actual hyperparameters of the model.\n",
    "\n",
    "Out of curiosity to explore the effects of the tuning, we trained our own FastText model, and gave a shot in running the hyperparameter tuning for FastText. We saw minor improvements to some perfrmance metrics and a drop in others."
   ]
  },
  {
   "cell_type": "markdown",
   "metadata": {
    "cell_id": "6bd4dfa44100489f8971cbdd3833b992",
    "deepnote_cell_type": "text-cell-h2",
    "formattedRanges": []
   },
   "source": [
    "## Hyper Parameter tuning - LSTM"
   ]
  },
  {
   "cell_type": "markdown",
   "metadata": {
    "cell_id": "498b3eb2997a4842a20de9c2f33296fc",
    "deepnote_cell_type": "markdown"
   },
   "source": [
    "Because we could not get a specific library to work, we manually iterated through different hyperparameters instead of using GridSearchCV or RandomSearchCV."
   ]
  },
  {
   "cell_type": "code",
   "execution_count": 5,
   "metadata": {},
   "outputs": [],
   "source": [
    "# Tokenize the text (assuming \"cleaned_text\" contains your preprocessed text data)\n",
    "sentences = df[\"Cleaned Text with V lemmatization\"].apply(lambda x: x.split())\n",
    "\n",
    "# Train FastText model\n",
    "fasttext_model = FastText(sentences, vector_size=300, window=10, min_count=1, sg=1)\n",
    "\n",
    "# Create a feature matrix\n",
    "features = np.array([np.mean([fasttext_model.wv[word] for word in sentence if word in fasttext_model.wv] or [np.zeros(100)], axis=0) for sentence in sentences])\n",
    "y = df['Label']"
   ]
  },
  {
   "cell_type": "markdown",
   "metadata": {},
   "source": [
    "Due to memory issues, we exported the hyperparameter tuning results to a csv file and imported it back in to continue with the analysis."
   ]
  },
  {
   "cell_type": "code",
   "execution_count": 8,
   "metadata": {},
   "outputs": [],
   "source": [
    "import csv\n",
    "import os\n",
    "\n",
    "# Open a CSV file to write the results\n",
    "file_name = 'hyperparameter_results.csv'\n",
    "\n",
    "if os.path.isfile(file_name):\n",
    "    existing_params = set()\n",
    "    with open(file_name, 'r') as existing_file:\n",
    "        reader = csv.reader(existing_file)\n",
    "        next(reader)  # Skip header\n",
    "        for row in reader:\n",
    "            existing_params.add(tuple(row[:7]))  # Adjust indices based on your header\n",
    "\n",
    "    # Find the last processed combination\n",
    "    counter = len(existing_params)\n",
    "else:\n",
    "    counter = 0\n",
    "\n",
    "with open(file_name, mode='a' if os.path.isfile(file_name) else 'w', newline='') as file:\n",
    "    writer = csv.writer(file)\n",
    "\n",
    "    if file.tell() == 0:\n",
    "        writer.writerow(['Units', 'Activation LSTM', 'Activation Dense', 'Optimizer', 'Learning Rate', 'Epochs', 'Batch Size', 'Avg Recall', 'Avg Accuracy', 'Avg F1-Score'])\n",
    "\n",
    "    np.random.seed(42)\n",
    "    random.seed(42)\n",
    "    tf.random.set_seed(42)\n",
    "\n",
    "    def create_model(units=50, activation_lstm='tanh', activation_dense='sigmoid', optimizer=tf.keras.optimizers.Adam(), learning_rate=0.001):\n",
    "        model = Sequential()\n",
    "        model.add(LSTM(units, activation=activation_lstm, input_shape=(vectorized_train.shape[1], vectorized_train.shape[2])))\n",
    "        model.add(Dense(1, activation=activation_dense))\n",
    "        model.compile(loss='binary_crossentropy', optimizer=optimizer(learning_rate=learning_rate), metrics=['accuracy'])\n",
    "        return model\n",
    "\n",
    "    # Define hyperparameter lists\n",
    "    units_list = [50, 100, 150]\n",
    "    activation_lstm_list = ['sigmoid', 'tanh', 'relu']\n",
    "    activation_dense_list = ['sigmoid', 'tanh', 'relu']\n",
    "    optimizer_list = [tf.keras.optimizers.Adam, tf.keras.optimizers.RMSprop, tf.keras.optimizers.Adagrad]\n",
    "    learning_rate_list = [0.001, 0.01, 0.1]\n",
    "    epochs_list = [5, 10]\n",
    "    batch_size_list = [32, 64]\n",
    "\n",
    "    # Define the number of folds\n",
    "    k_folds = 10\n",
    "    kf = StratifiedKFold(n_splits=k_folds, shuffle=True, random_state=460)\n",
    "    counter = 0\n",
    "\n",
    "    for units in units_list:\n",
    "        for activation_lstm in activation_lstm_list:\n",
    "            for activation_dense in activation_dense_list:\n",
    "                for optimizer in optimizer_list:\n",
    "                    for lr in learning_rate_list:\n",
    "                        for epochs in epochs_list:\n",
    "                            for batch_size in batch_size_list:\n",
    "                                counter += 1\n",
    "                                if counter > len(existing_params):\n",
    "                                    print('\\n Initiating new hyperparameter combination...' + str(counter))\n",
    "                                    # print out the current combination in 1 line\n",
    "                                    print(f\"Units: {units}, Activation LSTM: {activation_lstm}, Activation Dense: {activation_dense}, Optimizer: {optimizer.__name__}, Learning Rate: {lr}, Epochs: {epochs}, Batch Size: {batch_size}\")\n",
    "                                    # Initialize lists to store fold-wise scores\n",
    "                                    fold_recall_scores = []\n",
    "                                    fold_accuracy_scores = []\n",
    "                                    fold_f1_scores = []\n",
    "    \n",
    "                                    for train_index, test_index in kf.split(features, y):\n",
    "                                        X_train, X_test = features[train_index], features[test_index]\n",
    "                                        y_train, y_test = y.iloc[train_index], y.iloc[test_index]\n",
    "    \n",
    "                                        # Reshape the data to match the LSTM input_shape\n",
    "                                        vectorized_train = X_train.reshape(X_train.shape[0], 1, X_train.shape[1])\n",
    "                                        vectorized_test = X_test.reshape(X_test.shape[0], 1, X_test.shape[1])\n",
    "    \n",
    "                                        model = create_model(units=units, activation_lstm=activation_lstm,\n",
    "                                                             activation_dense=activation_dense, optimizer=optimizer, learning_rate=lr)\n",
    "                                        model.fit(vectorized_train, y_train, epochs=epochs, batch_size=batch_size, verbose=0)\n",
    "                                        y_pred = (model.predict(vectorized_test) > 0.5).astype(\"int32\")\n",
    "    \n",
    "                                        # Calculate and store scores for each fold\n",
    "                                        fold_recall_scores.append(recall_score(y_test, y_pred))\n",
    "                                        fold_accuracy_scores.append(accuracy_score(y_test, y_pred))\n",
    "                                        fold_f1_scores.append(f1_score(y_test, y_pred))\n",
    "    \n",
    "                                        # Clear session and delete model after each fold\n",
    "                                        tf.keras.backend.clear_session()\n",
    "                                        del model\n",
    "    \n",
    "                                    # Calculate average scores across all folds\n",
    "                                    avg_recall = np.mean(fold_recall_scores)\n",
    "                                    avg_accuracy = np.mean(fold_accuracy_scores)\n",
    "                                    avg_f1 = np.mean(fold_f1_scores)\n",
    "    \n",
    "                                    print(f\"Average recall: {avg_recall:.4f}\")\n",
    "                                    print(f\"Average accuracy: {avg_accuracy:.4f}\")\n",
    "                                    print(f\"Average F1-score: {avg_f1:.4f}\")\n",
    "    \n",
    "                                    # Write results to CSV\n",
    "                                    params = [units, activation_lstm, activation_dense, optimizer.__name__, lr, epochs, batch_size, avg_recall, avg_accuracy, avg_f1]\n",
    "                                    writer.writerow(params)\n",
    "                                    file.flush()"
   ]
  },
  {
   "cell_type": "markdown",
   "metadata": {},
   "source": [
    "After tuning the hyperparameters and exporting them into a csv, we will then read the csv and sieve out the best parameters for the highest recall, accuracy and f1-score."
   ]
  },
  {
   "cell_type": "code",
   "execution_count": 9,
   "metadata": {},
   "outputs": [
    {
     "name": "stdout",
     "output_type": "stream",
     "text": [
      "Highest Recall Parameters and Scores:\n",
      "Units                     50\n",
      "Activation LSTM      sigmoid\n",
      "Activation Dense     sigmoid\n",
      "Optimizer            Adagrad\n",
      "Learning Rate          0.001\n",
      "Epochs                     5\n",
      "Batch Size                64\n",
      "Avg Recall               1.0\n",
      "Avg Accuracy        0.593498\n",
      "Avg F1-Score        0.744899\n",
      "Name: 25, dtype: object\n",
      "\n",
      "Highest Accuracy Parameters and Scores:\n",
      "Units                    150\n",
      "Activation LSTM         tanh\n",
      "Activation Dense     sigmoid\n",
      "Optimizer               Adam\n",
      "Learning Rate           0.01\n",
      "Epochs                    10\n",
      "Batch Size                32\n",
      "Avg Recall          0.869793\n",
      "Avg Accuracy        0.815162\n",
      "Avg F1-Score        0.848118\n",
      "Name: 762, dtype: object\n",
      "\n",
      "Highest F1-Score Parameters and Scores:\n",
      "Units                    100\n",
      "Activation LSTM         relu\n",
      "Activation Dense     sigmoid\n",
      "Optimizer               Adam\n",
      "Learning Rate           0.01\n",
      "Epochs                    10\n",
      "Batch Size                64\n",
      "Avg Recall          0.880834\n",
      "Avg Accuracy        0.813213\n",
      "Avg F1-Score        0.848173\n",
      "Name: 547, dtype: object\n"
     ]
    }
   ],
   "source": [
    "# Read the CSV file into a pandas DataFrame\n",
    "results_df = pd.read_csv('hyperparameter_results.csv')\n",
    "\n",
    "# Find the row with the highest recall\n",
    "highest_recall_row = results_df.loc[results_df['Avg Recall'].idxmax()]\n",
    "\n",
    "# Find the row with the highest accuracy\n",
    "highest_accuracy_row = results_df.loc[results_df['Avg Accuracy'].idxmax()]\n",
    "\n",
    "# Find the row with the highest F1-score\n",
    "highest_f1_score_row = results_df.loc[results_df['Avg F1-Score'].idxmax()]\n",
    "\n",
    "# Extract the parameters and scores for each metric\n",
    "highest_recall_params = highest_recall_row[['Units', 'Activation LSTM', 'Activation Dense', 'Optimizer', 'Learning Rate', 'Epochs', 'Batch Size', 'Avg Recall', 'Avg Accuracy', 'Avg F1-Score']]\n",
    "highest_accuracy_params = highest_accuracy_row[['Units', 'Activation LSTM', 'Activation Dense', 'Optimizer', 'Learning Rate', 'Epochs', 'Batch Size', 'Avg Recall', 'Avg Accuracy', 'Avg F1-Score']]\n",
    "highest_f1_score_params = highest_f1_score_row[['Units', 'Activation LSTM', 'Activation Dense', 'Optimizer', 'Learning Rate', 'Epochs', 'Batch Size', 'Avg Recall', 'Avg Accuracy', 'Avg F1-Score']]\n",
    "\n",
    "# Display the parameters and scores for each metric\n",
    "print(\"Highest Recall Parameters and Scores:\")\n",
    "print(highest_recall_params)\n",
    "\n",
    "print(\"\\nHighest Accuracy Parameters and Scores:\")\n",
    "print(highest_accuracy_params)\n",
    "\n",
    "print(\"\\nHighest F1-Score Parameters and Scores:\")\n",
    "print(highest_f1_score_params)\n"
   ]
  },
  {
   "cell_type": "markdown",
   "metadata": {},
   "source": [
    "#### Conclusion\n",
    "Highest Recall: 100% <br> Although the recall was able to get a whopping 100%, the accuracy and f1-score took a huge hit and was only 59.34% and 74.45% respectively.<br><br>\n",
    "Highest Accuracy: 81.15% <br> This combination of hyperparameters performed more consistently across the other performance metrics, getting 86.98% for recall and 84.48% for f1-score.<br><br>\n",
    "Highest f1-score: 84.48% <br> This combination of hyperparameters also performed consistently across the other performance metrics, gettting 88.08% for recall and 81.32% for accuracy."
   ]
  },
  {
   "cell_type": "markdown",
   "metadata": {},
   "source": [
    "#### Fitting the parameters into the initial function we used for hypothesis 2."
   ]
  },
  {
   "cell_type": "code",
   "execution_count": 14,
   "metadata": {},
   "outputs": [
    {
     "name": "stdout",
     "output_type": "stream",
     "text": [
      "Epoch 1/10\n",
      "202/202 [==============================] - 1s 1ms/step - loss: 0.4699 - accuracy: 0.7770\n",
      "Epoch 2/10\n",
      "202/202 [==============================] - 0s 1ms/step - loss: 0.4289 - accuracy: 0.8037\n",
      "Epoch 3/10\n",
      "202/202 [==============================] - 0s 1ms/step - loss: 0.4214 - accuracy: 0.8084\n",
      "Epoch 4/10\n",
      "202/202 [==============================] - 0s 1ms/step - loss: 0.4194 - accuracy: 0.8095\n",
      "Epoch 5/10\n",
      "202/202 [==============================] - 0s 1ms/step - loss: 0.4166 - accuracy: 0.8099\n",
      "Epoch 6/10\n",
      "202/202 [==============================] - 0s 1ms/step - loss: 0.4129 - accuracy: 0.8088\n",
      "Epoch 7/10\n",
      "202/202 [==============================] - 0s 1ms/step - loss: 0.4089 - accuracy: 0.8140\n",
      "Epoch 8/10\n",
      "202/202 [==============================] - 0s 1ms/step - loss: 0.4096 - accuracy: 0.8129\n",
      "Epoch 9/10\n",
      "202/202 [==============================] - 0s 1ms/step - loss: 0.4028 - accuracy: 0.8172\n",
      "Epoch 10/10\n",
      "202/202 [==============================] - 0s 1ms/step - loss: 0.4018 - accuracy: 0.8184\n",
      "45/45 [==============================] - 0s 727us/step\n",
      "45/45 [==============================] - 0s 750us/step\n",
      "Epoch 1/10\n",
      "202/202 [==============================] - 1s 1ms/step - loss: 0.4736 - accuracy: 0.7784\n",
      "Epoch 2/10\n",
      "202/202 [==============================] - 0s 1ms/step - loss: 0.4303 - accuracy: 0.8043\n",
      "Epoch 3/10\n",
      "202/202 [==============================] - 0s 2ms/step - loss: 0.4225 - accuracy: 0.8087\n",
      "Epoch 4/10\n",
      "202/202 [==============================] - 0s 1ms/step - loss: 0.4170 - accuracy: 0.8102\n",
      "Epoch 5/10\n",
      "202/202 [==============================] - 0s 1ms/step - loss: 0.4143 - accuracy: 0.8109\n",
      "Epoch 6/10\n",
      "202/202 [==============================] - 0s 2ms/step - loss: 0.4173 - accuracy: 0.8101\n",
      "Epoch 7/10\n",
      "202/202 [==============================] - 0s 1ms/step - loss: 0.4130 - accuracy: 0.8128\n",
      "Epoch 8/10\n",
      "202/202 [==============================] - 0s 1ms/step - loss: 0.4115 - accuracy: 0.8140\n",
      "Epoch 9/10\n",
      "202/202 [==============================] - 0s 1ms/step - loss: 0.4070 - accuracy: 0.8168\n",
      "Epoch 10/10\n",
      "202/202 [==============================] - 0s 1ms/step - loss: 0.4053 - accuracy: 0.8143\n",
      "45/45 [==============================] - 0s 739us/step\n",
      "45/45 [==============================] - 0s 751us/step\n",
      "Epoch 1/10\n",
      "202/202 [==============================] - 1s 1ms/step - loss: 0.4695 - accuracy: 0.7765\n",
      "Epoch 2/10\n",
      "202/202 [==============================] - 0s 1ms/step - loss: 0.4381 - accuracy: 0.7993\n",
      "Epoch 3/10\n",
      "202/202 [==============================] - 0s 2ms/step - loss: 0.4247 - accuracy: 0.8056\n",
      "Epoch 4/10\n",
      "202/202 [==============================] - 0s 1ms/step - loss: 0.4163 - accuracy: 0.8119\n",
      "Epoch 5/10\n",
      "202/202 [==============================] - 0s 1ms/step - loss: 0.4180 - accuracy: 0.8066\n",
      "Epoch 6/10\n",
      "202/202 [==============================] - 0s 1ms/step - loss: 0.4135 - accuracy: 0.8106\n",
      "Epoch 7/10\n",
      "202/202 [==============================] - 0s 1ms/step - loss: 0.4122 - accuracy: 0.8129\n",
      "Epoch 8/10\n",
      "202/202 [==============================] - 0s 1ms/step - loss: 0.4069 - accuracy: 0.8154\n",
      "Epoch 9/10\n",
      "202/202 [==============================] - 0s 1ms/step - loss: 0.4083 - accuracy: 0.8144\n",
      "Epoch 10/10\n",
      "202/202 [==============================] - 0s 1ms/step - loss: 0.4046 - accuracy: 0.8186\n",
      "45/45 [==============================] - 0s 773us/step\n",
      "45/45 [==============================] - 0s 796us/step\n",
      "Epoch 1/10\n",
      "202/202 [==============================] - 1s 1ms/step - loss: 0.4666 - accuracy: 0.7805\n",
      "Epoch 2/10\n",
      "202/202 [==============================] - 0s 1ms/step - loss: 0.4300 - accuracy: 0.8047\n",
      "Epoch 3/10\n",
      "202/202 [==============================] - 0s 1ms/step - loss: 0.4221 - accuracy: 0.8071\n",
      "Epoch 4/10\n",
      "202/202 [==============================] - 0s 1ms/step - loss: 0.4190 - accuracy: 0.8093\n",
      "Epoch 5/10\n",
      "202/202 [==============================] - 0s 1ms/step - loss: 0.4166 - accuracy: 0.8094\n",
      "Epoch 6/10\n",
      "202/202 [==============================] - 0s 1ms/step - loss: 0.4117 - accuracy: 0.8095\n",
      "Epoch 7/10\n",
      "202/202 [==============================] - 0s 2ms/step - loss: 0.4103 - accuracy: 0.8109\n",
      "Epoch 8/10\n",
      "202/202 [==============================] - 0s 2ms/step - loss: 0.4109 - accuracy: 0.8133\n",
      "Epoch 9/10\n",
      "202/202 [==============================] - 0s 2ms/step - loss: 0.4066 - accuracy: 0.8134\n",
      "Epoch 10/10\n",
      "202/202 [==============================] - 0s 1ms/step - loss: 0.4025 - accuracy: 0.8153\n",
      "45/45 [==============================] - 0s 773us/step\n",
      "45/45 [==============================] - 0s 705us/step\n",
      "Epoch 1/10\n",
      "202/202 [==============================] - 1s 1ms/step - loss: 0.4681 - accuracy: 0.7817\n",
      "Epoch 2/10\n",
      "202/202 [==============================] - 0s 1ms/step - loss: 0.4308 - accuracy: 0.8020\n",
      "Epoch 3/10\n",
      "202/202 [==============================] - 0s 1ms/step - loss: 0.4248 - accuracy: 0.8071\n",
      "Epoch 4/10\n",
      "202/202 [==============================] - 0s 1ms/step - loss: 0.4204 - accuracy: 0.8062\n",
      "Epoch 5/10\n",
      "202/202 [==============================] - 0s 2ms/step - loss: 0.4163 - accuracy: 0.8101\n",
      "Epoch 6/10\n",
      "202/202 [==============================] - 0s 1ms/step - loss: 0.4115 - accuracy: 0.8113\n",
      "Epoch 7/10\n",
      "202/202 [==============================] - 0s 1ms/step - loss: 0.4084 - accuracy: 0.8134\n",
      "Epoch 8/10\n",
      "202/202 [==============================] - 0s 2ms/step - loss: 0.4057 - accuracy: 0.8181\n",
      "Epoch 9/10\n",
      "202/202 [==============================] - 0s 1ms/step - loss: 0.4057 - accuracy: 0.8188\n",
      "Epoch 10/10\n",
      "202/202 [==============================] - 0s 1ms/step - loss: 0.4045 - accuracy: 0.8152\n",
      "45/45 [==============================] - 0s 818us/step\n",
      "45/45 [==============================] - 0s 773us/step\n",
      "Epoch 1/10\n",
      "202/202 [==============================] - 1s 1ms/step - loss: 0.4725 - accuracy: 0.7761\n",
      "Epoch 2/10\n",
      "202/202 [==============================] - 0s 1ms/step - loss: 0.4323 - accuracy: 0.8019\n",
      "Epoch 3/10\n",
      "202/202 [==============================] - 0s 1ms/step - loss: 0.4260 - accuracy: 0.8079\n",
      "Epoch 4/10\n",
      "202/202 [==============================] - 0s 1ms/step - loss: 0.4172 - accuracy: 0.8103\n",
      "Epoch 5/10\n",
      "202/202 [==============================] - 0s 2ms/step - loss: 0.4198 - accuracy: 0.8076\n",
      "Epoch 6/10\n",
      "202/202 [==============================] - 0s 2ms/step - loss: 0.4122 - accuracy: 0.8103\n",
      "Epoch 7/10\n",
      "202/202 [==============================] - 0s 1ms/step - loss: 0.4104 - accuracy: 0.8119\n",
      "Epoch 8/10\n",
      "202/202 [==============================] - 0s 1ms/step - loss: 0.4127 - accuracy: 0.8108\n",
      "Epoch 9/10\n",
      "202/202 [==============================] - 0s 2ms/step - loss: 0.4081 - accuracy: 0.8148\n",
      "Epoch 10/10\n",
      "202/202 [==============================] - 0s 2ms/step - loss: 0.4030 - accuracy: 0.8171\n",
      "45/45 [==============================] - 0s 864us/step\n",
      "45/45 [==============================] - 0s 727us/step\n",
      "Epoch 1/10\n",
      "202/202 [==============================] - 1s 1ms/step - loss: 0.4667 - accuracy: 0.7787\n",
      "Epoch 2/10\n",
      "202/202 [==============================] - 0s 1ms/step - loss: 0.4352 - accuracy: 0.8015\n",
      "Epoch 3/10\n",
      "202/202 [==============================] - 0s 1ms/step - loss: 0.4262 - accuracy: 0.8000\n",
      "Epoch 4/10\n",
      "202/202 [==============================] - 0s 1ms/step - loss: 0.4201 - accuracy: 0.8103\n",
      "Epoch 5/10\n",
      "202/202 [==============================] - 0s 1ms/step - loss: 0.4153 - accuracy: 0.8103\n",
      "Epoch 6/10\n",
      "202/202 [==============================] - 0s 1ms/step - loss: 0.4149 - accuracy: 0.8134\n",
      "Epoch 7/10\n",
      "202/202 [==============================] - 0s 1ms/step - loss: 0.4145 - accuracy: 0.8071\n",
      "Epoch 8/10\n",
      "202/202 [==============================] - 0s 1ms/step - loss: 0.4104 - accuracy: 0.8125\n",
      "Epoch 9/10\n",
      "202/202 [==============================] - 0s 1ms/step - loss: 0.4129 - accuracy: 0.8072\n",
      "Epoch 10/10\n",
      "202/202 [==============================] - 0s 1ms/step - loss: 0.4061 - accuracy: 0.8175\n",
      "45/45 [==============================] - 0s 750us/step\n",
      "45/45 [==============================] - 0s 727us/step\n",
      "Epoch 1/10\n",
      "202/202 [==============================] - 1s 1ms/step - loss: 0.4715 - accuracy: 0.7777\n",
      "Epoch 2/10\n",
      "202/202 [==============================] - 0s 2ms/step - loss: 0.4248 - accuracy: 0.8017\n",
      "Epoch 3/10\n",
      "202/202 [==============================] - 0s 2ms/step - loss: 0.4308 - accuracy: 0.8012\n",
      "Epoch 4/10\n",
      "202/202 [==============================] - 0s 1ms/step - loss: 0.4196 - accuracy: 0.8059\n",
      "Epoch 5/10\n",
      "202/202 [==============================] - 0s 1ms/step - loss: 0.4174 - accuracy: 0.8076\n",
      "Epoch 6/10\n",
      "202/202 [==============================] - 0s 1ms/step - loss: 0.4139 - accuracy: 0.8116\n",
      "Epoch 7/10\n",
      "202/202 [==============================] - 0s 1ms/step - loss: 0.4116 - accuracy: 0.8123\n",
      "Epoch 8/10\n",
      "202/202 [==============================] - 0s 1ms/step - loss: 0.4068 - accuracy: 0.8123\n",
      "Epoch 9/10\n",
      "202/202 [==============================] - 0s 1ms/step - loss: 0.4078 - accuracy: 0.8147\n",
      "Epoch 10/10\n",
      "202/202 [==============================] - 0s 1ms/step - loss: 0.4070 - accuracy: 0.8152\n",
      "45/45 [==============================] - 0s 773us/step\n",
      "45/45 [==============================] - 0s 750us/step\n",
      "Epoch 1/10\n",
      "202/202 [==============================] - 1s 2ms/step - loss: 0.4724 - accuracy: 0.7791\n",
      "Epoch 2/10\n",
      "202/202 [==============================] - 0s 1ms/step - loss: 0.4372 - accuracy: 0.7973\n",
      "Epoch 3/10\n",
      "202/202 [==============================] - 0s 1ms/step - loss: 0.4289 - accuracy: 0.8057\n",
      "Epoch 4/10\n",
      "202/202 [==============================] - 0s 1ms/step - loss: 0.4242 - accuracy: 0.8083\n",
      "Epoch 5/10\n",
      "202/202 [==============================] - 0s 1ms/step - loss: 0.4175 - accuracy: 0.8134\n",
      "Epoch 6/10\n",
      "202/202 [==============================] - 0s 1ms/step - loss: 0.4146 - accuracy: 0.8142\n",
      "Epoch 7/10\n",
      "202/202 [==============================] - 0s 2ms/step - loss: 0.4146 - accuracy: 0.8155\n",
      "Epoch 8/10\n",
      "202/202 [==============================] - 0s 2ms/step - loss: 0.4107 - accuracy: 0.8166\n",
      "Epoch 9/10\n",
      "202/202 [==============================] - 0s 1ms/step - loss: 0.4105 - accuracy: 0.8173\n",
      "Epoch 10/10\n",
      "202/202 [==============================] - 0s 1ms/step - loss: 0.4066 - accuracy: 0.8178\n",
      "45/45 [==============================] - 0s 823us/step\n",
      "45/45 [==============================] - 0s 820us/step\n",
      "Epoch 1/10\n",
      "202/202 [==============================] - 1s 2ms/step - loss: 0.4769 - accuracy: 0.7769\n",
      "Epoch 2/10\n",
      "202/202 [==============================] - 0s 1ms/step - loss: 0.4310 - accuracy: 0.8024\n",
      "Epoch 3/10\n",
      "202/202 [==============================] - 0s 1ms/step - loss: 0.4269 - accuracy: 0.8033\n",
      "Epoch 4/10\n",
      "202/202 [==============================] - 0s 2ms/step - loss: 0.4175 - accuracy: 0.8093\n",
      "Epoch 5/10\n",
      "202/202 [==============================] - 0s 1ms/step - loss: 0.4143 - accuracy: 0.8118\n",
      "Epoch 6/10\n",
      "202/202 [==============================] - 0s 1ms/step - loss: 0.4128 - accuracy: 0.8134\n",
      "Epoch 7/10\n",
      "202/202 [==============================] - 0s 1ms/step - loss: 0.4096 - accuracy: 0.8115\n",
      "Epoch 8/10\n",
      "202/202 [==============================] - 0s 1ms/step - loss: 0.4068 - accuracy: 0.8155\n",
      "Epoch 9/10\n",
      "202/202 [==============================] - 0s 1ms/step - loss: 0.4056 - accuracy: 0.8140\n",
      "Epoch 10/10\n",
      "202/202 [==============================] - 0s 1ms/step - loss: 0.4043 - accuracy: 0.8144\n",
      "45/45 [==============================] - 0s 769us/step\n",
      "45/45 [==============================] - 0s 795us/step\n",
      "The average accuracy is: 81.08%\n",
      "The average classification error is: 18.92%\n",
      "The average sensitivity is: 88.31%\n",
      "The average precision is: 81.56%\n",
      "The average specificity is: 70.53%\n",
      "The average f1 score is: 84.69%\n",
      "The average AUC Score is: 89.02%\n"
     ]
    },
    {
     "data": {
      "application/vnd.plotly.v1+json": {
       "config": {
        "plotlyServerURL": "https://plot.ly"
       },
       "data": [
        {
         "fillpattern": {
          "shape": ""
         },
         "hovertemplate": "Average False Positive Rate=%{x}<br>Average True Positive Rate=%{y}<extra></extra>",
         "legendgroup": "",
         "line": {
          "color": "#636efa"
         },
         "marker": {
          "symbol": "circle"
         },
         "mode": "lines",
         "name": "",
         "orientation": "v",
         "showlegend": false,
         "stackgroup": "1",
         "type": "scatter",
         "x": [
          0,
          0,
          0,
          0.0018838075880559318,
          0.0018838075880559318,
          0.0035964299832972548,
          0.0035964299832972548,
          0.005309052378538577,
          0.005309052378538577,
          0.007021674773779901,
          0.007021674773779901,
          0.008734297169021223,
          0.008734297169021223,
          0.010446919564262545,
          0.010446919564262545,
          0.012159541959503868,
          0.012159541959503868,
          0.013872164354745193,
          0.013872164354745193,
          0.015584786749986515,
          0.015584786749986515,
          0.017468594338042445,
          0.017468594338042445,
          0.019181216733283768,
          0.019181216733283768,
          0.02123644793364291,
          0.02123644793364291,
          0.023634223938005003,
          0.023634223938005003,
          0.02568962955673788,
          0.02568962955673788,
          0.027402251951979203,
          0.027402251951979203,
          0.029114874347220526,
          0.029114874347220526,
          0.030998801145020755,
          0.030998801145020755,
          0.0330537939258913,
          0.0330537939258913,
          0.03528021031906505,
          0.03528021031906505,
          0.03716413711686528,
          0.03716413711686528,
          0.03921924910748011,
          0.03921924910748011,
          0.04110317590528035,
          0.04110317590528035,
          0.04281579830052167,
          0.04281579830052167,
          0.044871203919254546,
          0.044871203919254546,
          0.046583826314495876,
          0.046583826314495876,
          0.04915266830192828,
          0.04915266830192828,
          0.051550508307405235,
          0.051550508307405235,
          0.053434435105205465,
          0.053434435105205465,
          0.05514705750044679,
          0.05514705750044679,
          0.05685967989568811,
          0.05685967989568811,
          0.05908597707911756,
          0.05908597707911756,
          0.060969903876917794,
          0.060969903876917794,
          0.06302501586753263,
          0.06302501586753263,
          0.0649091170837066,
          0.0649091170837066,
          0.06662173947894792,
          0.06662173947894792,
          0.06850566627674815,
          0.06850566627674815,
          0.07021828867198948,
          0.07021828867198948,
          0.07244458585541892,
          0.07244458585541892,
          0.07449969784603377,
          0.07449969784603377,
          0.07655498425502234,
          0.07655498425502234,
          0.07843891105282258,
          0.07843891105282258,
          0.0803228378506228,
          0.0803228378506228,
          0.08254925424379655,
          0.08254925424379655,
          0.08460465986252944,
          0.08460465986252944,
          0.08648858666032964,
          0.08648858666032964,
          0.0885435794412002,
          0.0885435794412002,
          0.09042750623900042,
          0.09042750623900042,
          0.09231143303680069,
          0.09231143303680069,
          0.09436654502741548,
          0.09436654502741548,
          0.09642165701803035,
          0.09642165701803035,
          0.0986480734112041,
          0.0986480734112041,
          0.10087437059463354,
          0.10087437059463354,
          0.10275847181080752,
          0.10275847181080752,
          0.10498488820398127,
          0.10498488820398127,
          0.10669751059922257,
          0.10669751059922257,
          0.10926665500725846,
          0.10926665500725846,
          0.11115075622343243,
          0.11115075622343243,
          0.11303468302123265,
          0.11303468302123265,
          0.11491849060928856,
          0.11491849060928856,
          0.11765858179065046,
          0.11765858179065046,
          0.1202274877791977,
          0.1202274877791977,
          0.12348178579635435,
          0.12348178579635435,
          0.1253655933844103,
          0.1253655933844103,
          0.12776319497039867,
          0.12776319497039867,
          0.1296472961865726,
          0.1296472961865726,
          0.13238738736793448,
          0.13238738736793448,
          0.13495605493699317,
          0.13495605493699317,
          0.13735395015109958,
          0.13735395015109958,
          0.1392377577391555,
          0.1392377577391555,
          0.14163535932514384,
          0.14163535932514384,
          0.14403342895762394,
          0.14403342895762394,
          0.14643091133386804,
          0.14643091133386804,
          0.14882886175660387,
          0.14882886175660387,
          0.15088385453747444,
          0.15088385453747444,
          0.15328151133209217,
          0.15328151133209217,
          0.15602160251345407,
          0.15602160251345407,
          0.15927536848300408,
          0.15927536848300408,
          0.16218676406692484,
          0.16218676406692484,
          0.16424216968565772,
          0.16424216968565772,
          0.1666397712716461,
          0.1666397712716461,
          0.16938044970924404,
          0.16938044970924404,
          0.17177805129523235,
          0.17177805129523235,
          0.17486063207196778,
          0.17486063207196778,
          0.17691574406258262,
          0.17691574406258262,
          0.17879984527875656,
          0.17879984527875656,
          0.18171100244318877,
          0.18171100244318877,
          0.1854786816204155,
          0.1854786816204155,
          0.18821918563963969,
          0.18821918563963969,
          0.1911302235943276,
          0.1911302235943276,
          0.19335681440587504,
          0.19335681440587504,
          0.1964392759728662,
          0.1964392759728662,
          0.19952209516909017,
          0.19952209516909017,
          0.20191993517456713,
          0.20191993517456713,
          0.2058593315922151,
          0.2058593315922151,
          0.20877072717613585,
          0.20877072717613585,
          0.21236715715943316,
          0.21236715715943316,
          0.21493582472849182,
          0.21493582472849182,
          0.21870379753383656,
          0.21870379753383656,
          0.22195756350338655,
          0.22195756350338655,
          0.22572529788924273,
          0.22572529788924273,
          0.2282947911340261,
          0.2282947911340261,
          0.23189163395518564,
          0.23189163395518564,
          0.23463237639389847,
          0.23463237639389847,
          0.23874200432640663,
          0.23874200432640663,
          0.24233878314645135,
          0.24233878314645135,
          0.24507887432781328,
          0.24507887432781328,
          0.2474768887516639,
          0.2474768887516639,
          0.2497033051448377,
          0.2497033051448377,
          0.2524433963261996,
          0.2524433963261996,
          0.2568954586454518,
          0.2568954586454518,
          0.2613474017549598,
          0.2613474017549598,
          0.2642590909669986,
          0.2642590909669986,
          0.2671708353876669,
          0.2671708353876669,
          0.27162361296538495,
          0.27162361296538495,
          0.27419228053444356,
          0.27419228053444356,
          0.2771039697464824,
          0.2771039697464824,
          0.2801871377794539,
          0.2801871377794539,
          0.2832700121843073,
          0.2832700121843073,
          0.28720905097272237,
          0.28720905097272237,
          0.2906348278108116,
          0.2906348278108116,
          0.2944021493588055,
          0.2944021493588055,
          0.2993682440954788,
          0.2993682440954788,
          0.303650010898756,
          0.303650010898756,
          0.306903776868306,
          0.306903776868306,
          0.31118482841311734,
          0.31118482841311734,
          0.31615020789132486,
          0.31615020789132486,
          0.32197364152403185,
          0.32197364152403185,
          0.3247136687042789,
          0.3247136687042789,
          0.32899583955293304,
          0.32899583955293304,
          0.33224977994085675,
          0.33224977994085675,
          0.3372175260289794,
          0.3372175260289794,
          0.34047194325588037,
          0.34047194325588037,
          0.3454380379925537,
          0.3454380379925537,
          0.3490344679758509,
          0.3490344679758509,
          0.35382948793696845,
          0.35382948793696845,
          0.3594806722816476,
          0.3594806722816476,
          0.3646180714208798,
          0.3646180714208798,
          0.3690711426267159,
          0.3690711426267159,
          0.3735236817849454,
          0.3735236817849454,
          0.37831888495692206,
          0.37831888495692206,
          0.3822572724879862,
          0.3822572724879862,
          0.38688004316107594,
          0.38688004316107594,
          0.3920173782991932,
          0.3920173782991932,
          0.3988676846692994,
          0.3988676846692994,
          0.403320453454532,
          0.403320453454532,
          0.40965722183116515,
          0.40965722183116515,
          0.41787821942620207,
          0.41787821942620207,
          0.42678222485496226,
          0.42678222485496226,
          0.43089179757884094,
          0.43089179757884094,
          0.4372280803240115,
          0.4372280803240115,
          0.44305250525833156,
          0.44305250525833156,
          0.44990401251836615,
          0.44990401251836615,
          0.45726735121179485,
          0.45726735121179485,
          0.4618913139823276,
          0.4618913139823276,
          0.4718230090317261,
          0.4718230090317261,
          0.47559104583818573,
          0.47559104583818573,
          0.4815856006625926,
          0.4815856006625926,
          0.48912207832088866,
          0.48912207832088866,
          0.49563002309785104,
          0.49563002309785104,
          0.5011099582486007,
          0.5011099582486007,
          0.5067630963653327,
          0.5067630963653327,
          0.5170391331573841,
          0.5170391331573841,
          0.5273139954369634,
          0.5273139954369634,
          0.5345066897776697,
          0.5345066897776697,
          0.5396452082207445,
          0.5396452082207445,
          0.5523167096158723,
          0.5523167096158723,
          0.5572836940293852,
          0.5572836940293852,
          0.5667028687643799,
          0.5667028687643799,
          0.57286884720109,
          0.57286884720109,
          0.5838302496442944,
          0.5838302496442944,
          0.5918804108832642,
          0.5918804108832642,
          0.6048956027636938,
          0.6048956027636938,
          0.6194520486356911,
          0.6194520486356911,
          0.6268157449583529,
          0.6268157449583529,
          0.6376057037505662,
          0.6379483125556842,
          0.6518193952302452,
          0.6518193952302452,
          0.661066587927874,
          0.661066587927874,
          0.6749366968857928,
          0.6752790672714221,
          0.6876106928930656,
          0.6876106928930656,
          0.7126158552679754,
          0.7126158552679754,
          0.7482287399060059,
          0.6481869688116032,
          0.6605164022417053,
          0.5605442496379738,
          0.5749307224532871,
          0.5749307224532871,
          0.5850345187497961,
          0.5850345187497961,
          0.618766284868977,
          0.5187941322652455,
          0.5405384488795475,
          0.4405662962758159,
          0.4460483596169922,
          0.4460483596169922,
          0.4618065589212764,
          0.4618065589212764,
          0.4763674004225588,
          0.4763674004225588,
          0.500340619249694,
          0.30032669555155983,
          0.31437221725197334,
          0.31437221725197334,
          0.32619196502407855,
          0.32619196502407855,
          0.3325334778667443,
          0.3325334778667443,
          0.35240357008867845,
          0.25236179899427574,
          0.25681657676019065,
          0.15677480566578797,
          0.1603752736491374,
          0.1603752736491374,
          0.17442185555971246,
          0.17442185555971246,
          0.18522237862540675,
          0.08525022602167519,
          0.08610615198574822,
          0.08610615198574822,
          0.09278237450551798,
          0.09278237450551798,
          0.09483659681929328,
          0.09483659681929328,
          0.09997215260373155
         ],
         "xaxis": "x",
         "y": [
          0,
          0.0011730207397847676,
          0.06968679870690564,
          0.06968679870690564,
          0.13736488311564696,
          0.13736488311564696,
          0.1734909195032639,
          0.17372559591782663,
          0.19436892162647362,
          0.19436892162647362,
          0.21759003892984427,
          0.21759003892984427,
          0.23166703154788637,
          0.23166703154788637,
          0.2439846947973327,
          0.2439846947973327,
          0.2710791676773454,
          0.2710791676773454,
          0.29946791822434726,
          0.29946791822434726,
          0.3122535751849405,
          0.3122535751849405,
          0.33841208746483553,
          0.33841208746483553,
          0.3517855800024057,
          0.3517855800024057,
          0.36914383402490175,
          0.36914383402490175,
          0.38779519166942317,
          0.38779519166942317,
          0.39718038564339253,
          0.39718038564339253,
          0.41747654541328,
          0.41747654541328,
          0.4255713244967873,
          0.4255713244967873,
          0.4404694699883906,
          0.4404694699883906,
          0.45454570698741553,
          0.45454570698741553,
          0.46463336110777326,
          0.46463336110777326,
          0.47038212438436533,
          0.47038212438436533,
          0.48668394561977607,
          0.48668394561977607,
          0.4964202123740356,
          0.4964202123740356,
          0.5049843094178397,
          0.5049843094178397,
          0.5135475975814483,
          0.5135475975814483,
          0.5218759947530858,
          0.5218759947530858,
          0.5277409398179969,
          0.5277409398179969,
          0.5324325890242316,
          0.5324325890242316,
          0.5374771038816396,
          0.5374771038816396,
          0.5417006382937611,
          0.5417006382937611,
          0.5473312242121349,
          0.5473312242121349,
          0.5567139769849084,
          0.5567139769849084,
          0.5686797302189972,
          0.5686797302189972,
          0.5740766467039325,
          0.5740766467039325,
          0.5785343843107963,
          0.5785343843107963,
          0.5870973157394633,
          0.5870973157394633,
          0.594838189237714,
          0.594838189237714,
          0.6026969419848547,
          0.6026969419848547,
          0.6086793233495769,
          0.6086793233495769,
          0.6147775646365051,
          0.6147775646365051,
          0.6182966525285136,
          0.6182966525285136,
          0.6239283013714075,
          0.6239283013714075,
          0.6296764235979917,
          0.6296764235979917,
          0.6356592781825343,
          0.6356592781825343,
          0.6381225157118521,
          0.6381225157118521,
          0.6441049832907115,
          0.6441049832907115,
          0.6491494119339821,
          0.6491494119339821,
          0.654193504916878,
          0.654193504916878,
          0.6582983676763938,
          0.6582983676763938,
          0.661934935933217,
          0.661934935933217,
          0.6675655218515907,
          0.6675655218515907,
          0.6743693522833325,
          0.6743693522833325,
          0.6798831896991244,
          0.6798831896991244,
          0.6851619077512747,
          0.6851619077512747,
          0.6878597144064509,
          0.6878597144064509,
          0.690909673242917,
          0.690909673242917,
          0.6939595458652459,
          0.6939595458652459,
          0.6984162948833346,
          0.6984162948833346,
          0.7029914312389629,
          0.7029914312389629,
          0.7061585604525232,
          0.7061585604525232,
          0.7127269239818561,
          0.7127269239818561,
          0.7154251735861115,
          0.7154251735861115,
          0.7199997459096944,
          0.7199997459096944,
          0.7248091111327191,
          0.7248091111327191,
          0.7291501515823092,
          0.7291501515823092,
          0.7337246771586713,
          0.7337246771586713,
          0.7361879706313847,
          0.7361879706313847,
          0.7401760500194898,
          0.7401760500194898,
          0.7431082020269415,
          0.7431082020269415,
          0.7478001776973762,
          0.7478001776973762,
          0.7509671996222322,
          0.7509671996222322,
          0.7533133786612475,
          0.7533133786612475,
          0.7564804262587577,
          0.7564804262587577,
          0.7591784520894298,
          0.7591784520894298,
          0.7636361594255519,
          0.7636361594255519,
          0.7665688616707867,
          0.7665688616707867,
          0.7700878376760038,
          0.7700878376760038,
          0.7734897854616599,
          0.7734897854616599,
          0.7770086028328642,
          0.7770086028328642,
          0.779237443664598,
          0.779237443664598,
          0.7821699826777329,
          0.7821699826777329,
          0.7842814036861356,
          0.7842814036861356,
          0.7878011885715477,
          0.7878011885715477,
          0.790147204378463,
          0.790147204378463,
          0.7928452302091352,
          0.7928452302091352,
          0.7950738518653732,
          0.7950738518653732,
          0.7971853288171716,
          0.7971853288171716,
          0.8004700759549922,
          0.8004700759549922,
          0.8046931371472931,
          0.8046931371472931,
          0.8070390713381583,
          0.8070390713381583,
          0.8089159534914441,
          0.8089159534914441,
          0.8110274047705881,
          0.8110274047705881,
          0.8132563015457179,
          0.8132563015457179,
          0.8182998140200891,
          0.8182998140200891,
          0.8208806181283588,
          0.8208806181283588,
          0.8242825356432733,
          0.8242825356432733,
          0.8266284349653095,
          0.8266284349653095,
          0.8290915954766648,
          0.8290915954766648,
          0.8313203546923487,
          0.8313203546923487,
          0.834370618918448,
          0.834370618918448,
          0.8376555036157144,
          0.8376555036157144,
          0.8402361912391052,
          0.8402361912391052,
          0.8431687815975483,
          0.843403458012111,
          0.8461012087238915,
          0.8461012087238915,
          0.8489166030325868,
          0.8489166030325868,
          0.8516146031906044,
          0.8516146031906044,
          0.8540778966633179,
          0.8540778966633179,
          0.8563069612686353,
          0.8563069612686353,
          0.8583011256858065,
          0.8583011256858065,
          0.861702763483742,
          0.861702763483742,
          0.8634621441976462,
          0.8634621441976462,
          0.86569074018123,
          0.86569074018123,
          0.8686234983698606,
          0.8686234983698606,
          0.8709692950012802,
          0.8709692950012802,
          0.8736670457130606,
          0.8736670457130606,
          0.8761302318970701,
          0.8761302318970701,
          0.87788975017042,
          0.87788975017042,
          0.8805878622152294,
          0.8805878622152294,
          0.8824643060175236,
          0.8824643060175236,
          0.8848105153272804,
          0.8848105153272804,
          0.8870394680458059,
          0.8870394680458059,
          0.8898550558573426,
          0.8898550558573426,
          0.8919663695770409,
          0.8919663695770409,
          0.8945471177419146,
          0.8945471177419146,
          0.8966583452474757,
          0.8966583452474757,
          0.89841788919348,
          0.89841788919348,
          0.9008810194340933,
          0.9008810194340933,
          0.9027577897005875,
          0.9027577897005875,
          0.904634727797269,
          0.904634727797269,
          0.9067462863651173,
          0.9067462863651173,
          0.9085055295195759,
          0.9085055295195759,
          0.9103825235596529,
          0.9103825235596529,
          0.9121420418330031,
          0.9121420418330031,
          0.913667021251236,
          0.913667021251236,
          0.9157785798190845,
          0.9157785798190845,
          0.9173034473505258,
          0.9173034473505258,
          0.9190631031833219,
          0.9190631031833219,
          0.9221131436358381,
          0.9221131436358381,
          0.9241071448209093,
          0.9241071448209093,
          0.9259841388609864,
          0.9259841388609864,
          0.9275091182792196,
          0.9275091182792196,
          0.9289167594901714,
          0.9289167594901714,
          0.9304417389084044,
          0.9304417389084044,
          0.9324358217095257,
          0.9324358217095257,
          0.9340780833916442,
          0.9340780833916442,
          0.9356029509230858,
          0.9356029509230858,
          0.9370105921340376,
          0.9370105921340376,
          0.9387702479668334,
          0.9387702479668334,
          0.9402952833284622,
          0.9402952833284622,
          0.9418202627466954,
          0.9418202627466954,
          0.9444007614653319,
          0.9444007614653319,
          0.945925603324119,
          0.945925603324119,
          0.9472159063277895,
          0.9472159063277895,
          0.9490926811923709,
          0.9490926811923709,
          0.9506173038756622,
          0.9506173038756622,
          0.9526114682928336,
          0.9526114682928336,
          0.9543708746793919,
          0.9543708746793919,
          0.9558958540976252,
          0.9558958540976252,
          0.9578898809553505,
          0.9578898809553505,
          0.9596493992287005,
          0.9596493992287005,
          0.9610570404396521,
          0.9610570404396521,
          0.9629339225929379,
          0.9629339225929379,
          0.9641069433327226,
          0.9641069433327226,
          0.9656318411349057,
          0.9656318411349057,
          0.9670394823458575,
          0.9670394823458575,
          0.9685643242046448,
          0.9685643242046448,
          0.9698546831517109,
          0.9698546831517109,
          0.9714968632177795,
          0.9714968632177795,
          0.9727872221648458,
          0.9727872221648458,
          0.9739602429046303,
          0.9739602429046303,
          0.9756024486433534,
          0.9756024486433534,
          0.9772446846528178,
          0.9772446846528178,
          0.9784177053926026,
          0.9784177053926026,
          0.9795907261323873,
          0.9795907261323873,
          0.9808810850794535,
          0.9808810850794535,
          0.9819368235553527,
          0.9819368235553527,
          0.9831098442951374,
          0.9831098442951374,
          0.9845174038900391,
          0.9845174038900391,
          0.9855730864225425,
          0.9855730864225425,
          0.9867461071623275,
          0.9867461071623275,
          0.9881536924298833,
          0.9881536924298833,
          0.8891676598113797,
          0.8891676598113797,
          0.7901339074762661,
          0.7901339074762661,
          0.7910723077448839,
          0.7910723077448839,
          0.7921280462207831,
          0.7921280462207831,
          0.6929769556783879,
          0.6929769556783879,
          0.5939430914564825,
          0.5939430914564825,
          0.5946468153105376,
          0.5946468153105376,
          0.5953505391645927,
          0.5953505391645927,
          0.5961715452825334,
          0.5961715452825334,
          0.39662672496728724,
          0.39662672496728724,
          0.3972131106140609,
          0.3972131106140609,
          0.39768221399694903,
          0.39768221399694903,
          0.39838585623495404,
          0.39838585623495404,
          0.29881310690738944,
          0.29881310690738944,
          0.1990058746681037,
          0.1990058746681037,
          0.19924041352322064,
          0.19924041352322064,
          0.1994749523783376,
          0.1994749523783376,
          0.09962013798188742,
          0.09962013798188742,
          0.0997374761891688,
          0.0997374761891688,
          0.09985481439645018,
          0.09985481439645018,
          0.09997215260373155,
          0.09997215260373155
         ],
         "yaxis": "y"
        }
       ],
       "layout": {
        "height": 700,
        "legend": {
         "tracegroupgap": 0
        },
        "shapes": [
         {
          "line": {
           "dash": "dash"
          },
          "type": "line",
          "x0": 0,
          "x1": 1,
          "y0": 0,
          "y1": 1
         }
        ],
        "template": {
         "data": {
          "bar": [
           {
            "error_x": {
             "color": "#2a3f5f"
            },
            "error_y": {
             "color": "#2a3f5f"
            },
            "marker": {
             "line": {
              "color": "#E5ECF6",
              "width": 0.5
             },
             "pattern": {
              "fillmode": "overlay",
              "size": 10,
              "solidity": 0.2
             }
            },
            "type": "bar"
           }
          ],
          "barpolar": [
           {
            "marker": {
             "line": {
              "color": "#E5ECF6",
              "width": 0.5
             },
             "pattern": {
              "fillmode": "overlay",
              "size": 10,
              "solidity": 0.2
             }
            },
            "type": "barpolar"
           }
          ],
          "carpet": [
           {
            "aaxis": {
             "endlinecolor": "#2a3f5f",
             "gridcolor": "white",
             "linecolor": "white",
             "minorgridcolor": "white",
             "startlinecolor": "#2a3f5f"
            },
            "baxis": {
             "endlinecolor": "#2a3f5f",
             "gridcolor": "white",
             "linecolor": "white",
             "minorgridcolor": "white",
             "startlinecolor": "#2a3f5f"
            },
            "type": "carpet"
           }
          ],
          "choropleth": [
           {
            "colorbar": {
             "outlinewidth": 0,
             "ticks": ""
            },
            "type": "choropleth"
           }
          ],
          "contour": [
           {
            "colorbar": {
             "outlinewidth": 0,
             "ticks": ""
            },
            "colorscale": [
             [
              0,
              "#0d0887"
             ],
             [
              0.1111111111111111,
              "#46039f"
             ],
             [
              0.2222222222222222,
              "#7201a8"
             ],
             [
              0.3333333333333333,
              "#9c179e"
             ],
             [
              0.4444444444444444,
              "#bd3786"
             ],
             [
              0.5555555555555556,
              "#d8576b"
             ],
             [
              0.6666666666666666,
              "#ed7953"
             ],
             [
              0.7777777777777778,
              "#fb9f3a"
             ],
             [
              0.8888888888888888,
              "#fdca26"
             ],
             [
              1,
              "#f0f921"
             ]
            ],
            "type": "contour"
           }
          ],
          "contourcarpet": [
           {
            "colorbar": {
             "outlinewidth": 0,
             "ticks": ""
            },
            "type": "contourcarpet"
           }
          ],
          "heatmap": [
           {
            "colorbar": {
             "outlinewidth": 0,
             "ticks": ""
            },
            "colorscale": [
             [
              0,
              "#0d0887"
             ],
             [
              0.1111111111111111,
              "#46039f"
             ],
             [
              0.2222222222222222,
              "#7201a8"
             ],
             [
              0.3333333333333333,
              "#9c179e"
             ],
             [
              0.4444444444444444,
              "#bd3786"
             ],
             [
              0.5555555555555556,
              "#d8576b"
             ],
             [
              0.6666666666666666,
              "#ed7953"
             ],
             [
              0.7777777777777778,
              "#fb9f3a"
             ],
             [
              0.8888888888888888,
              "#fdca26"
             ],
             [
              1,
              "#f0f921"
             ]
            ],
            "type": "heatmap"
           }
          ],
          "heatmapgl": [
           {
            "colorbar": {
             "outlinewidth": 0,
             "ticks": ""
            },
            "colorscale": [
             [
              0,
              "#0d0887"
             ],
             [
              0.1111111111111111,
              "#46039f"
             ],
             [
              0.2222222222222222,
              "#7201a8"
             ],
             [
              0.3333333333333333,
              "#9c179e"
             ],
             [
              0.4444444444444444,
              "#bd3786"
             ],
             [
              0.5555555555555556,
              "#d8576b"
             ],
             [
              0.6666666666666666,
              "#ed7953"
             ],
             [
              0.7777777777777778,
              "#fb9f3a"
             ],
             [
              0.8888888888888888,
              "#fdca26"
             ],
             [
              1,
              "#f0f921"
             ]
            ],
            "type": "heatmapgl"
           }
          ],
          "histogram": [
           {
            "marker": {
             "pattern": {
              "fillmode": "overlay",
              "size": 10,
              "solidity": 0.2
             }
            },
            "type": "histogram"
           }
          ],
          "histogram2d": [
           {
            "colorbar": {
             "outlinewidth": 0,
             "ticks": ""
            },
            "colorscale": [
             [
              0,
              "#0d0887"
             ],
             [
              0.1111111111111111,
              "#46039f"
             ],
             [
              0.2222222222222222,
              "#7201a8"
             ],
             [
              0.3333333333333333,
              "#9c179e"
             ],
             [
              0.4444444444444444,
              "#bd3786"
             ],
             [
              0.5555555555555556,
              "#d8576b"
             ],
             [
              0.6666666666666666,
              "#ed7953"
             ],
             [
              0.7777777777777778,
              "#fb9f3a"
             ],
             [
              0.8888888888888888,
              "#fdca26"
             ],
             [
              1,
              "#f0f921"
             ]
            ],
            "type": "histogram2d"
           }
          ],
          "histogram2dcontour": [
           {
            "colorbar": {
             "outlinewidth": 0,
             "ticks": ""
            },
            "colorscale": [
             [
              0,
              "#0d0887"
             ],
             [
              0.1111111111111111,
              "#46039f"
             ],
             [
              0.2222222222222222,
              "#7201a8"
             ],
             [
              0.3333333333333333,
              "#9c179e"
             ],
             [
              0.4444444444444444,
              "#bd3786"
             ],
             [
              0.5555555555555556,
              "#d8576b"
             ],
             [
              0.6666666666666666,
              "#ed7953"
             ],
             [
              0.7777777777777778,
              "#fb9f3a"
             ],
             [
              0.8888888888888888,
              "#fdca26"
             ],
             [
              1,
              "#f0f921"
             ]
            ],
            "type": "histogram2dcontour"
           }
          ],
          "mesh3d": [
           {
            "colorbar": {
             "outlinewidth": 0,
             "ticks": ""
            },
            "type": "mesh3d"
           }
          ],
          "parcoords": [
           {
            "line": {
             "colorbar": {
              "outlinewidth": 0,
              "ticks": ""
             }
            },
            "type": "parcoords"
           }
          ],
          "pie": [
           {
            "automargin": true,
            "type": "pie"
           }
          ],
          "scatter": [
           {
            "fillpattern": {
             "fillmode": "overlay",
             "size": 10,
             "solidity": 0.2
            },
            "type": "scatter"
           }
          ],
          "scatter3d": [
           {
            "line": {
             "colorbar": {
              "outlinewidth": 0,
              "ticks": ""
             }
            },
            "marker": {
             "colorbar": {
              "outlinewidth": 0,
              "ticks": ""
             }
            },
            "type": "scatter3d"
           }
          ],
          "scattercarpet": [
           {
            "marker": {
             "colorbar": {
              "outlinewidth": 0,
              "ticks": ""
             }
            },
            "type": "scattercarpet"
           }
          ],
          "scattergeo": [
           {
            "marker": {
             "colorbar": {
              "outlinewidth": 0,
              "ticks": ""
             }
            },
            "type": "scattergeo"
           }
          ],
          "scattergl": [
           {
            "marker": {
             "colorbar": {
              "outlinewidth": 0,
              "ticks": ""
             }
            },
            "type": "scattergl"
           }
          ],
          "scattermapbox": [
           {
            "marker": {
             "colorbar": {
              "outlinewidth": 0,
              "ticks": ""
             }
            },
            "type": "scattermapbox"
           }
          ],
          "scatterpolar": [
           {
            "marker": {
             "colorbar": {
              "outlinewidth": 0,
              "ticks": ""
             }
            },
            "type": "scatterpolar"
           }
          ],
          "scatterpolargl": [
           {
            "marker": {
             "colorbar": {
              "outlinewidth": 0,
              "ticks": ""
             }
            },
            "type": "scatterpolargl"
           }
          ],
          "scatterternary": [
           {
            "marker": {
             "colorbar": {
              "outlinewidth": 0,
              "ticks": ""
             }
            },
            "type": "scatterternary"
           }
          ],
          "surface": [
           {
            "colorbar": {
             "outlinewidth": 0,
             "ticks": ""
            },
            "colorscale": [
             [
              0,
              "#0d0887"
             ],
             [
              0.1111111111111111,
              "#46039f"
             ],
             [
              0.2222222222222222,
              "#7201a8"
             ],
             [
              0.3333333333333333,
              "#9c179e"
             ],
             [
              0.4444444444444444,
              "#bd3786"
             ],
             [
              0.5555555555555556,
              "#d8576b"
             ],
             [
              0.6666666666666666,
              "#ed7953"
             ],
             [
              0.7777777777777778,
              "#fb9f3a"
             ],
             [
              0.8888888888888888,
              "#fdca26"
             ],
             [
              1,
              "#f0f921"
             ]
            ],
            "type": "surface"
           }
          ],
          "table": [
           {
            "cells": {
             "fill": {
              "color": "#EBF0F8"
             },
             "line": {
              "color": "white"
             }
            },
            "header": {
             "fill": {
              "color": "#C8D4E3"
             },
             "line": {
              "color": "white"
             }
            },
            "type": "table"
           }
          ]
         },
         "layout": {
          "annotationdefaults": {
           "arrowcolor": "#2a3f5f",
           "arrowhead": 0,
           "arrowwidth": 1
          },
          "autotypenumbers": "strict",
          "coloraxis": {
           "colorbar": {
            "outlinewidth": 0,
            "ticks": ""
           }
          },
          "colorscale": {
           "diverging": [
            [
             0,
             "#8e0152"
            ],
            [
             0.1,
             "#c51b7d"
            ],
            [
             0.2,
             "#de77ae"
            ],
            [
             0.3,
             "#f1b6da"
            ],
            [
             0.4,
             "#fde0ef"
            ],
            [
             0.5,
             "#f7f7f7"
            ],
            [
             0.6,
             "#e6f5d0"
            ],
            [
             0.7,
             "#b8e186"
            ],
            [
             0.8,
             "#7fbc41"
            ],
            [
             0.9,
             "#4d9221"
            ],
            [
             1,
             "#276419"
            ]
           ],
           "sequential": [
            [
             0,
             "#0d0887"
            ],
            [
             0.1111111111111111,
             "#46039f"
            ],
            [
             0.2222222222222222,
             "#7201a8"
            ],
            [
             0.3333333333333333,
             "#9c179e"
            ],
            [
             0.4444444444444444,
             "#bd3786"
            ],
            [
             0.5555555555555556,
             "#d8576b"
            ],
            [
             0.6666666666666666,
             "#ed7953"
            ],
            [
             0.7777777777777778,
             "#fb9f3a"
            ],
            [
             0.8888888888888888,
             "#fdca26"
            ],
            [
             1,
             "#f0f921"
            ]
           ],
           "sequentialminus": [
            [
             0,
             "#0d0887"
            ],
            [
             0.1111111111111111,
             "#46039f"
            ],
            [
             0.2222222222222222,
             "#7201a8"
            ],
            [
             0.3333333333333333,
             "#9c179e"
            ],
            [
             0.4444444444444444,
             "#bd3786"
            ],
            [
             0.5555555555555556,
             "#d8576b"
            ],
            [
             0.6666666666666666,
             "#ed7953"
            ],
            [
             0.7777777777777778,
             "#fb9f3a"
            ],
            [
             0.8888888888888888,
             "#fdca26"
            ],
            [
             1,
             "#f0f921"
            ]
           ]
          },
          "colorway": [
           "#636efa",
           "#EF553B",
           "#00cc96",
           "#ab63fa",
           "#FFA15A",
           "#19d3f3",
           "#FF6692",
           "#B6E880",
           "#FF97FF",
           "#FECB52"
          ],
          "font": {
           "color": "#2a3f5f"
          },
          "geo": {
           "bgcolor": "white",
           "lakecolor": "white",
           "landcolor": "#E5ECF6",
           "showlakes": true,
           "showland": true,
           "subunitcolor": "white"
          },
          "hoverlabel": {
           "align": "left"
          },
          "hovermode": "closest",
          "mapbox": {
           "style": "light"
          },
          "paper_bgcolor": "white",
          "plot_bgcolor": "#E5ECF6",
          "polar": {
           "angularaxis": {
            "gridcolor": "white",
            "linecolor": "white",
            "ticks": ""
           },
           "bgcolor": "#E5ECF6",
           "radialaxis": {
            "gridcolor": "white",
            "linecolor": "white",
            "ticks": ""
           }
          },
          "scene": {
           "xaxis": {
            "backgroundcolor": "#E5ECF6",
            "gridcolor": "white",
            "gridwidth": 2,
            "linecolor": "white",
            "showbackground": true,
            "ticks": "",
            "zerolinecolor": "white"
           },
           "yaxis": {
            "backgroundcolor": "#E5ECF6",
            "gridcolor": "white",
            "gridwidth": 2,
            "linecolor": "white",
            "showbackground": true,
            "ticks": "",
            "zerolinecolor": "white"
           },
           "zaxis": {
            "backgroundcolor": "#E5ECF6",
            "gridcolor": "white",
            "gridwidth": 2,
            "linecolor": "white",
            "showbackground": true,
            "ticks": "",
            "zerolinecolor": "white"
           }
          },
          "shapedefaults": {
           "line": {
            "color": "#2a3f5f"
           }
          },
          "ternary": {
           "aaxis": {
            "gridcolor": "white",
            "linecolor": "white",
            "ticks": ""
           },
           "baxis": {
            "gridcolor": "white",
            "linecolor": "white",
            "ticks": ""
           },
           "bgcolor": "#E5ECF6",
           "caxis": {
            "gridcolor": "white",
            "linecolor": "white",
            "ticks": ""
           }
          },
          "title": {
           "x": 0.05
          },
          "xaxis": {
           "automargin": true,
           "gridcolor": "white",
           "linecolor": "white",
           "ticks": "",
           "title": {
            "standoff": 15
           },
           "zerolinecolor": "white",
           "zerolinewidth": 2
          },
          "yaxis": {
           "automargin": true,
           "gridcolor": "white",
           "linecolor": "white",
           "ticks": "",
           "title": {
            "standoff": 15
           },
           "zerolinecolor": "white",
           "zerolinewidth": 2
          }
         }
        },
        "title": {
         "text": "ROC Curve (AUC=0.8902)"
        },
        "width": 700,
        "xaxis": {
         "anchor": "y",
         "constrain": "domain",
         "domain": [
          0,
          1
         ],
         "title": {
          "text": "Average False Positive Rate"
         }
        },
        "yaxis": {
         "anchor": "x",
         "domain": [
          0,
          1
         ],
         "scaleanchor": "x",
         "scaleratio": 1,
         "title": {
          "text": "Average True Positive Rate"
         }
        }
       }
      }
     },
     "metadata": {},
     "output_type": "display_data"
    },
    {
     "data": {
      "application/vnd.plotly.v1+json": {
       "config": {
        "plotlyServerURL": "https://plot.ly"
       },
       "data": [
        {
         "hovertemplate": "K-Fold=%{x}<br>AUC Score=%{y}<extra></extra>",
         "legendgroup": "",
         "marker": {
          "color": "#636efa",
          "symbol": "circle"
         },
         "mode": "markers",
         "name": "",
         "orientation": "v",
         "showlegend": false,
         "type": "scatter",
         "x": [
          1,
          2,
          3,
          4,
          5,
          6,
          7,
          8,
          9,
          10
         ],
         "xaxis": "x",
         "y": [
          0.8913684979684915,
          0.894562302269187,
          0.8918241821773274,
          0.8874239188038993,
          0.8803898660564369,
          0.8882404013119815,
          0.8942918354878125,
          0.8886403466460865,
          0.8952987330374943,
          0.8902280693292174
         ],
         "yaxis": "y"
        },
        {
         "hovertemplate": "<b>OLS trendline</b><br>y = 4.50077e-05 * x + 0.889979<br>R<sup>2</sup>=0.000950<br><br>K-Fold=%{x}<br>AUC Score=%{y} <b>(trend)</b><extra></extra>",
         "legendgroup": "",
         "marker": {
          "color": "#636efa",
          "symbol": "circle"
         },
         "mode": "lines",
         "name": "",
         "showlegend": false,
         "type": "scatter",
         "x": [
          1,
          2,
          3,
          4,
          5,
          6,
          7,
          8,
          9,
          10
         ],
         "xaxis": "x",
         "y": [
          0.8900242808012723,
          0.8900692884696102,
          0.8901142961379482,
          0.8901593038062863,
          0.8902043114746243,
          0.8902493191429623,
          0.8902943268113003,
          0.8903393344796383,
          0.8903843421479763,
          0.8904293498163143
         ],
         "yaxis": "y"
        }
       ],
       "layout": {
        "legend": {
         "tracegroupgap": 0
        },
        "template": {
         "data": {
          "bar": [
           {
            "error_x": {
             "color": "#2a3f5f"
            },
            "error_y": {
             "color": "#2a3f5f"
            },
            "marker": {
             "line": {
              "color": "#E5ECF6",
              "width": 0.5
             },
             "pattern": {
              "fillmode": "overlay",
              "size": 10,
              "solidity": 0.2
             }
            },
            "type": "bar"
           }
          ],
          "barpolar": [
           {
            "marker": {
             "line": {
              "color": "#E5ECF6",
              "width": 0.5
             },
             "pattern": {
              "fillmode": "overlay",
              "size": 10,
              "solidity": 0.2
             }
            },
            "type": "barpolar"
           }
          ],
          "carpet": [
           {
            "aaxis": {
             "endlinecolor": "#2a3f5f",
             "gridcolor": "white",
             "linecolor": "white",
             "minorgridcolor": "white",
             "startlinecolor": "#2a3f5f"
            },
            "baxis": {
             "endlinecolor": "#2a3f5f",
             "gridcolor": "white",
             "linecolor": "white",
             "minorgridcolor": "white",
             "startlinecolor": "#2a3f5f"
            },
            "type": "carpet"
           }
          ],
          "choropleth": [
           {
            "colorbar": {
             "outlinewidth": 0,
             "ticks": ""
            },
            "type": "choropleth"
           }
          ],
          "contour": [
           {
            "colorbar": {
             "outlinewidth": 0,
             "ticks": ""
            },
            "colorscale": [
             [
              0,
              "#0d0887"
             ],
             [
              0.1111111111111111,
              "#46039f"
             ],
             [
              0.2222222222222222,
              "#7201a8"
             ],
             [
              0.3333333333333333,
              "#9c179e"
             ],
             [
              0.4444444444444444,
              "#bd3786"
             ],
             [
              0.5555555555555556,
              "#d8576b"
             ],
             [
              0.6666666666666666,
              "#ed7953"
             ],
             [
              0.7777777777777778,
              "#fb9f3a"
             ],
             [
              0.8888888888888888,
              "#fdca26"
             ],
             [
              1,
              "#f0f921"
             ]
            ],
            "type": "contour"
           }
          ],
          "contourcarpet": [
           {
            "colorbar": {
             "outlinewidth": 0,
             "ticks": ""
            },
            "type": "contourcarpet"
           }
          ],
          "heatmap": [
           {
            "colorbar": {
             "outlinewidth": 0,
             "ticks": ""
            },
            "colorscale": [
             [
              0,
              "#0d0887"
             ],
             [
              0.1111111111111111,
              "#46039f"
             ],
             [
              0.2222222222222222,
              "#7201a8"
             ],
             [
              0.3333333333333333,
              "#9c179e"
             ],
             [
              0.4444444444444444,
              "#bd3786"
             ],
             [
              0.5555555555555556,
              "#d8576b"
             ],
             [
              0.6666666666666666,
              "#ed7953"
             ],
             [
              0.7777777777777778,
              "#fb9f3a"
             ],
             [
              0.8888888888888888,
              "#fdca26"
             ],
             [
              1,
              "#f0f921"
             ]
            ],
            "type": "heatmap"
           }
          ],
          "heatmapgl": [
           {
            "colorbar": {
             "outlinewidth": 0,
             "ticks": ""
            },
            "colorscale": [
             [
              0,
              "#0d0887"
             ],
             [
              0.1111111111111111,
              "#46039f"
             ],
             [
              0.2222222222222222,
              "#7201a8"
             ],
             [
              0.3333333333333333,
              "#9c179e"
             ],
             [
              0.4444444444444444,
              "#bd3786"
             ],
             [
              0.5555555555555556,
              "#d8576b"
             ],
             [
              0.6666666666666666,
              "#ed7953"
             ],
             [
              0.7777777777777778,
              "#fb9f3a"
             ],
             [
              0.8888888888888888,
              "#fdca26"
             ],
             [
              1,
              "#f0f921"
             ]
            ],
            "type": "heatmapgl"
           }
          ],
          "histogram": [
           {
            "marker": {
             "pattern": {
              "fillmode": "overlay",
              "size": 10,
              "solidity": 0.2
             }
            },
            "type": "histogram"
           }
          ],
          "histogram2d": [
           {
            "colorbar": {
             "outlinewidth": 0,
             "ticks": ""
            },
            "colorscale": [
             [
              0,
              "#0d0887"
             ],
             [
              0.1111111111111111,
              "#46039f"
             ],
             [
              0.2222222222222222,
              "#7201a8"
             ],
             [
              0.3333333333333333,
              "#9c179e"
             ],
             [
              0.4444444444444444,
              "#bd3786"
             ],
             [
              0.5555555555555556,
              "#d8576b"
             ],
             [
              0.6666666666666666,
              "#ed7953"
             ],
             [
              0.7777777777777778,
              "#fb9f3a"
             ],
             [
              0.8888888888888888,
              "#fdca26"
             ],
             [
              1,
              "#f0f921"
             ]
            ],
            "type": "histogram2d"
           }
          ],
          "histogram2dcontour": [
           {
            "colorbar": {
             "outlinewidth": 0,
             "ticks": ""
            },
            "colorscale": [
             [
              0,
              "#0d0887"
             ],
             [
              0.1111111111111111,
              "#46039f"
             ],
             [
              0.2222222222222222,
              "#7201a8"
             ],
             [
              0.3333333333333333,
              "#9c179e"
             ],
             [
              0.4444444444444444,
              "#bd3786"
             ],
             [
              0.5555555555555556,
              "#d8576b"
             ],
             [
              0.6666666666666666,
              "#ed7953"
             ],
             [
              0.7777777777777778,
              "#fb9f3a"
             ],
             [
              0.8888888888888888,
              "#fdca26"
             ],
             [
              1,
              "#f0f921"
             ]
            ],
            "type": "histogram2dcontour"
           }
          ],
          "mesh3d": [
           {
            "colorbar": {
             "outlinewidth": 0,
             "ticks": ""
            },
            "type": "mesh3d"
           }
          ],
          "parcoords": [
           {
            "line": {
             "colorbar": {
              "outlinewidth": 0,
              "ticks": ""
             }
            },
            "type": "parcoords"
           }
          ],
          "pie": [
           {
            "automargin": true,
            "type": "pie"
           }
          ],
          "scatter": [
           {
            "fillpattern": {
             "fillmode": "overlay",
             "size": 10,
             "solidity": 0.2
            },
            "type": "scatter"
           }
          ],
          "scatter3d": [
           {
            "line": {
             "colorbar": {
              "outlinewidth": 0,
              "ticks": ""
             }
            },
            "marker": {
             "colorbar": {
              "outlinewidth": 0,
              "ticks": ""
             }
            },
            "type": "scatter3d"
           }
          ],
          "scattercarpet": [
           {
            "marker": {
             "colorbar": {
              "outlinewidth": 0,
              "ticks": ""
             }
            },
            "type": "scattercarpet"
           }
          ],
          "scattergeo": [
           {
            "marker": {
             "colorbar": {
              "outlinewidth": 0,
              "ticks": ""
             }
            },
            "type": "scattergeo"
           }
          ],
          "scattergl": [
           {
            "marker": {
             "colorbar": {
              "outlinewidth": 0,
              "ticks": ""
             }
            },
            "type": "scattergl"
           }
          ],
          "scattermapbox": [
           {
            "marker": {
             "colorbar": {
              "outlinewidth": 0,
              "ticks": ""
             }
            },
            "type": "scattermapbox"
           }
          ],
          "scatterpolar": [
           {
            "marker": {
             "colorbar": {
              "outlinewidth": 0,
              "ticks": ""
             }
            },
            "type": "scatterpolar"
           }
          ],
          "scatterpolargl": [
           {
            "marker": {
             "colorbar": {
              "outlinewidth": 0,
              "ticks": ""
             }
            },
            "type": "scatterpolargl"
           }
          ],
          "scatterternary": [
           {
            "marker": {
             "colorbar": {
              "outlinewidth": 0,
              "ticks": ""
             }
            },
            "type": "scatterternary"
           }
          ],
          "surface": [
           {
            "colorbar": {
             "outlinewidth": 0,
             "ticks": ""
            },
            "colorscale": [
             [
              0,
              "#0d0887"
             ],
             [
              0.1111111111111111,
              "#46039f"
             ],
             [
              0.2222222222222222,
              "#7201a8"
             ],
             [
              0.3333333333333333,
              "#9c179e"
             ],
             [
              0.4444444444444444,
              "#bd3786"
             ],
             [
              0.5555555555555556,
              "#d8576b"
             ],
             [
              0.6666666666666666,
              "#ed7953"
             ],
             [
              0.7777777777777778,
              "#fb9f3a"
             ],
             [
              0.8888888888888888,
              "#fdca26"
             ],
             [
              1,
              "#f0f921"
             ]
            ],
            "type": "surface"
           }
          ],
          "table": [
           {
            "cells": {
             "fill": {
              "color": "#EBF0F8"
             },
             "line": {
              "color": "white"
             }
            },
            "header": {
             "fill": {
              "color": "#C8D4E3"
             },
             "line": {
              "color": "white"
             }
            },
            "type": "table"
           }
          ]
         },
         "layout": {
          "annotationdefaults": {
           "arrowcolor": "#2a3f5f",
           "arrowhead": 0,
           "arrowwidth": 1
          },
          "autotypenumbers": "strict",
          "coloraxis": {
           "colorbar": {
            "outlinewidth": 0,
            "ticks": ""
           }
          },
          "colorscale": {
           "diverging": [
            [
             0,
             "#8e0152"
            ],
            [
             0.1,
             "#c51b7d"
            ],
            [
             0.2,
             "#de77ae"
            ],
            [
             0.3,
             "#f1b6da"
            ],
            [
             0.4,
             "#fde0ef"
            ],
            [
             0.5,
             "#f7f7f7"
            ],
            [
             0.6,
             "#e6f5d0"
            ],
            [
             0.7,
             "#b8e186"
            ],
            [
             0.8,
             "#7fbc41"
            ],
            [
             0.9,
             "#4d9221"
            ],
            [
             1,
             "#276419"
            ]
           ],
           "sequential": [
            [
             0,
             "#0d0887"
            ],
            [
             0.1111111111111111,
             "#46039f"
            ],
            [
             0.2222222222222222,
             "#7201a8"
            ],
            [
             0.3333333333333333,
             "#9c179e"
            ],
            [
             0.4444444444444444,
             "#bd3786"
            ],
            [
             0.5555555555555556,
             "#d8576b"
            ],
            [
             0.6666666666666666,
             "#ed7953"
            ],
            [
             0.7777777777777778,
             "#fb9f3a"
            ],
            [
             0.8888888888888888,
             "#fdca26"
            ],
            [
             1,
             "#f0f921"
            ]
           ],
           "sequentialminus": [
            [
             0,
             "#0d0887"
            ],
            [
             0.1111111111111111,
             "#46039f"
            ],
            [
             0.2222222222222222,
             "#7201a8"
            ],
            [
             0.3333333333333333,
             "#9c179e"
            ],
            [
             0.4444444444444444,
             "#bd3786"
            ],
            [
             0.5555555555555556,
             "#d8576b"
            ],
            [
             0.6666666666666666,
             "#ed7953"
            ],
            [
             0.7777777777777778,
             "#fb9f3a"
            ],
            [
             0.8888888888888888,
             "#fdca26"
            ],
            [
             1,
             "#f0f921"
            ]
           ]
          },
          "colorway": [
           "#636efa",
           "#EF553B",
           "#00cc96",
           "#ab63fa",
           "#FFA15A",
           "#19d3f3",
           "#FF6692",
           "#B6E880",
           "#FF97FF",
           "#FECB52"
          ],
          "font": {
           "color": "#2a3f5f"
          },
          "geo": {
           "bgcolor": "white",
           "lakecolor": "white",
           "landcolor": "#E5ECF6",
           "showlakes": true,
           "showland": true,
           "subunitcolor": "white"
          },
          "hoverlabel": {
           "align": "left"
          },
          "hovermode": "closest",
          "mapbox": {
           "style": "light"
          },
          "paper_bgcolor": "white",
          "plot_bgcolor": "#E5ECF6",
          "polar": {
           "angularaxis": {
            "gridcolor": "white",
            "linecolor": "white",
            "ticks": ""
           },
           "bgcolor": "#E5ECF6",
           "radialaxis": {
            "gridcolor": "white",
            "linecolor": "white",
            "ticks": ""
           }
          },
          "scene": {
           "xaxis": {
            "backgroundcolor": "#E5ECF6",
            "gridcolor": "white",
            "gridwidth": 2,
            "linecolor": "white",
            "showbackground": true,
            "ticks": "",
            "zerolinecolor": "white"
           },
           "yaxis": {
            "backgroundcolor": "#E5ECF6",
            "gridcolor": "white",
            "gridwidth": 2,
            "linecolor": "white",
            "showbackground": true,
            "ticks": "",
            "zerolinecolor": "white"
           },
           "zaxis": {
            "backgroundcolor": "#E5ECF6",
            "gridcolor": "white",
            "gridwidth": 2,
            "linecolor": "white",
            "showbackground": true,
            "ticks": "",
            "zerolinecolor": "white"
           }
          },
          "shapedefaults": {
           "line": {
            "color": "#2a3f5f"
           }
          },
          "ternary": {
           "aaxis": {
            "gridcolor": "white",
            "linecolor": "white",
            "ticks": ""
           },
           "baxis": {
            "gridcolor": "white",
            "linecolor": "white",
            "ticks": ""
           },
           "bgcolor": "#E5ECF6",
           "caxis": {
            "gridcolor": "white",
            "linecolor": "white",
            "ticks": ""
           }
          },
          "title": {
           "x": 0.05
          },
          "xaxis": {
           "automargin": true,
           "gridcolor": "white",
           "linecolor": "white",
           "ticks": "",
           "title": {
            "standoff": 15
           },
           "zerolinecolor": "white",
           "zerolinewidth": 2
          },
          "yaxis": {
           "automargin": true,
           "gridcolor": "white",
           "linecolor": "white",
           "ticks": "",
           "title": {
            "standoff": 15
           },
           "zerolinecolor": "white",
           "zerolinewidth": 2
          }
         }
        },
        "title": {
         "text": "AUC Values for the each K-Fold"
        },
        "xaxis": {
         "anchor": "y",
         "domain": [
          0,
          1
         ],
         "title": {
          "text": "K-Fold"
         }
        },
        "yaxis": {
         "anchor": "x",
         "domain": [
          0,
          1
         ],
         "title": {
          "text": "AUC Score"
         }
        }
       }
      }
     },
     "metadata": {},
     "output_type": "display_data"
    }
   ],
   "source": [
    "def tuned_LSTM(word_embeddings, labels):\n",
    "    np.random.seed(42)\n",
    "    random.seed(42)\n",
    "    tf.random.set_seed(42)\n",
    "\n",
    "    num_of_folds = 10\n",
    "    skf = StratifiedKFold(n_splits=num_of_folds, shuffle=True, random_state=460)\n",
    "\n",
    "    # List of metrics for each fold\n",
    "    k_fold_accuracy = []\n",
    "    k_fold_classification_error = []\n",
    "    k_fold_sensitivity = []\n",
    "    k_fold_precision = []\n",
    "    k_fold_specificity = []\n",
    "    k_fold_f1_score = []\n",
    "    auc_roc_scores = []\n",
    "    fpr_values = []\n",
    "    tpr_values = []\n",
    "\n",
    "    for train_index, test_index in skf.split(word_embeddings, labels):\n",
    "        X_train, X_test = word_embeddings[train_index], word_embeddings[test_index]\n",
    "        y_train, y_test = labels.iloc[train_index], labels.iloc[test_index]\n",
    "\n",
    "        vectorized_train = X_train.reshape(X_train.shape[0], 1, X_train.shape[1])\n",
    "        vectorized_test = X_test.reshape(X_test.shape[0], 1, X_test.shape[1])\n",
    "\n",
    "        model = Sequential()\n",
    "        model.add(LSTM(100, activation = 'relu',  input_shape=(vectorized_train.shape[1], vectorized_train.shape[2])))\n",
    "        model.add(Dense(1, activation='sigmoid'))\n",
    "        model.compile(loss='binary_crossentropy', optimizer=tf.keras.optimizers.Adam(learning_rate=0.01), metrics=['accuracy'])\n",
    "\n",
    "        model.fit(vectorized_train, y_train, epochs=10, batch_size=64, verbose=1)\n",
    "        y_pred = (model.predict(vectorized_test) > 0.5).astype(\"int32\")\n",
    "\n",
    "        # Calculating metrics for evaluation\n",
    "        confusion = confusion_matrix(y_test, y_pred)\n",
    "        TN, FP, FN, TP = confusion[0, 0], confusion[0, 1], confusion[1, 0], confusion[1, 1]\n",
    "        accuracy = accuracy_score(y_test, y_pred)\n",
    "        classification_error = 1 - accuracy\n",
    "        sensitivity = recall_score(y_test, y_pred)\n",
    "        precision = precision_score(y_test, y_pred)\n",
    "        specificity = TN / (TN + FP)\n",
    "        f1_score = (2 * sensitivity * precision) / (sensitivity + precision)\n",
    "        y_pred_proba = model.predict(vectorized_test)\n",
    "        auc_roc_score = roc_auc_score(y_test, y_pred_proba)\n",
    "\n",
    "        # Appending metrics to lists\n",
    "        k_fold_accuracy.append(round(accuracy, 4))\n",
    "        k_fold_classification_error.append(round(classification_error, 4))\n",
    "        k_fold_sensitivity.append(round(sensitivity, 4))\n",
    "        k_fold_precision.append(round(precision, 4))\n",
    "        k_fold_specificity.append(round(specificity, 4))\n",
    "        k_fold_f1_score.append(round(f1_score, 4))\n",
    "        auc_roc_scores.append(auc_roc_score)\n",
    "\n",
    "        fpr, tpr, _ = roc_curve(y_test, y_pred_proba)\n",
    "        fpr_values.append(fpr)\n",
    "        tpr_values.append(tpr)\n",
    "\n",
    "    print('The average accuracy is: {:.2f}%'.format(statistics.mean(k_fold_accuracy) * 100))\n",
    "    print('The average classification error is: {:.2f}%'.format(statistics.mean(k_fold_classification_error) * 100))\n",
    "    print('The average sensitivity is: {:.2f}%'.format(statistics.mean(k_fold_sensitivity) * 100))\n",
    "    print('The average precision is: {:.2f}%'.format(statistics.mean(k_fold_precision) * 100))\n",
    "    print('The average specificity is: {:.2f}%'.format(statistics.mean(k_fold_specificity) * 100))\n",
    "    print('The average f1 score is: {:.2f}%'.format(statistics.mean(k_fold_f1_score) * 100))\n",
    "\n",
    "    weights = [len(test_index) / len(labels) for _, test_index in skf.split(word_embeddings, labels)]\n",
    "    avg_auc_roc = np.average(auc_roc_scores, weights=weights, axis=0)\n",
    "    print('The average AUC Score is: {:.2f}%'.format(avg_auc_roc * 100))\n",
    "\n",
    "    max_length_fpr = max(len(a) for a in fpr_values)\n",
    "    max_length_tpr = max(len(a) for a in tpr_values)\n",
    "    padded_fpr = np.array([np.pad(a, (0, max_length_fpr - len(a)), mode='constant') for a in fpr_values])\n",
    "    padded_tpr = np.array([np.pad(a, (0, max_length_tpr - len(a)), mode='constant') for a in tpr_values])\n",
    "\n",
    "    avg_fpr_value = np.average(padded_fpr, weights=weights, axis=0)\n",
    "    avg_tpr_value = np.average(padded_tpr, weights=weights, axis=0)\n",
    "\n",
    "    fig = px.area(\n",
    "        x=avg_fpr_value, y=avg_tpr_value,\n",
    "        title=f'ROC Curve (AUC={avg_auc_roc:.4f})',\n",
    "        labels=dict(x='Average False Positive Rate', y='Average True Positive Rate'),\n",
    "        width=700, height=700\n",
    "    )\n",
    "\n",
    "    fig.add_shape(type='line', line=dict(dash='dash'), x0=0, x1=1, y0=0, y1=1)\n",
    "    fig.update_yaxes(scaleanchor=\"x\", scaleratio=1)\n",
    "    fig.update_xaxes(constrain='domain')\n",
    "    fig.show()\n",
    "\n",
    "    x_axis = [i for i in range(1, num_of_folds + 1)]\n",
    "    fig = px.scatter(x=x_axis, y=auc_roc_scores,\n",
    "                     labels={\"x\": \"K-Fold\", \"y\": \"AUC Score\"},\n",
    "                     trendline='ols',\n",
    "                     title='AUC Values for the each K-Fold'\n",
    "                     )\n",
    "    fig.show()\n",
    "tuned_LSTM(features, y)"
   ]
  },
  {
   "cell_type": "markdown",
   "metadata": {},
   "source": [
    "#### Conclusion"
   ]
  },
  {
   "cell_type": "markdown",
   "metadata": {},
   "source": [
    "Comparing our results after hyperparameter tuning, we can see an increase in performance for accuracy from 80.81% to 81.08%, sensitivity from 87.72% to 88.31% and f1-score from 84.42% to 84.69%. <br> We can see that the hyperparameter tuning has helped to improve the performance of our model even though the increase is not very significant."
   ]
  },
  {
   "cell_type": "markdown",
   "metadata": {},
   "source": [
    "#### Interesting Observations\n",
    "Before hypertuning, we expected the best activation function for the LSTM layer to be either sigmoid or Tanh as they help regulate information flow. However, we found out from the hypertuning that ReLU actually gave us the best score in terms of f1-score. We think this might be because ReLU was possibly able to capture more nuance in the data, and thus performed better than the other activation functions. <br>\n",
    "It is also important to note that when hypertuning for the best accuracy, Tanh came out on top. The performance metrics for this was not too far behind that of ReLU, and we think that further exploration between these two activation functions would be interesting."
   ]
  },
  {
   "cell_type": "markdown",
   "metadata": {
    "created_in_deepnote_cell": true,
    "deepnote_cell_type": "markdown"
   },
   "source": [
    "<a style='text-decoration:none;line-height:16px;display:flex;color:#5B5B62;padding:10px;justify-content:end;' href='https://deepnote.com?utm_source=created-in-deepnote-cell&projectId=86836953-3695-4d21-9d30-632fe800fb7d' target=\"_blank\">\n",
    "<img alt='Created in deepnote.com' style='display:inline;max-height:16px;margin:0px;margin-right:7.5px;' src='data:image/svg+xml;base64,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' > </img>\n",
    "Created in <span style='font-weight:600;margin-left:4px;'>Deepnote</span></a>"
   ]
  }
 ],
 "metadata": {
  "deepnote": {},
  "deepnote_execution_queue": [],
  "deepnote_notebook_id": "02e48fd0172b44c5ae4cb97fccd16aca",
  "deepnote_persisted_session": {
   "createdAt": "2023-10-30T15:00:13.717Z"
  },
  "kernelspec": {
   "display_name": "Python 3 (ipykernel)",
   "language": "python",
   "name": "python3"
  },
  "language_info": {
   "codemirror_mode": {
    "name": "ipython",
    "version": 3
   },
   "file_extension": ".py",
   "mimetype": "text/x-python",
   "name": "python",
   "nbconvert_exporter": "python",
   "pygments_lexer": "ipython3",
   "version": "3.10.11"
  }
 },
 "nbformat": 4,
 "nbformat_minor": 1
}
